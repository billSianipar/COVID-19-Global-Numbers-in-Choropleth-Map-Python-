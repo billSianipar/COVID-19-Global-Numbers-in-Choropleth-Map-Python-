{
 "cells": [
  {
   "cell_type": "code",
   "execution_count": 209,
   "metadata": {},
   "outputs": [],
   "source": [
    "# https://raw.githubusercontent.com/datasets/covid-19/master/data/countries-aggregated.csv"
   ]
  },
  {
   "cell_type": "code",
   "execution_count": 342,
   "metadata": {},
   "outputs": [],
   "source": [
    "import chart_studio.plotly as py\n",
    "import plotly.graph_objs as go\n",
    "from plotly.offline import download_plotlyjs, init_notebook_mode, iplot\n",
    "import pandas as pd\n",
    "from datetime import datetime"
   ]
  },
  {
   "cell_type": "code",
   "execution_count": 343,
   "metadata": {},
   "outputs": [
    {
     "data": {
      "text/html": [
       "        <script type=\"text/javascript\">\n",
       "        window.PlotlyConfig = {MathJaxConfig: 'local'};\n",
       "        if (window.MathJax) {MathJax.Hub.Config({SVG: {font: \"STIX-Web\"}});}\n",
       "        if (typeof require !== 'undefined') {\n",
       "        require.undef(\"plotly\");\n",
       "        requirejs.config({\n",
       "            paths: {\n",
       "                'plotly': ['https://cdn.plot.ly/plotly-latest.min']\n",
       "            }\n",
       "        });\n",
       "        require(['plotly'], function(Plotly) {\n",
       "            window._Plotly = Plotly;\n",
       "        });\n",
       "        }\n",
       "        </script>\n",
       "        "
      ]
     },
     "metadata": {},
     "output_type": "display_data"
    }
   ],
   "source": [
    "init_notebook_mode(connected=True)"
   ]
  },
  {
   "cell_type": "code",
   "execution_count": 344,
   "metadata": {},
   "outputs": [
    {
     "data": {
      "text/html": [
       "<div>\n",
       "<style scoped>\n",
       "    .dataframe tbody tr th:only-of-type {\n",
       "        vertical-align: middle;\n",
       "    }\n",
       "\n",
       "    .dataframe tbody tr th {\n",
       "        vertical-align: top;\n",
       "    }\n",
       "\n",
       "    .dataframe thead th {\n",
       "        text-align: right;\n",
       "    }\n",
       "</style>\n",
       "<table border=\"1\" class=\"dataframe\">\n",
       "  <thead>\n",
       "    <tr style=\"text-align: right;\">\n",
       "      <th></th>\n",
       "      <th>Date</th>\n",
       "      <th>Country</th>\n",
       "      <th>Confirmed</th>\n",
       "      <th>Recovered</th>\n",
       "      <th>Deaths</th>\n",
       "    </tr>\n",
       "  </thead>\n",
       "  <tbody>\n",
       "    <tr>\n",
       "      <td>0</td>\n",
       "      <td>2020-01-22</td>\n",
       "      <td>Afghanistan</td>\n",
       "      <td>0</td>\n",
       "      <td>0</td>\n",
       "      <td>0</td>\n",
       "    </tr>\n",
       "    <tr>\n",
       "      <td>1</td>\n",
       "      <td>2020-01-22</td>\n",
       "      <td>Albania</td>\n",
       "      <td>0</td>\n",
       "      <td>0</td>\n",
       "      <td>0</td>\n",
       "    </tr>\n",
       "    <tr>\n",
       "      <td>2</td>\n",
       "      <td>2020-01-22</td>\n",
       "      <td>Algeria</td>\n",
       "      <td>0</td>\n",
       "      <td>0</td>\n",
       "      <td>0</td>\n",
       "    </tr>\n",
       "    <tr>\n",
       "      <td>3</td>\n",
       "      <td>2020-01-22</td>\n",
       "      <td>Andorra</td>\n",
       "      <td>0</td>\n",
       "      <td>0</td>\n",
       "      <td>0</td>\n",
       "    </tr>\n",
       "    <tr>\n",
       "      <td>4</td>\n",
       "      <td>2020-01-22</td>\n",
       "      <td>Angola</td>\n",
       "      <td>0</td>\n",
       "      <td>0</td>\n",
       "      <td>0</td>\n",
       "    </tr>\n",
       "  </tbody>\n",
       "</table>\n",
       "</div>"
      ],
      "text/plain": [
       "        Date      Country  Confirmed  Recovered  Deaths\n",
       "0 2020-01-22  Afghanistan          0          0       0\n",
       "1 2020-01-22      Albania          0          0       0\n",
       "2 2020-01-22      Algeria          0          0       0\n",
       "3 2020-01-22      Andorra          0          0       0\n",
       "4 2020-01-22       Angola          0          0       0"
      ]
     },
     "execution_count": 344,
     "metadata": {},
     "output_type": "execute_result"
    }
   ],
   "source": [
    "df = pd.read_csv('https://raw.githubusercontent.com/datasets/covid-19/master/data/countries-aggregated.csv')\n",
    "# df['Date'] = pd.to_datetime(df['Date'], format='%Y-%m-%d')\n",
    "df['Date'] = pd.to_datetime(df['Date'], format='%Y-%m-%d')\n",
    "df.head()"
   ]
  },
  {
   "cell_type": "code",
   "execution_count": 345,
   "metadata": {},
   "outputs": [
    {
     "name": "stdout",
     "output_type": "stream",
     "text": [
      "<class 'pandas.core.frame.DataFrame'>\n",
      "RangeIndex: 15170 entries, 0 to 15169\n",
      "Data columns (total 5 columns):\n",
      "Date         15170 non-null datetime64[ns]\n",
      "Country      15170 non-null object\n",
      "Confirmed    15170 non-null int64\n",
      "Recovered    15170 non-null int64\n",
      "Deaths       15170 non-null int64\n",
      "dtypes: datetime64[ns](1), int64(3), object(1)\n",
      "memory usage: 592.7+ KB\n"
     ]
    }
   ],
   "source": [
    "df.info()"
   ]
  },
  {
   "cell_type": "code",
   "execution_count": 346,
   "metadata": {},
   "outputs": [],
   "source": [
    "# df[df['Date'].str.contains('-01-')].sum()['Deaths']\n",
    "# df.groupby('Country').sum()['Deaths']\n",
    "# sal[sal['Year']==2013].groupby('JobTitle').filter(lambda x : x['JobTitle'].count()==1)['EmployeeName']\n",
    "# df_jan = df[df['Date'].str.contains('-01-')].groupby('Country').sum()\n",
    "# df[df.System_created.dt.day == 5]\n",
    "# df_jan = df[df['Date']==max(df['Date'])]\n",
    "\n",
    "df_j = df[df['Date'].dt.month == 1]\n",
    "df_jan = df_j[df_j['Date']==max(df_j['Date'])]\n",
    "\n",
    "df_f = df[df['Date'].dt.month == 2]\n",
    "df_feb = df_f[df_f['Date']==max(df_f['Date'])]\n",
    "\n",
    "df_m = df[df['Date'].dt.month == 3]\n",
    "df_mar = df_m[df_m['Date']==max(df_m['Date'])]\n",
    "\n",
    "df_a = df[df['Date'].dt.month == 4]\n",
    "df_apr = df_a[df_a['Date']==max(df_a['Date'])]"
   ]
  },
  {
   "cell_type": "code",
   "execution_count": 347,
   "metadata": {},
   "outputs": [
    {
     "name": "stderr",
     "output_type": "stream",
     "text": [
      "C:\\Users\\Bill\\Anaconda3\\lib\\site-packages\\ipykernel_launcher.py:2: SettingWithCopyWarning:\n",
      "\n",
      "\n",
      "A value is trying to be set on a copy of a slice from a DataFrame.\n",
      "Try using .loc[row_indexer,col_indexer] = value instead\n",
      "\n",
      "See the caveats in the documentation: http://pandas.pydata.org/pandas-docs/stable/user_guide/indexing.html#returning-a-view-versus-a-copy\n",
      "\n",
      "C:\\Users\\Bill\\Anaconda3\\lib\\site-packages\\ipykernel_launcher.py:5: SettingWithCopyWarning:\n",
      "\n",
      "\n",
      "A value is trying to be set on a copy of a slice from a DataFrame.\n",
      "Try using .loc[row_indexer,col_indexer] = value instead\n",
      "\n",
      "See the caveats in the documentation: http://pandas.pydata.org/pandas-docs/stable/user_guide/indexing.html#returning-a-view-versus-a-copy\n",
      "\n",
      "C:\\Users\\Bill\\Anaconda3\\lib\\site-packages\\ipykernel_launcher.py:8: SettingWithCopyWarning:\n",
      "\n",
      "\n",
      "A value is trying to be set on a copy of a slice from a DataFrame.\n",
      "Try using .loc[row_indexer,col_indexer] = value instead\n",
      "\n",
      "See the caveats in the documentation: http://pandas.pydata.org/pandas-docs/stable/user_guide/indexing.html#returning-a-view-versus-a-copy\n",
      "\n",
      "C:\\Users\\Bill\\Anaconda3\\lib\\site-packages\\ipykernel_launcher.py:11: SettingWithCopyWarning:\n",
      "\n",
      "\n",
      "A value is trying to be set on a copy of a slice from a DataFrame.\n",
      "Try using .loc[row_indexer,col_indexer] = value instead\n",
      "\n",
      "See the caveats in the documentation: http://pandas.pydata.org/pandas-docs/stable/user_guide/indexing.html#returning-a-view-versus-a-copy\n",
      "\n",
      "C:\\Users\\Bill\\Anaconda3\\lib\\site-packages\\ipykernel_launcher.py:14: SettingWithCopyWarning:\n",
      "\n",
      "\n",
      "A value is trying to be set on a copy of a slice from a DataFrame.\n",
      "Try using .loc[row_indexer,col_indexer] = value instead\n",
      "\n",
      "See the caveats in the documentation: http://pandas.pydata.org/pandas-docs/stable/user_guide/indexing.html#returning-a-view-versus-a-copy\n",
      "\n",
      "C:\\Users\\Bill\\Anaconda3\\lib\\site-packages\\ipykernel_launcher.py:16: SettingWithCopyWarning:\n",
      "\n",
      "\n",
      "A value is trying to be set on a copy of a slice from a DataFrame.\n",
      "Try using .loc[row_indexer,col_indexer] = value instead\n",
      "\n",
      "See the caveats in the documentation: http://pandas.pydata.org/pandas-docs/stable/user_guide/indexing.html#returning-a-view-versus-a-copy\n",
      "\n",
      "C:\\Users\\Bill\\Anaconda3\\lib\\site-packages\\ipykernel_launcher.py:18: SettingWithCopyWarning:\n",
      "\n",
      "\n",
      "A value is trying to be set on a copy of a slice from a DataFrame.\n",
      "Try using .loc[row_indexer,col_indexer] = value instead\n",
      "\n",
      "See the caveats in the documentation: http://pandas.pydata.org/pandas-docs/stable/user_guide/indexing.html#returning-a-view-versus-a-copy\n",
      "\n",
      "C:\\Users\\Bill\\Anaconda3\\lib\\site-packages\\ipykernel_launcher.py:20: SettingWithCopyWarning:\n",
      "\n",
      "\n",
      "A value is trying to be set on a copy of a slice from a DataFrame.\n",
      "Try using .loc[row_indexer,col_indexer] = value instead\n",
      "\n",
      "See the caveats in the documentation: http://pandas.pydata.org/pandas-docs/stable/user_guide/indexing.html#returning-a-view-versus-a-copy\n",
      "\n"
     ]
    }
   ],
   "source": [
    "for col in df_jan.columns:\n",
    "    df_jan[col] = df_jan[col].astype(str)\n",
    "    \n",
    "for col in df_feb.columns:\n",
    "    df_feb[col] = df_feb[col].astype(str)\n",
    "    \n",
    "for col in df_mar.columns:\n",
    "    df_mar[col] = df_mar[col].astype(str)\n",
    "    \n",
    "for col in df_apr.columns:\n",
    "    df_apr[col] = df_apr[col].astype(str)\n",
    "\n",
    "df_jan['text'] = df_jan['Country'] + '<br>' + \\\n",
    "        'Confirmed ' + df_jan['Confirmed'] + ' Deaths ' + df_jan['Deaths']\n",
    "df_feb['text'] = df_feb['Country'] + '<br>' + \\\n",
    "        'Confirmed ' + df_feb['Confirmed'] + ' Deaths ' + df_feb['Deaths']\n",
    "df_mar['text'] = df_mar['Country'] + '<br>' + \\\n",
    "        'Confirmed ' + df_mar['Confirmed'] + ' Deaths ' + df_mar['Deaths']\n",
    "df_apr['text'] = df_apr['Country'] + '<br>' + \\\n",
    "        'Confirmed ' + df_apr['Confirmed'] + ' Deaths ' + df_apr['Deaths']\n"
   ]
  },
  {
   "cell_type": "code",
   "execution_count": 348,
   "metadata": {},
   "outputs": [],
   "source": [
    "#deaths_worldwide_each_month\n",
    "\n",
    "#   colorbar=dict(len=0.75,\n",
    "#                   title='#Cases', \n",
    "#                   x=0.9,\n",
    "#                   tickvals = [0, 1, 2, 3, 3.699, 4],\n",
    "#                   ticktext = ['1', '10', '100', '1000', '5000','10000'])\n",
    "\n",
    "data_jan = {'type' : 'choropleth',\n",
    "           'locations' : df_jan['Country'],\n",
    "           'locationmode' : 'country names',\n",
    "           'z' : df_jan['Deaths'],\n",
    "           'text' : df_jan['text'],\n",
    "           'marker' : {'line' : {'color' : 'rgb(255,255,255)', 'width' : 0.5}\n",
    "                      },\n",
    "           'colorscale' : 'portland', \n",
    "           'colorbar' : {'title' : 'Number of deaths'}\n",
    "           }\n",
    "\n",
    "data_feb = {'type' : 'choropleth',\n",
    "           'locations' : df_feb['Country'],\n",
    "           'locationmode' : 'country names',\n",
    "           'z' : df_feb['Deaths'],\n",
    "           'text' : df_feb['text'],\n",
    "           'marker' : {'line' : {'color' : 'rgb(255,255,255)', 'width' : 0.5}\n",
    "                      },\n",
    "           'colorscale' : 'portland',\n",
    "           'colorbar' : {'title' : 'Number of deaths'}\n",
    "           }\n",
    "\n",
    "data_mar = {'type' : 'choropleth',\n",
    "           'locations' : df_mar['Country'],\n",
    "           'locationmode' : 'country names',\n",
    "           'z' : df_mar['Deaths'],\n",
    "           'text' : df_mar['text'],\n",
    "           'marker' : {'line' : {'color' : 'rgb(255,255,255)', 'width' : 0.5}\n",
    "                      },\n",
    "           'colorscale' : 'portland',\n",
    "           'colorbar' : {'title' : 'Number of deaths'}\n",
    "           }\n",
    "\n",
    "data_apr = {'type' : 'choropleth',\n",
    "           'locations' : df_apr['Country'],\n",
    "           'locationmode' : 'country names',\n",
    "           'z' : df_apr['Deaths'],\n",
    "           'text' : df_apr['text'],\n",
    "           'marker' : {'line' : {'color' : 'rgb(255,255,255)', 'width' : 0.5}\n",
    "                      },\n",
    "           'colorscale' : 'portland',\n",
    "           'colorbar' : {'title' : 'Number of deaths'}\n",
    "           }"
   ]
  },
  {
   "cell_type": "code",
   "execution_count": 349,
   "metadata": {},
   "outputs": [],
   "source": [
    "layout_jan = {'title' : 'COVID-19 Death Per Country as of Jan 2020',\n",
    "             'geo' : {'scope' : 'world'}\n",
    "             }\n",
    "layout_feb = {'title' : 'COVID-19 Death Per Country as of Feb 2020',\n",
    "             'geo' : {'scope' : 'world'}\n",
    "             }\n",
    "layout_mar = {'title' : 'COVID-19 Death Per Country as of Mar 2020',\n",
    "             'geo' : {'scope' : 'world'}\n",
    "             }\n",
    "layout_apr = {'title' : 'COVID-19 Death Per Country as of Apr 2020',\n",
    "             'geo' : {'scope' : 'world'}\n",
    "             }"
   ]
  },
  {
   "cell_type": "code",
   "execution_count": 350,
   "metadata": {},
   "outputs": [],
   "source": [
    "map_jan = go.Figure(data=[data_jan], layout=layout_jan)\n",
    "map_feb = go.Figure(data=[data_feb], layout=layout_feb)\n",
    "map_mar = go.Figure(data=[data_mar], layout=layout_mar)\n",
    "map_apr = go.Figure(data=[data_apr], layout=layout_apr)"
   ]
  },
  {
   "cell_type": "code",
   "execution_count": 351,
   "metadata": {},
   "outputs": [
    {
     "data": {
      "application/vnd.plotly.v1+json": {
       "config": {
        "linkText": "Export to plot.ly",
        "plotlyServerURL": "https://plot.ly",
        "showLink": false
       },
       "data": [
        {
         "colorbar": {
          "title": {
           "text": "Number of deaths"
          }
         },
         "colorscale": [
          [
           0,
           "rgb(12,51,131)"
          ],
          [
           0.25,
           "rgb(10,136,186)"
          ],
          [
           0.5,
           "rgb(242,211,56)"
          ],
          [
           0.75,
           "rgb(242,143,56)"
          ],
          [
           1,
           "rgb(217,30,30)"
          ]
         ],
         "locationmode": "country names",
         "locations": [
          "Afghanistan",
          "Albania",
          "Algeria",
          "Andorra",
          "Angola",
          "Antigua and Barbuda",
          "Argentina",
          "Armenia",
          "Australia",
          "Austria",
          "Azerbaijan",
          "Bahamas",
          "Bahrain",
          "Bangladesh",
          "Barbados",
          "Belarus",
          "Belgium",
          "Belize",
          "Benin",
          "Bhutan",
          "Bolivia",
          "Bosnia and Herzegovina",
          "Botswana",
          "Brazil",
          "Brunei",
          "Bulgaria",
          "Burkina Faso",
          "Burma",
          "Burundi",
          "Cabo Verde",
          "Cambodia",
          "Cameroon",
          "Canada",
          "Central African Republic",
          "Chad",
          "Chile",
          "China",
          "Colombia",
          "Congo (Brazzaville)",
          "Congo (Kinshasa)",
          "Costa Rica",
          "Cote d'Ivoire",
          "Croatia",
          "Cuba",
          "Cyprus",
          "Czechia",
          "Denmark",
          "Diamond Princess",
          "Djibouti",
          "Dominica",
          "Dominican Republic",
          "Ecuador",
          "Egypt",
          "El Salvador",
          "Equatorial Guinea",
          "Eritrea",
          "Estonia",
          "Eswatini",
          "Ethiopia",
          "Fiji",
          "Finland",
          "France",
          "Gabon",
          "Gambia",
          "Georgia",
          "Germany",
          "Ghana",
          "Greece",
          "Grenada",
          "Guatemala",
          "Guinea",
          "Guinea-Bissau",
          "Guyana",
          "Haiti",
          "Holy See",
          "Honduras",
          "Hungary",
          "Iceland",
          "India",
          "Indonesia",
          "Iran",
          "Iraq",
          "Ireland",
          "Israel",
          "Italy",
          "Jamaica",
          "Japan",
          "Jordan",
          "Kazakhstan",
          "Kenya",
          "Korea, South",
          "Kosovo",
          "Kuwait",
          "Kyrgyzstan",
          "Laos",
          "Latvia",
          "Lebanon",
          "Liberia",
          "Libya",
          "Liechtenstein",
          "Lithuania",
          "Luxembourg",
          "MS Zaandam",
          "Madagascar",
          "Malawi",
          "Malaysia",
          "Maldives",
          "Mali",
          "Malta",
          "Mauritania",
          "Mauritius",
          "Mexico",
          "Moldova",
          "Monaco",
          "Mongolia",
          "Montenegro",
          "Morocco",
          "Mozambique",
          "Namibia",
          "Nepal",
          "Netherlands",
          "New Zealand",
          "Nicaragua",
          "Niger",
          "Nigeria",
          "North Macedonia",
          "Norway",
          "Oman",
          "Pakistan",
          "Panama",
          "Papua New Guinea",
          "Paraguay",
          "Peru",
          "Philippines",
          "Poland",
          "Portugal",
          "Qatar",
          "Romania",
          "Russia",
          "Rwanda",
          "Saint Kitts and Nevis",
          "Saint Lucia",
          "Saint Vincent and the Grenadines",
          "San Marino",
          "Sao Tome and Principe",
          "Saudi Arabia",
          "Senegal",
          "Serbia",
          "Seychelles",
          "Sierra Leone",
          "Singapore",
          "Slovakia",
          "Slovenia",
          "Somalia",
          "South Africa",
          "South Sudan",
          "Spain",
          "Sri Lanka",
          "Sudan",
          "Suriname",
          "Sweden",
          "Switzerland",
          "Syria",
          "Taiwan*",
          "Tanzania",
          "Thailand",
          "Timor-Leste",
          "Togo",
          "Trinidad and Tobago",
          "Tunisia",
          "Turkey",
          "US",
          "Uganda",
          "Ukraine",
          "United Arab Emirates",
          "United Kingdom",
          "Uruguay",
          "Uzbekistan",
          "Venezuela",
          "Vietnam",
          "West Bank and Gaza",
          "Western Sahara",
          "Yemen",
          "Zambia",
          "Zimbabwe"
         ],
         "marker": {
          "line": {
           "color": "rgb(255,255,255)",
           "width": 0.5
          }
         },
         "text": [
          "Afghanistan<br>Confirmed 0 Deaths 0",
          "Albania<br>Confirmed 0 Deaths 0",
          "Algeria<br>Confirmed 0 Deaths 0",
          "Andorra<br>Confirmed 0 Deaths 0",
          "Angola<br>Confirmed 0 Deaths 0",
          "Antigua and Barbuda<br>Confirmed 0 Deaths 0",
          "Argentina<br>Confirmed 0 Deaths 0",
          "Armenia<br>Confirmed 0 Deaths 0",
          "Australia<br>Confirmed 9 Deaths 0",
          "Austria<br>Confirmed 0 Deaths 0",
          "Azerbaijan<br>Confirmed 0 Deaths 0",
          "Bahamas<br>Confirmed 0 Deaths 0",
          "Bahrain<br>Confirmed 0 Deaths 0",
          "Bangladesh<br>Confirmed 0 Deaths 0",
          "Barbados<br>Confirmed 0 Deaths 0",
          "Belarus<br>Confirmed 0 Deaths 0",
          "Belgium<br>Confirmed 0 Deaths 0",
          "Belize<br>Confirmed 0 Deaths 0",
          "Benin<br>Confirmed 0 Deaths 0",
          "Bhutan<br>Confirmed 0 Deaths 0",
          "Bolivia<br>Confirmed 0 Deaths 0",
          "Bosnia and Herzegovina<br>Confirmed 0 Deaths 0",
          "Botswana<br>Confirmed 0 Deaths 0",
          "Brazil<br>Confirmed 0 Deaths 0",
          "Brunei<br>Confirmed 0 Deaths 0",
          "Bulgaria<br>Confirmed 0 Deaths 0",
          "Burkina Faso<br>Confirmed 0 Deaths 0",
          "Burma<br>Confirmed 0 Deaths 0",
          "Burundi<br>Confirmed 0 Deaths 0",
          "Cabo Verde<br>Confirmed 0 Deaths 0",
          "Cambodia<br>Confirmed 1 Deaths 0",
          "Cameroon<br>Confirmed 0 Deaths 0",
          "Canada<br>Confirmed 4 Deaths 0",
          "Central African Republic<br>Confirmed 0 Deaths 0",
          "Chad<br>Confirmed 0 Deaths 0",
          "Chile<br>Confirmed 0 Deaths 0",
          "China<br>Confirmed 9802 Deaths 213",
          "Colombia<br>Confirmed 0 Deaths 0",
          "Congo (Brazzaville)<br>Confirmed 0 Deaths 0",
          "Congo (Kinshasa)<br>Confirmed 0 Deaths 0",
          "Costa Rica<br>Confirmed 0 Deaths 0",
          "Cote d'Ivoire<br>Confirmed 0 Deaths 0",
          "Croatia<br>Confirmed 0 Deaths 0",
          "Cuba<br>Confirmed 0 Deaths 0",
          "Cyprus<br>Confirmed 0 Deaths 0",
          "Czechia<br>Confirmed 0 Deaths 0",
          "Denmark<br>Confirmed 0 Deaths 0",
          "Diamond Princess<br>Confirmed 0 Deaths 0",
          "Djibouti<br>Confirmed 0 Deaths 0",
          "Dominica<br>Confirmed 0 Deaths 0",
          "Dominican Republic<br>Confirmed 0 Deaths 0",
          "Ecuador<br>Confirmed 0 Deaths 0",
          "Egypt<br>Confirmed 0 Deaths 0",
          "El Salvador<br>Confirmed 0 Deaths 0",
          "Equatorial Guinea<br>Confirmed 0 Deaths 0",
          "Eritrea<br>Confirmed 0 Deaths 0",
          "Estonia<br>Confirmed 0 Deaths 0",
          "Eswatini<br>Confirmed 0 Deaths 0",
          "Ethiopia<br>Confirmed 0 Deaths 0",
          "Fiji<br>Confirmed 0 Deaths 0",
          "Finland<br>Confirmed 1 Deaths 0",
          "France<br>Confirmed 5 Deaths 0",
          "Gabon<br>Confirmed 0 Deaths 0",
          "Gambia<br>Confirmed 0 Deaths 0",
          "Georgia<br>Confirmed 0 Deaths 0",
          "Germany<br>Confirmed 5 Deaths 0",
          "Ghana<br>Confirmed 0 Deaths 0",
          "Greece<br>Confirmed 0 Deaths 0",
          "Grenada<br>Confirmed 0 Deaths 0",
          "Guatemala<br>Confirmed 0 Deaths 0",
          "Guinea<br>Confirmed 0 Deaths 0",
          "Guinea-Bissau<br>Confirmed 0 Deaths 0",
          "Guyana<br>Confirmed 0 Deaths 0",
          "Haiti<br>Confirmed 0 Deaths 0",
          "Holy See<br>Confirmed 0 Deaths 0",
          "Honduras<br>Confirmed 0 Deaths 0",
          "Hungary<br>Confirmed 0 Deaths 0",
          "Iceland<br>Confirmed 0 Deaths 0",
          "India<br>Confirmed 1 Deaths 0",
          "Indonesia<br>Confirmed 0 Deaths 0",
          "Iran<br>Confirmed 0 Deaths 0",
          "Iraq<br>Confirmed 0 Deaths 0",
          "Ireland<br>Confirmed 0 Deaths 0",
          "Israel<br>Confirmed 0 Deaths 0",
          "Italy<br>Confirmed 2 Deaths 0",
          "Jamaica<br>Confirmed 0 Deaths 0",
          "Japan<br>Confirmed 15 Deaths 0",
          "Jordan<br>Confirmed 0 Deaths 0",
          "Kazakhstan<br>Confirmed 0 Deaths 0",
          "Kenya<br>Confirmed 0 Deaths 0",
          "Korea, South<br>Confirmed 11 Deaths 0",
          "Kosovo<br>Confirmed 0 Deaths 0",
          "Kuwait<br>Confirmed 0 Deaths 0",
          "Kyrgyzstan<br>Confirmed 0 Deaths 0",
          "Laos<br>Confirmed 0 Deaths 0",
          "Latvia<br>Confirmed 0 Deaths 0",
          "Lebanon<br>Confirmed 0 Deaths 0",
          "Liberia<br>Confirmed 0 Deaths 0",
          "Libya<br>Confirmed 0 Deaths 0",
          "Liechtenstein<br>Confirmed 0 Deaths 0",
          "Lithuania<br>Confirmed 0 Deaths 0",
          "Luxembourg<br>Confirmed 0 Deaths 0",
          "MS Zaandam<br>Confirmed 0 Deaths 0",
          "Madagascar<br>Confirmed 0 Deaths 0",
          "Malawi<br>Confirmed 0 Deaths 0",
          "Malaysia<br>Confirmed 8 Deaths 0",
          "Maldives<br>Confirmed 0 Deaths 0",
          "Mali<br>Confirmed 0 Deaths 0",
          "Malta<br>Confirmed 0 Deaths 0",
          "Mauritania<br>Confirmed 0 Deaths 0",
          "Mauritius<br>Confirmed 0 Deaths 0",
          "Mexico<br>Confirmed 0 Deaths 0",
          "Moldova<br>Confirmed 0 Deaths 0",
          "Monaco<br>Confirmed 0 Deaths 0",
          "Mongolia<br>Confirmed 0 Deaths 0",
          "Montenegro<br>Confirmed 0 Deaths 0",
          "Morocco<br>Confirmed 0 Deaths 0",
          "Mozambique<br>Confirmed 0 Deaths 0",
          "Namibia<br>Confirmed 0 Deaths 0",
          "Nepal<br>Confirmed 1 Deaths 0",
          "Netherlands<br>Confirmed 0 Deaths 0",
          "New Zealand<br>Confirmed 0 Deaths 0",
          "Nicaragua<br>Confirmed 0 Deaths 0",
          "Niger<br>Confirmed 0 Deaths 0",
          "Nigeria<br>Confirmed 0 Deaths 0",
          "North Macedonia<br>Confirmed 0 Deaths 0",
          "Norway<br>Confirmed 0 Deaths 0",
          "Oman<br>Confirmed 0 Deaths 0",
          "Pakistan<br>Confirmed 0 Deaths 0",
          "Panama<br>Confirmed 0 Deaths 0",
          "Papua New Guinea<br>Confirmed 0 Deaths 0",
          "Paraguay<br>Confirmed 0 Deaths 0",
          "Peru<br>Confirmed 0 Deaths 0",
          "Philippines<br>Confirmed 1 Deaths 0",
          "Poland<br>Confirmed 0 Deaths 0",
          "Portugal<br>Confirmed 0 Deaths 0",
          "Qatar<br>Confirmed 0 Deaths 0",
          "Romania<br>Confirmed 0 Deaths 0",
          "Russia<br>Confirmed 2 Deaths 0",
          "Rwanda<br>Confirmed 0 Deaths 0",
          "Saint Kitts and Nevis<br>Confirmed 0 Deaths 0",
          "Saint Lucia<br>Confirmed 0 Deaths 0",
          "Saint Vincent and the Grenadines<br>Confirmed 0 Deaths 0",
          "San Marino<br>Confirmed 0 Deaths 0",
          "Sao Tome and Principe<br>Confirmed 0 Deaths 0",
          "Saudi Arabia<br>Confirmed 0 Deaths 0",
          "Senegal<br>Confirmed 0 Deaths 0",
          "Serbia<br>Confirmed 0 Deaths 0",
          "Seychelles<br>Confirmed 0 Deaths 0",
          "Sierra Leone<br>Confirmed 0 Deaths 0",
          "Singapore<br>Confirmed 13 Deaths 0",
          "Slovakia<br>Confirmed 0 Deaths 0",
          "Slovenia<br>Confirmed 0 Deaths 0",
          "Somalia<br>Confirmed 0 Deaths 0",
          "South Africa<br>Confirmed 0 Deaths 0",
          "South Sudan<br>Confirmed 0 Deaths 0",
          "Spain<br>Confirmed 0 Deaths 0",
          "Sri Lanka<br>Confirmed 1 Deaths 0",
          "Sudan<br>Confirmed 0 Deaths 0",
          "Suriname<br>Confirmed 0 Deaths 0",
          "Sweden<br>Confirmed 1 Deaths 0",
          "Switzerland<br>Confirmed 0 Deaths 0",
          "Syria<br>Confirmed 0 Deaths 0",
          "Taiwan*<br>Confirmed 10 Deaths 0",
          "Tanzania<br>Confirmed 0 Deaths 0",
          "Thailand<br>Confirmed 19 Deaths 0",
          "Timor-Leste<br>Confirmed 0 Deaths 0",
          "Togo<br>Confirmed 0 Deaths 0",
          "Trinidad and Tobago<br>Confirmed 0 Deaths 0",
          "Tunisia<br>Confirmed 0 Deaths 0",
          "Turkey<br>Confirmed 0 Deaths 0",
          "US<br>Confirmed 7 Deaths 0",
          "Uganda<br>Confirmed 0 Deaths 0",
          "Ukraine<br>Confirmed 0 Deaths 0",
          "United Arab Emirates<br>Confirmed 4 Deaths 0",
          "United Kingdom<br>Confirmed 2 Deaths 0",
          "Uruguay<br>Confirmed 0 Deaths 0",
          "Uzbekistan<br>Confirmed 0 Deaths 0",
          "Venezuela<br>Confirmed 0 Deaths 0",
          "Vietnam<br>Confirmed 2 Deaths 0",
          "West Bank and Gaza<br>Confirmed 0 Deaths 0",
          "Western Sahara<br>Confirmed 0 Deaths 0",
          "Yemen<br>Confirmed 0 Deaths 0",
          "Zambia<br>Confirmed 0 Deaths 0",
          "Zimbabwe<br>Confirmed 0 Deaths 0"
         ],
         "type": "choropleth",
         "z": [
          "0",
          "0",
          "0",
          "0",
          "0",
          "0",
          "0",
          "0",
          "0",
          "0",
          "0",
          "0",
          "0",
          "0",
          "0",
          "0",
          "0",
          "0",
          "0",
          "0",
          "0",
          "0",
          "0",
          "0",
          "0",
          "0",
          "0",
          "0",
          "0",
          "0",
          "0",
          "0",
          "0",
          "0",
          "0",
          "0",
          "213",
          "0",
          "0",
          "0",
          "0",
          "0",
          "0",
          "0",
          "0",
          "0",
          "0",
          "0",
          "0",
          "0",
          "0",
          "0",
          "0",
          "0",
          "0",
          "0",
          "0",
          "0",
          "0",
          "0",
          "0",
          "0",
          "0",
          "0",
          "0",
          "0",
          "0",
          "0",
          "0",
          "0",
          "0",
          "0",
          "0",
          "0",
          "0",
          "0",
          "0",
          "0",
          "0",
          "0",
          "0",
          "0",
          "0",
          "0",
          "0",
          "0",
          "0",
          "0",
          "0",
          "0",
          "0",
          "0",
          "0",
          "0",
          "0",
          "0",
          "0",
          "0",
          "0",
          "0",
          "0",
          "0",
          "0",
          "0",
          "0",
          "0",
          "0",
          "0",
          "0",
          "0",
          "0",
          "0",
          "0",
          "0",
          "0",
          "0",
          "0",
          "0",
          "0",
          "0",
          "0",
          "0",
          "0",
          "0",
          "0",
          "0",
          "0",
          "0",
          "0",
          "0",
          "0",
          "0",
          "0",
          "0",
          "0",
          "0",
          "0",
          "0",
          "0",
          "0",
          "0",
          "0",
          "0",
          "0",
          "0",
          "0",
          "0",
          "0",
          "0",
          "0",
          "0",
          "0",
          "0",
          "0",
          "0",
          "0",
          "0",
          "0",
          "0",
          "0",
          "0",
          "0",
          "0",
          "0",
          "0",
          "0",
          "0",
          "0",
          "0",
          "0",
          "0",
          "0",
          "0",
          "0",
          "0",
          "0",
          "0",
          "0",
          "0",
          "0",
          "0",
          "0",
          "0",
          "0",
          "0"
         ]
        }
       ],
       "layout": {
        "geo": {
         "scope": "world"
        },
        "template": {
         "data": {
          "bar": [
           {
            "error_x": {
             "color": "#2a3f5f"
            },
            "error_y": {
             "color": "#2a3f5f"
            },
            "marker": {
             "line": {
              "color": "#E5ECF6",
              "width": 0.5
             }
            },
            "type": "bar"
           }
          ],
          "barpolar": [
           {
            "marker": {
             "line": {
              "color": "#E5ECF6",
              "width": 0.5
             }
            },
            "type": "barpolar"
           }
          ],
          "carpet": [
           {
            "aaxis": {
             "endlinecolor": "#2a3f5f",
             "gridcolor": "white",
             "linecolor": "white",
             "minorgridcolor": "white",
             "startlinecolor": "#2a3f5f"
            },
            "baxis": {
             "endlinecolor": "#2a3f5f",
             "gridcolor": "white",
             "linecolor": "white",
             "minorgridcolor": "white",
             "startlinecolor": "#2a3f5f"
            },
            "type": "carpet"
           }
          ],
          "choropleth": [
           {
            "colorbar": {
             "outlinewidth": 0,
             "ticks": ""
            },
            "type": "choropleth"
           }
          ],
          "contour": [
           {
            "colorbar": {
             "outlinewidth": 0,
             "ticks": ""
            },
            "colorscale": [
             [
              0,
              "#0d0887"
             ],
             [
              0.1111111111111111,
              "#46039f"
             ],
             [
              0.2222222222222222,
              "#7201a8"
             ],
             [
              0.3333333333333333,
              "#9c179e"
             ],
             [
              0.4444444444444444,
              "#bd3786"
             ],
             [
              0.5555555555555556,
              "#d8576b"
             ],
             [
              0.6666666666666666,
              "#ed7953"
             ],
             [
              0.7777777777777778,
              "#fb9f3a"
             ],
             [
              0.8888888888888888,
              "#fdca26"
             ],
             [
              1,
              "#f0f921"
             ]
            ],
            "type": "contour"
           }
          ],
          "contourcarpet": [
           {
            "colorbar": {
             "outlinewidth": 0,
             "ticks": ""
            },
            "type": "contourcarpet"
           }
          ],
          "heatmap": [
           {
            "colorbar": {
             "outlinewidth": 0,
             "ticks": ""
            },
            "colorscale": [
             [
              0,
              "#0d0887"
             ],
             [
              0.1111111111111111,
              "#46039f"
             ],
             [
              0.2222222222222222,
              "#7201a8"
             ],
             [
              0.3333333333333333,
              "#9c179e"
             ],
             [
              0.4444444444444444,
              "#bd3786"
             ],
             [
              0.5555555555555556,
              "#d8576b"
             ],
             [
              0.6666666666666666,
              "#ed7953"
             ],
             [
              0.7777777777777778,
              "#fb9f3a"
             ],
             [
              0.8888888888888888,
              "#fdca26"
             ],
             [
              1,
              "#f0f921"
             ]
            ],
            "type": "heatmap"
           }
          ],
          "heatmapgl": [
           {
            "colorbar": {
             "outlinewidth": 0,
             "ticks": ""
            },
            "colorscale": [
             [
              0,
              "#0d0887"
             ],
             [
              0.1111111111111111,
              "#46039f"
             ],
             [
              0.2222222222222222,
              "#7201a8"
             ],
             [
              0.3333333333333333,
              "#9c179e"
             ],
             [
              0.4444444444444444,
              "#bd3786"
             ],
             [
              0.5555555555555556,
              "#d8576b"
             ],
             [
              0.6666666666666666,
              "#ed7953"
             ],
             [
              0.7777777777777778,
              "#fb9f3a"
             ],
             [
              0.8888888888888888,
              "#fdca26"
             ],
             [
              1,
              "#f0f921"
             ]
            ],
            "type": "heatmapgl"
           }
          ],
          "histogram": [
           {
            "marker": {
             "colorbar": {
              "outlinewidth": 0,
              "ticks": ""
             }
            },
            "type": "histogram"
           }
          ],
          "histogram2d": [
           {
            "colorbar": {
             "outlinewidth": 0,
             "ticks": ""
            },
            "colorscale": [
             [
              0,
              "#0d0887"
             ],
             [
              0.1111111111111111,
              "#46039f"
             ],
             [
              0.2222222222222222,
              "#7201a8"
             ],
             [
              0.3333333333333333,
              "#9c179e"
             ],
             [
              0.4444444444444444,
              "#bd3786"
             ],
             [
              0.5555555555555556,
              "#d8576b"
             ],
             [
              0.6666666666666666,
              "#ed7953"
             ],
             [
              0.7777777777777778,
              "#fb9f3a"
             ],
             [
              0.8888888888888888,
              "#fdca26"
             ],
             [
              1,
              "#f0f921"
             ]
            ],
            "type": "histogram2d"
           }
          ],
          "histogram2dcontour": [
           {
            "colorbar": {
             "outlinewidth": 0,
             "ticks": ""
            },
            "colorscale": [
             [
              0,
              "#0d0887"
             ],
             [
              0.1111111111111111,
              "#46039f"
             ],
             [
              0.2222222222222222,
              "#7201a8"
             ],
             [
              0.3333333333333333,
              "#9c179e"
             ],
             [
              0.4444444444444444,
              "#bd3786"
             ],
             [
              0.5555555555555556,
              "#d8576b"
             ],
             [
              0.6666666666666666,
              "#ed7953"
             ],
             [
              0.7777777777777778,
              "#fb9f3a"
             ],
             [
              0.8888888888888888,
              "#fdca26"
             ],
             [
              1,
              "#f0f921"
             ]
            ],
            "type": "histogram2dcontour"
           }
          ],
          "mesh3d": [
           {
            "colorbar": {
             "outlinewidth": 0,
             "ticks": ""
            },
            "type": "mesh3d"
           }
          ],
          "parcoords": [
           {
            "line": {
             "colorbar": {
              "outlinewidth": 0,
              "ticks": ""
             }
            },
            "type": "parcoords"
           }
          ],
          "pie": [
           {
            "automargin": true,
            "type": "pie"
           }
          ],
          "scatter": [
           {
            "marker": {
             "colorbar": {
              "outlinewidth": 0,
              "ticks": ""
             }
            },
            "type": "scatter"
           }
          ],
          "scatter3d": [
           {
            "line": {
             "colorbar": {
              "outlinewidth": 0,
              "ticks": ""
             }
            },
            "marker": {
             "colorbar": {
              "outlinewidth": 0,
              "ticks": ""
             }
            },
            "type": "scatter3d"
           }
          ],
          "scattercarpet": [
           {
            "marker": {
             "colorbar": {
              "outlinewidth": 0,
              "ticks": ""
             }
            },
            "type": "scattercarpet"
           }
          ],
          "scattergeo": [
           {
            "marker": {
             "colorbar": {
              "outlinewidth": 0,
              "ticks": ""
             }
            },
            "type": "scattergeo"
           }
          ],
          "scattergl": [
           {
            "marker": {
             "colorbar": {
              "outlinewidth": 0,
              "ticks": ""
             }
            },
            "type": "scattergl"
           }
          ],
          "scattermapbox": [
           {
            "marker": {
             "colorbar": {
              "outlinewidth": 0,
              "ticks": ""
             }
            },
            "type": "scattermapbox"
           }
          ],
          "scatterpolar": [
           {
            "marker": {
             "colorbar": {
              "outlinewidth": 0,
              "ticks": ""
             }
            },
            "type": "scatterpolar"
           }
          ],
          "scatterpolargl": [
           {
            "marker": {
             "colorbar": {
              "outlinewidth": 0,
              "ticks": ""
             }
            },
            "type": "scatterpolargl"
           }
          ],
          "scatterternary": [
           {
            "marker": {
             "colorbar": {
              "outlinewidth": 0,
              "ticks": ""
             }
            },
            "type": "scatterternary"
           }
          ],
          "surface": [
           {
            "colorbar": {
             "outlinewidth": 0,
             "ticks": ""
            },
            "colorscale": [
             [
              0,
              "#0d0887"
             ],
             [
              0.1111111111111111,
              "#46039f"
             ],
             [
              0.2222222222222222,
              "#7201a8"
             ],
             [
              0.3333333333333333,
              "#9c179e"
             ],
             [
              0.4444444444444444,
              "#bd3786"
             ],
             [
              0.5555555555555556,
              "#d8576b"
             ],
             [
              0.6666666666666666,
              "#ed7953"
             ],
             [
              0.7777777777777778,
              "#fb9f3a"
             ],
             [
              0.8888888888888888,
              "#fdca26"
             ],
             [
              1,
              "#f0f921"
             ]
            ],
            "type": "surface"
           }
          ],
          "table": [
           {
            "cells": {
             "fill": {
              "color": "#EBF0F8"
             },
             "line": {
              "color": "white"
             }
            },
            "header": {
             "fill": {
              "color": "#C8D4E3"
             },
             "line": {
              "color": "white"
             }
            },
            "type": "table"
           }
          ]
         },
         "layout": {
          "annotationdefaults": {
           "arrowcolor": "#2a3f5f",
           "arrowhead": 0,
           "arrowwidth": 1
          },
          "coloraxis": {
           "colorbar": {
            "outlinewidth": 0,
            "ticks": ""
           }
          },
          "colorscale": {
           "diverging": [
            [
             0,
             "#8e0152"
            ],
            [
             0.1,
             "#c51b7d"
            ],
            [
             0.2,
             "#de77ae"
            ],
            [
             0.3,
             "#f1b6da"
            ],
            [
             0.4,
             "#fde0ef"
            ],
            [
             0.5,
             "#f7f7f7"
            ],
            [
             0.6,
             "#e6f5d0"
            ],
            [
             0.7,
             "#b8e186"
            ],
            [
             0.8,
             "#7fbc41"
            ],
            [
             0.9,
             "#4d9221"
            ],
            [
             1,
             "#276419"
            ]
           ],
           "sequential": [
            [
             0,
             "#0d0887"
            ],
            [
             0.1111111111111111,
             "#46039f"
            ],
            [
             0.2222222222222222,
             "#7201a8"
            ],
            [
             0.3333333333333333,
             "#9c179e"
            ],
            [
             0.4444444444444444,
             "#bd3786"
            ],
            [
             0.5555555555555556,
             "#d8576b"
            ],
            [
             0.6666666666666666,
             "#ed7953"
            ],
            [
             0.7777777777777778,
             "#fb9f3a"
            ],
            [
             0.8888888888888888,
             "#fdca26"
            ],
            [
             1,
             "#f0f921"
            ]
           ],
           "sequentialminus": [
            [
             0,
             "#0d0887"
            ],
            [
             0.1111111111111111,
             "#46039f"
            ],
            [
             0.2222222222222222,
             "#7201a8"
            ],
            [
             0.3333333333333333,
             "#9c179e"
            ],
            [
             0.4444444444444444,
             "#bd3786"
            ],
            [
             0.5555555555555556,
             "#d8576b"
            ],
            [
             0.6666666666666666,
             "#ed7953"
            ],
            [
             0.7777777777777778,
             "#fb9f3a"
            ],
            [
             0.8888888888888888,
             "#fdca26"
            ],
            [
             1,
             "#f0f921"
            ]
           ]
          },
          "colorway": [
           "#636efa",
           "#EF553B",
           "#00cc96",
           "#ab63fa",
           "#FFA15A",
           "#19d3f3",
           "#FF6692",
           "#B6E880",
           "#FF97FF",
           "#FECB52"
          ],
          "font": {
           "color": "#2a3f5f"
          },
          "geo": {
           "bgcolor": "white",
           "lakecolor": "white",
           "landcolor": "#E5ECF6",
           "showlakes": true,
           "showland": true,
           "subunitcolor": "white"
          },
          "hoverlabel": {
           "align": "left"
          },
          "hovermode": "closest",
          "mapbox": {
           "style": "light"
          },
          "paper_bgcolor": "white",
          "plot_bgcolor": "#E5ECF6",
          "polar": {
           "angularaxis": {
            "gridcolor": "white",
            "linecolor": "white",
            "ticks": ""
           },
           "bgcolor": "#E5ECF6",
           "radialaxis": {
            "gridcolor": "white",
            "linecolor": "white",
            "ticks": ""
           }
          },
          "scene": {
           "xaxis": {
            "backgroundcolor": "#E5ECF6",
            "gridcolor": "white",
            "gridwidth": 2,
            "linecolor": "white",
            "showbackground": true,
            "ticks": "",
            "zerolinecolor": "white"
           },
           "yaxis": {
            "backgroundcolor": "#E5ECF6",
            "gridcolor": "white",
            "gridwidth": 2,
            "linecolor": "white",
            "showbackground": true,
            "ticks": "",
            "zerolinecolor": "white"
           },
           "zaxis": {
            "backgroundcolor": "#E5ECF6",
            "gridcolor": "white",
            "gridwidth": 2,
            "linecolor": "white",
            "showbackground": true,
            "ticks": "",
            "zerolinecolor": "white"
           }
          },
          "shapedefaults": {
           "line": {
            "color": "#2a3f5f"
           }
          },
          "ternary": {
           "aaxis": {
            "gridcolor": "white",
            "linecolor": "white",
            "ticks": ""
           },
           "baxis": {
            "gridcolor": "white",
            "linecolor": "white",
            "ticks": ""
           },
           "bgcolor": "#E5ECF6",
           "caxis": {
            "gridcolor": "white",
            "linecolor": "white",
            "ticks": ""
           }
          },
          "title": {
           "x": 0.05
          },
          "xaxis": {
           "automargin": true,
           "gridcolor": "white",
           "linecolor": "white",
           "ticks": "",
           "title": {
            "standoff": 15
           },
           "zerolinecolor": "white",
           "zerolinewidth": 2
          },
          "yaxis": {
           "automargin": true,
           "gridcolor": "white",
           "linecolor": "white",
           "ticks": "",
           "title": {
            "standoff": 15
           },
           "zerolinecolor": "white",
           "zerolinewidth": 2
          }
         }
        },
        "title": {
         "text": "COVID-19 Death Per Country as of Jan 2020"
        }
       }
      },
      "text/html": [
       "<div>\n",
       "        \n",
       "        \n",
       "            <div id=\"174aed64-3358-448f-8c4c-9034bb749823\" class=\"plotly-graph-div\" style=\"height:525px; width:100%;\"></div>\n",
       "            <script type=\"text/javascript\">\n",
       "                require([\"plotly\"], function(Plotly) {\n",
       "                    window.PLOTLYENV=window.PLOTLYENV || {};\n",
       "                    \n",
       "                if (document.getElementById(\"174aed64-3358-448f-8c4c-9034bb749823\")) {\n",
       "                    Plotly.newPlot(\n",
       "                        '174aed64-3358-448f-8c4c-9034bb749823',\n",
       "                        [{\"colorbar\": {\"title\": {\"text\": \"Number of deaths\"}}, \"colorscale\": [[0.0, \"rgb(12,51,131)\"], [0.25, \"rgb(10,136,186)\"], [0.5, \"rgb(242,211,56)\"], [0.75, \"rgb(242,143,56)\"], [1.0, \"rgb(217,30,30)\"]], \"locationmode\": \"country names\", \"locations\": [\"Afghanistan\", \"Albania\", \"Algeria\", \"Andorra\", \"Angola\", \"Antigua and Barbuda\", \"Argentina\", \"Armenia\", \"Australia\", \"Austria\", \"Azerbaijan\", \"Bahamas\", \"Bahrain\", \"Bangladesh\", \"Barbados\", \"Belarus\", \"Belgium\", \"Belize\", \"Benin\", \"Bhutan\", \"Bolivia\", \"Bosnia and Herzegovina\", \"Botswana\", \"Brazil\", \"Brunei\", \"Bulgaria\", \"Burkina Faso\", \"Burma\", \"Burundi\", \"Cabo Verde\", \"Cambodia\", \"Cameroon\", \"Canada\", \"Central African Republic\", \"Chad\", \"Chile\", \"China\", \"Colombia\", \"Congo (Brazzaville)\", \"Congo (Kinshasa)\", \"Costa Rica\", \"Cote d'Ivoire\", \"Croatia\", \"Cuba\", \"Cyprus\", \"Czechia\", \"Denmark\", \"Diamond Princess\", \"Djibouti\", \"Dominica\", \"Dominican Republic\", \"Ecuador\", \"Egypt\", \"El Salvador\", \"Equatorial Guinea\", \"Eritrea\", \"Estonia\", \"Eswatini\", \"Ethiopia\", \"Fiji\", \"Finland\", \"France\", \"Gabon\", \"Gambia\", \"Georgia\", \"Germany\", \"Ghana\", \"Greece\", \"Grenada\", \"Guatemala\", \"Guinea\", \"Guinea-Bissau\", \"Guyana\", \"Haiti\", \"Holy See\", \"Honduras\", \"Hungary\", \"Iceland\", \"India\", \"Indonesia\", \"Iran\", \"Iraq\", \"Ireland\", \"Israel\", \"Italy\", \"Jamaica\", \"Japan\", \"Jordan\", \"Kazakhstan\", \"Kenya\", \"Korea, South\", \"Kosovo\", \"Kuwait\", \"Kyrgyzstan\", \"Laos\", \"Latvia\", \"Lebanon\", \"Liberia\", \"Libya\", \"Liechtenstein\", \"Lithuania\", \"Luxembourg\", \"MS Zaandam\", \"Madagascar\", \"Malawi\", \"Malaysia\", \"Maldives\", \"Mali\", \"Malta\", \"Mauritania\", \"Mauritius\", \"Mexico\", \"Moldova\", \"Monaco\", \"Mongolia\", \"Montenegro\", \"Morocco\", \"Mozambique\", \"Namibia\", \"Nepal\", \"Netherlands\", \"New Zealand\", \"Nicaragua\", \"Niger\", \"Nigeria\", \"North Macedonia\", \"Norway\", \"Oman\", \"Pakistan\", \"Panama\", \"Papua New Guinea\", \"Paraguay\", \"Peru\", \"Philippines\", \"Poland\", \"Portugal\", \"Qatar\", \"Romania\", \"Russia\", \"Rwanda\", \"Saint Kitts and Nevis\", \"Saint Lucia\", \"Saint Vincent and the Grenadines\", \"San Marino\", \"Sao Tome and Principe\", \"Saudi Arabia\", \"Senegal\", \"Serbia\", \"Seychelles\", \"Sierra Leone\", \"Singapore\", \"Slovakia\", \"Slovenia\", \"Somalia\", \"South Africa\", \"South Sudan\", \"Spain\", \"Sri Lanka\", \"Sudan\", \"Suriname\", \"Sweden\", \"Switzerland\", \"Syria\", \"Taiwan*\", \"Tanzania\", \"Thailand\", \"Timor-Leste\", \"Togo\", \"Trinidad and Tobago\", \"Tunisia\", \"Turkey\", \"US\", \"Uganda\", \"Ukraine\", \"United Arab Emirates\", \"United Kingdom\", \"Uruguay\", \"Uzbekistan\", \"Venezuela\", \"Vietnam\", \"West Bank and Gaza\", \"Western Sahara\", \"Yemen\", \"Zambia\", \"Zimbabwe\"], \"marker\": {\"line\": {\"color\": \"rgb(255,255,255)\", \"width\": 0.5}}, \"text\": [\"Afghanistan<br>Confirmed 0 Deaths 0\", \"Albania<br>Confirmed 0 Deaths 0\", \"Algeria<br>Confirmed 0 Deaths 0\", \"Andorra<br>Confirmed 0 Deaths 0\", \"Angola<br>Confirmed 0 Deaths 0\", \"Antigua and Barbuda<br>Confirmed 0 Deaths 0\", \"Argentina<br>Confirmed 0 Deaths 0\", \"Armenia<br>Confirmed 0 Deaths 0\", \"Australia<br>Confirmed 9 Deaths 0\", \"Austria<br>Confirmed 0 Deaths 0\", \"Azerbaijan<br>Confirmed 0 Deaths 0\", \"Bahamas<br>Confirmed 0 Deaths 0\", \"Bahrain<br>Confirmed 0 Deaths 0\", \"Bangladesh<br>Confirmed 0 Deaths 0\", \"Barbados<br>Confirmed 0 Deaths 0\", \"Belarus<br>Confirmed 0 Deaths 0\", \"Belgium<br>Confirmed 0 Deaths 0\", \"Belize<br>Confirmed 0 Deaths 0\", \"Benin<br>Confirmed 0 Deaths 0\", \"Bhutan<br>Confirmed 0 Deaths 0\", \"Bolivia<br>Confirmed 0 Deaths 0\", \"Bosnia and Herzegovina<br>Confirmed 0 Deaths 0\", \"Botswana<br>Confirmed 0 Deaths 0\", \"Brazil<br>Confirmed 0 Deaths 0\", \"Brunei<br>Confirmed 0 Deaths 0\", \"Bulgaria<br>Confirmed 0 Deaths 0\", \"Burkina Faso<br>Confirmed 0 Deaths 0\", \"Burma<br>Confirmed 0 Deaths 0\", \"Burundi<br>Confirmed 0 Deaths 0\", \"Cabo Verde<br>Confirmed 0 Deaths 0\", \"Cambodia<br>Confirmed 1 Deaths 0\", \"Cameroon<br>Confirmed 0 Deaths 0\", \"Canada<br>Confirmed 4 Deaths 0\", \"Central African Republic<br>Confirmed 0 Deaths 0\", \"Chad<br>Confirmed 0 Deaths 0\", \"Chile<br>Confirmed 0 Deaths 0\", \"China<br>Confirmed 9802 Deaths 213\", \"Colombia<br>Confirmed 0 Deaths 0\", \"Congo (Brazzaville)<br>Confirmed 0 Deaths 0\", \"Congo (Kinshasa)<br>Confirmed 0 Deaths 0\", \"Costa Rica<br>Confirmed 0 Deaths 0\", \"Cote d'Ivoire<br>Confirmed 0 Deaths 0\", \"Croatia<br>Confirmed 0 Deaths 0\", \"Cuba<br>Confirmed 0 Deaths 0\", \"Cyprus<br>Confirmed 0 Deaths 0\", \"Czechia<br>Confirmed 0 Deaths 0\", \"Denmark<br>Confirmed 0 Deaths 0\", \"Diamond Princess<br>Confirmed 0 Deaths 0\", \"Djibouti<br>Confirmed 0 Deaths 0\", \"Dominica<br>Confirmed 0 Deaths 0\", \"Dominican Republic<br>Confirmed 0 Deaths 0\", \"Ecuador<br>Confirmed 0 Deaths 0\", \"Egypt<br>Confirmed 0 Deaths 0\", \"El Salvador<br>Confirmed 0 Deaths 0\", \"Equatorial Guinea<br>Confirmed 0 Deaths 0\", \"Eritrea<br>Confirmed 0 Deaths 0\", \"Estonia<br>Confirmed 0 Deaths 0\", \"Eswatini<br>Confirmed 0 Deaths 0\", \"Ethiopia<br>Confirmed 0 Deaths 0\", \"Fiji<br>Confirmed 0 Deaths 0\", \"Finland<br>Confirmed 1 Deaths 0\", \"France<br>Confirmed 5 Deaths 0\", \"Gabon<br>Confirmed 0 Deaths 0\", \"Gambia<br>Confirmed 0 Deaths 0\", \"Georgia<br>Confirmed 0 Deaths 0\", \"Germany<br>Confirmed 5 Deaths 0\", \"Ghana<br>Confirmed 0 Deaths 0\", \"Greece<br>Confirmed 0 Deaths 0\", \"Grenada<br>Confirmed 0 Deaths 0\", \"Guatemala<br>Confirmed 0 Deaths 0\", \"Guinea<br>Confirmed 0 Deaths 0\", \"Guinea-Bissau<br>Confirmed 0 Deaths 0\", \"Guyana<br>Confirmed 0 Deaths 0\", \"Haiti<br>Confirmed 0 Deaths 0\", \"Holy See<br>Confirmed 0 Deaths 0\", \"Honduras<br>Confirmed 0 Deaths 0\", \"Hungary<br>Confirmed 0 Deaths 0\", \"Iceland<br>Confirmed 0 Deaths 0\", \"India<br>Confirmed 1 Deaths 0\", \"Indonesia<br>Confirmed 0 Deaths 0\", \"Iran<br>Confirmed 0 Deaths 0\", \"Iraq<br>Confirmed 0 Deaths 0\", \"Ireland<br>Confirmed 0 Deaths 0\", \"Israel<br>Confirmed 0 Deaths 0\", \"Italy<br>Confirmed 2 Deaths 0\", \"Jamaica<br>Confirmed 0 Deaths 0\", \"Japan<br>Confirmed 15 Deaths 0\", \"Jordan<br>Confirmed 0 Deaths 0\", \"Kazakhstan<br>Confirmed 0 Deaths 0\", \"Kenya<br>Confirmed 0 Deaths 0\", \"Korea, South<br>Confirmed 11 Deaths 0\", \"Kosovo<br>Confirmed 0 Deaths 0\", \"Kuwait<br>Confirmed 0 Deaths 0\", \"Kyrgyzstan<br>Confirmed 0 Deaths 0\", \"Laos<br>Confirmed 0 Deaths 0\", \"Latvia<br>Confirmed 0 Deaths 0\", \"Lebanon<br>Confirmed 0 Deaths 0\", \"Liberia<br>Confirmed 0 Deaths 0\", \"Libya<br>Confirmed 0 Deaths 0\", \"Liechtenstein<br>Confirmed 0 Deaths 0\", \"Lithuania<br>Confirmed 0 Deaths 0\", \"Luxembourg<br>Confirmed 0 Deaths 0\", \"MS Zaandam<br>Confirmed 0 Deaths 0\", \"Madagascar<br>Confirmed 0 Deaths 0\", \"Malawi<br>Confirmed 0 Deaths 0\", \"Malaysia<br>Confirmed 8 Deaths 0\", \"Maldives<br>Confirmed 0 Deaths 0\", \"Mali<br>Confirmed 0 Deaths 0\", \"Malta<br>Confirmed 0 Deaths 0\", \"Mauritania<br>Confirmed 0 Deaths 0\", \"Mauritius<br>Confirmed 0 Deaths 0\", \"Mexico<br>Confirmed 0 Deaths 0\", \"Moldova<br>Confirmed 0 Deaths 0\", \"Monaco<br>Confirmed 0 Deaths 0\", \"Mongolia<br>Confirmed 0 Deaths 0\", \"Montenegro<br>Confirmed 0 Deaths 0\", \"Morocco<br>Confirmed 0 Deaths 0\", \"Mozambique<br>Confirmed 0 Deaths 0\", \"Namibia<br>Confirmed 0 Deaths 0\", \"Nepal<br>Confirmed 1 Deaths 0\", \"Netherlands<br>Confirmed 0 Deaths 0\", \"New Zealand<br>Confirmed 0 Deaths 0\", \"Nicaragua<br>Confirmed 0 Deaths 0\", \"Niger<br>Confirmed 0 Deaths 0\", \"Nigeria<br>Confirmed 0 Deaths 0\", \"North Macedonia<br>Confirmed 0 Deaths 0\", \"Norway<br>Confirmed 0 Deaths 0\", \"Oman<br>Confirmed 0 Deaths 0\", \"Pakistan<br>Confirmed 0 Deaths 0\", \"Panama<br>Confirmed 0 Deaths 0\", \"Papua New Guinea<br>Confirmed 0 Deaths 0\", \"Paraguay<br>Confirmed 0 Deaths 0\", \"Peru<br>Confirmed 0 Deaths 0\", \"Philippines<br>Confirmed 1 Deaths 0\", \"Poland<br>Confirmed 0 Deaths 0\", \"Portugal<br>Confirmed 0 Deaths 0\", \"Qatar<br>Confirmed 0 Deaths 0\", \"Romania<br>Confirmed 0 Deaths 0\", \"Russia<br>Confirmed 2 Deaths 0\", \"Rwanda<br>Confirmed 0 Deaths 0\", \"Saint Kitts and Nevis<br>Confirmed 0 Deaths 0\", \"Saint Lucia<br>Confirmed 0 Deaths 0\", \"Saint Vincent and the Grenadines<br>Confirmed 0 Deaths 0\", \"San Marino<br>Confirmed 0 Deaths 0\", \"Sao Tome and Principe<br>Confirmed 0 Deaths 0\", \"Saudi Arabia<br>Confirmed 0 Deaths 0\", \"Senegal<br>Confirmed 0 Deaths 0\", \"Serbia<br>Confirmed 0 Deaths 0\", \"Seychelles<br>Confirmed 0 Deaths 0\", \"Sierra Leone<br>Confirmed 0 Deaths 0\", \"Singapore<br>Confirmed 13 Deaths 0\", \"Slovakia<br>Confirmed 0 Deaths 0\", \"Slovenia<br>Confirmed 0 Deaths 0\", \"Somalia<br>Confirmed 0 Deaths 0\", \"South Africa<br>Confirmed 0 Deaths 0\", \"South Sudan<br>Confirmed 0 Deaths 0\", \"Spain<br>Confirmed 0 Deaths 0\", \"Sri Lanka<br>Confirmed 1 Deaths 0\", \"Sudan<br>Confirmed 0 Deaths 0\", \"Suriname<br>Confirmed 0 Deaths 0\", \"Sweden<br>Confirmed 1 Deaths 0\", \"Switzerland<br>Confirmed 0 Deaths 0\", \"Syria<br>Confirmed 0 Deaths 0\", \"Taiwan*<br>Confirmed 10 Deaths 0\", \"Tanzania<br>Confirmed 0 Deaths 0\", \"Thailand<br>Confirmed 19 Deaths 0\", \"Timor-Leste<br>Confirmed 0 Deaths 0\", \"Togo<br>Confirmed 0 Deaths 0\", \"Trinidad and Tobago<br>Confirmed 0 Deaths 0\", \"Tunisia<br>Confirmed 0 Deaths 0\", \"Turkey<br>Confirmed 0 Deaths 0\", \"US<br>Confirmed 7 Deaths 0\", \"Uganda<br>Confirmed 0 Deaths 0\", \"Ukraine<br>Confirmed 0 Deaths 0\", \"United Arab Emirates<br>Confirmed 4 Deaths 0\", \"United Kingdom<br>Confirmed 2 Deaths 0\", \"Uruguay<br>Confirmed 0 Deaths 0\", \"Uzbekistan<br>Confirmed 0 Deaths 0\", \"Venezuela<br>Confirmed 0 Deaths 0\", \"Vietnam<br>Confirmed 2 Deaths 0\", \"West Bank and Gaza<br>Confirmed 0 Deaths 0\", \"Western Sahara<br>Confirmed 0 Deaths 0\", \"Yemen<br>Confirmed 0 Deaths 0\", \"Zambia<br>Confirmed 0 Deaths 0\", \"Zimbabwe<br>Confirmed 0 Deaths 0\"], \"type\": \"choropleth\", \"z\": [\"0\", \"0\", \"0\", \"0\", \"0\", \"0\", \"0\", \"0\", \"0\", \"0\", \"0\", \"0\", \"0\", \"0\", \"0\", \"0\", \"0\", \"0\", \"0\", \"0\", \"0\", \"0\", \"0\", \"0\", \"0\", \"0\", \"0\", \"0\", \"0\", \"0\", \"0\", \"0\", \"0\", \"0\", \"0\", \"0\", \"213\", \"0\", \"0\", \"0\", \"0\", \"0\", \"0\", \"0\", \"0\", \"0\", \"0\", \"0\", \"0\", \"0\", \"0\", \"0\", \"0\", \"0\", \"0\", \"0\", \"0\", \"0\", \"0\", \"0\", \"0\", \"0\", \"0\", \"0\", \"0\", \"0\", \"0\", \"0\", \"0\", \"0\", \"0\", \"0\", \"0\", \"0\", \"0\", \"0\", \"0\", \"0\", \"0\", \"0\", \"0\", \"0\", \"0\", \"0\", \"0\", \"0\", \"0\", \"0\", \"0\", \"0\", \"0\", \"0\", \"0\", \"0\", \"0\", \"0\", \"0\", \"0\", \"0\", \"0\", \"0\", \"0\", \"0\", \"0\", \"0\", \"0\", \"0\", \"0\", \"0\", \"0\", \"0\", \"0\", \"0\", \"0\", \"0\", \"0\", \"0\", \"0\", \"0\", \"0\", \"0\", \"0\", \"0\", \"0\", \"0\", \"0\", \"0\", \"0\", \"0\", \"0\", \"0\", \"0\", \"0\", \"0\", \"0\", \"0\", \"0\", \"0\", \"0\", \"0\", \"0\", \"0\", \"0\", \"0\", \"0\", \"0\", \"0\", \"0\", \"0\", \"0\", \"0\", \"0\", \"0\", \"0\", \"0\", \"0\", \"0\", \"0\", \"0\", \"0\", \"0\", \"0\", \"0\", \"0\", \"0\", \"0\", \"0\", \"0\", \"0\", \"0\", \"0\", \"0\", \"0\", \"0\", \"0\", \"0\", \"0\", \"0\", \"0\", \"0\", \"0\", \"0\", \"0\", \"0\", \"0\"]}],\n",
       "                        {\"geo\": {\"scope\": \"world\"}, \"template\": {\"data\": {\"bar\": [{\"error_x\": {\"color\": \"#2a3f5f\"}, \"error_y\": {\"color\": \"#2a3f5f\"}, \"marker\": {\"line\": {\"color\": \"#E5ECF6\", \"width\": 0.5}}, \"type\": \"bar\"}], \"barpolar\": [{\"marker\": {\"line\": {\"color\": \"#E5ECF6\", \"width\": 0.5}}, \"type\": \"barpolar\"}], \"carpet\": [{\"aaxis\": {\"endlinecolor\": \"#2a3f5f\", \"gridcolor\": \"white\", \"linecolor\": \"white\", \"minorgridcolor\": \"white\", \"startlinecolor\": \"#2a3f5f\"}, \"baxis\": {\"endlinecolor\": \"#2a3f5f\", \"gridcolor\": \"white\", \"linecolor\": \"white\", \"minorgridcolor\": \"white\", \"startlinecolor\": \"#2a3f5f\"}, \"type\": \"carpet\"}], \"choropleth\": [{\"colorbar\": {\"outlinewidth\": 0, \"ticks\": \"\"}, \"type\": \"choropleth\"}], \"contour\": [{\"colorbar\": {\"outlinewidth\": 0, \"ticks\": \"\"}, \"colorscale\": [[0.0, \"#0d0887\"], [0.1111111111111111, \"#46039f\"], [0.2222222222222222, \"#7201a8\"], [0.3333333333333333, \"#9c179e\"], [0.4444444444444444, \"#bd3786\"], [0.5555555555555556, \"#d8576b\"], [0.6666666666666666, \"#ed7953\"], [0.7777777777777778, \"#fb9f3a\"], [0.8888888888888888, \"#fdca26\"], [1.0, \"#f0f921\"]], \"type\": \"contour\"}], \"contourcarpet\": [{\"colorbar\": {\"outlinewidth\": 0, \"ticks\": \"\"}, \"type\": \"contourcarpet\"}], \"heatmap\": [{\"colorbar\": {\"outlinewidth\": 0, \"ticks\": \"\"}, \"colorscale\": [[0.0, \"#0d0887\"], [0.1111111111111111, \"#46039f\"], [0.2222222222222222, \"#7201a8\"], [0.3333333333333333, \"#9c179e\"], [0.4444444444444444, \"#bd3786\"], [0.5555555555555556, \"#d8576b\"], [0.6666666666666666, \"#ed7953\"], [0.7777777777777778, \"#fb9f3a\"], [0.8888888888888888, \"#fdca26\"], [1.0, \"#f0f921\"]], \"type\": \"heatmap\"}], \"heatmapgl\": [{\"colorbar\": {\"outlinewidth\": 0, \"ticks\": \"\"}, \"colorscale\": [[0.0, \"#0d0887\"], [0.1111111111111111, \"#46039f\"], [0.2222222222222222, \"#7201a8\"], [0.3333333333333333, \"#9c179e\"], [0.4444444444444444, \"#bd3786\"], [0.5555555555555556, \"#d8576b\"], [0.6666666666666666, \"#ed7953\"], [0.7777777777777778, \"#fb9f3a\"], [0.8888888888888888, \"#fdca26\"], [1.0, \"#f0f921\"]], \"type\": \"heatmapgl\"}], \"histogram\": [{\"marker\": {\"colorbar\": {\"outlinewidth\": 0, \"ticks\": \"\"}}, \"type\": \"histogram\"}], \"histogram2d\": [{\"colorbar\": {\"outlinewidth\": 0, \"ticks\": \"\"}, \"colorscale\": [[0.0, \"#0d0887\"], [0.1111111111111111, \"#46039f\"], [0.2222222222222222, \"#7201a8\"], [0.3333333333333333, \"#9c179e\"], [0.4444444444444444, \"#bd3786\"], [0.5555555555555556, \"#d8576b\"], [0.6666666666666666, \"#ed7953\"], [0.7777777777777778, \"#fb9f3a\"], [0.8888888888888888, \"#fdca26\"], [1.0, \"#f0f921\"]], \"type\": \"histogram2d\"}], \"histogram2dcontour\": [{\"colorbar\": {\"outlinewidth\": 0, \"ticks\": \"\"}, \"colorscale\": [[0.0, \"#0d0887\"], [0.1111111111111111, \"#46039f\"], [0.2222222222222222, \"#7201a8\"], [0.3333333333333333, \"#9c179e\"], [0.4444444444444444, \"#bd3786\"], [0.5555555555555556, \"#d8576b\"], [0.6666666666666666, \"#ed7953\"], [0.7777777777777778, \"#fb9f3a\"], [0.8888888888888888, \"#fdca26\"], [1.0, \"#f0f921\"]], \"type\": \"histogram2dcontour\"}], \"mesh3d\": [{\"colorbar\": {\"outlinewidth\": 0, \"ticks\": \"\"}, \"type\": \"mesh3d\"}], \"parcoords\": [{\"line\": {\"colorbar\": {\"outlinewidth\": 0, \"ticks\": \"\"}}, \"type\": \"parcoords\"}], \"pie\": [{\"automargin\": true, \"type\": \"pie\"}], \"scatter\": [{\"marker\": {\"colorbar\": {\"outlinewidth\": 0, \"ticks\": \"\"}}, \"type\": \"scatter\"}], \"scatter3d\": [{\"line\": {\"colorbar\": {\"outlinewidth\": 0, \"ticks\": \"\"}}, \"marker\": {\"colorbar\": {\"outlinewidth\": 0, \"ticks\": \"\"}}, \"type\": \"scatter3d\"}], \"scattercarpet\": [{\"marker\": {\"colorbar\": {\"outlinewidth\": 0, \"ticks\": \"\"}}, \"type\": \"scattercarpet\"}], \"scattergeo\": [{\"marker\": {\"colorbar\": {\"outlinewidth\": 0, \"ticks\": \"\"}}, \"type\": \"scattergeo\"}], \"scattergl\": [{\"marker\": {\"colorbar\": {\"outlinewidth\": 0, \"ticks\": \"\"}}, \"type\": \"scattergl\"}], \"scattermapbox\": [{\"marker\": {\"colorbar\": {\"outlinewidth\": 0, \"ticks\": \"\"}}, \"type\": \"scattermapbox\"}], \"scatterpolar\": [{\"marker\": {\"colorbar\": {\"outlinewidth\": 0, \"ticks\": \"\"}}, \"type\": \"scatterpolar\"}], \"scatterpolargl\": [{\"marker\": {\"colorbar\": {\"outlinewidth\": 0, \"ticks\": \"\"}}, \"type\": \"scatterpolargl\"}], \"scatterternary\": [{\"marker\": {\"colorbar\": {\"outlinewidth\": 0, \"ticks\": \"\"}}, \"type\": \"scatterternary\"}], \"surface\": [{\"colorbar\": {\"outlinewidth\": 0, \"ticks\": \"\"}, \"colorscale\": [[0.0, \"#0d0887\"], [0.1111111111111111, \"#46039f\"], [0.2222222222222222, \"#7201a8\"], [0.3333333333333333, \"#9c179e\"], [0.4444444444444444, \"#bd3786\"], [0.5555555555555556, \"#d8576b\"], [0.6666666666666666, \"#ed7953\"], [0.7777777777777778, \"#fb9f3a\"], [0.8888888888888888, \"#fdca26\"], [1.0, \"#f0f921\"]], \"type\": \"surface\"}], \"table\": [{\"cells\": {\"fill\": {\"color\": \"#EBF0F8\"}, \"line\": {\"color\": \"white\"}}, \"header\": {\"fill\": {\"color\": \"#C8D4E3\"}, \"line\": {\"color\": \"white\"}}, \"type\": \"table\"}]}, \"layout\": {\"annotationdefaults\": {\"arrowcolor\": \"#2a3f5f\", \"arrowhead\": 0, \"arrowwidth\": 1}, \"coloraxis\": {\"colorbar\": {\"outlinewidth\": 0, \"ticks\": \"\"}}, \"colorscale\": {\"diverging\": [[0, \"#8e0152\"], [0.1, \"#c51b7d\"], [0.2, \"#de77ae\"], [0.3, \"#f1b6da\"], [0.4, \"#fde0ef\"], [0.5, \"#f7f7f7\"], [0.6, \"#e6f5d0\"], [0.7, \"#b8e186\"], [0.8, \"#7fbc41\"], [0.9, \"#4d9221\"], [1, \"#276419\"]], \"sequential\": [[0.0, \"#0d0887\"], [0.1111111111111111, \"#46039f\"], [0.2222222222222222, \"#7201a8\"], [0.3333333333333333, \"#9c179e\"], [0.4444444444444444, \"#bd3786\"], [0.5555555555555556, \"#d8576b\"], [0.6666666666666666, \"#ed7953\"], [0.7777777777777778, \"#fb9f3a\"], [0.8888888888888888, \"#fdca26\"], [1.0, \"#f0f921\"]], \"sequentialminus\": [[0.0, \"#0d0887\"], [0.1111111111111111, \"#46039f\"], [0.2222222222222222, \"#7201a8\"], [0.3333333333333333, \"#9c179e\"], [0.4444444444444444, \"#bd3786\"], [0.5555555555555556, \"#d8576b\"], [0.6666666666666666, \"#ed7953\"], [0.7777777777777778, \"#fb9f3a\"], [0.8888888888888888, \"#fdca26\"], [1.0, \"#f0f921\"]]}, \"colorway\": [\"#636efa\", \"#EF553B\", \"#00cc96\", \"#ab63fa\", \"#FFA15A\", \"#19d3f3\", \"#FF6692\", \"#B6E880\", \"#FF97FF\", \"#FECB52\"], \"font\": {\"color\": \"#2a3f5f\"}, \"geo\": {\"bgcolor\": \"white\", \"lakecolor\": \"white\", \"landcolor\": \"#E5ECF6\", \"showlakes\": true, \"showland\": true, \"subunitcolor\": \"white\"}, \"hoverlabel\": {\"align\": \"left\"}, \"hovermode\": \"closest\", \"mapbox\": {\"style\": \"light\"}, \"paper_bgcolor\": \"white\", \"plot_bgcolor\": \"#E5ECF6\", \"polar\": {\"angularaxis\": {\"gridcolor\": \"white\", \"linecolor\": \"white\", \"ticks\": \"\"}, \"bgcolor\": \"#E5ECF6\", \"radialaxis\": {\"gridcolor\": \"white\", \"linecolor\": \"white\", \"ticks\": \"\"}}, \"scene\": {\"xaxis\": {\"backgroundcolor\": \"#E5ECF6\", \"gridcolor\": \"white\", \"gridwidth\": 2, \"linecolor\": \"white\", \"showbackground\": true, \"ticks\": \"\", \"zerolinecolor\": \"white\"}, \"yaxis\": {\"backgroundcolor\": \"#E5ECF6\", \"gridcolor\": \"white\", \"gridwidth\": 2, \"linecolor\": \"white\", \"showbackground\": true, \"ticks\": \"\", \"zerolinecolor\": \"white\"}, \"zaxis\": {\"backgroundcolor\": \"#E5ECF6\", \"gridcolor\": \"white\", \"gridwidth\": 2, \"linecolor\": \"white\", \"showbackground\": true, \"ticks\": \"\", \"zerolinecolor\": \"white\"}}, \"shapedefaults\": {\"line\": {\"color\": \"#2a3f5f\"}}, \"ternary\": {\"aaxis\": {\"gridcolor\": \"white\", \"linecolor\": \"white\", \"ticks\": \"\"}, \"baxis\": {\"gridcolor\": \"white\", \"linecolor\": \"white\", \"ticks\": \"\"}, \"bgcolor\": \"#E5ECF6\", \"caxis\": {\"gridcolor\": \"white\", \"linecolor\": \"white\", \"ticks\": \"\"}}, \"title\": {\"x\": 0.05}, \"xaxis\": {\"automargin\": true, \"gridcolor\": \"white\", \"linecolor\": \"white\", \"ticks\": \"\", \"title\": {\"standoff\": 15}, \"zerolinecolor\": \"white\", \"zerolinewidth\": 2}, \"yaxis\": {\"automargin\": true, \"gridcolor\": \"white\", \"linecolor\": \"white\", \"ticks\": \"\", \"title\": {\"standoff\": 15}, \"zerolinecolor\": \"white\", \"zerolinewidth\": 2}}}, \"title\": {\"text\": \"COVID-19 Death Per Country as of Jan 2020\"}},\n",
       "                        {\"responsive\": true}\n",
       "                    ).then(function(){\n",
       "                            \n",
       "var gd = document.getElementById('174aed64-3358-448f-8c4c-9034bb749823');\n",
       "var x = new MutationObserver(function (mutations, observer) {{\n",
       "        var display = window.getComputedStyle(gd).display;\n",
       "        if (!display || display === 'none') {{\n",
       "            console.log([gd, 'removed!']);\n",
       "            Plotly.purge(gd);\n",
       "            observer.disconnect();\n",
       "        }}\n",
       "}});\n",
       "\n",
       "// Listen for the removal of the full notebook cells\n",
       "var notebookContainer = gd.closest('#notebook-container');\n",
       "if (notebookContainer) {{\n",
       "    x.observe(notebookContainer, {childList: true});\n",
       "}}\n",
       "\n",
       "// Listen for the clearing of the current output cell\n",
       "var outputEl = gd.closest('.output');\n",
       "if (outputEl) {{\n",
       "    x.observe(outputEl, {childList: true});\n",
       "}}\n",
       "\n",
       "                        })\n",
       "                };\n",
       "                });\n",
       "            </script>\n",
       "        </div>"
      ]
     },
     "metadata": {},
     "output_type": "display_data"
    }
   ],
   "source": [
    "iplot(map_jan)"
   ]
  },
  {
   "cell_type": "code",
   "execution_count": 352,
   "metadata": {},
   "outputs": [
    {
     "data": {
      "application/vnd.plotly.v1+json": {
       "config": {
        "linkText": "Export to plot.ly",
        "plotlyServerURL": "https://plot.ly",
        "showLink": false
       },
       "data": [
        {
         "colorbar": {
          "title": {
           "text": "Number of deaths"
          }
         },
         "colorscale": [
          [
           0,
           "rgb(12,51,131)"
          ],
          [
           0.25,
           "rgb(10,136,186)"
          ],
          [
           0.5,
           "rgb(242,211,56)"
          ],
          [
           0.75,
           "rgb(242,143,56)"
          ],
          [
           1,
           "rgb(217,30,30)"
          ]
         ],
         "locationmode": "country names",
         "locations": [
          "Afghanistan",
          "Albania",
          "Algeria",
          "Andorra",
          "Angola",
          "Antigua and Barbuda",
          "Argentina",
          "Armenia",
          "Australia",
          "Austria",
          "Azerbaijan",
          "Bahamas",
          "Bahrain",
          "Bangladesh",
          "Barbados",
          "Belarus",
          "Belgium",
          "Belize",
          "Benin",
          "Bhutan",
          "Bolivia",
          "Bosnia and Herzegovina",
          "Botswana",
          "Brazil",
          "Brunei",
          "Bulgaria",
          "Burkina Faso",
          "Burma",
          "Burundi",
          "Cabo Verde",
          "Cambodia",
          "Cameroon",
          "Canada",
          "Central African Republic",
          "Chad",
          "Chile",
          "China",
          "Colombia",
          "Congo (Brazzaville)",
          "Congo (Kinshasa)",
          "Costa Rica",
          "Cote d'Ivoire",
          "Croatia",
          "Cuba",
          "Cyprus",
          "Czechia",
          "Denmark",
          "Diamond Princess",
          "Djibouti",
          "Dominica",
          "Dominican Republic",
          "Ecuador",
          "Egypt",
          "El Salvador",
          "Equatorial Guinea",
          "Eritrea",
          "Estonia",
          "Eswatini",
          "Ethiopia",
          "Fiji",
          "Finland",
          "France",
          "Gabon",
          "Gambia",
          "Georgia",
          "Germany",
          "Ghana",
          "Greece",
          "Grenada",
          "Guatemala",
          "Guinea",
          "Guinea-Bissau",
          "Guyana",
          "Haiti",
          "Holy See",
          "Honduras",
          "Hungary",
          "Iceland",
          "India",
          "Indonesia",
          "Iran",
          "Iraq",
          "Ireland",
          "Israel",
          "Italy",
          "Jamaica",
          "Japan",
          "Jordan",
          "Kazakhstan",
          "Kenya",
          "Korea, South",
          "Kosovo",
          "Kuwait",
          "Kyrgyzstan",
          "Laos",
          "Latvia",
          "Lebanon",
          "Liberia",
          "Libya",
          "Liechtenstein",
          "Lithuania",
          "Luxembourg",
          "MS Zaandam",
          "Madagascar",
          "Malawi",
          "Malaysia",
          "Maldives",
          "Mali",
          "Malta",
          "Mauritania",
          "Mauritius",
          "Mexico",
          "Moldova",
          "Monaco",
          "Mongolia",
          "Montenegro",
          "Morocco",
          "Mozambique",
          "Namibia",
          "Nepal",
          "Netherlands",
          "New Zealand",
          "Nicaragua",
          "Niger",
          "Nigeria",
          "North Macedonia",
          "Norway",
          "Oman",
          "Pakistan",
          "Panama",
          "Papua New Guinea",
          "Paraguay",
          "Peru",
          "Philippines",
          "Poland",
          "Portugal",
          "Qatar",
          "Romania",
          "Russia",
          "Rwanda",
          "Saint Kitts and Nevis",
          "Saint Lucia",
          "Saint Vincent and the Grenadines",
          "San Marino",
          "Sao Tome and Principe",
          "Saudi Arabia",
          "Senegal",
          "Serbia",
          "Seychelles",
          "Sierra Leone",
          "Singapore",
          "Slovakia",
          "Slovenia",
          "Somalia",
          "South Africa",
          "South Sudan",
          "Spain",
          "Sri Lanka",
          "Sudan",
          "Suriname",
          "Sweden",
          "Switzerland",
          "Syria",
          "Taiwan*",
          "Tanzania",
          "Thailand",
          "Timor-Leste",
          "Togo",
          "Trinidad and Tobago",
          "Tunisia",
          "Turkey",
          "US",
          "Uganda",
          "Ukraine",
          "United Arab Emirates",
          "United Kingdom",
          "Uruguay",
          "Uzbekistan",
          "Venezuela",
          "Vietnam",
          "West Bank and Gaza",
          "Western Sahara",
          "Yemen",
          "Zambia",
          "Zimbabwe"
         ],
         "marker": {
          "line": {
           "color": "rgb(255,255,255)",
           "width": 0.5
          }
         },
         "text": [
          "Afghanistan<br>Confirmed 1 Deaths 0",
          "Albania<br>Confirmed 0 Deaths 0",
          "Algeria<br>Confirmed 1 Deaths 0",
          "Andorra<br>Confirmed 0 Deaths 0",
          "Angola<br>Confirmed 0 Deaths 0",
          "Antigua and Barbuda<br>Confirmed 0 Deaths 0",
          "Argentina<br>Confirmed 0 Deaths 0",
          "Armenia<br>Confirmed 0 Deaths 0",
          "Australia<br>Confirmed 25 Deaths 0",
          "Austria<br>Confirmed 9 Deaths 0",
          "Azerbaijan<br>Confirmed 0 Deaths 0",
          "Bahamas<br>Confirmed 0 Deaths 0",
          "Bahrain<br>Confirmed 41 Deaths 0",
          "Bangladesh<br>Confirmed 0 Deaths 0",
          "Barbados<br>Confirmed 0 Deaths 0",
          "Belarus<br>Confirmed 1 Deaths 0",
          "Belgium<br>Confirmed 1 Deaths 0",
          "Belize<br>Confirmed 0 Deaths 0",
          "Benin<br>Confirmed 0 Deaths 0",
          "Bhutan<br>Confirmed 0 Deaths 0",
          "Bolivia<br>Confirmed 0 Deaths 0",
          "Bosnia and Herzegovina<br>Confirmed 0 Deaths 0",
          "Botswana<br>Confirmed 0 Deaths 0",
          "Brazil<br>Confirmed 2 Deaths 0",
          "Brunei<br>Confirmed 0 Deaths 0",
          "Bulgaria<br>Confirmed 0 Deaths 0",
          "Burkina Faso<br>Confirmed 0 Deaths 0",
          "Burma<br>Confirmed 0 Deaths 0",
          "Burundi<br>Confirmed 0 Deaths 0",
          "Cabo Verde<br>Confirmed 0 Deaths 0",
          "Cambodia<br>Confirmed 1 Deaths 0",
          "Cameroon<br>Confirmed 0 Deaths 0",
          "Canada<br>Confirmed 20 Deaths 0",
          "Central African Republic<br>Confirmed 0 Deaths 0",
          "Chad<br>Confirmed 0 Deaths 0",
          "Chile<br>Confirmed 0 Deaths 0",
          "China<br>Confirmed 79356 Deaths 2837",
          "Colombia<br>Confirmed 0 Deaths 0",
          "Congo (Brazzaville)<br>Confirmed 0 Deaths 0",
          "Congo (Kinshasa)<br>Confirmed 0 Deaths 0",
          "Costa Rica<br>Confirmed 0 Deaths 0",
          "Cote d'Ivoire<br>Confirmed 0 Deaths 0",
          "Croatia<br>Confirmed 6 Deaths 0",
          "Cuba<br>Confirmed 0 Deaths 0",
          "Cyprus<br>Confirmed 0 Deaths 0",
          "Czechia<br>Confirmed 0 Deaths 0",
          "Denmark<br>Confirmed 3 Deaths 0",
          "Diamond Princess<br>Confirmed 705 Deaths 6",
          "Djibouti<br>Confirmed 0 Deaths 0",
          "Dominica<br>Confirmed 0 Deaths 0",
          "Dominican Republic<br>Confirmed 0 Deaths 0",
          "Ecuador<br>Confirmed 0 Deaths 0",
          "Egypt<br>Confirmed 1 Deaths 0",
          "El Salvador<br>Confirmed 0 Deaths 0",
          "Equatorial Guinea<br>Confirmed 0 Deaths 0",
          "Eritrea<br>Confirmed 0 Deaths 0",
          "Estonia<br>Confirmed 1 Deaths 0",
          "Eswatini<br>Confirmed 0 Deaths 0",
          "Ethiopia<br>Confirmed 0 Deaths 0",
          "Fiji<br>Confirmed 0 Deaths 0",
          "Finland<br>Confirmed 3 Deaths 0",
          "France<br>Confirmed 100 Deaths 2",
          "Gabon<br>Confirmed 0 Deaths 0",
          "Gambia<br>Confirmed 0 Deaths 0",
          "Georgia<br>Confirmed 1 Deaths 0",
          "Germany<br>Confirmed 79 Deaths 0",
          "Ghana<br>Confirmed 0 Deaths 0",
          "Greece<br>Confirmed 4 Deaths 0",
          "Grenada<br>Confirmed 0 Deaths 0",
          "Guatemala<br>Confirmed 0 Deaths 0",
          "Guinea<br>Confirmed 0 Deaths 0",
          "Guinea-Bissau<br>Confirmed 0 Deaths 0",
          "Guyana<br>Confirmed 0 Deaths 0",
          "Haiti<br>Confirmed 0 Deaths 0",
          "Holy See<br>Confirmed 0 Deaths 0",
          "Honduras<br>Confirmed 0 Deaths 0",
          "Hungary<br>Confirmed 0 Deaths 0",
          "Iceland<br>Confirmed 1 Deaths 0",
          "India<br>Confirmed 3 Deaths 0",
          "Indonesia<br>Confirmed 0 Deaths 0",
          "Iran<br>Confirmed 593 Deaths 43",
          "Iraq<br>Confirmed 13 Deaths 0",
          "Ireland<br>Confirmed 1 Deaths 0",
          "Israel<br>Confirmed 7 Deaths 0",
          "Italy<br>Confirmed 1128 Deaths 29",
          "Jamaica<br>Confirmed 0 Deaths 0",
          "Japan<br>Confirmed 241 Deaths 5",
          "Jordan<br>Confirmed 0 Deaths 0",
          "Kazakhstan<br>Confirmed 0 Deaths 0",
          "Kenya<br>Confirmed 0 Deaths 0",
          "Korea, South<br>Confirmed 3150 Deaths 16",
          "Kosovo<br>Confirmed 0 Deaths 0",
          "Kuwait<br>Confirmed 45 Deaths 0",
          "Kyrgyzstan<br>Confirmed 0 Deaths 0",
          "Laos<br>Confirmed 0 Deaths 0",
          "Latvia<br>Confirmed 0 Deaths 0",
          "Lebanon<br>Confirmed 4 Deaths 0",
          "Liberia<br>Confirmed 0 Deaths 0",
          "Libya<br>Confirmed 0 Deaths 0",
          "Liechtenstein<br>Confirmed 0 Deaths 0",
          "Lithuania<br>Confirmed 1 Deaths 0",
          "Luxembourg<br>Confirmed 1 Deaths 0",
          "MS Zaandam<br>Confirmed 0 Deaths 0",
          "Madagascar<br>Confirmed 0 Deaths 0",
          "Malawi<br>Confirmed 0 Deaths 0",
          "Malaysia<br>Confirmed 25 Deaths 0",
          "Maldives<br>Confirmed 0 Deaths 0",
          "Mali<br>Confirmed 0 Deaths 0",
          "Malta<br>Confirmed 0 Deaths 0",
          "Mauritania<br>Confirmed 0 Deaths 0",
          "Mauritius<br>Confirmed 0 Deaths 0",
          "Mexico<br>Confirmed 4 Deaths 0",
          "Moldova<br>Confirmed 0 Deaths 0",
          "Monaco<br>Confirmed 1 Deaths 0",
          "Mongolia<br>Confirmed 0 Deaths 0",
          "Montenegro<br>Confirmed 0 Deaths 0",
          "Morocco<br>Confirmed 0 Deaths 0",
          "Mozambique<br>Confirmed 0 Deaths 0",
          "Namibia<br>Confirmed 0 Deaths 0",
          "Nepal<br>Confirmed 1 Deaths 0",
          "Netherlands<br>Confirmed 6 Deaths 0",
          "New Zealand<br>Confirmed 1 Deaths 0",
          "Nicaragua<br>Confirmed 0 Deaths 0",
          "Niger<br>Confirmed 0 Deaths 0",
          "Nigeria<br>Confirmed 1 Deaths 0",
          "North Macedonia<br>Confirmed 1 Deaths 0",
          "Norway<br>Confirmed 15 Deaths 0",
          "Oman<br>Confirmed 6 Deaths 0",
          "Pakistan<br>Confirmed 4 Deaths 0",
          "Panama<br>Confirmed 0 Deaths 0",
          "Papua New Guinea<br>Confirmed 0 Deaths 0",
          "Paraguay<br>Confirmed 0 Deaths 0",
          "Peru<br>Confirmed 0 Deaths 0",
          "Philippines<br>Confirmed 3 Deaths 1",
          "Poland<br>Confirmed 0 Deaths 0",
          "Portugal<br>Confirmed 0 Deaths 0",
          "Qatar<br>Confirmed 1 Deaths 0",
          "Romania<br>Confirmed 3 Deaths 0",
          "Russia<br>Confirmed 2 Deaths 0",
          "Rwanda<br>Confirmed 0 Deaths 0",
          "Saint Kitts and Nevis<br>Confirmed 0 Deaths 0",
          "Saint Lucia<br>Confirmed 0 Deaths 0",
          "Saint Vincent and the Grenadines<br>Confirmed 0 Deaths 0",
          "San Marino<br>Confirmed 1 Deaths 0",
          "Sao Tome and Principe<br>Confirmed 0 Deaths 0",
          "Saudi Arabia<br>Confirmed 0 Deaths 0",
          "Senegal<br>Confirmed 0 Deaths 0",
          "Serbia<br>Confirmed 0 Deaths 0",
          "Seychelles<br>Confirmed 0 Deaths 0",
          "Sierra Leone<br>Confirmed 0 Deaths 0",
          "Singapore<br>Confirmed 102 Deaths 0",
          "Slovakia<br>Confirmed 0 Deaths 0",
          "Slovenia<br>Confirmed 0 Deaths 0",
          "Somalia<br>Confirmed 0 Deaths 0",
          "South Africa<br>Confirmed 0 Deaths 0",
          "South Sudan<br>Confirmed 0 Deaths 0",
          "Spain<br>Confirmed 45 Deaths 0",
          "Sri Lanka<br>Confirmed 1 Deaths 0",
          "Sudan<br>Confirmed 0 Deaths 0",
          "Suriname<br>Confirmed 0 Deaths 0",
          "Sweden<br>Confirmed 12 Deaths 0",
          "Switzerland<br>Confirmed 18 Deaths 0",
          "Syria<br>Confirmed 0 Deaths 0",
          "Taiwan*<br>Confirmed 39 Deaths 1",
          "Tanzania<br>Confirmed 0 Deaths 0",
          "Thailand<br>Confirmed 42 Deaths 0",
          "Timor-Leste<br>Confirmed 0 Deaths 0",
          "Togo<br>Confirmed 0 Deaths 0",
          "Trinidad and Tobago<br>Confirmed 0 Deaths 0",
          "Tunisia<br>Confirmed 0 Deaths 0",
          "Turkey<br>Confirmed 0 Deaths 0",
          "US<br>Confirmed 68 Deaths 1",
          "Uganda<br>Confirmed 0 Deaths 0",
          "Ukraine<br>Confirmed 0 Deaths 0",
          "United Arab Emirates<br>Confirmed 21 Deaths 0",
          "United Kingdom<br>Confirmed 23 Deaths 0",
          "Uruguay<br>Confirmed 0 Deaths 0",
          "Uzbekistan<br>Confirmed 0 Deaths 0",
          "Venezuela<br>Confirmed 0 Deaths 0",
          "Vietnam<br>Confirmed 16 Deaths 0",
          "West Bank and Gaza<br>Confirmed 0 Deaths 0",
          "Western Sahara<br>Confirmed 0 Deaths 0",
          "Yemen<br>Confirmed 0 Deaths 0",
          "Zambia<br>Confirmed 0 Deaths 0",
          "Zimbabwe<br>Confirmed 0 Deaths 0"
         ],
         "type": "choropleth",
         "z": [
          "0",
          "0",
          "0",
          "0",
          "0",
          "0",
          "0",
          "0",
          "0",
          "0",
          "0",
          "0",
          "0",
          "0",
          "0",
          "0",
          "0",
          "0",
          "0",
          "0",
          "0",
          "0",
          "0",
          "0",
          "0",
          "0",
          "0",
          "0",
          "0",
          "0",
          "0",
          "0",
          "0",
          "0",
          "0",
          "0",
          "2837",
          "0",
          "0",
          "0",
          "0",
          "0",
          "0",
          "0",
          "0",
          "0",
          "0",
          "6",
          "0",
          "0",
          "0",
          "0",
          "0",
          "0",
          "0",
          "0",
          "0",
          "0",
          "0",
          "0",
          "0",
          "2",
          "0",
          "0",
          "0",
          "0",
          "0",
          "0",
          "0",
          "0",
          "0",
          "0",
          "0",
          "0",
          "0",
          "0",
          "0",
          "0",
          "0",
          "0",
          "43",
          "0",
          "0",
          "0",
          "29",
          "0",
          "5",
          "0",
          "0",
          "0",
          "16",
          "0",
          "0",
          "0",
          "0",
          "0",
          "0",
          "0",
          "0",
          "0",
          "0",
          "0",
          "0",
          "0",
          "0",
          "0",
          "0",
          "0",
          "0",
          "0",
          "0",
          "0",
          "0",
          "0",
          "0",
          "0",
          "0",
          "0",
          "0",
          "0",
          "0",
          "0",
          "0",
          "0",
          "0",
          "0",
          "0",
          "0",
          "0",
          "0",
          "0",
          "0",
          "0",
          "1",
          "0",
          "0",
          "0",
          "0",
          "0",
          "0",
          "0",
          "0",
          "0",
          "0",
          "0",
          "0",
          "0",
          "0",
          "0",
          "0",
          "0",
          "0",
          "0",
          "0",
          "0",
          "0",
          "0",
          "0",
          "0",
          "0",
          "0",
          "0",
          "0",
          "1",
          "0",
          "0",
          "0",
          "0",
          "0",
          "0",
          "0",
          "1",
          "0",
          "0",
          "0",
          "0",
          "0",
          "0",
          "0",
          "0",
          "0",
          "0",
          "0",
          "0",
          "0"
         ]
        }
       ],
       "layout": {
        "geo": {
         "scope": "world"
        },
        "template": {
         "data": {
          "bar": [
           {
            "error_x": {
             "color": "#2a3f5f"
            },
            "error_y": {
             "color": "#2a3f5f"
            },
            "marker": {
             "line": {
              "color": "#E5ECF6",
              "width": 0.5
             }
            },
            "type": "bar"
           }
          ],
          "barpolar": [
           {
            "marker": {
             "line": {
              "color": "#E5ECF6",
              "width": 0.5
             }
            },
            "type": "barpolar"
           }
          ],
          "carpet": [
           {
            "aaxis": {
             "endlinecolor": "#2a3f5f",
             "gridcolor": "white",
             "linecolor": "white",
             "minorgridcolor": "white",
             "startlinecolor": "#2a3f5f"
            },
            "baxis": {
             "endlinecolor": "#2a3f5f",
             "gridcolor": "white",
             "linecolor": "white",
             "minorgridcolor": "white",
             "startlinecolor": "#2a3f5f"
            },
            "type": "carpet"
           }
          ],
          "choropleth": [
           {
            "colorbar": {
             "outlinewidth": 0,
             "ticks": ""
            },
            "type": "choropleth"
           }
          ],
          "contour": [
           {
            "colorbar": {
             "outlinewidth": 0,
             "ticks": ""
            },
            "colorscale": [
             [
              0,
              "#0d0887"
             ],
             [
              0.1111111111111111,
              "#46039f"
             ],
             [
              0.2222222222222222,
              "#7201a8"
             ],
             [
              0.3333333333333333,
              "#9c179e"
             ],
             [
              0.4444444444444444,
              "#bd3786"
             ],
             [
              0.5555555555555556,
              "#d8576b"
             ],
             [
              0.6666666666666666,
              "#ed7953"
             ],
             [
              0.7777777777777778,
              "#fb9f3a"
             ],
             [
              0.8888888888888888,
              "#fdca26"
             ],
             [
              1,
              "#f0f921"
             ]
            ],
            "type": "contour"
           }
          ],
          "contourcarpet": [
           {
            "colorbar": {
             "outlinewidth": 0,
             "ticks": ""
            },
            "type": "contourcarpet"
           }
          ],
          "heatmap": [
           {
            "colorbar": {
             "outlinewidth": 0,
             "ticks": ""
            },
            "colorscale": [
             [
              0,
              "#0d0887"
             ],
             [
              0.1111111111111111,
              "#46039f"
             ],
             [
              0.2222222222222222,
              "#7201a8"
             ],
             [
              0.3333333333333333,
              "#9c179e"
             ],
             [
              0.4444444444444444,
              "#bd3786"
             ],
             [
              0.5555555555555556,
              "#d8576b"
             ],
             [
              0.6666666666666666,
              "#ed7953"
             ],
             [
              0.7777777777777778,
              "#fb9f3a"
             ],
             [
              0.8888888888888888,
              "#fdca26"
             ],
             [
              1,
              "#f0f921"
             ]
            ],
            "type": "heatmap"
           }
          ],
          "heatmapgl": [
           {
            "colorbar": {
             "outlinewidth": 0,
             "ticks": ""
            },
            "colorscale": [
             [
              0,
              "#0d0887"
             ],
             [
              0.1111111111111111,
              "#46039f"
             ],
             [
              0.2222222222222222,
              "#7201a8"
             ],
             [
              0.3333333333333333,
              "#9c179e"
             ],
             [
              0.4444444444444444,
              "#bd3786"
             ],
             [
              0.5555555555555556,
              "#d8576b"
             ],
             [
              0.6666666666666666,
              "#ed7953"
             ],
             [
              0.7777777777777778,
              "#fb9f3a"
             ],
             [
              0.8888888888888888,
              "#fdca26"
             ],
             [
              1,
              "#f0f921"
             ]
            ],
            "type": "heatmapgl"
           }
          ],
          "histogram": [
           {
            "marker": {
             "colorbar": {
              "outlinewidth": 0,
              "ticks": ""
             }
            },
            "type": "histogram"
           }
          ],
          "histogram2d": [
           {
            "colorbar": {
             "outlinewidth": 0,
             "ticks": ""
            },
            "colorscale": [
             [
              0,
              "#0d0887"
             ],
             [
              0.1111111111111111,
              "#46039f"
             ],
             [
              0.2222222222222222,
              "#7201a8"
             ],
             [
              0.3333333333333333,
              "#9c179e"
             ],
             [
              0.4444444444444444,
              "#bd3786"
             ],
             [
              0.5555555555555556,
              "#d8576b"
             ],
             [
              0.6666666666666666,
              "#ed7953"
             ],
             [
              0.7777777777777778,
              "#fb9f3a"
             ],
             [
              0.8888888888888888,
              "#fdca26"
             ],
             [
              1,
              "#f0f921"
             ]
            ],
            "type": "histogram2d"
           }
          ],
          "histogram2dcontour": [
           {
            "colorbar": {
             "outlinewidth": 0,
             "ticks": ""
            },
            "colorscale": [
             [
              0,
              "#0d0887"
             ],
             [
              0.1111111111111111,
              "#46039f"
             ],
             [
              0.2222222222222222,
              "#7201a8"
             ],
             [
              0.3333333333333333,
              "#9c179e"
             ],
             [
              0.4444444444444444,
              "#bd3786"
             ],
             [
              0.5555555555555556,
              "#d8576b"
             ],
             [
              0.6666666666666666,
              "#ed7953"
             ],
             [
              0.7777777777777778,
              "#fb9f3a"
             ],
             [
              0.8888888888888888,
              "#fdca26"
             ],
             [
              1,
              "#f0f921"
             ]
            ],
            "type": "histogram2dcontour"
           }
          ],
          "mesh3d": [
           {
            "colorbar": {
             "outlinewidth": 0,
             "ticks": ""
            },
            "type": "mesh3d"
           }
          ],
          "parcoords": [
           {
            "line": {
             "colorbar": {
              "outlinewidth": 0,
              "ticks": ""
             }
            },
            "type": "parcoords"
           }
          ],
          "pie": [
           {
            "automargin": true,
            "type": "pie"
           }
          ],
          "scatter": [
           {
            "marker": {
             "colorbar": {
              "outlinewidth": 0,
              "ticks": ""
             }
            },
            "type": "scatter"
           }
          ],
          "scatter3d": [
           {
            "line": {
             "colorbar": {
              "outlinewidth": 0,
              "ticks": ""
             }
            },
            "marker": {
             "colorbar": {
              "outlinewidth": 0,
              "ticks": ""
             }
            },
            "type": "scatter3d"
           }
          ],
          "scattercarpet": [
           {
            "marker": {
             "colorbar": {
              "outlinewidth": 0,
              "ticks": ""
             }
            },
            "type": "scattercarpet"
           }
          ],
          "scattergeo": [
           {
            "marker": {
             "colorbar": {
              "outlinewidth": 0,
              "ticks": ""
             }
            },
            "type": "scattergeo"
           }
          ],
          "scattergl": [
           {
            "marker": {
             "colorbar": {
              "outlinewidth": 0,
              "ticks": ""
             }
            },
            "type": "scattergl"
           }
          ],
          "scattermapbox": [
           {
            "marker": {
             "colorbar": {
              "outlinewidth": 0,
              "ticks": ""
             }
            },
            "type": "scattermapbox"
           }
          ],
          "scatterpolar": [
           {
            "marker": {
             "colorbar": {
              "outlinewidth": 0,
              "ticks": ""
             }
            },
            "type": "scatterpolar"
           }
          ],
          "scatterpolargl": [
           {
            "marker": {
             "colorbar": {
              "outlinewidth": 0,
              "ticks": ""
             }
            },
            "type": "scatterpolargl"
           }
          ],
          "scatterternary": [
           {
            "marker": {
             "colorbar": {
              "outlinewidth": 0,
              "ticks": ""
             }
            },
            "type": "scatterternary"
           }
          ],
          "surface": [
           {
            "colorbar": {
             "outlinewidth": 0,
             "ticks": ""
            },
            "colorscale": [
             [
              0,
              "#0d0887"
             ],
             [
              0.1111111111111111,
              "#46039f"
             ],
             [
              0.2222222222222222,
              "#7201a8"
             ],
             [
              0.3333333333333333,
              "#9c179e"
             ],
             [
              0.4444444444444444,
              "#bd3786"
             ],
             [
              0.5555555555555556,
              "#d8576b"
             ],
             [
              0.6666666666666666,
              "#ed7953"
             ],
             [
              0.7777777777777778,
              "#fb9f3a"
             ],
             [
              0.8888888888888888,
              "#fdca26"
             ],
             [
              1,
              "#f0f921"
             ]
            ],
            "type": "surface"
           }
          ],
          "table": [
           {
            "cells": {
             "fill": {
              "color": "#EBF0F8"
             },
             "line": {
              "color": "white"
             }
            },
            "header": {
             "fill": {
              "color": "#C8D4E3"
             },
             "line": {
              "color": "white"
             }
            },
            "type": "table"
           }
          ]
         },
         "layout": {
          "annotationdefaults": {
           "arrowcolor": "#2a3f5f",
           "arrowhead": 0,
           "arrowwidth": 1
          },
          "coloraxis": {
           "colorbar": {
            "outlinewidth": 0,
            "ticks": ""
           }
          },
          "colorscale": {
           "diverging": [
            [
             0,
             "#8e0152"
            ],
            [
             0.1,
             "#c51b7d"
            ],
            [
             0.2,
             "#de77ae"
            ],
            [
             0.3,
             "#f1b6da"
            ],
            [
             0.4,
             "#fde0ef"
            ],
            [
             0.5,
             "#f7f7f7"
            ],
            [
             0.6,
             "#e6f5d0"
            ],
            [
             0.7,
             "#b8e186"
            ],
            [
             0.8,
             "#7fbc41"
            ],
            [
             0.9,
             "#4d9221"
            ],
            [
             1,
             "#276419"
            ]
           ],
           "sequential": [
            [
             0,
             "#0d0887"
            ],
            [
             0.1111111111111111,
             "#46039f"
            ],
            [
             0.2222222222222222,
             "#7201a8"
            ],
            [
             0.3333333333333333,
             "#9c179e"
            ],
            [
             0.4444444444444444,
             "#bd3786"
            ],
            [
             0.5555555555555556,
             "#d8576b"
            ],
            [
             0.6666666666666666,
             "#ed7953"
            ],
            [
             0.7777777777777778,
             "#fb9f3a"
            ],
            [
             0.8888888888888888,
             "#fdca26"
            ],
            [
             1,
             "#f0f921"
            ]
           ],
           "sequentialminus": [
            [
             0,
             "#0d0887"
            ],
            [
             0.1111111111111111,
             "#46039f"
            ],
            [
             0.2222222222222222,
             "#7201a8"
            ],
            [
             0.3333333333333333,
             "#9c179e"
            ],
            [
             0.4444444444444444,
             "#bd3786"
            ],
            [
             0.5555555555555556,
             "#d8576b"
            ],
            [
             0.6666666666666666,
             "#ed7953"
            ],
            [
             0.7777777777777778,
             "#fb9f3a"
            ],
            [
             0.8888888888888888,
             "#fdca26"
            ],
            [
             1,
             "#f0f921"
            ]
           ]
          },
          "colorway": [
           "#636efa",
           "#EF553B",
           "#00cc96",
           "#ab63fa",
           "#FFA15A",
           "#19d3f3",
           "#FF6692",
           "#B6E880",
           "#FF97FF",
           "#FECB52"
          ],
          "font": {
           "color": "#2a3f5f"
          },
          "geo": {
           "bgcolor": "white",
           "lakecolor": "white",
           "landcolor": "#E5ECF6",
           "showlakes": true,
           "showland": true,
           "subunitcolor": "white"
          },
          "hoverlabel": {
           "align": "left"
          },
          "hovermode": "closest",
          "mapbox": {
           "style": "light"
          },
          "paper_bgcolor": "white",
          "plot_bgcolor": "#E5ECF6",
          "polar": {
           "angularaxis": {
            "gridcolor": "white",
            "linecolor": "white",
            "ticks": ""
           },
           "bgcolor": "#E5ECF6",
           "radialaxis": {
            "gridcolor": "white",
            "linecolor": "white",
            "ticks": ""
           }
          },
          "scene": {
           "xaxis": {
            "backgroundcolor": "#E5ECF6",
            "gridcolor": "white",
            "gridwidth": 2,
            "linecolor": "white",
            "showbackground": true,
            "ticks": "",
            "zerolinecolor": "white"
           },
           "yaxis": {
            "backgroundcolor": "#E5ECF6",
            "gridcolor": "white",
            "gridwidth": 2,
            "linecolor": "white",
            "showbackground": true,
            "ticks": "",
            "zerolinecolor": "white"
           },
           "zaxis": {
            "backgroundcolor": "#E5ECF6",
            "gridcolor": "white",
            "gridwidth": 2,
            "linecolor": "white",
            "showbackground": true,
            "ticks": "",
            "zerolinecolor": "white"
           }
          },
          "shapedefaults": {
           "line": {
            "color": "#2a3f5f"
           }
          },
          "ternary": {
           "aaxis": {
            "gridcolor": "white",
            "linecolor": "white",
            "ticks": ""
           },
           "baxis": {
            "gridcolor": "white",
            "linecolor": "white",
            "ticks": ""
           },
           "bgcolor": "#E5ECF6",
           "caxis": {
            "gridcolor": "white",
            "linecolor": "white",
            "ticks": ""
           }
          },
          "title": {
           "x": 0.05
          },
          "xaxis": {
           "automargin": true,
           "gridcolor": "white",
           "linecolor": "white",
           "ticks": "",
           "title": {
            "standoff": 15
           },
           "zerolinecolor": "white",
           "zerolinewidth": 2
          },
          "yaxis": {
           "automargin": true,
           "gridcolor": "white",
           "linecolor": "white",
           "ticks": "",
           "title": {
            "standoff": 15
           },
           "zerolinecolor": "white",
           "zerolinewidth": 2
          }
         }
        },
        "title": {
         "text": "COVID-19 Death Per Country as of Feb 2020"
        }
       }
      },
      "text/html": [
       "<div>\n",
       "        \n",
       "        \n",
       "            <div id=\"b846a02c-9479-4bc2-a70e-8ea8dc545e0e\" class=\"plotly-graph-div\" style=\"height:525px; width:100%;\"></div>\n",
       "            <script type=\"text/javascript\">\n",
       "                require([\"plotly\"], function(Plotly) {\n",
       "                    window.PLOTLYENV=window.PLOTLYENV || {};\n",
       "                    \n",
       "                if (document.getElementById(\"b846a02c-9479-4bc2-a70e-8ea8dc545e0e\")) {\n",
       "                    Plotly.newPlot(\n",
       "                        'b846a02c-9479-4bc2-a70e-8ea8dc545e0e',\n",
       "                        [{\"colorbar\": {\"title\": {\"text\": \"Number of deaths\"}}, \"colorscale\": [[0.0, \"rgb(12,51,131)\"], [0.25, \"rgb(10,136,186)\"], [0.5, \"rgb(242,211,56)\"], [0.75, \"rgb(242,143,56)\"], [1.0, \"rgb(217,30,30)\"]], \"locationmode\": \"country names\", \"locations\": [\"Afghanistan\", \"Albania\", \"Algeria\", \"Andorra\", \"Angola\", \"Antigua and Barbuda\", \"Argentina\", \"Armenia\", \"Australia\", \"Austria\", \"Azerbaijan\", \"Bahamas\", \"Bahrain\", \"Bangladesh\", \"Barbados\", \"Belarus\", \"Belgium\", \"Belize\", \"Benin\", \"Bhutan\", \"Bolivia\", \"Bosnia and Herzegovina\", \"Botswana\", \"Brazil\", \"Brunei\", \"Bulgaria\", \"Burkina Faso\", \"Burma\", \"Burundi\", \"Cabo Verde\", \"Cambodia\", \"Cameroon\", \"Canada\", \"Central African Republic\", \"Chad\", \"Chile\", \"China\", \"Colombia\", \"Congo (Brazzaville)\", \"Congo (Kinshasa)\", \"Costa Rica\", \"Cote d'Ivoire\", \"Croatia\", \"Cuba\", \"Cyprus\", \"Czechia\", \"Denmark\", \"Diamond Princess\", \"Djibouti\", \"Dominica\", \"Dominican Republic\", \"Ecuador\", \"Egypt\", \"El Salvador\", \"Equatorial Guinea\", \"Eritrea\", \"Estonia\", \"Eswatini\", \"Ethiopia\", \"Fiji\", \"Finland\", \"France\", \"Gabon\", \"Gambia\", \"Georgia\", \"Germany\", \"Ghana\", \"Greece\", \"Grenada\", \"Guatemala\", \"Guinea\", \"Guinea-Bissau\", \"Guyana\", \"Haiti\", \"Holy See\", \"Honduras\", \"Hungary\", \"Iceland\", \"India\", \"Indonesia\", \"Iran\", \"Iraq\", \"Ireland\", \"Israel\", \"Italy\", \"Jamaica\", \"Japan\", \"Jordan\", \"Kazakhstan\", \"Kenya\", \"Korea, South\", \"Kosovo\", \"Kuwait\", \"Kyrgyzstan\", \"Laos\", \"Latvia\", \"Lebanon\", \"Liberia\", \"Libya\", \"Liechtenstein\", \"Lithuania\", \"Luxembourg\", \"MS Zaandam\", \"Madagascar\", \"Malawi\", \"Malaysia\", \"Maldives\", \"Mali\", \"Malta\", \"Mauritania\", \"Mauritius\", \"Mexico\", \"Moldova\", \"Monaco\", \"Mongolia\", \"Montenegro\", \"Morocco\", \"Mozambique\", \"Namibia\", \"Nepal\", \"Netherlands\", \"New Zealand\", \"Nicaragua\", \"Niger\", \"Nigeria\", \"North Macedonia\", \"Norway\", \"Oman\", \"Pakistan\", \"Panama\", \"Papua New Guinea\", \"Paraguay\", \"Peru\", \"Philippines\", \"Poland\", \"Portugal\", \"Qatar\", \"Romania\", \"Russia\", \"Rwanda\", \"Saint Kitts and Nevis\", \"Saint Lucia\", \"Saint Vincent and the Grenadines\", \"San Marino\", \"Sao Tome and Principe\", \"Saudi Arabia\", \"Senegal\", \"Serbia\", \"Seychelles\", \"Sierra Leone\", \"Singapore\", \"Slovakia\", \"Slovenia\", \"Somalia\", \"South Africa\", \"South Sudan\", \"Spain\", \"Sri Lanka\", \"Sudan\", \"Suriname\", \"Sweden\", \"Switzerland\", \"Syria\", \"Taiwan*\", \"Tanzania\", \"Thailand\", \"Timor-Leste\", \"Togo\", \"Trinidad and Tobago\", \"Tunisia\", \"Turkey\", \"US\", \"Uganda\", \"Ukraine\", \"United Arab Emirates\", \"United Kingdom\", \"Uruguay\", \"Uzbekistan\", \"Venezuela\", \"Vietnam\", \"West Bank and Gaza\", \"Western Sahara\", \"Yemen\", \"Zambia\", \"Zimbabwe\"], \"marker\": {\"line\": {\"color\": \"rgb(255,255,255)\", \"width\": 0.5}}, \"text\": [\"Afghanistan<br>Confirmed 1 Deaths 0\", \"Albania<br>Confirmed 0 Deaths 0\", \"Algeria<br>Confirmed 1 Deaths 0\", \"Andorra<br>Confirmed 0 Deaths 0\", \"Angola<br>Confirmed 0 Deaths 0\", \"Antigua and Barbuda<br>Confirmed 0 Deaths 0\", \"Argentina<br>Confirmed 0 Deaths 0\", \"Armenia<br>Confirmed 0 Deaths 0\", \"Australia<br>Confirmed 25 Deaths 0\", \"Austria<br>Confirmed 9 Deaths 0\", \"Azerbaijan<br>Confirmed 0 Deaths 0\", \"Bahamas<br>Confirmed 0 Deaths 0\", \"Bahrain<br>Confirmed 41 Deaths 0\", \"Bangladesh<br>Confirmed 0 Deaths 0\", \"Barbados<br>Confirmed 0 Deaths 0\", \"Belarus<br>Confirmed 1 Deaths 0\", \"Belgium<br>Confirmed 1 Deaths 0\", \"Belize<br>Confirmed 0 Deaths 0\", \"Benin<br>Confirmed 0 Deaths 0\", \"Bhutan<br>Confirmed 0 Deaths 0\", \"Bolivia<br>Confirmed 0 Deaths 0\", \"Bosnia and Herzegovina<br>Confirmed 0 Deaths 0\", \"Botswana<br>Confirmed 0 Deaths 0\", \"Brazil<br>Confirmed 2 Deaths 0\", \"Brunei<br>Confirmed 0 Deaths 0\", \"Bulgaria<br>Confirmed 0 Deaths 0\", \"Burkina Faso<br>Confirmed 0 Deaths 0\", \"Burma<br>Confirmed 0 Deaths 0\", \"Burundi<br>Confirmed 0 Deaths 0\", \"Cabo Verde<br>Confirmed 0 Deaths 0\", \"Cambodia<br>Confirmed 1 Deaths 0\", \"Cameroon<br>Confirmed 0 Deaths 0\", \"Canada<br>Confirmed 20 Deaths 0\", \"Central African Republic<br>Confirmed 0 Deaths 0\", \"Chad<br>Confirmed 0 Deaths 0\", \"Chile<br>Confirmed 0 Deaths 0\", \"China<br>Confirmed 79356 Deaths 2837\", \"Colombia<br>Confirmed 0 Deaths 0\", \"Congo (Brazzaville)<br>Confirmed 0 Deaths 0\", \"Congo (Kinshasa)<br>Confirmed 0 Deaths 0\", \"Costa Rica<br>Confirmed 0 Deaths 0\", \"Cote d'Ivoire<br>Confirmed 0 Deaths 0\", \"Croatia<br>Confirmed 6 Deaths 0\", \"Cuba<br>Confirmed 0 Deaths 0\", \"Cyprus<br>Confirmed 0 Deaths 0\", \"Czechia<br>Confirmed 0 Deaths 0\", \"Denmark<br>Confirmed 3 Deaths 0\", \"Diamond Princess<br>Confirmed 705 Deaths 6\", \"Djibouti<br>Confirmed 0 Deaths 0\", \"Dominica<br>Confirmed 0 Deaths 0\", \"Dominican Republic<br>Confirmed 0 Deaths 0\", \"Ecuador<br>Confirmed 0 Deaths 0\", \"Egypt<br>Confirmed 1 Deaths 0\", \"El Salvador<br>Confirmed 0 Deaths 0\", \"Equatorial Guinea<br>Confirmed 0 Deaths 0\", \"Eritrea<br>Confirmed 0 Deaths 0\", \"Estonia<br>Confirmed 1 Deaths 0\", \"Eswatini<br>Confirmed 0 Deaths 0\", \"Ethiopia<br>Confirmed 0 Deaths 0\", \"Fiji<br>Confirmed 0 Deaths 0\", \"Finland<br>Confirmed 3 Deaths 0\", \"France<br>Confirmed 100 Deaths 2\", \"Gabon<br>Confirmed 0 Deaths 0\", \"Gambia<br>Confirmed 0 Deaths 0\", \"Georgia<br>Confirmed 1 Deaths 0\", \"Germany<br>Confirmed 79 Deaths 0\", \"Ghana<br>Confirmed 0 Deaths 0\", \"Greece<br>Confirmed 4 Deaths 0\", \"Grenada<br>Confirmed 0 Deaths 0\", \"Guatemala<br>Confirmed 0 Deaths 0\", \"Guinea<br>Confirmed 0 Deaths 0\", \"Guinea-Bissau<br>Confirmed 0 Deaths 0\", \"Guyana<br>Confirmed 0 Deaths 0\", \"Haiti<br>Confirmed 0 Deaths 0\", \"Holy See<br>Confirmed 0 Deaths 0\", \"Honduras<br>Confirmed 0 Deaths 0\", \"Hungary<br>Confirmed 0 Deaths 0\", \"Iceland<br>Confirmed 1 Deaths 0\", \"India<br>Confirmed 3 Deaths 0\", \"Indonesia<br>Confirmed 0 Deaths 0\", \"Iran<br>Confirmed 593 Deaths 43\", \"Iraq<br>Confirmed 13 Deaths 0\", \"Ireland<br>Confirmed 1 Deaths 0\", \"Israel<br>Confirmed 7 Deaths 0\", \"Italy<br>Confirmed 1128 Deaths 29\", \"Jamaica<br>Confirmed 0 Deaths 0\", \"Japan<br>Confirmed 241 Deaths 5\", \"Jordan<br>Confirmed 0 Deaths 0\", \"Kazakhstan<br>Confirmed 0 Deaths 0\", \"Kenya<br>Confirmed 0 Deaths 0\", \"Korea, South<br>Confirmed 3150 Deaths 16\", \"Kosovo<br>Confirmed 0 Deaths 0\", \"Kuwait<br>Confirmed 45 Deaths 0\", \"Kyrgyzstan<br>Confirmed 0 Deaths 0\", \"Laos<br>Confirmed 0 Deaths 0\", \"Latvia<br>Confirmed 0 Deaths 0\", \"Lebanon<br>Confirmed 4 Deaths 0\", \"Liberia<br>Confirmed 0 Deaths 0\", \"Libya<br>Confirmed 0 Deaths 0\", \"Liechtenstein<br>Confirmed 0 Deaths 0\", \"Lithuania<br>Confirmed 1 Deaths 0\", \"Luxembourg<br>Confirmed 1 Deaths 0\", \"MS Zaandam<br>Confirmed 0 Deaths 0\", \"Madagascar<br>Confirmed 0 Deaths 0\", \"Malawi<br>Confirmed 0 Deaths 0\", \"Malaysia<br>Confirmed 25 Deaths 0\", \"Maldives<br>Confirmed 0 Deaths 0\", \"Mali<br>Confirmed 0 Deaths 0\", \"Malta<br>Confirmed 0 Deaths 0\", \"Mauritania<br>Confirmed 0 Deaths 0\", \"Mauritius<br>Confirmed 0 Deaths 0\", \"Mexico<br>Confirmed 4 Deaths 0\", \"Moldova<br>Confirmed 0 Deaths 0\", \"Monaco<br>Confirmed 1 Deaths 0\", \"Mongolia<br>Confirmed 0 Deaths 0\", \"Montenegro<br>Confirmed 0 Deaths 0\", \"Morocco<br>Confirmed 0 Deaths 0\", \"Mozambique<br>Confirmed 0 Deaths 0\", \"Namibia<br>Confirmed 0 Deaths 0\", \"Nepal<br>Confirmed 1 Deaths 0\", \"Netherlands<br>Confirmed 6 Deaths 0\", \"New Zealand<br>Confirmed 1 Deaths 0\", \"Nicaragua<br>Confirmed 0 Deaths 0\", \"Niger<br>Confirmed 0 Deaths 0\", \"Nigeria<br>Confirmed 1 Deaths 0\", \"North Macedonia<br>Confirmed 1 Deaths 0\", \"Norway<br>Confirmed 15 Deaths 0\", \"Oman<br>Confirmed 6 Deaths 0\", \"Pakistan<br>Confirmed 4 Deaths 0\", \"Panama<br>Confirmed 0 Deaths 0\", \"Papua New Guinea<br>Confirmed 0 Deaths 0\", \"Paraguay<br>Confirmed 0 Deaths 0\", \"Peru<br>Confirmed 0 Deaths 0\", \"Philippines<br>Confirmed 3 Deaths 1\", \"Poland<br>Confirmed 0 Deaths 0\", \"Portugal<br>Confirmed 0 Deaths 0\", \"Qatar<br>Confirmed 1 Deaths 0\", \"Romania<br>Confirmed 3 Deaths 0\", \"Russia<br>Confirmed 2 Deaths 0\", \"Rwanda<br>Confirmed 0 Deaths 0\", \"Saint Kitts and Nevis<br>Confirmed 0 Deaths 0\", \"Saint Lucia<br>Confirmed 0 Deaths 0\", \"Saint Vincent and the Grenadines<br>Confirmed 0 Deaths 0\", \"San Marino<br>Confirmed 1 Deaths 0\", \"Sao Tome and Principe<br>Confirmed 0 Deaths 0\", \"Saudi Arabia<br>Confirmed 0 Deaths 0\", \"Senegal<br>Confirmed 0 Deaths 0\", \"Serbia<br>Confirmed 0 Deaths 0\", \"Seychelles<br>Confirmed 0 Deaths 0\", \"Sierra Leone<br>Confirmed 0 Deaths 0\", \"Singapore<br>Confirmed 102 Deaths 0\", \"Slovakia<br>Confirmed 0 Deaths 0\", \"Slovenia<br>Confirmed 0 Deaths 0\", \"Somalia<br>Confirmed 0 Deaths 0\", \"South Africa<br>Confirmed 0 Deaths 0\", \"South Sudan<br>Confirmed 0 Deaths 0\", \"Spain<br>Confirmed 45 Deaths 0\", \"Sri Lanka<br>Confirmed 1 Deaths 0\", \"Sudan<br>Confirmed 0 Deaths 0\", \"Suriname<br>Confirmed 0 Deaths 0\", \"Sweden<br>Confirmed 12 Deaths 0\", \"Switzerland<br>Confirmed 18 Deaths 0\", \"Syria<br>Confirmed 0 Deaths 0\", \"Taiwan*<br>Confirmed 39 Deaths 1\", \"Tanzania<br>Confirmed 0 Deaths 0\", \"Thailand<br>Confirmed 42 Deaths 0\", \"Timor-Leste<br>Confirmed 0 Deaths 0\", \"Togo<br>Confirmed 0 Deaths 0\", \"Trinidad and Tobago<br>Confirmed 0 Deaths 0\", \"Tunisia<br>Confirmed 0 Deaths 0\", \"Turkey<br>Confirmed 0 Deaths 0\", \"US<br>Confirmed 68 Deaths 1\", \"Uganda<br>Confirmed 0 Deaths 0\", \"Ukraine<br>Confirmed 0 Deaths 0\", \"United Arab Emirates<br>Confirmed 21 Deaths 0\", \"United Kingdom<br>Confirmed 23 Deaths 0\", \"Uruguay<br>Confirmed 0 Deaths 0\", \"Uzbekistan<br>Confirmed 0 Deaths 0\", \"Venezuela<br>Confirmed 0 Deaths 0\", \"Vietnam<br>Confirmed 16 Deaths 0\", \"West Bank and Gaza<br>Confirmed 0 Deaths 0\", \"Western Sahara<br>Confirmed 0 Deaths 0\", \"Yemen<br>Confirmed 0 Deaths 0\", \"Zambia<br>Confirmed 0 Deaths 0\", \"Zimbabwe<br>Confirmed 0 Deaths 0\"], \"type\": \"choropleth\", \"z\": [\"0\", \"0\", \"0\", \"0\", \"0\", \"0\", \"0\", \"0\", \"0\", \"0\", \"0\", \"0\", \"0\", \"0\", \"0\", \"0\", \"0\", \"0\", \"0\", \"0\", \"0\", \"0\", \"0\", \"0\", \"0\", \"0\", \"0\", \"0\", \"0\", \"0\", \"0\", \"0\", \"0\", \"0\", \"0\", \"0\", \"2837\", \"0\", \"0\", \"0\", \"0\", \"0\", \"0\", \"0\", \"0\", \"0\", \"0\", \"6\", \"0\", \"0\", \"0\", \"0\", \"0\", \"0\", \"0\", \"0\", \"0\", \"0\", \"0\", \"0\", \"0\", \"2\", \"0\", \"0\", \"0\", \"0\", \"0\", \"0\", \"0\", \"0\", \"0\", \"0\", \"0\", \"0\", \"0\", \"0\", \"0\", \"0\", \"0\", \"0\", \"43\", \"0\", \"0\", \"0\", \"29\", \"0\", \"5\", \"0\", \"0\", \"0\", \"16\", \"0\", \"0\", \"0\", \"0\", \"0\", \"0\", \"0\", \"0\", \"0\", \"0\", \"0\", \"0\", \"0\", \"0\", \"0\", \"0\", \"0\", \"0\", \"0\", \"0\", \"0\", \"0\", \"0\", \"0\", \"0\", \"0\", \"0\", \"0\", \"0\", \"0\", \"0\", \"0\", \"0\", \"0\", \"0\", \"0\", \"0\", \"0\", \"0\", \"0\", \"0\", \"0\", \"1\", \"0\", \"0\", \"0\", \"0\", \"0\", \"0\", \"0\", \"0\", \"0\", \"0\", \"0\", \"0\", \"0\", \"0\", \"0\", \"0\", \"0\", \"0\", \"0\", \"0\", \"0\", \"0\", \"0\", \"0\", \"0\", \"0\", \"0\", \"0\", \"0\", \"1\", \"0\", \"0\", \"0\", \"0\", \"0\", \"0\", \"0\", \"1\", \"0\", \"0\", \"0\", \"0\", \"0\", \"0\", \"0\", \"0\", \"0\", \"0\", \"0\", \"0\", \"0\"]}],\n",
       "                        {\"geo\": {\"scope\": \"world\"}, \"template\": {\"data\": {\"bar\": [{\"error_x\": {\"color\": \"#2a3f5f\"}, \"error_y\": {\"color\": \"#2a3f5f\"}, \"marker\": {\"line\": {\"color\": \"#E5ECF6\", \"width\": 0.5}}, \"type\": \"bar\"}], \"barpolar\": [{\"marker\": {\"line\": {\"color\": \"#E5ECF6\", \"width\": 0.5}}, \"type\": \"barpolar\"}], \"carpet\": [{\"aaxis\": {\"endlinecolor\": \"#2a3f5f\", \"gridcolor\": \"white\", \"linecolor\": \"white\", \"minorgridcolor\": \"white\", \"startlinecolor\": \"#2a3f5f\"}, \"baxis\": {\"endlinecolor\": \"#2a3f5f\", \"gridcolor\": \"white\", \"linecolor\": \"white\", \"minorgridcolor\": \"white\", \"startlinecolor\": \"#2a3f5f\"}, \"type\": \"carpet\"}], \"choropleth\": [{\"colorbar\": {\"outlinewidth\": 0, \"ticks\": \"\"}, \"type\": \"choropleth\"}], \"contour\": [{\"colorbar\": {\"outlinewidth\": 0, \"ticks\": \"\"}, \"colorscale\": [[0.0, \"#0d0887\"], [0.1111111111111111, \"#46039f\"], [0.2222222222222222, \"#7201a8\"], [0.3333333333333333, \"#9c179e\"], [0.4444444444444444, \"#bd3786\"], [0.5555555555555556, \"#d8576b\"], [0.6666666666666666, \"#ed7953\"], [0.7777777777777778, \"#fb9f3a\"], [0.8888888888888888, \"#fdca26\"], [1.0, \"#f0f921\"]], \"type\": \"contour\"}], \"contourcarpet\": [{\"colorbar\": {\"outlinewidth\": 0, \"ticks\": \"\"}, \"type\": \"contourcarpet\"}], \"heatmap\": [{\"colorbar\": {\"outlinewidth\": 0, \"ticks\": \"\"}, \"colorscale\": [[0.0, \"#0d0887\"], [0.1111111111111111, \"#46039f\"], [0.2222222222222222, \"#7201a8\"], [0.3333333333333333, \"#9c179e\"], [0.4444444444444444, \"#bd3786\"], [0.5555555555555556, \"#d8576b\"], [0.6666666666666666, \"#ed7953\"], [0.7777777777777778, \"#fb9f3a\"], [0.8888888888888888, \"#fdca26\"], [1.0, \"#f0f921\"]], \"type\": \"heatmap\"}], \"heatmapgl\": [{\"colorbar\": {\"outlinewidth\": 0, \"ticks\": \"\"}, \"colorscale\": [[0.0, \"#0d0887\"], [0.1111111111111111, \"#46039f\"], [0.2222222222222222, \"#7201a8\"], [0.3333333333333333, \"#9c179e\"], [0.4444444444444444, \"#bd3786\"], [0.5555555555555556, \"#d8576b\"], [0.6666666666666666, \"#ed7953\"], [0.7777777777777778, \"#fb9f3a\"], [0.8888888888888888, \"#fdca26\"], [1.0, \"#f0f921\"]], \"type\": \"heatmapgl\"}], \"histogram\": [{\"marker\": {\"colorbar\": {\"outlinewidth\": 0, \"ticks\": \"\"}}, \"type\": \"histogram\"}], \"histogram2d\": [{\"colorbar\": {\"outlinewidth\": 0, \"ticks\": \"\"}, \"colorscale\": [[0.0, \"#0d0887\"], [0.1111111111111111, \"#46039f\"], [0.2222222222222222, \"#7201a8\"], [0.3333333333333333, \"#9c179e\"], [0.4444444444444444, \"#bd3786\"], [0.5555555555555556, \"#d8576b\"], [0.6666666666666666, \"#ed7953\"], [0.7777777777777778, \"#fb9f3a\"], [0.8888888888888888, \"#fdca26\"], [1.0, \"#f0f921\"]], \"type\": \"histogram2d\"}], \"histogram2dcontour\": [{\"colorbar\": {\"outlinewidth\": 0, \"ticks\": \"\"}, \"colorscale\": [[0.0, \"#0d0887\"], [0.1111111111111111, \"#46039f\"], [0.2222222222222222, \"#7201a8\"], [0.3333333333333333, \"#9c179e\"], [0.4444444444444444, \"#bd3786\"], [0.5555555555555556, \"#d8576b\"], [0.6666666666666666, \"#ed7953\"], [0.7777777777777778, \"#fb9f3a\"], [0.8888888888888888, \"#fdca26\"], [1.0, \"#f0f921\"]], \"type\": \"histogram2dcontour\"}], \"mesh3d\": [{\"colorbar\": {\"outlinewidth\": 0, \"ticks\": \"\"}, \"type\": \"mesh3d\"}], \"parcoords\": [{\"line\": {\"colorbar\": {\"outlinewidth\": 0, \"ticks\": \"\"}}, \"type\": \"parcoords\"}], \"pie\": [{\"automargin\": true, \"type\": \"pie\"}], \"scatter\": [{\"marker\": {\"colorbar\": {\"outlinewidth\": 0, \"ticks\": \"\"}}, \"type\": \"scatter\"}], \"scatter3d\": [{\"line\": {\"colorbar\": {\"outlinewidth\": 0, \"ticks\": \"\"}}, \"marker\": {\"colorbar\": {\"outlinewidth\": 0, \"ticks\": \"\"}}, \"type\": \"scatter3d\"}], \"scattercarpet\": [{\"marker\": {\"colorbar\": {\"outlinewidth\": 0, \"ticks\": \"\"}}, \"type\": \"scattercarpet\"}], \"scattergeo\": [{\"marker\": {\"colorbar\": {\"outlinewidth\": 0, \"ticks\": \"\"}}, \"type\": \"scattergeo\"}], \"scattergl\": [{\"marker\": {\"colorbar\": {\"outlinewidth\": 0, \"ticks\": \"\"}}, \"type\": \"scattergl\"}], \"scattermapbox\": [{\"marker\": {\"colorbar\": {\"outlinewidth\": 0, \"ticks\": \"\"}}, \"type\": \"scattermapbox\"}], \"scatterpolar\": [{\"marker\": {\"colorbar\": {\"outlinewidth\": 0, \"ticks\": \"\"}}, \"type\": \"scatterpolar\"}], \"scatterpolargl\": [{\"marker\": {\"colorbar\": {\"outlinewidth\": 0, \"ticks\": \"\"}}, \"type\": \"scatterpolargl\"}], \"scatterternary\": [{\"marker\": {\"colorbar\": {\"outlinewidth\": 0, \"ticks\": \"\"}}, \"type\": \"scatterternary\"}], \"surface\": [{\"colorbar\": {\"outlinewidth\": 0, \"ticks\": \"\"}, \"colorscale\": [[0.0, \"#0d0887\"], [0.1111111111111111, \"#46039f\"], [0.2222222222222222, \"#7201a8\"], [0.3333333333333333, \"#9c179e\"], [0.4444444444444444, \"#bd3786\"], [0.5555555555555556, \"#d8576b\"], [0.6666666666666666, \"#ed7953\"], [0.7777777777777778, \"#fb9f3a\"], [0.8888888888888888, \"#fdca26\"], [1.0, \"#f0f921\"]], \"type\": \"surface\"}], \"table\": [{\"cells\": {\"fill\": {\"color\": \"#EBF0F8\"}, \"line\": {\"color\": \"white\"}}, \"header\": {\"fill\": {\"color\": \"#C8D4E3\"}, \"line\": {\"color\": \"white\"}}, \"type\": \"table\"}]}, \"layout\": {\"annotationdefaults\": {\"arrowcolor\": \"#2a3f5f\", \"arrowhead\": 0, \"arrowwidth\": 1}, \"coloraxis\": {\"colorbar\": {\"outlinewidth\": 0, \"ticks\": \"\"}}, \"colorscale\": {\"diverging\": [[0, \"#8e0152\"], [0.1, \"#c51b7d\"], [0.2, \"#de77ae\"], [0.3, \"#f1b6da\"], [0.4, \"#fde0ef\"], [0.5, \"#f7f7f7\"], [0.6, \"#e6f5d0\"], [0.7, \"#b8e186\"], [0.8, \"#7fbc41\"], [0.9, \"#4d9221\"], [1, \"#276419\"]], \"sequential\": [[0.0, \"#0d0887\"], [0.1111111111111111, \"#46039f\"], [0.2222222222222222, \"#7201a8\"], [0.3333333333333333, \"#9c179e\"], [0.4444444444444444, \"#bd3786\"], [0.5555555555555556, \"#d8576b\"], [0.6666666666666666, \"#ed7953\"], [0.7777777777777778, \"#fb9f3a\"], [0.8888888888888888, \"#fdca26\"], [1.0, \"#f0f921\"]], \"sequentialminus\": [[0.0, \"#0d0887\"], [0.1111111111111111, \"#46039f\"], [0.2222222222222222, \"#7201a8\"], [0.3333333333333333, \"#9c179e\"], [0.4444444444444444, \"#bd3786\"], [0.5555555555555556, \"#d8576b\"], [0.6666666666666666, \"#ed7953\"], [0.7777777777777778, \"#fb9f3a\"], [0.8888888888888888, \"#fdca26\"], [1.0, \"#f0f921\"]]}, \"colorway\": [\"#636efa\", \"#EF553B\", \"#00cc96\", \"#ab63fa\", \"#FFA15A\", \"#19d3f3\", \"#FF6692\", \"#B6E880\", \"#FF97FF\", \"#FECB52\"], \"font\": {\"color\": \"#2a3f5f\"}, \"geo\": {\"bgcolor\": \"white\", \"lakecolor\": \"white\", \"landcolor\": \"#E5ECF6\", \"showlakes\": true, \"showland\": true, \"subunitcolor\": \"white\"}, \"hoverlabel\": {\"align\": \"left\"}, \"hovermode\": \"closest\", \"mapbox\": {\"style\": \"light\"}, \"paper_bgcolor\": \"white\", \"plot_bgcolor\": \"#E5ECF6\", \"polar\": {\"angularaxis\": {\"gridcolor\": \"white\", \"linecolor\": \"white\", \"ticks\": \"\"}, \"bgcolor\": \"#E5ECF6\", \"radialaxis\": {\"gridcolor\": \"white\", \"linecolor\": \"white\", \"ticks\": \"\"}}, \"scene\": {\"xaxis\": {\"backgroundcolor\": \"#E5ECF6\", \"gridcolor\": \"white\", \"gridwidth\": 2, \"linecolor\": \"white\", \"showbackground\": true, \"ticks\": \"\", \"zerolinecolor\": \"white\"}, \"yaxis\": {\"backgroundcolor\": \"#E5ECF6\", \"gridcolor\": \"white\", \"gridwidth\": 2, \"linecolor\": \"white\", \"showbackground\": true, \"ticks\": \"\", \"zerolinecolor\": \"white\"}, \"zaxis\": {\"backgroundcolor\": \"#E5ECF6\", \"gridcolor\": \"white\", \"gridwidth\": 2, \"linecolor\": \"white\", \"showbackground\": true, \"ticks\": \"\", \"zerolinecolor\": \"white\"}}, \"shapedefaults\": {\"line\": {\"color\": \"#2a3f5f\"}}, \"ternary\": {\"aaxis\": {\"gridcolor\": \"white\", \"linecolor\": \"white\", \"ticks\": \"\"}, \"baxis\": {\"gridcolor\": \"white\", \"linecolor\": \"white\", \"ticks\": \"\"}, \"bgcolor\": \"#E5ECF6\", \"caxis\": {\"gridcolor\": \"white\", \"linecolor\": \"white\", \"ticks\": \"\"}}, \"title\": {\"x\": 0.05}, \"xaxis\": {\"automargin\": true, \"gridcolor\": \"white\", \"linecolor\": \"white\", \"ticks\": \"\", \"title\": {\"standoff\": 15}, \"zerolinecolor\": \"white\", \"zerolinewidth\": 2}, \"yaxis\": {\"automargin\": true, \"gridcolor\": \"white\", \"linecolor\": \"white\", \"ticks\": \"\", \"title\": {\"standoff\": 15}, \"zerolinecolor\": \"white\", \"zerolinewidth\": 2}}}, \"title\": {\"text\": \"COVID-19 Death Per Country as of Feb 2020\"}},\n",
       "                        {\"responsive\": true}\n",
       "                    ).then(function(){\n",
       "                            \n",
       "var gd = document.getElementById('b846a02c-9479-4bc2-a70e-8ea8dc545e0e');\n",
       "var x = new MutationObserver(function (mutations, observer) {{\n",
       "        var display = window.getComputedStyle(gd).display;\n",
       "        if (!display || display === 'none') {{\n",
       "            console.log([gd, 'removed!']);\n",
       "            Plotly.purge(gd);\n",
       "            observer.disconnect();\n",
       "        }}\n",
       "}});\n",
       "\n",
       "// Listen for the removal of the full notebook cells\n",
       "var notebookContainer = gd.closest('#notebook-container');\n",
       "if (notebookContainer) {{\n",
       "    x.observe(notebookContainer, {childList: true});\n",
       "}}\n",
       "\n",
       "// Listen for the clearing of the current output cell\n",
       "var outputEl = gd.closest('.output');\n",
       "if (outputEl) {{\n",
       "    x.observe(outputEl, {childList: true});\n",
       "}}\n",
       "\n",
       "                        })\n",
       "                };\n",
       "                });\n",
       "            </script>\n",
       "        </div>"
      ]
     },
     "metadata": {},
     "output_type": "display_data"
    }
   ],
   "source": [
    "iplot(map_feb)"
   ]
  },
  {
   "cell_type": "code",
   "execution_count": 353,
   "metadata": {},
   "outputs": [
    {
     "data": {
      "application/vnd.plotly.v1+json": {
       "config": {
        "linkText": "Export to plot.ly",
        "plotlyServerURL": "https://plot.ly",
        "showLink": false
       },
       "data": [
        {
         "colorbar": {
          "title": {
           "text": "Number of deaths"
          }
         },
         "colorscale": [
          [
           0,
           "rgb(12,51,131)"
          ],
          [
           0.25,
           "rgb(10,136,186)"
          ],
          [
           0.5,
           "rgb(242,211,56)"
          ],
          [
           0.75,
           "rgb(242,143,56)"
          ],
          [
           1,
           "rgb(217,30,30)"
          ]
         ],
         "locationmode": "country names",
         "locations": [
          "Afghanistan",
          "Albania",
          "Algeria",
          "Andorra",
          "Angola",
          "Antigua and Barbuda",
          "Argentina",
          "Armenia",
          "Australia",
          "Austria",
          "Azerbaijan",
          "Bahamas",
          "Bahrain",
          "Bangladesh",
          "Barbados",
          "Belarus",
          "Belgium",
          "Belize",
          "Benin",
          "Bhutan",
          "Bolivia",
          "Bosnia and Herzegovina",
          "Botswana",
          "Brazil",
          "Brunei",
          "Bulgaria",
          "Burkina Faso",
          "Burma",
          "Burundi",
          "Cabo Verde",
          "Cambodia",
          "Cameroon",
          "Canada",
          "Central African Republic",
          "Chad",
          "Chile",
          "China",
          "Colombia",
          "Congo (Brazzaville)",
          "Congo (Kinshasa)",
          "Costa Rica",
          "Cote d'Ivoire",
          "Croatia",
          "Cuba",
          "Cyprus",
          "Czechia",
          "Denmark",
          "Diamond Princess",
          "Djibouti",
          "Dominica",
          "Dominican Republic",
          "Ecuador",
          "Egypt",
          "El Salvador",
          "Equatorial Guinea",
          "Eritrea",
          "Estonia",
          "Eswatini",
          "Ethiopia",
          "Fiji",
          "Finland",
          "France",
          "Gabon",
          "Gambia",
          "Georgia",
          "Germany",
          "Ghana",
          "Greece",
          "Grenada",
          "Guatemala",
          "Guinea",
          "Guinea-Bissau",
          "Guyana",
          "Haiti",
          "Holy See",
          "Honduras",
          "Hungary",
          "Iceland",
          "India",
          "Indonesia",
          "Iran",
          "Iraq",
          "Ireland",
          "Israel",
          "Italy",
          "Jamaica",
          "Japan",
          "Jordan",
          "Kazakhstan",
          "Kenya",
          "Korea, South",
          "Kosovo",
          "Kuwait",
          "Kyrgyzstan",
          "Laos",
          "Latvia",
          "Lebanon",
          "Liberia",
          "Libya",
          "Liechtenstein",
          "Lithuania",
          "Luxembourg",
          "MS Zaandam",
          "Madagascar",
          "Malawi",
          "Malaysia",
          "Maldives",
          "Mali",
          "Malta",
          "Mauritania",
          "Mauritius",
          "Mexico",
          "Moldova",
          "Monaco",
          "Mongolia",
          "Montenegro",
          "Morocco",
          "Mozambique",
          "Namibia",
          "Nepal",
          "Netherlands",
          "New Zealand",
          "Nicaragua",
          "Niger",
          "Nigeria",
          "North Macedonia",
          "Norway",
          "Oman",
          "Pakistan",
          "Panama",
          "Papua New Guinea",
          "Paraguay",
          "Peru",
          "Philippines",
          "Poland",
          "Portugal",
          "Qatar",
          "Romania",
          "Russia",
          "Rwanda",
          "Saint Kitts and Nevis",
          "Saint Lucia",
          "Saint Vincent and the Grenadines",
          "San Marino",
          "Sao Tome and Principe",
          "Saudi Arabia",
          "Senegal",
          "Serbia",
          "Seychelles",
          "Sierra Leone",
          "Singapore",
          "Slovakia",
          "Slovenia",
          "Somalia",
          "South Africa",
          "South Sudan",
          "Spain",
          "Sri Lanka",
          "Sudan",
          "Suriname",
          "Sweden",
          "Switzerland",
          "Syria",
          "Taiwan*",
          "Tanzania",
          "Thailand",
          "Timor-Leste",
          "Togo",
          "Trinidad and Tobago",
          "Tunisia",
          "Turkey",
          "US",
          "Uganda",
          "Ukraine",
          "United Arab Emirates",
          "United Kingdom",
          "Uruguay",
          "Uzbekistan",
          "Venezuela",
          "Vietnam",
          "West Bank and Gaza",
          "Western Sahara",
          "Yemen",
          "Zambia",
          "Zimbabwe"
         ],
         "marker": {
          "line": {
           "color": "rgb(255,255,255)",
           "width": 0.5
          }
         },
         "text": [
          "Afghanistan<br>Confirmed 174 Deaths 4",
          "Albania<br>Confirmed 243 Deaths 15",
          "Algeria<br>Confirmed 716 Deaths 44",
          "Andorra<br>Confirmed 376 Deaths 12",
          "Angola<br>Confirmed 7 Deaths 2",
          "Antigua and Barbuda<br>Confirmed 7 Deaths 0",
          "Argentina<br>Confirmed 1054 Deaths 27",
          "Armenia<br>Confirmed 532 Deaths 3",
          "Australia<br>Confirmed 4559 Deaths 18",
          "Austria<br>Confirmed 10180 Deaths 128",
          "Azerbaijan<br>Confirmed 298 Deaths 5",
          "Bahamas<br>Confirmed 14 Deaths 0",
          "Bahrain<br>Confirmed 567 Deaths 4",
          "Bangladesh<br>Confirmed 51 Deaths 5",
          "Barbados<br>Confirmed 34 Deaths 0",
          "Belarus<br>Confirmed 152 Deaths 1",
          "Belgium<br>Confirmed 12775 Deaths 705",
          "Belize<br>Confirmed 3 Deaths 0",
          "Benin<br>Confirmed 9 Deaths 0",
          "Bhutan<br>Confirmed 4 Deaths 0",
          "Bolivia<br>Confirmed 107 Deaths 6",
          "Bosnia and Herzegovina<br>Confirmed 420 Deaths 13",
          "Botswana<br>Confirmed 4 Deaths 1",
          "Brazil<br>Confirmed 5717 Deaths 201",
          "Brunei<br>Confirmed 129 Deaths 1",
          "Bulgaria<br>Confirmed 399 Deaths 8",
          "Burkina Faso<br>Confirmed 261 Deaths 14",
          "Burma<br>Confirmed 15 Deaths 1",
          "Burundi<br>Confirmed 2 Deaths 0",
          "Cabo Verde<br>Confirmed 6 Deaths 1",
          "Cambodia<br>Confirmed 109 Deaths 0",
          "Cameroon<br>Confirmed 193 Deaths 6",
          "Canada<br>Confirmed 8527 Deaths 101",
          "Central African Republic<br>Confirmed 3 Deaths 0",
          "Chad<br>Confirmed 7 Deaths 0",
          "Chile<br>Confirmed 2738 Deaths 12",
          "China<br>Confirmed 82279 Deaths 3309",
          "Colombia<br>Confirmed 906 Deaths 16",
          "Congo (Brazzaville)<br>Confirmed 19 Deaths 0",
          "Congo (Kinshasa)<br>Confirmed 98 Deaths 8",
          "Costa Rica<br>Confirmed 347 Deaths 2",
          "Cote d'Ivoire<br>Confirmed 179 Deaths 1",
          "Croatia<br>Confirmed 867 Deaths 6",
          "Cuba<br>Confirmed 186 Deaths 6",
          "Cyprus<br>Confirmed 262 Deaths 8",
          "Czechia<br>Confirmed 3308 Deaths 31",
          "Denmark<br>Confirmed 3039 Deaths 90",
          "Diamond Princess<br>Confirmed 712 Deaths 10",
          "Djibouti<br>Confirmed 30 Deaths 0",
          "Dominica<br>Confirmed 12 Deaths 0",
          "Dominican Republic<br>Confirmed 1109 Deaths 51",
          "Ecuador<br>Confirmed 2240 Deaths 75",
          "Egypt<br>Confirmed 710 Deaths 46",
          "El Salvador<br>Confirmed 32 Deaths 1",
          "Equatorial Guinea<br>Confirmed 12 Deaths 0",
          "Eritrea<br>Confirmed 15 Deaths 0",
          "Estonia<br>Confirmed 745 Deaths 4",
          "Eswatini<br>Confirmed 9 Deaths 0",
          "Ethiopia<br>Confirmed 26 Deaths 0",
          "Fiji<br>Confirmed 5 Deaths 0",
          "Finland<br>Confirmed 1418 Deaths 17",
          "France<br>Confirmed 52827 Deaths 3532",
          "Gabon<br>Confirmed 16 Deaths 1",
          "Gambia<br>Confirmed 4 Deaths 1",
          "Georgia<br>Confirmed 110 Deaths 0",
          "Germany<br>Confirmed 71808 Deaths 775",
          "Ghana<br>Confirmed 161 Deaths 5",
          "Greece<br>Confirmed 1314 Deaths 49",
          "Grenada<br>Confirmed 9 Deaths 0",
          "Guatemala<br>Confirmed 38 Deaths 1",
          "Guinea<br>Confirmed 22 Deaths 0",
          "Guinea-Bissau<br>Confirmed 8 Deaths 0",
          "Guyana<br>Confirmed 12 Deaths 2",
          "Haiti<br>Confirmed 15 Deaths 0",
          "Holy See<br>Confirmed 6 Deaths 0",
          "Honduras<br>Confirmed 141 Deaths 7",
          "Hungary<br>Confirmed 492 Deaths 16",
          "Iceland<br>Confirmed 1135 Deaths 2",
          "India<br>Confirmed 1397 Deaths 35",
          "Indonesia<br>Confirmed 1528 Deaths 136",
          "Iran<br>Confirmed 44605 Deaths 2898",
          "Iraq<br>Confirmed 694 Deaths 50",
          "Ireland<br>Confirmed 3235 Deaths 71",
          "Israel<br>Confirmed 5358 Deaths 20",
          "Italy<br>Confirmed 105792 Deaths 12428",
          "Jamaica<br>Confirmed 36 Deaths 1",
          "Japan<br>Confirmed 1953 Deaths 56",
          "Jordan<br>Confirmed 274 Deaths 5",
          "Kazakhstan<br>Confirmed 343 Deaths 2",
          "Kenya<br>Confirmed 59 Deaths 1",
          "Korea, South<br>Confirmed 9786 Deaths 162",
          "Kosovo<br>Confirmed 112 Deaths 1",
          "Kuwait<br>Confirmed 289 Deaths 0",
          "Kyrgyzstan<br>Confirmed 107 Deaths 0",
          "Laos<br>Confirmed 9 Deaths 0",
          "Latvia<br>Confirmed 398 Deaths 0",
          "Lebanon<br>Confirmed 470 Deaths 12",
          "Liberia<br>Confirmed 3 Deaths 0",
          "Libya<br>Confirmed 10 Deaths 0",
          "Liechtenstein<br>Confirmed 68 Deaths 0",
          "Lithuania<br>Confirmed 537 Deaths 8",
          "Luxembourg<br>Confirmed 2178 Deaths 23",
          "MS Zaandam<br>Confirmed 2 Deaths 0",
          "Madagascar<br>Confirmed 57 Deaths 0",
          "Malawi<br>Confirmed 0 Deaths 0",
          "Malaysia<br>Confirmed 2766 Deaths 43",
          "Maldives<br>Confirmed 18 Deaths 0",
          "Mali<br>Confirmed 28 Deaths 2",
          "Malta<br>Confirmed 169 Deaths 0",
          "Mauritania<br>Confirmed 6 Deaths 1",
          "Mauritius<br>Confirmed 143 Deaths 5",
          "Mexico<br>Confirmed 1094 Deaths 28",
          "Moldova<br>Confirmed 353 Deaths 4",
          "Monaco<br>Confirmed 52 Deaths 1",
          "Mongolia<br>Confirmed 12 Deaths 0",
          "Montenegro<br>Confirmed 109 Deaths 2",
          "Morocco<br>Confirmed 617 Deaths 36",
          "Mozambique<br>Confirmed 8 Deaths 0",
          "Namibia<br>Confirmed 11 Deaths 0",
          "Nepal<br>Confirmed 5 Deaths 0",
          "Netherlands<br>Confirmed 12667 Deaths 1040",
          "New Zealand<br>Confirmed 647 Deaths 1",
          "Nicaragua<br>Confirmed 5 Deaths 1",
          "Niger<br>Confirmed 27 Deaths 3",
          "Nigeria<br>Confirmed 135 Deaths 2",
          "North Macedonia<br>Confirmed 329 Deaths 9",
          "Norway<br>Confirmed 4641 Deaths 39",
          "Oman<br>Confirmed 192 Deaths 1",
          "Pakistan<br>Confirmed 1938 Deaths 26",
          "Panama<br>Confirmed 1181 Deaths 30",
          "Papua New Guinea<br>Confirmed 1 Deaths 0",
          "Paraguay<br>Confirmed 65 Deaths 3",
          "Peru<br>Confirmed 1065 Deaths 30",
          "Philippines<br>Confirmed 2084 Deaths 88",
          "Poland<br>Confirmed 2311 Deaths 33",
          "Portugal<br>Confirmed 7443 Deaths 160",
          "Qatar<br>Confirmed 781 Deaths 2",
          "Romania<br>Confirmed 2245 Deaths 82",
          "Russia<br>Confirmed 2337 Deaths 17",
          "Rwanda<br>Confirmed 75 Deaths 0",
          "Saint Kitts and Nevis<br>Confirmed 8 Deaths 0",
          "Saint Lucia<br>Confirmed 13 Deaths 0",
          "Saint Vincent and the Grenadines<br>Confirmed 1 Deaths 0",
          "San Marino<br>Confirmed 236 Deaths 26",
          "Sao Tome and Principe<br>Confirmed 0 Deaths 0",
          "Saudi Arabia<br>Confirmed 1563 Deaths 10",
          "Senegal<br>Confirmed 175 Deaths 0",
          "Serbia<br>Confirmed 900 Deaths 16",
          "Seychelles<br>Confirmed 10 Deaths 0",
          "Sierra Leone<br>Confirmed 1 Deaths 0",
          "Singapore<br>Confirmed 926 Deaths 3",
          "Slovakia<br>Confirmed 363 Deaths 0",
          "Slovenia<br>Confirmed 802 Deaths 15",
          "Somalia<br>Confirmed 5 Deaths 0",
          "South Africa<br>Confirmed 1353 Deaths 5",
          "South Sudan<br>Confirmed 0 Deaths 0",
          "Spain<br>Confirmed 95923 Deaths 8464",
          "Sri Lanka<br>Confirmed 143 Deaths 2",
          "Sudan<br>Confirmed 7 Deaths 2",
          "Suriname<br>Confirmed 9 Deaths 0",
          "Sweden<br>Confirmed 4435 Deaths 180",
          "Switzerland<br>Confirmed 16605 Deaths 433",
          "Syria<br>Confirmed 10 Deaths 2",
          "Taiwan*<br>Confirmed 322 Deaths 5",
          "Tanzania<br>Confirmed 19 Deaths 1",
          "Thailand<br>Confirmed 1651 Deaths 10",
          "Timor-Leste<br>Confirmed 1 Deaths 0",
          "Togo<br>Confirmed 34 Deaths 1",
          "Trinidad and Tobago<br>Confirmed 87 Deaths 3",
          "Tunisia<br>Confirmed 394 Deaths 10",
          "Turkey<br>Confirmed 13531 Deaths 214",
          "US<br>Confirmed 188172 Deaths 3873",
          "Uganda<br>Confirmed 44 Deaths 0",
          "Ukraine<br>Confirmed 645 Deaths 17",
          "United Arab Emirates<br>Confirmed 664 Deaths 6",
          "United Kingdom<br>Confirmed 25481 Deaths 1793",
          "Uruguay<br>Confirmed 338 Deaths 1",
          "Uzbekistan<br>Confirmed 172 Deaths 2",
          "Venezuela<br>Confirmed 135 Deaths 3",
          "Vietnam<br>Confirmed 212 Deaths 0",
          "West Bank and Gaza<br>Confirmed 119 Deaths 1",
          "Western Sahara<br>Confirmed 0 Deaths 0",
          "Yemen<br>Confirmed 0 Deaths 0",
          "Zambia<br>Confirmed 35 Deaths 0",
          "Zimbabwe<br>Confirmed 8 Deaths 1"
         ],
         "type": "choropleth",
         "z": [
          "4",
          "15",
          "44",
          "12",
          "2",
          "0",
          "27",
          "3",
          "18",
          "128",
          "5",
          "0",
          "4",
          "5",
          "0",
          "1",
          "705",
          "0",
          "0",
          "0",
          "6",
          "13",
          "1",
          "201",
          "1",
          "8",
          "14",
          "1",
          "0",
          "1",
          "0",
          "6",
          "101",
          "0",
          "0",
          "12",
          "3309",
          "16",
          "0",
          "8",
          "2",
          "1",
          "6",
          "6",
          "8",
          "31",
          "90",
          "10",
          "0",
          "0",
          "51",
          "75",
          "46",
          "1",
          "0",
          "0",
          "4",
          "0",
          "0",
          "0",
          "17",
          "3532",
          "1",
          "1",
          "0",
          "775",
          "5",
          "49",
          "0",
          "1",
          "0",
          "0",
          "2",
          "0",
          "0",
          "7",
          "16",
          "2",
          "35",
          "136",
          "2898",
          "50",
          "71",
          "20",
          "12428",
          "1",
          "56",
          "5",
          "2",
          "1",
          "162",
          "1",
          "0",
          "0",
          "0",
          "0",
          "12",
          "0",
          "0",
          "0",
          "8",
          "23",
          "0",
          "0",
          "0",
          "43",
          "0",
          "2",
          "0",
          "1",
          "5",
          "28",
          "4",
          "1",
          "0",
          "2",
          "36",
          "0",
          "0",
          "0",
          "1040",
          "1",
          "1",
          "3",
          "2",
          "9",
          "39",
          "1",
          "26",
          "30",
          "0",
          "3",
          "30",
          "88",
          "33",
          "160",
          "2",
          "82",
          "17",
          "0",
          "0",
          "0",
          "0",
          "26",
          "0",
          "10",
          "0",
          "16",
          "0",
          "0",
          "3",
          "0",
          "15",
          "0",
          "5",
          "0",
          "8464",
          "2",
          "2",
          "0",
          "180",
          "433",
          "2",
          "5",
          "1",
          "10",
          "0",
          "1",
          "3",
          "10",
          "214",
          "3873",
          "0",
          "17",
          "6",
          "1793",
          "1",
          "2",
          "3",
          "0",
          "1",
          "0",
          "0",
          "0",
          "1"
         ]
        }
       ],
       "layout": {
        "geo": {
         "scope": "world"
        },
        "template": {
         "data": {
          "bar": [
           {
            "error_x": {
             "color": "#2a3f5f"
            },
            "error_y": {
             "color": "#2a3f5f"
            },
            "marker": {
             "line": {
              "color": "#E5ECF6",
              "width": 0.5
             }
            },
            "type": "bar"
           }
          ],
          "barpolar": [
           {
            "marker": {
             "line": {
              "color": "#E5ECF6",
              "width": 0.5
             }
            },
            "type": "barpolar"
           }
          ],
          "carpet": [
           {
            "aaxis": {
             "endlinecolor": "#2a3f5f",
             "gridcolor": "white",
             "linecolor": "white",
             "minorgridcolor": "white",
             "startlinecolor": "#2a3f5f"
            },
            "baxis": {
             "endlinecolor": "#2a3f5f",
             "gridcolor": "white",
             "linecolor": "white",
             "minorgridcolor": "white",
             "startlinecolor": "#2a3f5f"
            },
            "type": "carpet"
           }
          ],
          "choropleth": [
           {
            "colorbar": {
             "outlinewidth": 0,
             "ticks": ""
            },
            "type": "choropleth"
           }
          ],
          "contour": [
           {
            "colorbar": {
             "outlinewidth": 0,
             "ticks": ""
            },
            "colorscale": [
             [
              0,
              "#0d0887"
             ],
             [
              0.1111111111111111,
              "#46039f"
             ],
             [
              0.2222222222222222,
              "#7201a8"
             ],
             [
              0.3333333333333333,
              "#9c179e"
             ],
             [
              0.4444444444444444,
              "#bd3786"
             ],
             [
              0.5555555555555556,
              "#d8576b"
             ],
             [
              0.6666666666666666,
              "#ed7953"
             ],
             [
              0.7777777777777778,
              "#fb9f3a"
             ],
             [
              0.8888888888888888,
              "#fdca26"
             ],
             [
              1,
              "#f0f921"
             ]
            ],
            "type": "contour"
           }
          ],
          "contourcarpet": [
           {
            "colorbar": {
             "outlinewidth": 0,
             "ticks": ""
            },
            "type": "contourcarpet"
           }
          ],
          "heatmap": [
           {
            "colorbar": {
             "outlinewidth": 0,
             "ticks": ""
            },
            "colorscale": [
             [
              0,
              "#0d0887"
             ],
             [
              0.1111111111111111,
              "#46039f"
             ],
             [
              0.2222222222222222,
              "#7201a8"
             ],
             [
              0.3333333333333333,
              "#9c179e"
             ],
             [
              0.4444444444444444,
              "#bd3786"
             ],
             [
              0.5555555555555556,
              "#d8576b"
             ],
             [
              0.6666666666666666,
              "#ed7953"
             ],
             [
              0.7777777777777778,
              "#fb9f3a"
             ],
             [
              0.8888888888888888,
              "#fdca26"
             ],
             [
              1,
              "#f0f921"
             ]
            ],
            "type": "heatmap"
           }
          ],
          "heatmapgl": [
           {
            "colorbar": {
             "outlinewidth": 0,
             "ticks": ""
            },
            "colorscale": [
             [
              0,
              "#0d0887"
             ],
             [
              0.1111111111111111,
              "#46039f"
             ],
             [
              0.2222222222222222,
              "#7201a8"
             ],
             [
              0.3333333333333333,
              "#9c179e"
             ],
             [
              0.4444444444444444,
              "#bd3786"
             ],
             [
              0.5555555555555556,
              "#d8576b"
             ],
             [
              0.6666666666666666,
              "#ed7953"
             ],
             [
              0.7777777777777778,
              "#fb9f3a"
             ],
             [
              0.8888888888888888,
              "#fdca26"
             ],
             [
              1,
              "#f0f921"
             ]
            ],
            "type": "heatmapgl"
           }
          ],
          "histogram": [
           {
            "marker": {
             "colorbar": {
              "outlinewidth": 0,
              "ticks": ""
             }
            },
            "type": "histogram"
           }
          ],
          "histogram2d": [
           {
            "colorbar": {
             "outlinewidth": 0,
             "ticks": ""
            },
            "colorscale": [
             [
              0,
              "#0d0887"
             ],
             [
              0.1111111111111111,
              "#46039f"
             ],
             [
              0.2222222222222222,
              "#7201a8"
             ],
             [
              0.3333333333333333,
              "#9c179e"
             ],
             [
              0.4444444444444444,
              "#bd3786"
             ],
             [
              0.5555555555555556,
              "#d8576b"
             ],
             [
              0.6666666666666666,
              "#ed7953"
             ],
             [
              0.7777777777777778,
              "#fb9f3a"
             ],
             [
              0.8888888888888888,
              "#fdca26"
             ],
             [
              1,
              "#f0f921"
             ]
            ],
            "type": "histogram2d"
           }
          ],
          "histogram2dcontour": [
           {
            "colorbar": {
             "outlinewidth": 0,
             "ticks": ""
            },
            "colorscale": [
             [
              0,
              "#0d0887"
             ],
             [
              0.1111111111111111,
              "#46039f"
             ],
             [
              0.2222222222222222,
              "#7201a8"
             ],
             [
              0.3333333333333333,
              "#9c179e"
             ],
             [
              0.4444444444444444,
              "#bd3786"
             ],
             [
              0.5555555555555556,
              "#d8576b"
             ],
             [
              0.6666666666666666,
              "#ed7953"
             ],
             [
              0.7777777777777778,
              "#fb9f3a"
             ],
             [
              0.8888888888888888,
              "#fdca26"
             ],
             [
              1,
              "#f0f921"
             ]
            ],
            "type": "histogram2dcontour"
           }
          ],
          "mesh3d": [
           {
            "colorbar": {
             "outlinewidth": 0,
             "ticks": ""
            },
            "type": "mesh3d"
           }
          ],
          "parcoords": [
           {
            "line": {
             "colorbar": {
              "outlinewidth": 0,
              "ticks": ""
             }
            },
            "type": "parcoords"
           }
          ],
          "pie": [
           {
            "automargin": true,
            "type": "pie"
           }
          ],
          "scatter": [
           {
            "marker": {
             "colorbar": {
              "outlinewidth": 0,
              "ticks": ""
             }
            },
            "type": "scatter"
           }
          ],
          "scatter3d": [
           {
            "line": {
             "colorbar": {
              "outlinewidth": 0,
              "ticks": ""
             }
            },
            "marker": {
             "colorbar": {
              "outlinewidth": 0,
              "ticks": ""
             }
            },
            "type": "scatter3d"
           }
          ],
          "scattercarpet": [
           {
            "marker": {
             "colorbar": {
              "outlinewidth": 0,
              "ticks": ""
             }
            },
            "type": "scattercarpet"
           }
          ],
          "scattergeo": [
           {
            "marker": {
             "colorbar": {
              "outlinewidth": 0,
              "ticks": ""
             }
            },
            "type": "scattergeo"
           }
          ],
          "scattergl": [
           {
            "marker": {
             "colorbar": {
              "outlinewidth": 0,
              "ticks": ""
             }
            },
            "type": "scattergl"
           }
          ],
          "scattermapbox": [
           {
            "marker": {
             "colorbar": {
              "outlinewidth": 0,
              "ticks": ""
             }
            },
            "type": "scattermapbox"
           }
          ],
          "scatterpolar": [
           {
            "marker": {
             "colorbar": {
              "outlinewidth": 0,
              "ticks": ""
             }
            },
            "type": "scatterpolar"
           }
          ],
          "scatterpolargl": [
           {
            "marker": {
             "colorbar": {
              "outlinewidth": 0,
              "ticks": ""
             }
            },
            "type": "scatterpolargl"
           }
          ],
          "scatterternary": [
           {
            "marker": {
             "colorbar": {
              "outlinewidth": 0,
              "ticks": ""
             }
            },
            "type": "scatterternary"
           }
          ],
          "surface": [
           {
            "colorbar": {
             "outlinewidth": 0,
             "ticks": ""
            },
            "colorscale": [
             [
              0,
              "#0d0887"
             ],
             [
              0.1111111111111111,
              "#46039f"
             ],
             [
              0.2222222222222222,
              "#7201a8"
             ],
             [
              0.3333333333333333,
              "#9c179e"
             ],
             [
              0.4444444444444444,
              "#bd3786"
             ],
             [
              0.5555555555555556,
              "#d8576b"
             ],
             [
              0.6666666666666666,
              "#ed7953"
             ],
             [
              0.7777777777777778,
              "#fb9f3a"
             ],
             [
              0.8888888888888888,
              "#fdca26"
             ],
             [
              1,
              "#f0f921"
             ]
            ],
            "type": "surface"
           }
          ],
          "table": [
           {
            "cells": {
             "fill": {
              "color": "#EBF0F8"
             },
             "line": {
              "color": "white"
             }
            },
            "header": {
             "fill": {
              "color": "#C8D4E3"
             },
             "line": {
              "color": "white"
             }
            },
            "type": "table"
           }
          ]
         },
         "layout": {
          "annotationdefaults": {
           "arrowcolor": "#2a3f5f",
           "arrowhead": 0,
           "arrowwidth": 1
          },
          "coloraxis": {
           "colorbar": {
            "outlinewidth": 0,
            "ticks": ""
           }
          },
          "colorscale": {
           "diverging": [
            [
             0,
             "#8e0152"
            ],
            [
             0.1,
             "#c51b7d"
            ],
            [
             0.2,
             "#de77ae"
            ],
            [
             0.3,
             "#f1b6da"
            ],
            [
             0.4,
             "#fde0ef"
            ],
            [
             0.5,
             "#f7f7f7"
            ],
            [
             0.6,
             "#e6f5d0"
            ],
            [
             0.7,
             "#b8e186"
            ],
            [
             0.8,
             "#7fbc41"
            ],
            [
             0.9,
             "#4d9221"
            ],
            [
             1,
             "#276419"
            ]
           ],
           "sequential": [
            [
             0,
             "#0d0887"
            ],
            [
             0.1111111111111111,
             "#46039f"
            ],
            [
             0.2222222222222222,
             "#7201a8"
            ],
            [
             0.3333333333333333,
             "#9c179e"
            ],
            [
             0.4444444444444444,
             "#bd3786"
            ],
            [
             0.5555555555555556,
             "#d8576b"
            ],
            [
             0.6666666666666666,
             "#ed7953"
            ],
            [
             0.7777777777777778,
             "#fb9f3a"
            ],
            [
             0.8888888888888888,
             "#fdca26"
            ],
            [
             1,
             "#f0f921"
            ]
           ],
           "sequentialminus": [
            [
             0,
             "#0d0887"
            ],
            [
             0.1111111111111111,
             "#46039f"
            ],
            [
             0.2222222222222222,
             "#7201a8"
            ],
            [
             0.3333333333333333,
             "#9c179e"
            ],
            [
             0.4444444444444444,
             "#bd3786"
            ],
            [
             0.5555555555555556,
             "#d8576b"
            ],
            [
             0.6666666666666666,
             "#ed7953"
            ],
            [
             0.7777777777777778,
             "#fb9f3a"
            ],
            [
             0.8888888888888888,
             "#fdca26"
            ],
            [
             1,
             "#f0f921"
            ]
           ]
          },
          "colorway": [
           "#636efa",
           "#EF553B",
           "#00cc96",
           "#ab63fa",
           "#FFA15A",
           "#19d3f3",
           "#FF6692",
           "#B6E880",
           "#FF97FF",
           "#FECB52"
          ],
          "font": {
           "color": "#2a3f5f"
          },
          "geo": {
           "bgcolor": "white",
           "lakecolor": "white",
           "landcolor": "#E5ECF6",
           "showlakes": true,
           "showland": true,
           "subunitcolor": "white"
          },
          "hoverlabel": {
           "align": "left"
          },
          "hovermode": "closest",
          "mapbox": {
           "style": "light"
          },
          "paper_bgcolor": "white",
          "plot_bgcolor": "#E5ECF6",
          "polar": {
           "angularaxis": {
            "gridcolor": "white",
            "linecolor": "white",
            "ticks": ""
           },
           "bgcolor": "#E5ECF6",
           "radialaxis": {
            "gridcolor": "white",
            "linecolor": "white",
            "ticks": ""
           }
          },
          "scene": {
           "xaxis": {
            "backgroundcolor": "#E5ECF6",
            "gridcolor": "white",
            "gridwidth": 2,
            "linecolor": "white",
            "showbackground": true,
            "ticks": "",
            "zerolinecolor": "white"
           },
           "yaxis": {
            "backgroundcolor": "#E5ECF6",
            "gridcolor": "white",
            "gridwidth": 2,
            "linecolor": "white",
            "showbackground": true,
            "ticks": "",
            "zerolinecolor": "white"
           },
           "zaxis": {
            "backgroundcolor": "#E5ECF6",
            "gridcolor": "white",
            "gridwidth": 2,
            "linecolor": "white",
            "showbackground": true,
            "ticks": "",
            "zerolinecolor": "white"
           }
          },
          "shapedefaults": {
           "line": {
            "color": "#2a3f5f"
           }
          },
          "ternary": {
           "aaxis": {
            "gridcolor": "white",
            "linecolor": "white",
            "ticks": ""
           },
           "baxis": {
            "gridcolor": "white",
            "linecolor": "white",
            "ticks": ""
           },
           "bgcolor": "#E5ECF6",
           "caxis": {
            "gridcolor": "white",
            "linecolor": "white",
            "ticks": ""
           }
          },
          "title": {
           "x": 0.05
          },
          "xaxis": {
           "automargin": true,
           "gridcolor": "white",
           "linecolor": "white",
           "ticks": "",
           "title": {
            "standoff": 15
           },
           "zerolinecolor": "white",
           "zerolinewidth": 2
          },
          "yaxis": {
           "automargin": true,
           "gridcolor": "white",
           "linecolor": "white",
           "ticks": "",
           "title": {
            "standoff": 15
           },
           "zerolinecolor": "white",
           "zerolinewidth": 2
          }
         }
        },
        "title": {
         "text": "COVID-19 Death Per Country as of Mar 2020"
        }
       }
      },
      "text/html": [
       "<div>\n",
       "        \n",
       "        \n",
       "            <div id=\"90e0ca10-dace-43bc-9536-f9e99d3f87e0\" class=\"plotly-graph-div\" style=\"height:525px; width:100%;\"></div>\n",
       "            <script type=\"text/javascript\">\n",
       "                require([\"plotly\"], function(Plotly) {\n",
       "                    window.PLOTLYENV=window.PLOTLYENV || {};\n",
       "                    \n",
       "                if (document.getElementById(\"90e0ca10-dace-43bc-9536-f9e99d3f87e0\")) {\n",
       "                    Plotly.newPlot(\n",
       "                        '90e0ca10-dace-43bc-9536-f9e99d3f87e0',\n",
       "                        [{\"colorbar\": {\"title\": {\"text\": \"Number of deaths\"}}, \"colorscale\": [[0.0, \"rgb(12,51,131)\"], [0.25, \"rgb(10,136,186)\"], [0.5, \"rgb(242,211,56)\"], [0.75, \"rgb(242,143,56)\"], [1.0, \"rgb(217,30,30)\"]], \"locationmode\": \"country names\", \"locations\": [\"Afghanistan\", \"Albania\", \"Algeria\", \"Andorra\", \"Angola\", \"Antigua and Barbuda\", \"Argentina\", \"Armenia\", \"Australia\", \"Austria\", \"Azerbaijan\", \"Bahamas\", \"Bahrain\", \"Bangladesh\", \"Barbados\", \"Belarus\", \"Belgium\", \"Belize\", \"Benin\", \"Bhutan\", \"Bolivia\", \"Bosnia and Herzegovina\", \"Botswana\", \"Brazil\", \"Brunei\", \"Bulgaria\", \"Burkina Faso\", \"Burma\", \"Burundi\", \"Cabo Verde\", \"Cambodia\", \"Cameroon\", \"Canada\", \"Central African Republic\", \"Chad\", \"Chile\", \"China\", \"Colombia\", \"Congo (Brazzaville)\", \"Congo (Kinshasa)\", \"Costa Rica\", \"Cote d'Ivoire\", \"Croatia\", \"Cuba\", \"Cyprus\", \"Czechia\", \"Denmark\", \"Diamond Princess\", \"Djibouti\", \"Dominica\", \"Dominican Republic\", \"Ecuador\", \"Egypt\", \"El Salvador\", \"Equatorial Guinea\", \"Eritrea\", \"Estonia\", \"Eswatini\", \"Ethiopia\", \"Fiji\", \"Finland\", \"France\", \"Gabon\", \"Gambia\", \"Georgia\", \"Germany\", \"Ghana\", \"Greece\", \"Grenada\", \"Guatemala\", \"Guinea\", \"Guinea-Bissau\", \"Guyana\", \"Haiti\", \"Holy See\", \"Honduras\", \"Hungary\", \"Iceland\", \"India\", \"Indonesia\", \"Iran\", \"Iraq\", \"Ireland\", \"Israel\", \"Italy\", \"Jamaica\", \"Japan\", \"Jordan\", \"Kazakhstan\", \"Kenya\", \"Korea, South\", \"Kosovo\", \"Kuwait\", \"Kyrgyzstan\", \"Laos\", \"Latvia\", \"Lebanon\", \"Liberia\", \"Libya\", \"Liechtenstein\", \"Lithuania\", \"Luxembourg\", \"MS Zaandam\", \"Madagascar\", \"Malawi\", \"Malaysia\", \"Maldives\", \"Mali\", \"Malta\", \"Mauritania\", \"Mauritius\", \"Mexico\", \"Moldova\", \"Monaco\", \"Mongolia\", \"Montenegro\", \"Morocco\", \"Mozambique\", \"Namibia\", \"Nepal\", \"Netherlands\", \"New Zealand\", \"Nicaragua\", \"Niger\", \"Nigeria\", \"North Macedonia\", \"Norway\", \"Oman\", \"Pakistan\", \"Panama\", \"Papua New Guinea\", \"Paraguay\", \"Peru\", \"Philippines\", \"Poland\", \"Portugal\", \"Qatar\", \"Romania\", \"Russia\", \"Rwanda\", \"Saint Kitts and Nevis\", \"Saint Lucia\", \"Saint Vincent and the Grenadines\", \"San Marino\", \"Sao Tome and Principe\", \"Saudi Arabia\", \"Senegal\", \"Serbia\", \"Seychelles\", \"Sierra Leone\", \"Singapore\", \"Slovakia\", \"Slovenia\", \"Somalia\", \"South Africa\", \"South Sudan\", \"Spain\", \"Sri Lanka\", \"Sudan\", \"Suriname\", \"Sweden\", \"Switzerland\", \"Syria\", \"Taiwan*\", \"Tanzania\", \"Thailand\", \"Timor-Leste\", \"Togo\", \"Trinidad and Tobago\", \"Tunisia\", \"Turkey\", \"US\", \"Uganda\", \"Ukraine\", \"United Arab Emirates\", \"United Kingdom\", \"Uruguay\", \"Uzbekistan\", \"Venezuela\", \"Vietnam\", \"West Bank and Gaza\", \"Western Sahara\", \"Yemen\", \"Zambia\", \"Zimbabwe\"], \"marker\": {\"line\": {\"color\": \"rgb(255,255,255)\", \"width\": 0.5}}, \"text\": [\"Afghanistan<br>Confirmed 174 Deaths 4\", \"Albania<br>Confirmed 243 Deaths 15\", \"Algeria<br>Confirmed 716 Deaths 44\", \"Andorra<br>Confirmed 376 Deaths 12\", \"Angola<br>Confirmed 7 Deaths 2\", \"Antigua and Barbuda<br>Confirmed 7 Deaths 0\", \"Argentina<br>Confirmed 1054 Deaths 27\", \"Armenia<br>Confirmed 532 Deaths 3\", \"Australia<br>Confirmed 4559 Deaths 18\", \"Austria<br>Confirmed 10180 Deaths 128\", \"Azerbaijan<br>Confirmed 298 Deaths 5\", \"Bahamas<br>Confirmed 14 Deaths 0\", \"Bahrain<br>Confirmed 567 Deaths 4\", \"Bangladesh<br>Confirmed 51 Deaths 5\", \"Barbados<br>Confirmed 34 Deaths 0\", \"Belarus<br>Confirmed 152 Deaths 1\", \"Belgium<br>Confirmed 12775 Deaths 705\", \"Belize<br>Confirmed 3 Deaths 0\", \"Benin<br>Confirmed 9 Deaths 0\", \"Bhutan<br>Confirmed 4 Deaths 0\", \"Bolivia<br>Confirmed 107 Deaths 6\", \"Bosnia and Herzegovina<br>Confirmed 420 Deaths 13\", \"Botswana<br>Confirmed 4 Deaths 1\", \"Brazil<br>Confirmed 5717 Deaths 201\", \"Brunei<br>Confirmed 129 Deaths 1\", \"Bulgaria<br>Confirmed 399 Deaths 8\", \"Burkina Faso<br>Confirmed 261 Deaths 14\", \"Burma<br>Confirmed 15 Deaths 1\", \"Burundi<br>Confirmed 2 Deaths 0\", \"Cabo Verde<br>Confirmed 6 Deaths 1\", \"Cambodia<br>Confirmed 109 Deaths 0\", \"Cameroon<br>Confirmed 193 Deaths 6\", \"Canada<br>Confirmed 8527 Deaths 101\", \"Central African Republic<br>Confirmed 3 Deaths 0\", \"Chad<br>Confirmed 7 Deaths 0\", \"Chile<br>Confirmed 2738 Deaths 12\", \"China<br>Confirmed 82279 Deaths 3309\", \"Colombia<br>Confirmed 906 Deaths 16\", \"Congo (Brazzaville)<br>Confirmed 19 Deaths 0\", \"Congo (Kinshasa)<br>Confirmed 98 Deaths 8\", \"Costa Rica<br>Confirmed 347 Deaths 2\", \"Cote d'Ivoire<br>Confirmed 179 Deaths 1\", \"Croatia<br>Confirmed 867 Deaths 6\", \"Cuba<br>Confirmed 186 Deaths 6\", \"Cyprus<br>Confirmed 262 Deaths 8\", \"Czechia<br>Confirmed 3308 Deaths 31\", \"Denmark<br>Confirmed 3039 Deaths 90\", \"Diamond Princess<br>Confirmed 712 Deaths 10\", \"Djibouti<br>Confirmed 30 Deaths 0\", \"Dominica<br>Confirmed 12 Deaths 0\", \"Dominican Republic<br>Confirmed 1109 Deaths 51\", \"Ecuador<br>Confirmed 2240 Deaths 75\", \"Egypt<br>Confirmed 710 Deaths 46\", \"El Salvador<br>Confirmed 32 Deaths 1\", \"Equatorial Guinea<br>Confirmed 12 Deaths 0\", \"Eritrea<br>Confirmed 15 Deaths 0\", \"Estonia<br>Confirmed 745 Deaths 4\", \"Eswatini<br>Confirmed 9 Deaths 0\", \"Ethiopia<br>Confirmed 26 Deaths 0\", \"Fiji<br>Confirmed 5 Deaths 0\", \"Finland<br>Confirmed 1418 Deaths 17\", \"France<br>Confirmed 52827 Deaths 3532\", \"Gabon<br>Confirmed 16 Deaths 1\", \"Gambia<br>Confirmed 4 Deaths 1\", \"Georgia<br>Confirmed 110 Deaths 0\", \"Germany<br>Confirmed 71808 Deaths 775\", \"Ghana<br>Confirmed 161 Deaths 5\", \"Greece<br>Confirmed 1314 Deaths 49\", \"Grenada<br>Confirmed 9 Deaths 0\", \"Guatemala<br>Confirmed 38 Deaths 1\", \"Guinea<br>Confirmed 22 Deaths 0\", \"Guinea-Bissau<br>Confirmed 8 Deaths 0\", \"Guyana<br>Confirmed 12 Deaths 2\", \"Haiti<br>Confirmed 15 Deaths 0\", \"Holy See<br>Confirmed 6 Deaths 0\", \"Honduras<br>Confirmed 141 Deaths 7\", \"Hungary<br>Confirmed 492 Deaths 16\", \"Iceland<br>Confirmed 1135 Deaths 2\", \"India<br>Confirmed 1397 Deaths 35\", \"Indonesia<br>Confirmed 1528 Deaths 136\", \"Iran<br>Confirmed 44605 Deaths 2898\", \"Iraq<br>Confirmed 694 Deaths 50\", \"Ireland<br>Confirmed 3235 Deaths 71\", \"Israel<br>Confirmed 5358 Deaths 20\", \"Italy<br>Confirmed 105792 Deaths 12428\", \"Jamaica<br>Confirmed 36 Deaths 1\", \"Japan<br>Confirmed 1953 Deaths 56\", \"Jordan<br>Confirmed 274 Deaths 5\", \"Kazakhstan<br>Confirmed 343 Deaths 2\", \"Kenya<br>Confirmed 59 Deaths 1\", \"Korea, South<br>Confirmed 9786 Deaths 162\", \"Kosovo<br>Confirmed 112 Deaths 1\", \"Kuwait<br>Confirmed 289 Deaths 0\", \"Kyrgyzstan<br>Confirmed 107 Deaths 0\", \"Laos<br>Confirmed 9 Deaths 0\", \"Latvia<br>Confirmed 398 Deaths 0\", \"Lebanon<br>Confirmed 470 Deaths 12\", \"Liberia<br>Confirmed 3 Deaths 0\", \"Libya<br>Confirmed 10 Deaths 0\", \"Liechtenstein<br>Confirmed 68 Deaths 0\", \"Lithuania<br>Confirmed 537 Deaths 8\", \"Luxembourg<br>Confirmed 2178 Deaths 23\", \"MS Zaandam<br>Confirmed 2 Deaths 0\", \"Madagascar<br>Confirmed 57 Deaths 0\", \"Malawi<br>Confirmed 0 Deaths 0\", \"Malaysia<br>Confirmed 2766 Deaths 43\", \"Maldives<br>Confirmed 18 Deaths 0\", \"Mali<br>Confirmed 28 Deaths 2\", \"Malta<br>Confirmed 169 Deaths 0\", \"Mauritania<br>Confirmed 6 Deaths 1\", \"Mauritius<br>Confirmed 143 Deaths 5\", \"Mexico<br>Confirmed 1094 Deaths 28\", \"Moldova<br>Confirmed 353 Deaths 4\", \"Monaco<br>Confirmed 52 Deaths 1\", \"Mongolia<br>Confirmed 12 Deaths 0\", \"Montenegro<br>Confirmed 109 Deaths 2\", \"Morocco<br>Confirmed 617 Deaths 36\", \"Mozambique<br>Confirmed 8 Deaths 0\", \"Namibia<br>Confirmed 11 Deaths 0\", \"Nepal<br>Confirmed 5 Deaths 0\", \"Netherlands<br>Confirmed 12667 Deaths 1040\", \"New Zealand<br>Confirmed 647 Deaths 1\", \"Nicaragua<br>Confirmed 5 Deaths 1\", \"Niger<br>Confirmed 27 Deaths 3\", \"Nigeria<br>Confirmed 135 Deaths 2\", \"North Macedonia<br>Confirmed 329 Deaths 9\", \"Norway<br>Confirmed 4641 Deaths 39\", \"Oman<br>Confirmed 192 Deaths 1\", \"Pakistan<br>Confirmed 1938 Deaths 26\", \"Panama<br>Confirmed 1181 Deaths 30\", \"Papua New Guinea<br>Confirmed 1 Deaths 0\", \"Paraguay<br>Confirmed 65 Deaths 3\", \"Peru<br>Confirmed 1065 Deaths 30\", \"Philippines<br>Confirmed 2084 Deaths 88\", \"Poland<br>Confirmed 2311 Deaths 33\", \"Portugal<br>Confirmed 7443 Deaths 160\", \"Qatar<br>Confirmed 781 Deaths 2\", \"Romania<br>Confirmed 2245 Deaths 82\", \"Russia<br>Confirmed 2337 Deaths 17\", \"Rwanda<br>Confirmed 75 Deaths 0\", \"Saint Kitts and Nevis<br>Confirmed 8 Deaths 0\", \"Saint Lucia<br>Confirmed 13 Deaths 0\", \"Saint Vincent and the Grenadines<br>Confirmed 1 Deaths 0\", \"San Marino<br>Confirmed 236 Deaths 26\", \"Sao Tome and Principe<br>Confirmed 0 Deaths 0\", \"Saudi Arabia<br>Confirmed 1563 Deaths 10\", \"Senegal<br>Confirmed 175 Deaths 0\", \"Serbia<br>Confirmed 900 Deaths 16\", \"Seychelles<br>Confirmed 10 Deaths 0\", \"Sierra Leone<br>Confirmed 1 Deaths 0\", \"Singapore<br>Confirmed 926 Deaths 3\", \"Slovakia<br>Confirmed 363 Deaths 0\", \"Slovenia<br>Confirmed 802 Deaths 15\", \"Somalia<br>Confirmed 5 Deaths 0\", \"South Africa<br>Confirmed 1353 Deaths 5\", \"South Sudan<br>Confirmed 0 Deaths 0\", \"Spain<br>Confirmed 95923 Deaths 8464\", \"Sri Lanka<br>Confirmed 143 Deaths 2\", \"Sudan<br>Confirmed 7 Deaths 2\", \"Suriname<br>Confirmed 9 Deaths 0\", \"Sweden<br>Confirmed 4435 Deaths 180\", \"Switzerland<br>Confirmed 16605 Deaths 433\", \"Syria<br>Confirmed 10 Deaths 2\", \"Taiwan*<br>Confirmed 322 Deaths 5\", \"Tanzania<br>Confirmed 19 Deaths 1\", \"Thailand<br>Confirmed 1651 Deaths 10\", \"Timor-Leste<br>Confirmed 1 Deaths 0\", \"Togo<br>Confirmed 34 Deaths 1\", \"Trinidad and Tobago<br>Confirmed 87 Deaths 3\", \"Tunisia<br>Confirmed 394 Deaths 10\", \"Turkey<br>Confirmed 13531 Deaths 214\", \"US<br>Confirmed 188172 Deaths 3873\", \"Uganda<br>Confirmed 44 Deaths 0\", \"Ukraine<br>Confirmed 645 Deaths 17\", \"United Arab Emirates<br>Confirmed 664 Deaths 6\", \"United Kingdom<br>Confirmed 25481 Deaths 1793\", \"Uruguay<br>Confirmed 338 Deaths 1\", \"Uzbekistan<br>Confirmed 172 Deaths 2\", \"Venezuela<br>Confirmed 135 Deaths 3\", \"Vietnam<br>Confirmed 212 Deaths 0\", \"West Bank and Gaza<br>Confirmed 119 Deaths 1\", \"Western Sahara<br>Confirmed 0 Deaths 0\", \"Yemen<br>Confirmed 0 Deaths 0\", \"Zambia<br>Confirmed 35 Deaths 0\", \"Zimbabwe<br>Confirmed 8 Deaths 1\"], \"type\": \"choropleth\", \"z\": [\"4\", \"15\", \"44\", \"12\", \"2\", \"0\", \"27\", \"3\", \"18\", \"128\", \"5\", \"0\", \"4\", \"5\", \"0\", \"1\", \"705\", \"0\", \"0\", \"0\", \"6\", \"13\", \"1\", \"201\", \"1\", \"8\", \"14\", \"1\", \"0\", \"1\", \"0\", \"6\", \"101\", \"0\", \"0\", \"12\", \"3309\", \"16\", \"0\", \"8\", \"2\", \"1\", \"6\", \"6\", \"8\", \"31\", \"90\", \"10\", \"0\", \"0\", \"51\", \"75\", \"46\", \"1\", \"0\", \"0\", \"4\", \"0\", \"0\", \"0\", \"17\", \"3532\", \"1\", \"1\", \"0\", \"775\", \"5\", \"49\", \"0\", \"1\", \"0\", \"0\", \"2\", \"0\", \"0\", \"7\", \"16\", \"2\", \"35\", \"136\", \"2898\", \"50\", \"71\", \"20\", \"12428\", \"1\", \"56\", \"5\", \"2\", \"1\", \"162\", \"1\", \"0\", \"0\", \"0\", \"0\", \"12\", \"0\", \"0\", \"0\", \"8\", \"23\", \"0\", \"0\", \"0\", \"43\", \"0\", \"2\", \"0\", \"1\", \"5\", \"28\", \"4\", \"1\", \"0\", \"2\", \"36\", \"0\", \"0\", \"0\", \"1040\", \"1\", \"1\", \"3\", \"2\", \"9\", \"39\", \"1\", \"26\", \"30\", \"0\", \"3\", \"30\", \"88\", \"33\", \"160\", \"2\", \"82\", \"17\", \"0\", \"0\", \"0\", \"0\", \"26\", \"0\", \"10\", \"0\", \"16\", \"0\", \"0\", \"3\", \"0\", \"15\", \"0\", \"5\", \"0\", \"8464\", \"2\", \"2\", \"0\", \"180\", \"433\", \"2\", \"5\", \"1\", \"10\", \"0\", \"1\", \"3\", \"10\", \"214\", \"3873\", \"0\", \"17\", \"6\", \"1793\", \"1\", \"2\", \"3\", \"0\", \"1\", \"0\", \"0\", \"0\", \"1\"]}],\n",
       "                        {\"geo\": {\"scope\": \"world\"}, \"template\": {\"data\": {\"bar\": [{\"error_x\": {\"color\": \"#2a3f5f\"}, \"error_y\": {\"color\": \"#2a3f5f\"}, \"marker\": {\"line\": {\"color\": \"#E5ECF6\", \"width\": 0.5}}, \"type\": \"bar\"}], \"barpolar\": [{\"marker\": {\"line\": {\"color\": \"#E5ECF6\", \"width\": 0.5}}, \"type\": \"barpolar\"}], \"carpet\": [{\"aaxis\": {\"endlinecolor\": \"#2a3f5f\", \"gridcolor\": \"white\", \"linecolor\": \"white\", \"minorgridcolor\": \"white\", \"startlinecolor\": \"#2a3f5f\"}, \"baxis\": {\"endlinecolor\": \"#2a3f5f\", \"gridcolor\": \"white\", \"linecolor\": \"white\", \"minorgridcolor\": \"white\", \"startlinecolor\": \"#2a3f5f\"}, \"type\": \"carpet\"}], \"choropleth\": [{\"colorbar\": {\"outlinewidth\": 0, \"ticks\": \"\"}, \"type\": \"choropleth\"}], \"contour\": [{\"colorbar\": {\"outlinewidth\": 0, \"ticks\": \"\"}, \"colorscale\": [[0.0, \"#0d0887\"], [0.1111111111111111, \"#46039f\"], [0.2222222222222222, \"#7201a8\"], [0.3333333333333333, \"#9c179e\"], [0.4444444444444444, \"#bd3786\"], [0.5555555555555556, \"#d8576b\"], [0.6666666666666666, \"#ed7953\"], [0.7777777777777778, \"#fb9f3a\"], [0.8888888888888888, \"#fdca26\"], [1.0, \"#f0f921\"]], \"type\": \"contour\"}], \"contourcarpet\": [{\"colorbar\": {\"outlinewidth\": 0, \"ticks\": \"\"}, \"type\": \"contourcarpet\"}], \"heatmap\": [{\"colorbar\": {\"outlinewidth\": 0, \"ticks\": \"\"}, \"colorscale\": [[0.0, \"#0d0887\"], [0.1111111111111111, \"#46039f\"], [0.2222222222222222, \"#7201a8\"], [0.3333333333333333, \"#9c179e\"], [0.4444444444444444, \"#bd3786\"], [0.5555555555555556, \"#d8576b\"], [0.6666666666666666, \"#ed7953\"], [0.7777777777777778, \"#fb9f3a\"], [0.8888888888888888, \"#fdca26\"], [1.0, \"#f0f921\"]], \"type\": \"heatmap\"}], \"heatmapgl\": [{\"colorbar\": {\"outlinewidth\": 0, \"ticks\": \"\"}, \"colorscale\": [[0.0, \"#0d0887\"], [0.1111111111111111, \"#46039f\"], [0.2222222222222222, \"#7201a8\"], [0.3333333333333333, \"#9c179e\"], [0.4444444444444444, \"#bd3786\"], [0.5555555555555556, \"#d8576b\"], [0.6666666666666666, \"#ed7953\"], [0.7777777777777778, \"#fb9f3a\"], [0.8888888888888888, \"#fdca26\"], [1.0, \"#f0f921\"]], \"type\": \"heatmapgl\"}], \"histogram\": [{\"marker\": {\"colorbar\": {\"outlinewidth\": 0, \"ticks\": \"\"}}, \"type\": \"histogram\"}], \"histogram2d\": [{\"colorbar\": {\"outlinewidth\": 0, \"ticks\": \"\"}, \"colorscale\": [[0.0, \"#0d0887\"], [0.1111111111111111, \"#46039f\"], [0.2222222222222222, \"#7201a8\"], [0.3333333333333333, \"#9c179e\"], [0.4444444444444444, \"#bd3786\"], [0.5555555555555556, \"#d8576b\"], [0.6666666666666666, \"#ed7953\"], [0.7777777777777778, \"#fb9f3a\"], [0.8888888888888888, \"#fdca26\"], [1.0, \"#f0f921\"]], \"type\": \"histogram2d\"}], \"histogram2dcontour\": [{\"colorbar\": {\"outlinewidth\": 0, \"ticks\": \"\"}, \"colorscale\": [[0.0, \"#0d0887\"], [0.1111111111111111, \"#46039f\"], [0.2222222222222222, \"#7201a8\"], [0.3333333333333333, \"#9c179e\"], [0.4444444444444444, \"#bd3786\"], [0.5555555555555556, \"#d8576b\"], [0.6666666666666666, \"#ed7953\"], [0.7777777777777778, \"#fb9f3a\"], [0.8888888888888888, \"#fdca26\"], [1.0, \"#f0f921\"]], \"type\": \"histogram2dcontour\"}], \"mesh3d\": [{\"colorbar\": {\"outlinewidth\": 0, \"ticks\": \"\"}, \"type\": \"mesh3d\"}], \"parcoords\": [{\"line\": {\"colorbar\": {\"outlinewidth\": 0, \"ticks\": \"\"}}, \"type\": \"parcoords\"}], \"pie\": [{\"automargin\": true, \"type\": \"pie\"}], \"scatter\": [{\"marker\": {\"colorbar\": {\"outlinewidth\": 0, \"ticks\": \"\"}}, \"type\": \"scatter\"}], \"scatter3d\": [{\"line\": {\"colorbar\": {\"outlinewidth\": 0, \"ticks\": \"\"}}, \"marker\": {\"colorbar\": {\"outlinewidth\": 0, \"ticks\": \"\"}}, \"type\": \"scatter3d\"}], \"scattercarpet\": [{\"marker\": {\"colorbar\": {\"outlinewidth\": 0, \"ticks\": \"\"}}, \"type\": \"scattercarpet\"}], \"scattergeo\": [{\"marker\": {\"colorbar\": {\"outlinewidth\": 0, \"ticks\": \"\"}}, \"type\": \"scattergeo\"}], \"scattergl\": [{\"marker\": {\"colorbar\": {\"outlinewidth\": 0, \"ticks\": \"\"}}, \"type\": \"scattergl\"}], \"scattermapbox\": [{\"marker\": {\"colorbar\": {\"outlinewidth\": 0, \"ticks\": \"\"}}, \"type\": \"scattermapbox\"}], \"scatterpolar\": [{\"marker\": {\"colorbar\": {\"outlinewidth\": 0, \"ticks\": \"\"}}, \"type\": \"scatterpolar\"}], \"scatterpolargl\": [{\"marker\": {\"colorbar\": {\"outlinewidth\": 0, \"ticks\": \"\"}}, \"type\": \"scatterpolargl\"}], \"scatterternary\": [{\"marker\": {\"colorbar\": {\"outlinewidth\": 0, \"ticks\": \"\"}}, \"type\": \"scatterternary\"}], \"surface\": [{\"colorbar\": {\"outlinewidth\": 0, \"ticks\": \"\"}, \"colorscale\": [[0.0, \"#0d0887\"], [0.1111111111111111, \"#46039f\"], [0.2222222222222222, \"#7201a8\"], [0.3333333333333333, \"#9c179e\"], [0.4444444444444444, \"#bd3786\"], [0.5555555555555556, \"#d8576b\"], [0.6666666666666666, \"#ed7953\"], [0.7777777777777778, \"#fb9f3a\"], [0.8888888888888888, \"#fdca26\"], [1.0, \"#f0f921\"]], \"type\": \"surface\"}], \"table\": [{\"cells\": {\"fill\": {\"color\": \"#EBF0F8\"}, \"line\": {\"color\": \"white\"}}, \"header\": {\"fill\": {\"color\": \"#C8D4E3\"}, \"line\": {\"color\": \"white\"}}, \"type\": \"table\"}]}, \"layout\": {\"annotationdefaults\": {\"arrowcolor\": \"#2a3f5f\", \"arrowhead\": 0, \"arrowwidth\": 1}, \"coloraxis\": {\"colorbar\": {\"outlinewidth\": 0, \"ticks\": \"\"}}, \"colorscale\": {\"diverging\": [[0, \"#8e0152\"], [0.1, \"#c51b7d\"], [0.2, \"#de77ae\"], [0.3, \"#f1b6da\"], [0.4, \"#fde0ef\"], [0.5, \"#f7f7f7\"], [0.6, \"#e6f5d0\"], [0.7, \"#b8e186\"], [0.8, \"#7fbc41\"], [0.9, \"#4d9221\"], [1, \"#276419\"]], \"sequential\": [[0.0, \"#0d0887\"], [0.1111111111111111, \"#46039f\"], [0.2222222222222222, \"#7201a8\"], [0.3333333333333333, \"#9c179e\"], [0.4444444444444444, \"#bd3786\"], [0.5555555555555556, \"#d8576b\"], [0.6666666666666666, \"#ed7953\"], [0.7777777777777778, \"#fb9f3a\"], [0.8888888888888888, \"#fdca26\"], [1.0, \"#f0f921\"]], \"sequentialminus\": [[0.0, \"#0d0887\"], [0.1111111111111111, \"#46039f\"], [0.2222222222222222, \"#7201a8\"], [0.3333333333333333, \"#9c179e\"], [0.4444444444444444, \"#bd3786\"], [0.5555555555555556, \"#d8576b\"], [0.6666666666666666, \"#ed7953\"], [0.7777777777777778, \"#fb9f3a\"], [0.8888888888888888, \"#fdca26\"], [1.0, \"#f0f921\"]]}, \"colorway\": [\"#636efa\", \"#EF553B\", \"#00cc96\", \"#ab63fa\", \"#FFA15A\", \"#19d3f3\", \"#FF6692\", \"#B6E880\", \"#FF97FF\", \"#FECB52\"], \"font\": {\"color\": \"#2a3f5f\"}, \"geo\": {\"bgcolor\": \"white\", \"lakecolor\": \"white\", \"landcolor\": \"#E5ECF6\", \"showlakes\": true, \"showland\": true, \"subunitcolor\": \"white\"}, \"hoverlabel\": {\"align\": \"left\"}, \"hovermode\": \"closest\", \"mapbox\": {\"style\": \"light\"}, \"paper_bgcolor\": \"white\", \"plot_bgcolor\": \"#E5ECF6\", \"polar\": {\"angularaxis\": {\"gridcolor\": \"white\", \"linecolor\": \"white\", \"ticks\": \"\"}, \"bgcolor\": \"#E5ECF6\", \"radialaxis\": {\"gridcolor\": \"white\", \"linecolor\": \"white\", \"ticks\": \"\"}}, \"scene\": {\"xaxis\": {\"backgroundcolor\": \"#E5ECF6\", \"gridcolor\": \"white\", \"gridwidth\": 2, \"linecolor\": \"white\", \"showbackground\": true, \"ticks\": \"\", \"zerolinecolor\": \"white\"}, \"yaxis\": {\"backgroundcolor\": \"#E5ECF6\", \"gridcolor\": \"white\", \"gridwidth\": 2, \"linecolor\": \"white\", \"showbackground\": true, \"ticks\": \"\", \"zerolinecolor\": \"white\"}, \"zaxis\": {\"backgroundcolor\": \"#E5ECF6\", \"gridcolor\": \"white\", \"gridwidth\": 2, \"linecolor\": \"white\", \"showbackground\": true, \"ticks\": \"\", \"zerolinecolor\": \"white\"}}, \"shapedefaults\": {\"line\": {\"color\": \"#2a3f5f\"}}, \"ternary\": {\"aaxis\": {\"gridcolor\": \"white\", \"linecolor\": \"white\", \"ticks\": \"\"}, \"baxis\": {\"gridcolor\": \"white\", \"linecolor\": \"white\", \"ticks\": \"\"}, \"bgcolor\": \"#E5ECF6\", \"caxis\": {\"gridcolor\": \"white\", \"linecolor\": \"white\", \"ticks\": \"\"}}, \"title\": {\"x\": 0.05}, \"xaxis\": {\"automargin\": true, \"gridcolor\": \"white\", \"linecolor\": \"white\", \"ticks\": \"\", \"title\": {\"standoff\": 15}, \"zerolinecolor\": \"white\", \"zerolinewidth\": 2}, \"yaxis\": {\"automargin\": true, \"gridcolor\": \"white\", \"linecolor\": \"white\", \"ticks\": \"\", \"title\": {\"standoff\": 15}, \"zerolinecolor\": \"white\", \"zerolinewidth\": 2}}}, \"title\": {\"text\": \"COVID-19 Death Per Country as of Mar 2020\"}},\n",
       "                        {\"responsive\": true}\n",
       "                    ).then(function(){\n",
       "                            \n",
       "var gd = document.getElementById('90e0ca10-dace-43bc-9536-f9e99d3f87e0');\n",
       "var x = new MutationObserver(function (mutations, observer) {{\n",
       "        var display = window.getComputedStyle(gd).display;\n",
       "        if (!display || display === 'none') {{\n",
       "            console.log([gd, 'removed!']);\n",
       "            Plotly.purge(gd);\n",
       "            observer.disconnect();\n",
       "        }}\n",
       "}});\n",
       "\n",
       "// Listen for the removal of the full notebook cells\n",
       "var notebookContainer = gd.closest('#notebook-container');\n",
       "if (notebookContainer) {{\n",
       "    x.observe(notebookContainer, {childList: true});\n",
       "}}\n",
       "\n",
       "// Listen for the clearing of the current output cell\n",
       "var outputEl = gd.closest('.output');\n",
       "if (outputEl) {{\n",
       "    x.observe(outputEl, {childList: true});\n",
       "}}\n",
       "\n",
       "                        })\n",
       "                };\n",
       "                });\n",
       "            </script>\n",
       "        </div>"
      ]
     },
     "metadata": {},
     "output_type": "display_data"
    }
   ],
   "source": [
    "iplot(map_mar)"
   ]
  },
  {
   "cell_type": "code",
   "execution_count": 354,
   "metadata": {},
   "outputs": [
    {
     "data": {
      "application/vnd.plotly.v1+json": {
       "config": {
        "linkText": "Export to plot.ly",
        "plotlyServerURL": "https://plot.ly",
        "showLink": false
       },
       "data": [
        {
         "colorbar": {
          "title": {
           "text": "Number of deaths"
          }
         },
         "colorscale": [
          [
           0,
           "rgb(12,51,131)"
          ],
          [
           0.25,
           "rgb(10,136,186)"
          ],
          [
           0.5,
           "rgb(242,211,56)"
          ],
          [
           0.75,
           "rgb(242,143,56)"
          ],
          [
           1,
           "rgb(217,30,30)"
          ]
         ],
         "locationmode": "country names",
         "locations": [
          "Afghanistan",
          "Albania",
          "Algeria",
          "Andorra",
          "Angola",
          "Antigua and Barbuda",
          "Argentina",
          "Armenia",
          "Australia",
          "Austria",
          "Azerbaijan",
          "Bahamas",
          "Bahrain",
          "Bangladesh",
          "Barbados",
          "Belarus",
          "Belgium",
          "Belize",
          "Benin",
          "Bhutan",
          "Bolivia",
          "Bosnia and Herzegovina",
          "Botswana",
          "Brazil",
          "Brunei",
          "Bulgaria",
          "Burkina Faso",
          "Burma",
          "Burundi",
          "Cabo Verde",
          "Cambodia",
          "Cameroon",
          "Canada",
          "Central African Republic",
          "Chad",
          "Chile",
          "China",
          "Colombia",
          "Congo (Brazzaville)",
          "Congo (Kinshasa)",
          "Costa Rica",
          "Cote d'Ivoire",
          "Croatia",
          "Cuba",
          "Cyprus",
          "Czechia",
          "Denmark",
          "Diamond Princess",
          "Djibouti",
          "Dominica",
          "Dominican Republic",
          "Ecuador",
          "Egypt",
          "El Salvador",
          "Equatorial Guinea",
          "Eritrea",
          "Estonia",
          "Eswatini",
          "Ethiopia",
          "Fiji",
          "Finland",
          "France",
          "Gabon",
          "Gambia",
          "Georgia",
          "Germany",
          "Ghana",
          "Greece",
          "Grenada",
          "Guatemala",
          "Guinea",
          "Guinea-Bissau",
          "Guyana",
          "Haiti",
          "Holy See",
          "Honduras",
          "Hungary",
          "Iceland",
          "India",
          "Indonesia",
          "Iran",
          "Iraq",
          "Ireland",
          "Israel",
          "Italy",
          "Jamaica",
          "Japan",
          "Jordan",
          "Kazakhstan",
          "Kenya",
          "Korea, South",
          "Kosovo",
          "Kuwait",
          "Kyrgyzstan",
          "Laos",
          "Latvia",
          "Lebanon",
          "Liberia",
          "Libya",
          "Liechtenstein",
          "Lithuania",
          "Luxembourg",
          "MS Zaandam",
          "Madagascar",
          "Malawi",
          "Malaysia",
          "Maldives",
          "Mali",
          "Malta",
          "Mauritania",
          "Mauritius",
          "Mexico",
          "Moldova",
          "Monaco",
          "Mongolia",
          "Montenegro",
          "Morocco",
          "Mozambique",
          "Namibia",
          "Nepal",
          "Netherlands",
          "New Zealand",
          "Nicaragua",
          "Niger",
          "Nigeria",
          "North Macedonia",
          "Norway",
          "Oman",
          "Pakistan",
          "Panama",
          "Papua New Guinea",
          "Paraguay",
          "Peru",
          "Philippines",
          "Poland",
          "Portugal",
          "Qatar",
          "Romania",
          "Russia",
          "Rwanda",
          "Saint Kitts and Nevis",
          "Saint Lucia",
          "Saint Vincent and the Grenadines",
          "San Marino",
          "Sao Tome and Principe",
          "Saudi Arabia",
          "Senegal",
          "Serbia",
          "Seychelles",
          "Sierra Leone",
          "Singapore",
          "Slovakia",
          "Slovenia",
          "Somalia",
          "South Africa",
          "South Sudan",
          "Spain",
          "Sri Lanka",
          "Sudan",
          "Suriname",
          "Sweden",
          "Switzerland",
          "Syria",
          "Taiwan*",
          "Tanzania",
          "Thailand",
          "Timor-Leste",
          "Togo",
          "Trinidad and Tobago",
          "Tunisia",
          "Turkey",
          "US",
          "Uganda",
          "Ukraine",
          "United Arab Emirates",
          "United Kingdom",
          "Uruguay",
          "Uzbekistan",
          "Venezuela",
          "Vietnam",
          "West Bank and Gaza",
          "Western Sahara",
          "Yemen",
          "Zambia",
          "Zimbabwe"
         ],
         "marker": {
          "line": {
           "color": "rgb(255,255,255)",
           "width": 0.5
          }
         },
         "text": [
          "Afghanistan<br>Confirmed 607 Deaths 18",
          "Albania<br>Confirmed 446 Deaths 23",
          "Algeria<br>Confirmed 1914 Deaths 293",
          "Andorra<br>Confirmed 638 Deaths 29",
          "Angola<br>Confirmed 19 Deaths 2",
          "Antigua and Barbuda<br>Confirmed 21 Deaths 2",
          "Argentina<br>Confirmed 2142 Deaths 90",
          "Armenia<br>Confirmed 1013 Deaths 13",
          "Australia<br>Confirmed 6315 Deaths 60",
          "Austria<br>Confirmed 13945 Deaths 350",
          "Azerbaijan<br>Confirmed 1098 Deaths 11",
          "Bahamas<br>Confirmed 46 Deaths 8",
          "Bahrain<br>Confirmed 1136 Deaths 6",
          "Bangladesh<br>Confirmed 621 Deaths 34",
          "Barbados<br>Confirmed 71 Deaths 4",
          "Belarus<br>Confirmed 2578 Deaths 26",
          "Belgium<br>Confirmed 29647 Deaths 3600",
          "Belize<br>Confirmed 14 Deaths 2",
          "Benin<br>Confirmed 35 Deaths 1",
          "Bhutan<br>Confirmed 5 Deaths 0",
          "Bolivia<br>Confirmed 300 Deaths 24",
          "Bosnia and Herzegovina<br>Confirmed 1009 Deaths 39",
          "Botswana<br>Confirmed 13 Deaths 1",
          "Brazil<br>Confirmed 22192 Deaths 1223",
          "Brunei<br>Confirmed 136 Deaths 1",
          "Bulgaria<br>Confirmed 675 Deaths 29",
          "Burkina Faso<br>Confirmed 497 Deaths 27",
          "Burma<br>Confirmed 41 Deaths 4",
          "Burundi<br>Confirmed 5 Deaths 0",
          "Cabo Verde<br>Confirmed 8 Deaths 1",
          "Cambodia<br>Confirmed 122 Deaths 0",
          "Cameroon<br>Confirmed 820 Deaths 12",
          "Canada<br>Confirmed 24298 Deaths 714",
          "Central African Republic<br>Confirmed 8 Deaths 0",
          "Chad<br>Confirmed 18 Deaths 0",
          "Chile<br>Confirmed 7213 Deaths 80",
          "China<br>Confirmed 83134 Deaths 3343",
          "Colombia<br>Confirmed 2776 Deaths 109",
          "Congo (Brazzaville)<br>Confirmed 60 Deaths 5",
          "Congo (Kinshasa)<br>Confirmed 234 Deaths 20",
          "Costa Rica<br>Confirmed 595 Deaths 3",
          "Cote d'Ivoire<br>Confirmed 574 Deaths 5",
          "Croatia<br>Confirmed 1600 Deaths 23",
          "Cuba<br>Confirmed 669 Deaths 18",
          "Cyprus<br>Confirmed 633 Deaths 11",
          "Czechia<br>Confirmed 5991 Deaths 138",
          "Denmark<br>Confirmed 6369 Deaths 273",
          "Diamond Princess<br>Confirmed 712 Deaths 11",
          "Djibouti<br>Confirmed 214 Deaths 2",
          "Dominica<br>Confirmed 16 Deaths 0",
          "Dominican Republic<br>Confirmed 2967 Deaths 173",
          "Ecuador<br>Confirmed 7466 Deaths 333",
          "Egypt<br>Confirmed 2065 Deaths 159",
          "El Salvador<br>Confirmed 125 Deaths 6",
          "Equatorial Guinea<br>Confirmed 21 Deaths 0",
          "Eritrea<br>Confirmed 34 Deaths 0",
          "Estonia<br>Confirmed 1309 Deaths 25",
          "Eswatini<br>Confirmed 14 Deaths 0",
          "Ethiopia<br>Confirmed 71 Deaths 3",
          "Fiji<br>Confirmed 16 Deaths 0",
          "Finland<br>Confirmed 2974 Deaths 56",
          "France<br>Confirmed 133670 Deaths 14412",
          "Gabon<br>Confirmed 49 Deaths 1",
          "Gambia<br>Confirmed 9 Deaths 1",
          "Georgia<br>Confirmed 257 Deaths 3",
          "Germany<br>Confirmed 127854 Deaths 3022",
          "Ghana<br>Confirmed 566 Deaths 8",
          "Greece<br>Confirmed 2114 Deaths 98",
          "Grenada<br>Confirmed 14 Deaths 0",
          "Guatemala<br>Confirmed 155 Deaths 5",
          "Guinea<br>Confirmed 250 Deaths 0",
          "Guinea-Bissau<br>Confirmed 38 Deaths 0",
          "Guyana<br>Confirmed 45 Deaths 6",
          "Haiti<br>Confirmed 33 Deaths 3",
          "Holy See<br>Confirmed 8 Deaths 0",
          "Honduras<br>Confirmed 393 Deaths 25",
          "Hungary<br>Confirmed 1410 Deaths 99",
          "Iceland<br>Confirmed 1701 Deaths 8",
          "India<br>Confirmed 9205 Deaths 331",
          "Indonesia<br>Confirmed 4241 Deaths 373",
          "Iran<br>Confirmed 71686 Deaths 4474",
          "Iraq<br>Confirmed 1352 Deaths 76",
          "Ireland<br>Confirmed 9655 Deaths 334",
          "Israel<br>Confirmed 11145 Deaths 103",
          "Italy<br>Confirmed 156363 Deaths 19899",
          "Jamaica<br>Confirmed 69 Deaths 4",
          "Japan<br>Confirmed 6748 Deaths 108",
          "Jordan<br>Confirmed 389 Deaths 7",
          "Kazakhstan<br>Confirmed 951 Deaths 10",
          "Kenya<br>Confirmed 197 Deaths 8",
          "Korea, South<br>Confirmed 10512 Deaths 214",
          "Kosovo<br>Confirmed 283 Deaths 7",
          "Kuwait<br>Confirmed 1234 Deaths 1",
          "Kyrgyzstan<br>Confirmed 377 Deaths 5",
          "Laos<br>Confirmed 19 Deaths 0",
          "Latvia<br>Confirmed 651 Deaths 5",
          "Lebanon<br>Confirmed 630 Deaths 20",
          "Liberia<br>Confirmed 50 Deaths 5",
          "Libya<br>Confirmed 25 Deaths 1",
          "Liechtenstein<br>Confirmed 79 Deaths 1",
          "Lithuania<br>Confirmed 1053 Deaths 23",
          "Luxembourg<br>Confirmed 3281 Deaths 66",
          "MS Zaandam<br>Confirmed 9 Deaths 2",
          "Madagascar<br>Confirmed 106 Deaths 0",
          "Malawi<br>Confirmed 13 Deaths 2",
          "Malaysia<br>Confirmed 4683 Deaths 76",
          "Maldives<br>Confirmed 20 Deaths 0",
          "Mali<br>Confirmed 105 Deaths 9",
          "Malta<br>Confirmed 378 Deaths 3",
          "Mauritania<br>Confirmed 7 Deaths 1",
          "Mauritius<br>Confirmed 324 Deaths 9",
          "Mexico<br>Confirmed 4219 Deaths 273",
          "Moldova<br>Confirmed 1662 Deaths 31",
          "Monaco<br>Confirmed 93 Deaths 1",
          "Mongolia<br>Confirmed 16 Deaths 0",
          "Montenegro<br>Confirmed 272 Deaths 3",
          "Morocco<br>Confirmed 1661 Deaths 118",
          "Mozambique<br>Confirmed 21 Deaths 0",
          "Namibia<br>Confirmed 16 Deaths 0",
          "Nepal<br>Confirmed 12 Deaths 0",
          "Netherlands<br>Confirmed 25746 Deaths 2747",
          "New Zealand<br>Confirmed 1330 Deaths 4",
          "Nicaragua<br>Confirmed 9 Deaths 1",
          "Niger<br>Confirmed 529 Deaths 12",
          "Nigeria<br>Confirmed 323 Deaths 10",
          "North Macedonia<br>Confirmed 828 Deaths 34",
          "Norway<br>Confirmed 6525 Deaths 128",
          "Oman<br>Confirmed 599 Deaths 4",
          "Pakistan<br>Confirmed 5230 Deaths 91",
          "Panama<br>Confirmed 3234 Deaths 79",
          "Papua New Guinea<br>Confirmed 2 Deaths 0",
          "Paraguay<br>Confirmed 134 Deaths 6",
          "Peru<br>Confirmed 7519 Deaths 193",
          "Philippines<br>Confirmed 4648 Deaths 297",
          "Poland<br>Confirmed 6674 Deaths 232",
          "Portugal<br>Confirmed 16585 Deaths 504",
          "Qatar<br>Confirmed 2979 Deaths 7",
          "Romania<br>Confirmed 6300 Deaths 316",
          "Russia<br>Confirmed 15770 Deaths 130",
          "Rwanda<br>Confirmed 126 Deaths 0",
          "Saint Kitts and Nevis<br>Confirmed 12 Deaths 0",
          "Saint Lucia<br>Confirmed 15 Deaths 0",
          "Saint Vincent and the Grenadines<br>Confirmed 12 Deaths 0",
          "San Marino<br>Confirmed 356 Deaths 35",
          "Sao Tome and Principe<br>Confirmed 4 Deaths 0",
          "Saudi Arabia<br>Confirmed 4462 Deaths 59",
          "Senegal<br>Confirmed 280 Deaths 2",
          "Serbia<br>Confirmed 3630 Deaths 80",
          "Seychelles<br>Confirmed 11 Deaths 0",
          "Sierra Leone<br>Confirmed 10 Deaths 0",
          "Singapore<br>Confirmed 2532 Deaths 8",
          "Slovakia<br>Confirmed 742 Deaths 2",
          "Slovenia<br>Confirmed 1205 Deaths 53",
          "Somalia<br>Confirmed 25 Deaths 1",
          "South Africa<br>Confirmed 2173 Deaths 25",
          "South Sudan<br>Confirmed 4 Deaths 0",
          "Spain<br>Confirmed 166831 Deaths 17209",
          "Sri Lanka<br>Confirmed 210 Deaths 7",
          "Sudan<br>Confirmed 19 Deaths 2",
          "Suriname<br>Confirmed 10 Deaths 1",
          "Sweden<br>Confirmed 10483 Deaths 899",
          "Switzerland<br>Confirmed 25415 Deaths 1106",
          "Syria<br>Confirmed 25 Deaths 2",
          "Taiwan*<br>Confirmed 388 Deaths 6",
          "Tanzania<br>Confirmed 32 Deaths 3",
          "Thailand<br>Confirmed 2551 Deaths 38",
          "Timor-Leste<br>Confirmed 2 Deaths 0",
          "Togo<br>Confirmed 76 Deaths 3",
          "Trinidad and Tobago<br>Confirmed 113 Deaths 8",
          "Tunisia<br>Confirmed 707 Deaths 31",
          "Turkey<br>Confirmed 56956 Deaths 1198",
          "US<br>Confirmed 555313 Deaths 22020",
          "Uganda<br>Confirmed 54 Deaths 0",
          "Ukraine<br>Confirmed 2777 Deaths 83",
          "United Arab Emirates<br>Confirmed 4123 Deaths 22",
          "United Kingdom<br>Confirmed 85206 Deaths 10629",
          "Uruguay<br>Confirmed 480 Deaths 7",
          "Uzbekistan<br>Confirmed 865 Deaths 4",
          "Venezuela<br>Confirmed 181 Deaths 9",
          "Vietnam<br>Confirmed 262 Deaths 0",
          "West Bank and Gaza<br>Confirmed 290 Deaths 2",
          "Western Sahara<br>Confirmed 6 Deaths 0",
          "Yemen<br>Confirmed 1 Deaths 0",
          "Zambia<br>Confirmed 43 Deaths 2",
          "Zimbabwe<br>Confirmed 14 Deaths 3"
         ],
         "type": "choropleth",
         "z": [
          "18",
          "23",
          "293",
          "29",
          "2",
          "2",
          "90",
          "13",
          "60",
          "350",
          "11",
          "8",
          "6",
          "34",
          "4",
          "26",
          "3600",
          "2",
          "1",
          "0",
          "24",
          "39",
          "1",
          "1223",
          "1",
          "29",
          "27",
          "4",
          "0",
          "1",
          "0",
          "12",
          "714",
          "0",
          "0",
          "80",
          "3343",
          "109",
          "5",
          "20",
          "3",
          "5",
          "23",
          "18",
          "11",
          "138",
          "273",
          "11",
          "2",
          "0",
          "173",
          "333",
          "159",
          "6",
          "0",
          "0",
          "25",
          "0",
          "3",
          "0",
          "56",
          "14412",
          "1",
          "1",
          "3",
          "3022",
          "8",
          "98",
          "0",
          "5",
          "0",
          "0",
          "6",
          "3",
          "0",
          "25",
          "99",
          "8",
          "331",
          "373",
          "4474",
          "76",
          "334",
          "103",
          "19899",
          "4",
          "108",
          "7",
          "10",
          "8",
          "214",
          "7",
          "1",
          "5",
          "0",
          "5",
          "20",
          "5",
          "1",
          "1",
          "23",
          "66",
          "2",
          "0",
          "2",
          "76",
          "0",
          "9",
          "3",
          "1",
          "9",
          "273",
          "31",
          "1",
          "0",
          "3",
          "118",
          "0",
          "0",
          "0",
          "2747",
          "4",
          "1",
          "12",
          "10",
          "34",
          "128",
          "4",
          "91",
          "79",
          "0",
          "6",
          "193",
          "297",
          "232",
          "504",
          "7",
          "316",
          "130",
          "0",
          "0",
          "0",
          "0",
          "35",
          "0",
          "59",
          "2",
          "80",
          "0",
          "0",
          "8",
          "2",
          "53",
          "1",
          "25",
          "0",
          "17209",
          "7",
          "2",
          "1",
          "899",
          "1106",
          "2",
          "6",
          "3",
          "38",
          "0",
          "3",
          "8",
          "31",
          "1198",
          "22020",
          "0",
          "83",
          "22",
          "10629",
          "7",
          "4",
          "9",
          "0",
          "2",
          "0",
          "0",
          "2",
          "3"
         ]
        }
       ],
       "layout": {
        "geo": {
         "scope": "world"
        },
        "template": {
         "data": {
          "bar": [
           {
            "error_x": {
             "color": "#2a3f5f"
            },
            "error_y": {
             "color": "#2a3f5f"
            },
            "marker": {
             "line": {
              "color": "#E5ECF6",
              "width": 0.5
             }
            },
            "type": "bar"
           }
          ],
          "barpolar": [
           {
            "marker": {
             "line": {
              "color": "#E5ECF6",
              "width": 0.5
             }
            },
            "type": "barpolar"
           }
          ],
          "carpet": [
           {
            "aaxis": {
             "endlinecolor": "#2a3f5f",
             "gridcolor": "white",
             "linecolor": "white",
             "minorgridcolor": "white",
             "startlinecolor": "#2a3f5f"
            },
            "baxis": {
             "endlinecolor": "#2a3f5f",
             "gridcolor": "white",
             "linecolor": "white",
             "minorgridcolor": "white",
             "startlinecolor": "#2a3f5f"
            },
            "type": "carpet"
           }
          ],
          "choropleth": [
           {
            "colorbar": {
             "outlinewidth": 0,
             "ticks": ""
            },
            "type": "choropleth"
           }
          ],
          "contour": [
           {
            "colorbar": {
             "outlinewidth": 0,
             "ticks": ""
            },
            "colorscale": [
             [
              0,
              "#0d0887"
             ],
             [
              0.1111111111111111,
              "#46039f"
             ],
             [
              0.2222222222222222,
              "#7201a8"
             ],
             [
              0.3333333333333333,
              "#9c179e"
             ],
             [
              0.4444444444444444,
              "#bd3786"
             ],
             [
              0.5555555555555556,
              "#d8576b"
             ],
             [
              0.6666666666666666,
              "#ed7953"
             ],
             [
              0.7777777777777778,
              "#fb9f3a"
             ],
             [
              0.8888888888888888,
              "#fdca26"
             ],
             [
              1,
              "#f0f921"
             ]
            ],
            "type": "contour"
           }
          ],
          "contourcarpet": [
           {
            "colorbar": {
             "outlinewidth": 0,
             "ticks": ""
            },
            "type": "contourcarpet"
           }
          ],
          "heatmap": [
           {
            "colorbar": {
             "outlinewidth": 0,
             "ticks": ""
            },
            "colorscale": [
             [
              0,
              "#0d0887"
             ],
             [
              0.1111111111111111,
              "#46039f"
             ],
             [
              0.2222222222222222,
              "#7201a8"
             ],
             [
              0.3333333333333333,
              "#9c179e"
             ],
             [
              0.4444444444444444,
              "#bd3786"
             ],
             [
              0.5555555555555556,
              "#d8576b"
             ],
             [
              0.6666666666666666,
              "#ed7953"
             ],
             [
              0.7777777777777778,
              "#fb9f3a"
             ],
             [
              0.8888888888888888,
              "#fdca26"
             ],
             [
              1,
              "#f0f921"
             ]
            ],
            "type": "heatmap"
           }
          ],
          "heatmapgl": [
           {
            "colorbar": {
             "outlinewidth": 0,
             "ticks": ""
            },
            "colorscale": [
             [
              0,
              "#0d0887"
             ],
             [
              0.1111111111111111,
              "#46039f"
             ],
             [
              0.2222222222222222,
              "#7201a8"
             ],
             [
              0.3333333333333333,
              "#9c179e"
             ],
             [
              0.4444444444444444,
              "#bd3786"
             ],
             [
              0.5555555555555556,
              "#d8576b"
             ],
             [
              0.6666666666666666,
              "#ed7953"
             ],
             [
              0.7777777777777778,
              "#fb9f3a"
             ],
             [
              0.8888888888888888,
              "#fdca26"
             ],
             [
              1,
              "#f0f921"
             ]
            ],
            "type": "heatmapgl"
           }
          ],
          "histogram": [
           {
            "marker": {
             "colorbar": {
              "outlinewidth": 0,
              "ticks": ""
             }
            },
            "type": "histogram"
           }
          ],
          "histogram2d": [
           {
            "colorbar": {
             "outlinewidth": 0,
             "ticks": ""
            },
            "colorscale": [
             [
              0,
              "#0d0887"
             ],
             [
              0.1111111111111111,
              "#46039f"
             ],
             [
              0.2222222222222222,
              "#7201a8"
             ],
             [
              0.3333333333333333,
              "#9c179e"
             ],
             [
              0.4444444444444444,
              "#bd3786"
             ],
             [
              0.5555555555555556,
              "#d8576b"
             ],
             [
              0.6666666666666666,
              "#ed7953"
             ],
             [
              0.7777777777777778,
              "#fb9f3a"
             ],
             [
              0.8888888888888888,
              "#fdca26"
             ],
             [
              1,
              "#f0f921"
             ]
            ],
            "type": "histogram2d"
           }
          ],
          "histogram2dcontour": [
           {
            "colorbar": {
             "outlinewidth": 0,
             "ticks": ""
            },
            "colorscale": [
             [
              0,
              "#0d0887"
             ],
             [
              0.1111111111111111,
              "#46039f"
             ],
             [
              0.2222222222222222,
              "#7201a8"
             ],
             [
              0.3333333333333333,
              "#9c179e"
             ],
             [
              0.4444444444444444,
              "#bd3786"
             ],
             [
              0.5555555555555556,
              "#d8576b"
             ],
             [
              0.6666666666666666,
              "#ed7953"
             ],
             [
              0.7777777777777778,
              "#fb9f3a"
             ],
             [
              0.8888888888888888,
              "#fdca26"
             ],
             [
              1,
              "#f0f921"
             ]
            ],
            "type": "histogram2dcontour"
           }
          ],
          "mesh3d": [
           {
            "colorbar": {
             "outlinewidth": 0,
             "ticks": ""
            },
            "type": "mesh3d"
           }
          ],
          "parcoords": [
           {
            "line": {
             "colorbar": {
              "outlinewidth": 0,
              "ticks": ""
             }
            },
            "type": "parcoords"
           }
          ],
          "pie": [
           {
            "automargin": true,
            "type": "pie"
           }
          ],
          "scatter": [
           {
            "marker": {
             "colorbar": {
              "outlinewidth": 0,
              "ticks": ""
             }
            },
            "type": "scatter"
           }
          ],
          "scatter3d": [
           {
            "line": {
             "colorbar": {
              "outlinewidth": 0,
              "ticks": ""
             }
            },
            "marker": {
             "colorbar": {
              "outlinewidth": 0,
              "ticks": ""
             }
            },
            "type": "scatter3d"
           }
          ],
          "scattercarpet": [
           {
            "marker": {
             "colorbar": {
              "outlinewidth": 0,
              "ticks": ""
             }
            },
            "type": "scattercarpet"
           }
          ],
          "scattergeo": [
           {
            "marker": {
             "colorbar": {
              "outlinewidth": 0,
              "ticks": ""
             }
            },
            "type": "scattergeo"
           }
          ],
          "scattergl": [
           {
            "marker": {
             "colorbar": {
              "outlinewidth": 0,
              "ticks": ""
             }
            },
            "type": "scattergl"
           }
          ],
          "scattermapbox": [
           {
            "marker": {
             "colorbar": {
              "outlinewidth": 0,
              "ticks": ""
             }
            },
            "type": "scattermapbox"
           }
          ],
          "scatterpolar": [
           {
            "marker": {
             "colorbar": {
              "outlinewidth": 0,
              "ticks": ""
             }
            },
            "type": "scatterpolar"
           }
          ],
          "scatterpolargl": [
           {
            "marker": {
             "colorbar": {
              "outlinewidth": 0,
              "ticks": ""
             }
            },
            "type": "scatterpolargl"
           }
          ],
          "scatterternary": [
           {
            "marker": {
             "colorbar": {
              "outlinewidth": 0,
              "ticks": ""
             }
            },
            "type": "scatterternary"
           }
          ],
          "surface": [
           {
            "colorbar": {
             "outlinewidth": 0,
             "ticks": ""
            },
            "colorscale": [
             [
              0,
              "#0d0887"
             ],
             [
              0.1111111111111111,
              "#46039f"
             ],
             [
              0.2222222222222222,
              "#7201a8"
             ],
             [
              0.3333333333333333,
              "#9c179e"
             ],
             [
              0.4444444444444444,
              "#bd3786"
             ],
             [
              0.5555555555555556,
              "#d8576b"
             ],
             [
              0.6666666666666666,
              "#ed7953"
             ],
             [
              0.7777777777777778,
              "#fb9f3a"
             ],
             [
              0.8888888888888888,
              "#fdca26"
             ],
             [
              1,
              "#f0f921"
             ]
            ],
            "type": "surface"
           }
          ],
          "table": [
           {
            "cells": {
             "fill": {
              "color": "#EBF0F8"
             },
             "line": {
              "color": "white"
             }
            },
            "header": {
             "fill": {
              "color": "#C8D4E3"
             },
             "line": {
              "color": "white"
             }
            },
            "type": "table"
           }
          ]
         },
         "layout": {
          "annotationdefaults": {
           "arrowcolor": "#2a3f5f",
           "arrowhead": 0,
           "arrowwidth": 1
          },
          "coloraxis": {
           "colorbar": {
            "outlinewidth": 0,
            "ticks": ""
           }
          },
          "colorscale": {
           "diverging": [
            [
             0,
             "#8e0152"
            ],
            [
             0.1,
             "#c51b7d"
            ],
            [
             0.2,
             "#de77ae"
            ],
            [
             0.3,
             "#f1b6da"
            ],
            [
             0.4,
             "#fde0ef"
            ],
            [
             0.5,
             "#f7f7f7"
            ],
            [
             0.6,
             "#e6f5d0"
            ],
            [
             0.7,
             "#b8e186"
            ],
            [
             0.8,
             "#7fbc41"
            ],
            [
             0.9,
             "#4d9221"
            ],
            [
             1,
             "#276419"
            ]
           ],
           "sequential": [
            [
             0,
             "#0d0887"
            ],
            [
             0.1111111111111111,
             "#46039f"
            ],
            [
             0.2222222222222222,
             "#7201a8"
            ],
            [
             0.3333333333333333,
             "#9c179e"
            ],
            [
             0.4444444444444444,
             "#bd3786"
            ],
            [
             0.5555555555555556,
             "#d8576b"
            ],
            [
             0.6666666666666666,
             "#ed7953"
            ],
            [
             0.7777777777777778,
             "#fb9f3a"
            ],
            [
             0.8888888888888888,
             "#fdca26"
            ],
            [
             1,
             "#f0f921"
            ]
           ],
           "sequentialminus": [
            [
             0,
             "#0d0887"
            ],
            [
             0.1111111111111111,
             "#46039f"
            ],
            [
             0.2222222222222222,
             "#7201a8"
            ],
            [
             0.3333333333333333,
             "#9c179e"
            ],
            [
             0.4444444444444444,
             "#bd3786"
            ],
            [
             0.5555555555555556,
             "#d8576b"
            ],
            [
             0.6666666666666666,
             "#ed7953"
            ],
            [
             0.7777777777777778,
             "#fb9f3a"
            ],
            [
             0.8888888888888888,
             "#fdca26"
            ],
            [
             1,
             "#f0f921"
            ]
           ]
          },
          "colorway": [
           "#636efa",
           "#EF553B",
           "#00cc96",
           "#ab63fa",
           "#FFA15A",
           "#19d3f3",
           "#FF6692",
           "#B6E880",
           "#FF97FF",
           "#FECB52"
          ],
          "font": {
           "color": "#2a3f5f"
          },
          "geo": {
           "bgcolor": "white",
           "lakecolor": "white",
           "landcolor": "#E5ECF6",
           "showlakes": true,
           "showland": true,
           "subunitcolor": "white"
          },
          "hoverlabel": {
           "align": "left"
          },
          "hovermode": "closest",
          "mapbox": {
           "style": "light"
          },
          "paper_bgcolor": "white",
          "plot_bgcolor": "#E5ECF6",
          "polar": {
           "angularaxis": {
            "gridcolor": "white",
            "linecolor": "white",
            "ticks": ""
           },
           "bgcolor": "#E5ECF6",
           "radialaxis": {
            "gridcolor": "white",
            "linecolor": "white",
            "ticks": ""
           }
          },
          "scene": {
           "xaxis": {
            "backgroundcolor": "#E5ECF6",
            "gridcolor": "white",
            "gridwidth": 2,
            "linecolor": "white",
            "showbackground": true,
            "ticks": "",
            "zerolinecolor": "white"
           },
           "yaxis": {
            "backgroundcolor": "#E5ECF6",
            "gridcolor": "white",
            "gridwidth": 2,
            "linecolor": "white",
            "showbackground": true,
            "ticks": "",
            "zerolinecolor": "white"
           },
           "zaxis": {
            "backgroundcolor": "#E5ECF6",
            "gridcolor": "white",
            "gridwidth": 2,
            "linecolor": "white",
            "showbackground": true,
            "ticks": "",
            "zerolinecolor": "white"
           }
          },
          "shapedefaults": {
           "line": {
            "color": "#2a3f5f"
           }
          },
          "ternary": {
           "aaxis": {
            "gridcolor": "white",
            "linecolor": "white",
            "ticks": ""
           },
           "baxis": {
            "gridcolor": "white",
            "linecolor": "white",
            "ticks": ""
           },
           "bgcolor": "#E5ECF6",
           "caxis": {
            "gridcolor": "white",
            "linecolor": "white",
            "ticks": ""
           }
          },
          "title": {
           "x": 0.05
          },
          "xaxis": {
           "automargin": true,
           "gridcolor": "white",
           "linecolor": "white",
           "ticks": "",
           "title": {
            "standoff": 15
           },
           "zerolinecolor": "white",
           "zerolinewidth": 2
          },
          "yaxis": {
           "automargin": true,
           "gridcolor": "white",
           "linecolor": "white",
           "ticks": "",
           "title": {
            "standoff": 15
           },
           "zerolinecolor": "white",
           "zerolinewidth": 2
          }
         }
        },
        "title": {
         "text": "COVID-19 Death Per Country as of Apr 2020"
        }
       }
      },
      "text/html": [
       "<div>\n",
       "        \n",
       "        \n",
       "            <div id=\"4b55eef9-4e2e-4aa1-ab27-e441e3753874\" class=\"plotly-graph-div\" style=\"height:525px; width:100%;\"></div>\n",
       "            <script type=\"text/javascript\">\n",
       "                require([\"plotly\"], function(Plotly) {\n",
       "                    window.PLOTLYENV=window.PLOTLYENV || {};\n",
       "                    \n",
       "                if (document.getElementById(\"4b55eef9-4e2e-4aa1-ab27-e441e3753874\")) {\n",
       "                    Plotly.newPlot(\n",
       "                        '4b55eef9-4e2e-4aa1-ab27-e441e3753874',\n",
       "                        [{\"colorbar\": {\"title\": {\"text\": \"Number of deaths\"}}, \"colorscale\": [[0.0, \"rgb(12,51,131)\"], [0.25, \"rgb(10,136,186)\"], [0.5, \"rgb(242,211,56)\"], [0.75, \"rgb(242,143,56)\"], [1.0, \"rgb(217,30,30)\"]], \"locationmode\": \"country names\", \"locations\": [\"Afghanistan\", \"Albania\", \"Algeria\", \"Andorra\", \"Angola\", \"Antigua and Barbuda\", \"Argentina\", \"Armenia\", \"Australia\", \"Austria\", \"Azerbaijan\", \"Bahamas\", \"Bahrain\", \"Bangladesh\", \"Barbados\", \"Belarus\", \"Belgium\", \"Belize\", \"Benin\", \"Bhutan\", \"Bolivia\", \"Bosnia and Herzegovina\", \"Botswana\", \"Brazil\", \"Brunei\", \"Bulgaria\", \"Burkina Faso\", \"Burma\", \"Burundi\", \"Cabo Verde\", \"Cambodia\", \"Cameroon\", \"Canada\", \"Central African Republic\", \"Chad\", \"Chile\", \"China\", \"Colombia\", \"Congo (Brazzaville)\", \"Congo (Kinshasa)\", \"Costa Rica\", \"Cote d'Ivoire\", \"Croatia\", \"Cuba\", \"Cyprus\", \"Czechia\", \"Denmark\", \"Diamond Princess\", \"Djibouti\", \"Dominica\", \"Dominican Republic\", \"Ecuador\", \"Egypt\", \"El Salvador\", \"Equatorial Guinea\", \"Eritrea\", \"Estonia\", \"Eswatini\", \"Ethiopia\", \"Fiji\", \"Finland\", \"France\", \"Gabon\", \"Gambia\", \"Georgia\", \"Germany\", \"Ghana\", \"Greece\", \"Grenada\", \"Guatemala\", \"Guinea\", \"Guinea-Bissau\", \"Guyana\", \"Haiti\", \"Holy See\", \"Honduras\", \"Hungary\", \"Iceland\", \"India\", \"Indonesia\", \"Iran\", \"Iraq\", \"Ireland\", \"Israel\", \"Italy\", \"Jamaica\", \"Japan\", \"Jordan\", \"Kazakhstan\", \"Kenya\", \"Korea, South\", \"Kosovo\", \"Kuwait\", \"Kyrgyzstan\", \"Laos\", \"Latvia\", \"Lebanon\", \"Liberia\", \"Libya\", \"Liechtenstein\", \"Lithuania\", \"Luxembourg\", \"MS Zaandam\", \"Madagascar\", \"Malawi\", \"Malaysia\", \"Maldives\", \"Mali\", \"Malta\", \"Mauritania\", \"Mauritius\", \"Mexico\", \"Moldova\", \"Monaco\", \"Mongolia\", \"Montenegro\", \"Morocco\", \"Mozambique\", \"Namibia\", \"Nepal\", \"Netherlands\", \"New Zealand\", \"Nicaragua\", \"Niger\", \"Nigeria\", \"North Macedonia\", \"Norway\", \"Oman\", \"Pakistan\", \"Panama\", \"Papua New Guinea\", \"Paraguay\", \"Peru\", \"Philippines\", \"Poland\", \"Portugal\", \"Qatar\", \"Romania\", \"Russia\", \"Rwanda\", \"Saint Kitts and Nevis\", \"Saint Lucia\", \"Saint Vincent and the Grenadines\", \"San Marino\", \"Sao Tome and Principe\", \"Saudi Arabia\", \"Senegal\", \"Serbia\", \"Seychelles\", \"Sierra Leone\", \"Singapore\", \"Slovakia\", \"Slovenia\", \"Somalia\", \"South Africa\", \"South Sudan\", \"Spain\", \"Sri Lanka\", \"Sudan\", \"Suriname\", \"Sweden\", \"Switzerland\", \"Syria\", \"Taiwan*\", \"Tanzania\", \"Thailand\", \"Timor-Leste\", \"Togo\", \"Trinidad and Tobago\", \"Tunisia\", \"Turkey\", \"US\", \"Uganda\", \"Ukraine\", \"United Arab Emirates\", \"United Kingdom\", \"Uruguay\", \"Uzbekistan\", \"Venezuela\", \"Vietnam\", \"West Bank and Gaza\", \"Western Sahara\", \"Yemen\", \"Zambia\", \"Zimbabwe\"], \"marker\": {\"line\": {\"color\": \"rgb(255,255,255)\", \"width\": 0.5}}, \"text\": [\"Afghanistan<br>Confirmed 607 Deaths 18\", \"Albania<br>Confirmed 446 Deaths 23\", \"Algeria<br>Confirmed 1914 Deaths 293\", \"Andorra<br>Confirmed 638 Deaths 29\", \"Angola<br>Confirmed 19 Deaths 2\", \"Antigua and Barbuda<br>Confirmed 21 Deaths 2\", \"Argentina<br>Confirmed 2142 Deaths 90\", \"Armenia<br>Confirmed 1013 Deaths 13\", \"Australia<br>Confirmed 6315 Deaths 60\", \"Austria<br>Confirmed 13945 Deaths 350\", \"Azerbaijan<br>Confirmed 1098 Deaths 11\", \"Bahamas<br>Confirmed 46 Deaths 8\", \"Bahrain<br>Confirmed 1136 Deaths 6\", \"Bangladesh<br>Confirmed 621 Deaths 34\", \"Barbados<br>Confirmed 71 Deaths 4\", \"Belarus<br>Confirmed 2578 Deaths 26\", \"Belgium<br>Confirmed 29647 Deaths 3600\", \"Belize<br>Confirmed 14 Deaths 2\", \"Benin<br>Confirmed 35 Deaths 1\", \"Bhutan<br>Confirmed 5 Deaths 0\", \"Bolivia<br>Confirmed 300 Deaths 24\", \"Bosnia and Herzegovina<br>Confirmed 1009 Deaths 39\", \"Botswana<br>Confirmed 13 Deaths 1\", \"Brazil<br>Confirmed 22192 Deaths 1223\", \"Brunei<br>Confirmed 136 Deaths 1\", \"Bulgaria<br>Confirmed 675 Deaths 29\", \"Burkina Faso<br>Confirmed 497 Deaths 27\", \"Burma<br>Confirmed 41 Deaths 4\", \"Burundi<br>Confirmed 5 Deaths 0\", \"Cabo Verde<br>Confirmed 8 Deaths 1\", \"Cambodia<br>Confirmed 122 Deaths 0\", \"Cameroon<br>Confirmed 820 Deaths 12\", \"Canada<br>Confirmed 24298 Deaths 714\", \"Central African Republic<br>Confirmed 8 Deaths 0\", \"Chad<br>Confirmed 18 Deaths 0\", \"Chile<br>Confirmed 7213 Deaths 80\", \"China<br>Confirmed 83134 Deaths 3343\", \"Colombia<br>Confirmed 2776 Deaths 109\", \"Congo (Brazzaville)<br>Confirmed 60 Deaths 5\", \"Congo (Kinshasa)<br>Confirmed 234 Deaths 20\", \"Costa Rica<br>Confirmed 595 Deaths 3\", \"Cote d'Ivoire<br>Confirmed 574 Deaths 5\", \"Croatia<br>Confirmed 1600 Deaths 23\", \"Cuba<br>Confirmed 669 Deaths 18\", \"Cyprus<br>Confirmed 633 Deaths 11\", \"Czechia<br>Confirmed 5991 Deaths 138\", \"Denmark<br>Confirmed 6369 Deaths 273\", \"Diamond Princess<br>Confirmed 712 Deaths 11\", \"Djibouti<br>Confirmed 214 Deaths 2\", \"Dominica<br>Confirmed 16 Deaths 0\", \"Dominican Republic<br>Confirmed 2967 Deaths 173\", \"Ecuador<br>Confirmed 7466 Deaths 333\", \"Egypt<br>Confirmed 2065 Deaths 159\", \"El Salvador<br>Confirmed 125 Deaths 6\", \"Equatorial Guinea<br>Confirmed 21 Deaths 0\", \"Eritrea<br>Confirmed 34 Deaths 0\", \"Estonia<br>Confirmed 1309 Deaths 25\", \"Eswatini<br>Confirmed 14 Deaths 0\", \"Ethiopia<br>Confirmed 71 Deaths 3\", \"Fiji<br>Confirmed 16 Deaths 0\", \"Finland<br>Confirmed 2974 Deaths 56\", \"France<br>Confirmed 133670 Deaths 14412\", \"Gabon<br>Confirmed 49 Deaths 1\", \"Gambia<br>Confirmed 9 Deaths 1\", \"Georgia<br>Confirmed 257 Deaths 3\", \"Germany<br>Confirmed 127854 Deaths 3022\", \"Ghana<br>Confirmed 566 Deaths 8\", \"Greece<br>Confirmed 2114 Deaths 98\", \"Grenada<br>Confirmed 14 Deaths 0\", \"Guatemala<br>Confirmed 155 Deaths 5\", \"Guinea<br>Confirmed 250 Deaths 0\", \"Guinea-Bissau<br>Confirmed 38 Deaths 0\", \"Guyana<br>Confirmed 45 Deaths 6\", \"Haiti<br>Confirmed 33 Deaths 3\", \"Holy See<br>Confirmed 8 Deaths 0\", \"Honduras<br>Confirmed 393 Deaths 25\", \"Hungary<br>Confirmed 1410 Deaths 99\", \"Iceland<br>Confirmed 1701 Deaths 8\", \"India<br>Confirmed 9205 Deaths 331\", \"Indonesia<br>Confirmed 4241 Deaths 373\", \"Iran<br>Confirmed 71686 Deaths 4474\", \"Iraq<br>Confirmed 1352 Deaths 76\", \"Ireland<br>Confirmed 9655 Deaths 334\", \"Israel<br>Confirmed 11145 Deaths 103\", \"Italy<br>Confirmed 156363 Deaths 19899\", \"Jamaica<br>Confirmed 69 Deaths 4\", \"Japan<br>Confirmed 6748 Deaths 108\", \"Jordan<br>Confirmed 389 Deaths 7\", \"Kazakhstan<br>Confirmed 951 Deaths 10\", \"Kenya<br>Confirmed 197 Deaths 8\", \"Korea, South<br>Confirmed 10512 Deaths 214\", \"Kosovo<br>Confirmed 283 Deaths 7\", \"Kuwait<br>Confirmed 1234 Deaths 1\", \"Kyrgyzstan<br>Confirmed 377 Deaths 5\", \"Laos<br>Confirmed 19 Deaths 0\", \"Latvia<br>Confirmed 651 Deaths 5\", \"Lebanon<br>Confirmed 630 Deaths 20\", \"Liberia<br>Confirmed 50 Deaths 5\", \"Libya<br>Confirmed 25 Deaths 1\", \"Liechtenstein<br>Confirmed 79 Deaths 1\", \"Lithuania<br>Confirmed 1053 Deaths 23\", \"Luxembourg<br>Confirmed 3281 Deaths 66\", \"MS Zaandam<br>Confirmed 9 Deaths 2\", \"Madagascar<br>Confirmed 106 Deaths 0\", \"Malawi<br>Confirmed 13 Deaths 2\", \"Malaysia<br>Confirmed 4683 Deaths 76\", \"Maldives<br>Confirmed 20 Deaths 0\", \"Mali<br>Confirmed 105 Deaths 9\", \"Malta<br>Confirmed 378 Deaths 3\", \"Mauritania<br>Confirmed 7 Deaths 1\", \"Mauritius<br>Confirmed 324 Deaths 9\", \"Mexico<br>Confirmed 4219 Deaths 273\", \"Moldova<br>Confirmed 1662 Deaths 31\", \"Monaco<br>Confirmed 93 Deaths 1\", \"Mongolia<br>Confirmed 16 Deaths 0\", \"Montenegro<br>Confirmed 272 Deaths 3\", \"Morocco<br>Confirmed 1661 Deaths 118\", \"Mozambique<br>Confirmed 21 Deaths 0\", \"Namibia<br>Confirmed 16 Deaths 0\", \"Nepal<br>Confirmed 12 Deaths 0\", \"Netherlands<br>Confirmed 25746 Deaths 2747\", \"New Zealand<br>Confirmed 1330 Deaths 4\", \"Nicaragua<br>Confirmed 9 Deaths 1\", \"Niger<br>Confirmed 529 Deaths 12\", \"Nigeria<br>Confirmed 323 Deaths 10\", \"North Macedonia<br>Confirmed 828 Deaths 34\", \"Norway<br>Confirmed 6525 Deaths 128\", \"Oman<br>Confirmed 599 Deaths 4\", \"Pakistan<br>Confirmed 5230 Deaths 91\", \"Panama<br>Confirmed 3234 Deaths 79\", \"Papua New Guinea<br>Confirmed 2 Deaths 0\", \"Paraguay<br>Confirmed 134 Deaths 6\", \"Peru<br>Confirmed 7519 Deaths 193\", \"Philippines<br>Confirmed 4648 Deaths 297\", \"Poland<br>Confirmed 6674 Deaths 232\", \"Portugal<br>Confirmed 16585 Deaths 504\", \"Qatar<br>Confirmed 2979 Deaths 7\", \"Romania<br>Confirmed 6300 Deaths 316\", \"Russia<br>Confirmed 15770 Deaths 130\", \"Rwanda<br>Confirmed 126 Deaths 0\", \"Saint Kitts and Nevis<br>Confirmed 12 Deaths 0\", \"Saint Lucia<br>Confirmed 15 Deaths 0\", \"Saint Vincent and the Grenadines<br>Confirmed 12 Deaths 0\", \"San Marino<br>Confirmed 356 Deaths 35\", \"Sao Tome and Principe<br>Confirmed 4 Deaths 0\", \"Saudi Arabia<br>Confirmed 4462 Deaths 59\", \"Senegal<br>Confirmed 280 Deaths 2\", \"Serbia<br>Confirmed 3630 Deaths 80\", \"Seychelles<br>Confirmed 11 Deaths 0\", \"Sierra Leone<br>Confirmed 10 Deaths 0\", \"Singapore<br>Confirmed 2532 Deaths 8\", \"Slovakia<br>Confirmed 742 Deaths 2\", \"Slovenia<br>Confirmed 1205 Deaths 53\", \"Somalia<br>Confirmed 25 Deaths 1\", \"South Africa<br>Confirmed 2173 Deaths 25\", \"South Sudan<br>Confirmed 4 Deaths 0\", \"Spain<br>Confirmed 166831 Deaths 17209\", \"Sri Lanka<br>Confirmed 210 Deaths 7\", \"Sudan<br>Confirmed 19 Deaths 2\", \"Suriname<br>Confirmed 10 Deaths 1\", \"Sweden<br>Confirmed 10483 Deaths 899\", \"Switzerland<br>Confirmed 25415 Deaths 1106\", \"Syria<br>Confirmed 25 Deaths 2\", \"Taiwan*<br>Confirmed 388 Deaths 6\", \"Tanzania<br>Confirmed 32 Deaths 3\", \"Thailand<br>Confirmed 2551 Deaths 38\", \"Timor-Leste<br>Confirmed 2 Deaths 0\", \"Togo<br>Confirmed 76 Deaths 3\", \"Trinidad and Tobago<br>Confirmed 113 Deaths 8\", \"Tunisia<br>Confirmed 707 Deaths 31\", \"Turkey<br>Confirmed 56956 Deaths 1198\", \"US<br>Confirmed 555313 Deaths 22020\", \"Uganda<br>Confirmed 54 Deaths 0\", \"Ukraine<br>Confirmed 2777 Deaths 83\", \"United Arab Emirates<br>Confirmed 4123 Deaths 22\", \"United Kingdom<br>Confirmed 85206 Deaths 10629\", \"Uruguay<br>Confirmed 480 Deaths 7\", \"Uzbekistan<br>Confirmed 865 Deaths 4\", \"Venezuela<br>Confirmed 181 Deaths 9\", \"Vietnam<br>Confirmed 262 Deaths 0\", \"West Bank and Gaza<br>Confirmed 290 Deaths 2\", \"Western Sahara<br>Confirmed 6 Deaths 0\", \"Yemen<br>Confirmed 1 Deaths 0\", \"Zambia<br>Confirmed 43 Deaths 2\", \"Zimbabwe<br>Confirmed 14 Deaths 3\"], \"type\": \"choropleth\", \"z\": [\"18\", \"23\", \"293\", \"29\", \"2\", \"2\", \"90\", \"13\", \"60\", \"350\", \"11\", \"8\", \"6\", \"34\", \"4\", \"26\", \"3600\", \"2\", \"1\", \"0\", \"24\", \"39\", \"1\", \"1223\", \"1\", \"29\", \"27\", \"4\", \"0\", \"1\", \"0\", \"12\", \"714\", \"0\", \"0\", \"80\", \"3343\", \"109\", \"5\", \"20\", \"3\", \"5\", \"23\", \"18\", \"11\", \"138\", \"273\", \"11\", \"2\", \"0\", \"173\", \"333\", \"159\", \"6\", \"0\", \"0\", \"25\", \"0\", \"3\", \"0\", \"56\", \"14412\", \"1\", \"1\", \"3\", \"3022\", \"8\", \"98\", \"0\", \"5\", \"0\", \"0\", \"6\", \"3\", \"0\", \"25\", \"99\", \"8\", \"331\", \"373\", \"4474\", \"76\", \"334\", \"103\", \"19899\", \"4\", \"108\", \"7\", \"10\", \"8\", \"214\", \"7\", \"1\", \"5\", \"0\", \"5\", \"20\", \"5\", \"1\", \"1\", \"23\", \"66\", \"2\", \"0\", \"2\", \"76\", \"0\", \"9\", \"3\", \"1\", \"9\", \"273\", \"31\", \"1\", \"0\", \"3\", \"118\", \"0\", \"0\", \"0\", \"2747\", \"4\", \"1\", \"12\", \"10\", \"34\", \"128\", \"4\", \"91\", \"79\", \"0\", \"6\", \"193\", \"297\", \"232\", \"504\", \"7\", \"316\", \"130\", \"0\", \"0\", \"0\", \"0\", \"35\", \"0\", \"59\", \"2\", \"80\", \"0\", \"0\", \"8\", \"2\", \"53\", \"1\", \"25\", \"0\", \"17209\", \"7\", \"2\", \"1\", \"899\", \"1106\", \"2\", \"6\", \"3\", \"38\", \"0\", \"3\", \"8\", \"31\", \"1198\", \"22020\", \"0\", \"83\", \"22\", \"10629\", \"7\", \"4\", \"9\", \"0\", \"2\", \"0\", \"0\", \"2\", \"3\"]}],\n",
       "                        {\"geo\": {\"scope\": \"world\"}, \"template\": {\"data\": {\"bar\": [{\"error_x\": {\"color\": \"#2a3f5f\"}, \"error_y\": {\"color\": \"#2a3f5f\"}, \"marker\": {\"line\": {\"color\": \"#E5ECF6\", \"width\": 0.5}}, \"type\": \"bar\"}], \"barpolar\": [{\"marker\": {\"line\": {\"color\": \"#E5ECF6\", \"width\": 0.5}}, \"type\": \"barpolar\"}], \"carpet\": [{\"aaxis\": {\"endlinecolor\": \"#2a3f5f\", \"gridcolor\": \"white\", \"linecolor\": \"white\", \"minorgridcolor\": \"white\", \"startlinecolor\": \"#2a3f5f\"}, \"baxis\": {\"endlinecolor\": \"#2a3f5f\", \"gridcolor\": \"white\", \"linecolor\": \"white\", \"minorgridcolor\": \"white\", \"startlinecolor\": \"#2a3f5f\"}, \"type\": \"carpet\"}], \"choropleth\": [{\"colorbar\": {\"outlinewidth\": 0, \"ticks\": \"\"}, \"type\": \"choropleth\"}], \"contour\": [{\"colorbar\": {\"outlinewidth\": 0, \"ticks\": \"\"}, \"colorscale\": [[0.0, \"#0d0887\"], [0.1111111111111111, \"#46039f\"], [0.2222222222222222, \"#7201a8\"], [0.3333333333333333, \"#9c179e\"], [0.4444444444444444, \"#bd3786\"], [0.5555555555555556, \"#d8576b\"], [0.6666666666666666, \"#ed7953\"], [0.7777777777777778, \"#fb9f3a\"], [0.8888888888888888, \"#fdca26\"], [1.0, \"#f0f921\"]], \"type\": \"contour\"}], \"contourcarpet\": [{\"colorbar\": {\"outlinewidth\": 0, \"ticks\": \"\"}, \"type\": \"contourcarpet\"}], \"heatmap\": [{\"colorbar\": {\"outlinewidth\": 0, \"ticks\": \"\"}, \"colorscale\": [[0.0, \"#0d0887\"], [0.1111111111111111, \"#46039f\"], [0.2222222222222222, \"#7201a8\"], [0.3333333333333333, \"#9c179e\"], [0.4444444444444444, \"#bd3786\"], [0.5555555555555556, \"#d8576b\"], [0.6666666666666666, \"#ed7953\"], [0.7777777777777778, \"#fb9f3a\"], [0.8888888888888888, \"#fdca26\"], [1.0, \"#f0f921\"]], \"type\": \"heatmap\"}], \"heatmapgl\": [{\"colorbar\": {\"outlinewidth\": 0, \"ticks\": \"\"}, \"colorscale\": [[0.0, \"#0d0887\"], [0.1111111111111111, \"#46039f\"], [0.2222222222222222, \"#7201a8\"], [0.3333333333333333, \"#9c179e\"], [0.4444444444444444, \"#bd3786\"], [0.5555555555555556, \"#d8576b\"], [0.6666666666666666, \"#ed7953\"], [0.7777777777777778, \"#fb9f3a\"], [0.8888888888888888, \"#fdca26\"], [1.0, \"#f0f921\"]], \"type\": \"heatmapgl\"}], \"histogram\": [{\"marker\": {\"colorbar\": {\"outlinewidth\": 0, \"ticks\": \"\"}}, \"type\": \"histogram\"}], \"histogram2d\": [{\"colorbar\": {\"outlinewidth\": 0, \"ticks\": \"\"}, \"colorscale\": [[0.0, \"#0d0887\"], [0.1111111111111111, \"#46039f\"], [0.2222222222222222, \"#7201a8\"], [0.3333333333333333, \"#9c179e\"], [0.4444444444444444, \"#bd3786\"], [0.5555555555555556, \"#d8576b\"], [0.6666666666666666, \"#ed7953\"], [0.7777777777777778, \"#fb9f3a\"], [0.8888888888888888, \"#fdca26\"], [1.0, \"#f0f921\"]], \"type\": \"histogram2d\"}], \"histogram2dcontour\": [{\"colorbar\": {\"outlinewidth\": 0, \"ticks\": \"\"}, \"colorscale\": [[0.0, \"#0d0887\"], [0.1111111111111111, \"#46039f\"], [0.2222222222222222, \"#7201a8\"], [0.3333333333333333, \"#9c179e\"], [0.4444444444444444, \"#bd3786\"], [0.5555555555555556, \"#d8576b\"], [0.6666666666666666, \"#ed7953\"], [0.7777777777777778, \"#fb9f3a\"], [0.8888888888888888, \"#fdca26\"], [1.0, \"#f0f921\"]], \"type\": \"histogram2dcontour\"}], \"mesh3d\": [{\"colorbar\": {\"outlinewidth\": 0, \"ticks\": \"\"}, \"type\": \"mesh3d\"}], \"parcoords\": [{\"line\": {\"colorbar\": {\"outlinewidth\": 0, \"ticks\": \"\"}}, \"type\": \"parcoords\"}], \"pie\": [{\"automargin\": true, \"type\": \"pie\"}], \"scatter\": [{\"marker\": {\"colorbar\": {\"outlinewidth\": 0, \"ticks\": \"\"}}, \"type\": \"scatter\"}], \"scatter3d\": [{\"line\": {\"colorbar\": {\"outlinewidth\": 0, \"ticks\": \"\"}}, \"marker\": {\"colorbar\": {\"outlinewidth\": 0, \"ticks\": \"\"}}, \"type\": \"scatter3d\"}], \"scattercarpet\": [{\"marker\": {\"colorbar\": {\"outlinewidth\": 0, \"ticks\": \"\"}}, \"type\": \"scattercarpet\"}], \"scattergeo\": [{\"marker\": {\"colorbar\": {\"outlinewidth\": 0, \"ticks\": \"\"}}, \"type\": \"scattergeo\"}], \"scattergl\": [{\"marker\": {\"colorbar\": {\"outlinewidth\": 0, \"ticks\": \"\"}}, \"type\": \"scattergl\"}], \"scattermapbox\": [{\"marker\": {\"colorbar\": {\"outlinewidth\": 0, \"ticks\": \"\"}}, \"type\": \"scattermapbox\"}], \"scatterpolar\": [{\"marker\": {\"colorbar\": {\"outlinewidth\": 0, \"ticks\": \"\"}}, \"type\": \"scatterpolar\"}], \"scatterpolargl\": [{\"marker\": {\"colorbar\": {\"outlinewidth\": 0, \"ticks\": \"\"}}, \"type\": \"scatterpolargl\"}], \"scatterternary\": [{\"marker\": {\"colorbar\": {\"outlinewidth\": 0, \"ticks\": \"\"}}, \"type\": \"scatterternary\"}], \"surface\": [{\"colorbar\": {\"outlinewidth\": 0, \"ticks\": \"\"}, \"colorscale\": [[0.0, \"#0d0887\"], [0.1111111111111111, \"#46039f\"], [0.2222222222222222, \"#7201a8\"], [0.3333333333333333, \"#9c179e\"], [0.4444444444444444, \"#bd3786\"], [0.5555555555555556, \"#d8576b\"], [0.6666666666666666, \"#ed7953\"], [0.7777777777777778, \"#fb9f3a\"], [0.8888888888888888, \"#fdca26\"], [1.0, \"#f0f921\"]], \"type\": \"surface\"}], \"table\": [{\"cells\": {\"fill\": {\"color\": \"#EBF0F8\"}, \"line\": {\"color\": \"white\"}}, \"header\": {\"fill\": {\"color\": \"#C8D4E3\"}, \"line\": {\"color\": \"white\"}}, \"type\": \"table\"}]}, \"layout\": {\"annotationdefaults\": {\"arrowcolor\": \"#2a3f5f\", \"arrowhead\": 0, \"arrowwidth\": 1}, \"coloraxis\": {\"colorbar\": {\"outlinewidth\": 0, \"ticks\": \"\"}}, \"colorscale\": {\"diverging\": [[0, \"#8e0152\"], [0.1, \"#c51b7d\"], [0.2, \"#de77ae\"], [0.3, \"#f1b6da\"], [0.4, \"#fde0ef\"], [0.5, \"#f7f7f7\"], [0.6, \"#e6f5d0\"], [0.7, \"#b8e186\"], [0.8, \"#7fbc41\"], [0.9, \"#4d9221\"], [1, \"#276419\"]], \"sequential\": [[0.0, \"#0d0887\"], [0.1111111111111111, \"#46039f\"], [0.2222222222222222, \"#7201a8\"], [0.3333333333333333, \"#9c179e\"], [0.4444444444444444, \"#bd3786\"], [0.5555555555555556, \"#d8576b\"], [0.6666666666666666, \"#ed7953\"], [0.7777777777777778, \"#fb9f3a\"], [0.8888888888888888, \"#fdca26\"], [1.0, \"#f0f921\"]], \"sequentialminus\": [[0.0, \"#0d0887\"], [0.1111111111111111, \"#46039f\"], [0.2222222222222222, \"#7201a8\"], [0.3333333333333333, \"#9c179e\"], [0.4444444444444444, \"#bd3786\"], [0.5555555555555556, \"#d8576b\"], [0.6666666666666666, \"#ed7953\"], [0.7777777777777778, \"#fb9f3a\"], [0.8888888888888888, \"#fdca26\"], [1.0, \"#f0f921\"]]}, \"colorway\": [\"#636efa\", \"#EF553B\", \"#00cc96\", \"#ab63fa\", \"#FFA15A\", \"#19d3f3\", \"#FF6692\", \"#B6E880\", \"#FF97FF\", \"#FECB52\"], \"font\": {\"color\": \"#2a3f5f\"}, \"geo\": {\"bgcolor\": \"white\", \"lakecolor\": \"white\", \"landcolor\": \"#E5ECF6\", \"showlakes\": true, \"showland\": true, \"subunitcolor\": \"white\"}, \"hoverlabel\": {\"align\": \"left\"}, \"hovermode\": \"closest\", \"mapbox\": {\"style\": \"light\"}, \"paper_bgcolor\": \"white\", \"plot_bgcolor\": \"#E5ECF6\", \"polar\": {\"angularaxis\": {\"gridcolor\": \"white\", \"linecolor\": \"white\", \"ticks\": \"\"}, \"bgcolor\": \"#E5ECF6\", \"radialaxis\": {\"gridcolor\": \"white\", \"linecolor\": \"white\", \"ticks\": \"\"}}, \"scene\": {\"xaxis\": {\"backgroundcolor\": \"#E5ECF6\", \"gridcolor\": \"white\", \"gridwidth\": 2, \"linecolor\": \"white\", \"showbackground\": true, \"ticks\": \"\", \"zerolinecolor\": \"white\"}, \"yaxis\": {\"backgroundcolor\": \"#E5ECF6\", \"gridcolor\": \"white\", \"gridwidth\": 2, \"linecolor\": \"white\", \"showbackground\": true, \"ticks\": \"\", \"zerolinecolor\": \"white\"}, \"zaxis\": {\"backgroundcolor\": \"#E5ECF6\", \"gridcolor\": \"white\", \"gridwidth\": 2, \"linecolor\": \"white\", \"showbackground\": true, \"ticks\": \"\", \"zerolinecolor\": \"white\"}}, \"shapedefaults\": {\"line\": {\"color\": \"#2a3f5f\"}}, \"ternary\": {\"aaxis\": {\"gridcolor\": \"white\", \"linecolor\": \"white\", \"ticks\": \"\"}, \"baxis\": {\"gridcolor\": \"white\", \"linecolor\": \"white\", \"ticks\": \"\"}, \"bgcolor\": \"#E5ECF6\", \"caxis\": {\"gridcolor\": \"white\", \"linecolor\": \"white\", \"ticks\": \"\"}}, \"title\": {\"x\": 0.05}, \"xaxis\": {\"automargin\": true, \"gridcolor\": \"white\", \"linecolor\": \"white\", \"ticks\": \"\", \"title\": {\"standoff\": 15}, \"zerolinecolor\": \"white\", \"zerolinewidth\": 2}, \"yaxis\": {\"automargin\": true, \"gridcolor\": \"white\", \"linecolor\": \"white\", \"ticks\": \"\", \"title\": {\"standoff\": 15}, \"zerolinecolor\": \"white\", \"zerolinewidth\": 2}}}, \"title\": {\"text\": \"COVID-19 Death Per Country as of Apr 2020\"}},\n",
       "                        {\"responsive\": true}\n",
       "                    ).then(function(){\n",
       "                            \n",
       "var gd = document.getElementById('4b55eef9-4e2e-4aa1-ab27-e441e3753874');\n",
       "var x = new MutationObserver(function (mutations, observer) {{\n",
       "        var display = window.getComputedStyle(gd).display;\n",
       "        if (!display || display === 'none') {{\n",
       "            console.log([gd, 'removed!']);\n",
       "            Plotly.purge(gd);\n",
       "            observer.disconnect();\n",
       "        }}\n",
       "}});\n",
       "\n",
       "// Listen for the removal of the full notebook cells\n",
       "var notebookContainer = gd.closest('#notebook-container');\n",
       "if (notebookContainer) {{\n",
       "    x.observe(notebookContainer, {childList: true});\n",
       "}}\n",
       "\n",
       "// Listen for the clearing of the current output cell\n",
       "var outputEl = gd.closest('.output');\n",
       "if (outputEl) {{\n",
       "    x.observe(outputEl, {childList: true});\n",
       "}}\n",
       "\n",
       "                        })\n",
       "                };\n",
       "                });\n",
       "            </script>\n",
       "        </div>"
      ]
     },
     "metadata": {},
     "output_type": "display_data"
    }
   ],
   "source": [
    "iplot(map_apr)"
   ]
  },
  {
   "cell_type": "code",
   "execution_count": null,
   "metadata": {},
   "outputs": [],
   "source": []
  }
 ],
 "metadata": {
  "kernelspec": {
   "display_name": "Python 3",
   "language": "python",
   "name": "python3"
  },
  "language_info": {
   "codemirror_mode": {
    "name": "ipython",
    "version": 3
   },
   "file_extension": ".py",
   "mimetype": "text/x-python",
   "name": "python",
   "nbconvert_exporter": "python",
   "pygments_lexer": "ipython3",
   "version": "3.7.4"
  }
 },
 "nbformat": 4,
 "nbformat_minor": 2
}

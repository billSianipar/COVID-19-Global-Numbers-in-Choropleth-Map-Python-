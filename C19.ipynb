{
 "cells": [
  {
   "cell_type": "markdown",
   "metadata": {},
   "source": [
    "First thing to do is to install libraries needed: plotly, and pandas.\n",
    "\n",
    "If we've already installed anaconda, pandas should've been installed automatically,\n",
    "however the plotly might've not.\n",
    "\n",
    "So we just have to run these lines in command prompt:\n",
    "\n",
    "To install pandas --> pip install pandas\n",
    "\n",
    "To install plotly --> pip install plotly"
   ]
  },
  {
   "cell_type": "code",
   "execution_count": 152,
   "metadata": {},
   "outputs": [],
   "source": [
    "# Use choropleth of plotly to create the map.\n",
    "# Plotly offline is used in order to generate the map offline and on the jupyter notebook.\n",
    "\n",
    "import chart_studio.plotly as py\n",
    "import plotly.graph_objs as go\n",
    "from plotly.offline import download_plotlyjs, init_notebook_mode, iplot\n",
    "import pandas as pd\n",
    "from datetime import datetime"
   ]
  },
  {
   "cell_type": "code",
   "execution_count": 153,
   "metadata": {},
   "outputs": [
    {
     "data": {
      "text/html": [
       "        <script type=\"text/javascript\">\n",
       "        window.PlotlyConfig = {MathJaxConfig: 'local'};\n",
       "        if (window.MathJax) {MathJax.Hub.Config({SVG: {font: \"STIX-Web\"}});}\n",
       "        if (typeof require !== 'undefined') {\n",
       "        require.undef(\"plotly\");\n",
       "        requirejs.config({\n",
       "            paths: {\n",
       "                'plotly': ['https://cdn.plot.ly/plotly-latest.min']\n",
       "            }\n",
       "        });\n",
       "        require(['plotly'], function(Plotly) {\n",
       "            window._Plotly = Plotly;\n",
       "        });\n",
       "        }\n",
       "        </script>\n",
       "        "
      ]
     },
     "metadata": {},
     "output_type": "display_data"
    }
   ],
   "source": [
    "# Set the init_notebook_mode to True to connect the plotly to the jupyter notebook.\n",
    "\n",
    "init_notebook_mode(connected=True)"
   ]
  },
  {
   "cell_type": "code",
   "execution_count": 154,
   "metadata": {},
   "outputs": [
    {
     "data": {
      "text/html": [
       "<div>\n",
       "<style scoped>\n",
       "    .dataframe tbody tr th:only-of-type {\n",
       "        vertical-align: middle;\n",
       "    }\n",
       "\n",
       "    .dataframe tbody tr th {\n",
       "        vertical-align: top;\n",
       "    }\n",
       "\n",
       "    .dataframe thead th {\n",
       "        text-align: right;\n",
       "    }\n",
       "</style>\n",
       "<table border=\"1\" class=\"dataframe\">\n",
       "  <thead>\n",
       "    <tr style=\"text-align: right;\">\n",
       "      <th></th>\n",
       "      <th>Date</th>\n",
       "      <th>Country</th>\n",
       "      <th>Confirmed</th>\n",
       "      <th>Recovered</th>\n",
       "      <th>Deaths</th>\n",
       "    </tr>\n",
       "  </thead>\n",
       "  <tbody>\n",
       "    <tr>\n",
       "      <td>0</td>\n",
       "      <td>2020-01-22</td>\n",
       "      <td>Afghanistan</td>\n",
       "      <td>0</td>\n",
       "      <td>0</td>\n",
       "      <td>0</td>\n",
       "    </tr>\n",
       "    <tr>\n",
       "      <td>1</td>\n",
       "      <td>2020-01-22</td>\n",
       "      <td>Albania</td>\n",
       "      <td>0</td>\n",
       "      <td>0</td>\n",
       "      <td>0</td>\n",
       "    </tr>\n",
       "    <tr>\n",
       "      <td>2</td>\n",
       "      <td>2020-01-22</td>\n",
       "      <td>Algeria</td>\n",
       "      <td>0</td>\n",
       "      <td>0</td>\n",
       "      <td>0</td>\n",
       "    </tr>\n",
       "    <tr>\n",
       "      <td>3</td>\n",
       "      <td>2020-01-22</td>\n",
       "      <td>Andorra</td>\n",
       "      <td>0</td>\n",
       "      <td>0</td>\n",
       "      <td>0</td>\n",
       "    </tr>\n",
       "    <tr>\n",
       "      <td>4</td>\n",
       "      <td>2020-01-22</td>\n",
       "      <td>Angola</td>\n",
       "      <td>0</td>\n",
       "      <td>0</td>\n",
       "      <td>0</td>\n",
       "    </tr>\n",
       "  </tbody>\n",
       "</table>\n",
       "</div>"
      ],
      "text/plain": [
       "         Date      Country  Confirmed  Recovered  Deaths\n",
       "0  2020-01-22  Afghanistan          0          0       0\n",
       "1  2020-01-22      Albania          0          0       0\n",
       "2  2020-01-22      Algeria          0          0       0\n",
       "3  2020-01-22      Andorra          0          0       0\n",
       "4  2020-01-22       Angola          0          0       0"
      ]
     },
     "execution_count": 154,
     "metadata": {},
     "output_type": "execute_result"
    }
   ],
   "source": [
    "# Read raw csv file from github link below.\n",
    "# We don't download the dataset from a link and push it to the repository, \n",
    "# because we intend to have the data almost real-time or up to date.\n",
    "\n",
    "df = pd.read_csv('https://raw.githubusercontent.com/datasets/covid-19/master/data/countries-aggregated.csv')\n",
    "df.head()"
   ]
  },
  {
   "cell_type": "code",
   "execution_count": 155,
   "metadata": {},
   "outputs": [
    {
     "name": "stdout",
     "output_type": "stream",
     "text": [
      "<class 'pandas.core.frame.DataFrame'>\n",
      "RangeIndex: 15355 entries, 0 to 15354\n",
      "Data columns (total 5 columns):\n",
      "Date         15355 non-null object\n",
      "Country      15355 non-null object\n",
      "Confirmed    15355 non-null int64\n",
      "Recovered    15355 non-null int64\n",
      "Deaths       15355 non-null int64\n",
      "dtypes: int64(3), object(2)\n",
      "memory usage: 599.9+ KB\n"
     ]
    }
   ],
   "source": [
    "df.info()"
   ]
  },
  {
   "cell_type": "code",
   "execution_count": 156,
   "metadata": {},
   "outputs": [
    {
     "data": {
      "text/html": [
       "<div>\n",
       "<style scoped>\n",
       "    .dataframe tbody tr th:only-of-type {\n",
       "        vertical-align: middle;\n",
       "    }\n",
       "\n",
       "    .dataframe tbody tr th {\n",
       "        vertical-align: top;\n",
       "    }\n",
       "\n",
       "    .dataframe thead th {\n",
       "        text-align: right;\n",
       "    }\n",
       "</style>\n",
       "<table border=\"1\" class=\"dataframe\">\n",
       "  <thead>\n",
       "    <tr style=\"text-align: right;\">\n",
       "      <th></th>\n",
       "      <th>Date</th>\n",
       "      <th>Country</th>\n",
       "      <th>Confirmed</th>\n",
       "      <th>Recovered</th>\n",
       "      <th>Deaths</th>\n",
       "    </tr>\n",
       "  </thead>\n",
       "  <tbody>\n",
       "    <tr>\n",
       "      <td>0</td>\n",
       "      <td>2020-01-22</td>\n",
       "      <td>Afghanistan</td>\n",
       "      <td>0</td>\n",
       "      <td>0</td>\n",
       "      <td>0</td>\n",
       "    </tr>\n",
       "    <tr>\n",
       "      <td>1</td>\n",
       "      <td>2020-01-22</td>\n",
       "      <td>Albania</td>\n",
       "      <td>0</td>\n",
       "      <td>0</td>\n",
       "      <td>0</td>\n",
       "    </tr>\n",
       "    <tr>\n",
       "      <td>2</td>\n",
       "      <td>2020-01-22</td>\n",
       "      <td>Algeria</td>\n",
       "      <td>0</td>\n",
       "      <td>0</td>\n",
       "      <td>0</td>\n",
       "    </tr>\n",
       "    <tr>\n",
       "      <td>3</td>\n",
       "      <td>2020-01-22</td>\n",
       "      <td>Andorra</td>\n",
       "      <td>0</td>\n",
       "      <td>0</td>\n",
       "      <td>0</td>\n",
       "    </tr>\n",
       "    <tr>\n",
       "      <td>4</td>\n",
       "      <td>2020-01-22</td>\n",
       "      <td>Angola</td>\n",
       "      <td>0</td>\n",
       "      <td>0</td>\n",
       "      <td>0</td>\n",
       "    </tr>\n",
       "  </tbody>\n",
       "</table>\n",
       "</div>"
      ],
      "text/plain": [
       "        Date      Country  Confirmed  Recovered  Deaths\n",
       "0 2020-01-22  Afghanistan          0          0       0\n",
       "1 2020-01-22      Albania          0          0       0\n",
       "2 2020-01-22      Algeria          0          0       0\n",
       "3 2020-01-22      Andorra          0          0       0\n",
       "4 2020-01-22       Angola          0          0       0"
      ]
     },
     "execution_count": 156,
     "metadata": {},
     "output_type": "execute_result"
    }
   ],
   "source": [
    "# Change the date column to datetime format.\n",
    "\n",
    "df['Date'] = pd.to_datetime(df['Date'], format='%Y-%m-%d')\n",
    "df.head()"
   ]
  },
  {
   "cell_type": "code",
   "execution_count": 157,
   "metadata": {},
   "outputs": [
    {
     "name": "stdout",
     "output_type": "stream",
     "text": [
      "<class 'pandas.core.frame.DataFrame'>\n",
      "RangeIndex: 15355 entries, 0 to 15354\n",
      "Data columns (total 5 columns):\n",
      "Date         15355 non-null datetime64[ns]\n",
      "Country      15355 non-null object\n",
      "Confirmed    15355 non-null int64\n",
      "Recovered    15355 non-null int64\n",
      "Deaths       15355 non-null int64\n",
      "dtypes: datetime64[ns](1), int64(3), object(1)\n",
      "memory usage: 599.9+ KB\n"
     ]
    }
   ],
   "source": [
    "# See changes in Date column type now.\n",
    "\n",
    "df.info()"
   ]
  },
  {
   "cell_type": "code",
   "execution_count": 158,
   "metadata": {},
   "outputs": [],
   "source": [
    "# Set the dataframe of each month, to get latest data of each month.\n",
    "# Latest data of month January is the January 31, for month March is March 31.\n",
    "# While for month April (by the time this notebook was created), the latest data comes from April 13.\n",
    "\n",
    "# January\n",
    "df_j = df[df['Date'].dt.month == 1]\n",
    "df_jan = df_j[df_j['Date']==max(df_j['Date'])]\n",
    "\n",
    "# February\n",
    "df_f = df[df['Date'].dt.month == 2]\n",
    "df_feb = df_f[df_f['Date']==max(df_f['Date'])]\n",
    "\n",
    "# March\n",
    "df_m = df[df['Date'].dt.month == 3]\n",
    "df_mar = df_m[df_m['Date']==max(df_m['Date'])]\n",
    "\n",
    "# April\n",
    "df_a = df[df['Date'].dt.month == 4]\n",
    "df_apr = df_a[df_a['Date']==max(df_a['Date'])]"
   ]
  },
  {
   "cell_type": "code",
   "execution_count": 159,
   "metadata": {},
   "outputs": [
    {
     "data": {
      "text/html": [
       "<div>\n",
       "<style scoped>\n",
       "    .dataframe tbody tr th:only-of-type {\n",
       "        vertical-align: middle;\n",
       "    }\n",
       "\n",
       "    .dataframe tbody tr th {\n",
       "        vertical-align: top;\n",
       "    }\n",
       "\n",
       "    .dataframe thead th {\n",
       "        text-align: right;\n",
       "    }\n",
       "</style>\n",
       "<table border=\"1\" class=\"dataframe\">\n",
       "  <thead>\n",
       "    <tr style=\"text-align: right;\">\n",
       "      <th></th>\n",
       "      <th>Date</th>\n",
       "      <th>Country</th>\n",
       "      <th>Confirmed</th>\n",
       "      <th>Recovered</th>\n",
       "      <th>Deaths</th>\n",
       "    </tr>\n",
       "  </thead>\n",
       "  <tbody>\n",
       "    <tr>\n",
       "      <td>12765</td>\n",
       "      <td>2020-03-31</td>\n",
       "      <td>Afghanistan</td>\n",
       "      <td>174</td>\n",
       "      <td>5</td>\n",
       "      <td>4</td>\n",
       "    </tr>\n",
       "    <tr>\n",
       "      <td>12766</td>\n",
       "      <td>2020-03-31</td>\n",
       "      <td>Albania</td>\n",
       "      <td>243</td>\n",
       "      <td>52</td>\n",
       "      <td>15</td>\n",
       "    </tr>\n",
       "    <tr>\n",
       "      <td>12767</td>\n",
       "      <td>2020-03-31</td>\n",
       "      <td>Algeria</td>\n",
       "      <td>716</td>\n",
       "      <td>46</td>\n",
       "      <td>44</td>\n",
       "    </tr>\n",
       "    <tr>\n",
       "      <td>12768</td>\n",
       "      <td>2020-03-31</td>\n",
       "      <td>Andorra</td>\n",
       "      <td>376</td>\n",
       "      <td>10</td>\n",
       "      <td>12</td>\n",
       "    </tr>\n",
       "    <tr>\n",
       "      <td>12769</td>\n",
       "      <td>2020-03-31</td>\n",
       "      <td>Angola</td>\n",
       "      <td>7</td>\n",
       "      <td>1</td>\n",
       "      <td>2</td>\n",
       "    </tr>\n",
       "    <tr>\n",
       "      <td>...</td>\n",
       "      <td>...</td>\n",
       "      <td>...</td>\n",
       "      <td>...</td>\n",
       "      <td>...</td>\n",
       "      <td>...</td>\n",
       "    </tr>\n",
       "    <tr>\n",
       "      <td>12825</td>\n",
       "      <td>2020-03-31</td>\n",
       "      <td>Finland</td>\n",
       "      <td>1418</td>\n",
       "      <td>10</td>\n",
       "      <td>17</td>\n",
       "    </tr>\n",
       "    <tr>\n",
       "      <td>12826</td>\n",
       "      <td>2020-03-31</td>\n",
       "      <td>France</td>\n",
       "      <td>52827</td>\n",
       "      <td>9513</td>\n",
       "      <td>3532</td>\n",
       "    </tr>\n",
       "    <tr>\n",
       "      <td>12827</td>\n",
       "      <td>2020-03-31</td>\n",
       "      <td>Gabon</td>\n",
       "      <td>16</td>\n",
       "      <td>0</td>\n",
       "      <td>1</td>\n",
       "    </tr>\n",
       "    <tr>\n",
       "      <td>12828</td>\n",
       "      <td>2020-03-31</td>\n",
       "      <td>Gambia</td>\n",
       "      <td>4</td>\n",
       "      <td>0</td>\n",
       "      <td>1</td>\n",
       "    </tr>\n",
       "    <tr>\n",
       "      <td>12829</td>\n",
       "      <td>2020-03-31</td>\n",
       "      <td>Georgia</td>\n",
       "      <td>110</td>\n",
       "      <td>21</td>\n",
       "      <td>0</td>\n",
       "    </tr>\n",
       "  </tbody>\n",
       "</table>\n",
       "<p>65 rows × 5 columns</p>\n",
       "</div>"
      ],
      "text/plain": [
       "            Date      Country  Confirmed  Recovered  Deaths\n",
       "12765 2020-03-31  Afghanistan        174          5       4\n",
       "12766 2020-03-31      Albania        243         52      15\n",
       "12767 2020-03-31      Algeria        716         46      44\n",
       "12768 2020-03-31      Andorra        376         10      12\n",
       "12769 2020-03-31       Angola          7          1       2\n",
       "...          ...          ...        ...        ...     ...\n",
       "12825 2020-03-31      Finland       1418         10      17\n",
       "12826 2020-03-31       France      52827       9513    3532\n",
       "12827 2020-03-31        Gabon         16          0       1\n",
       "12828 2020-03-31       Gambia          4          0       1\n",
       "12829 2020-03-31      Georgia        110         21       0\n",
       "\n",
       "[65 rows x 5 columns]"
      ]
     },
     "execution_count": 159,
     "metadata": {},
     "output_type": "execute_result"
    }
   ],
   "source": [
    "# Take a look at a sample modified dataframe from month March.\n",
    "\n",
    "df_mar.head(65)"
   ]
  },
  {
   "cell_type": "code",
   "execution_count": 160,
   "metadata": {},
   "outputs": [
    {
     "name": "stderr",
     "output_type": "stream",
     "text": [
      "C:\\Users\\Bill\\Anaconda3\\lib\\site-packages\\ipykernel_launcher.py:5: SettingWithCopyWarning:\n",
      "\n",
      "\n",
      "A value is trying to be set on a copy of a slice from a DataFrame.\n",
      "Try using .loc[row_indexer,col_indexer] = value instead\n",
      "\n",
      "See the caveats in the documentation: http://pandas.pydata.org/pandas-docs/stable/user_guide/indexing.html#returning-a-view-versus-a-copy\n",
      "\n",
      "C:\\Users\\Bill\\Anaconda3\\lib\\site-packages\\ipykernel_launcher.py:7: SettingWithCopyWarning:\n",
      "\n",
      "\n",
      "A value is trying to be set on a copy of a slice from a DataFrame.\n",
      "Try using .loc[row_indexer,col_indexer] = value instead\n",
      "\n",
      "See the caveats in the documentation: http://pandas.pydata.org/pandas-docs/stable/user_guide/indexing.html#returning-a-view-versus-a-copy\n",
      "\n",
      "C:\\Users\\Bill\\Anaconda3\\lib\\site-packages\\ipykernel_launcher.py:11: SettingWithCopyWarning:\n",
      "\n",
      "\n",
      "A value is trying to be set on a copy of a slice from a DataFrame.\n",
      "Try using .loc[row_indexer,col_indexer] = value instead\n",
      "\n",
      "See the caveats in the documentation: http://pandas.pydata.org/pandas-docs/stable/user_guide/indexing.html#returning-a-view-versus-a-copy\n",
      "\n",
      "C:\\Users\\Bill\\Anaconda3\\lib\\site-packages\\ipykernel_launcher.py:13: SettingWithCopyWarning:\n",
      "\n",
      "\n",
      "A value is trying to be set on a copy of a slice from a DataFrame.\n",
      "Try using .loc[row_indexer,col_indexer] = value instead\n",
      "\n",
      "See the caveats in the documentation: http://pandas.pydata.org/pandas-docs/stable/user_guide/indexing.html#returning-a-view-versus-a-copy\n",
      "\n",
      "C:\\Users\\Bill\\Anaconda3\\lib\\site-packages\\ipykernel_launcher.py:17: SettingWithCopyWarning:\n",
      "\n",
      "\n",
      "A value is trying to be set on a copy of a slice from a DataFrame.\n",
      "Try using .loc[row_indexer,col_indexer] = value instead\n",
      "\n",
      "See the caveats in the documentation: http://pandas.pydata.org/pandas-docs/stable/user_guide/indexing.html#returning-a-view-versus-a-copy\n",
      "\n",
      "C:\\Users\\Bill\\Anaconda3\\lib\\site-packages\\ipykernel_launcher.py:19: SettingWithCopyWarning:\n",
      "\n",
      "\n",
      "A value is trying to be set on a copy of a slice from a DataFrame.\n",
      "Try using .loc[row_indexer,col_indexer] = value instead\n",
      "\n",
      "See the caveats in the documentation: http://pandas.pydata.org/pandas-docs/stable/user_guide/indexing.html#returning-a-view-versus-a-copy\n",
      "\n",
      "C:\\Users\\Bill\\Anaconda3\\lib\\site-packages\\ipykernel_launcher.py:23: SettingWithCopyWarning:\n",
      "\n",
      "\n",
      "A value is trying to be set on a copy of a slice from a DataFrame.\n",
      "Try using .loc[row_indexer,col_indexer] = value instead\n",
      "\n",
      "See the caveats in the documentation: http://pandas.pydata.org/pandas-docs/stable/user_guide/indexing.html#returning-a-view-versus-a-copy\n",
      "\n",
      "C:\\Users\\Bill\\Anaconda3\\lib\\site-packages\\ipykernel_launcher.py:25: SettingWithCopyWarning:\n",
      "\n",
      "\n",
      "A value is trying to be set on a copy of a slice from a DataFrame.\n",
      "Try using .loc[row_indexer,col_indexer] = value instead\n",
      "\n",
      "See the caveats in the documentation: http://pandas.pydata.org/pandas-docs/stable/user_guide/indexing.html#returning-a-view-versus-a-copy\n",
      "\n"
     ]
    }
   ],
   "source": [
    "# Text format that will appear when we move cursor on the choropleth map later.\n",
    "\n",
    "# January\n",
    "for col in df_jan.columns:\n",
    "    df_jan[col] = df_jan[col].astype(str)\n",
    "df_jan['text'] = df_jan['Country'] + '<br>' + \\\n",
    "        'Confirmed ' + df_jan['Confirmed'] + ' Deaths ' + df_jan['Deaths']\n",
    "    \n",
    "# February\n",
    "for col in df_feb.columns:\n",
    "    df_feb[col] = df_feb[col].astype(str)\n",
    "df_feb['text'] = df_feb['Country'] + '<br>' + \\\n",
    "        'Confirmed ' + df_feb['Confirmed'] + ' Deaths ' + df_feb['Deaths']\n",
    "    \n",
    "# March\n",
    "for col in df_mar.columns:\n",
    "    df_mar[col] = df_mar[col].astype(str)\n",
    "df_mar['text'] = df_mar['Country'] + '<br>' + \\\n",
    "        'Confirmed ' + df_mar['Confirmed'] + ' Deaths ' + df_mar['Deaths']\n",
    "  \n",
    "# April\n",
    "for col in df_apr.columns:\n",
    "    df_apr[col] = df_apr[col].astype(str)\n",
    "df_apr['text'] = df_apr['Country'] + '<br>' + \\\n",
    "        'Confirmed ' + df_apr['Confirmed'] + ' Deaths ' + df_apr['Deaths']\n",
    "\n",
    "# This notebook is still kind of in progress. The code of this cell might produce warning,\n",
    "# though the warning doesn't contain error, for the time being it can be ignored with program running as expected."
   ]
  },
  {
   "cell_type": "code",
   "execution_count": 161,
   "metadata": {},
   "outputs": [],
   "source": [
    "# Create dictionary of each month data to be inserted into the choropleth map.\n",
    "\n",
    "# January\n",
    "data_jan = {'type' : 'choropleth',\n",
    "           'locations' : df_jan['Country'],\n",
    "           'locationmode' : 'country names',\n",
    "           'z' : df_jan['Deaths'],\n",
    "           'text' : df_jan['text'],\n",
    "           'marker' : {'line' : {'color' : 'rgb(0,0,0)', 'width' : 0.8}\n",
    "                      },\n",
    "           'colorscale' : 'rainbow', \n",
    "           'colorbar' : {'title' : 'Number of deaths'}\n",
    "           }\n",
    "\n",
    "# February\n",
    "data_feb = {'type' : 'choropleth',\n",
    "           'locations' : df_feb['Country'],\n",
    "           'locationmode' : 'country names',\n",
    "           'z' : df_feb['Deaths'],\n",
    "           'text' : df_feb['text'],\n",
    "           'marker' : {'line' : {'color' : 'rgb(0,0,0)', 'width' : 0.8}\n",
    "                      },\n",
    "           'colorscale' : 'rainbow',\n",
    "           'colorbar' : {'title' : 'Number of deaths'}\n",
    "           }\n",
    "\n",
    "# March\n",
    "data_mar = {'type' : 'choropleth',\n",
    "           'locations' : df_mar['Country'],\n",
    "           'locationmode' : 'country names',\n",
    "           'z' : df_mar['Deaths'],\n",
    "           'text' : df_mar['text'],\n",
    "           'marker' : {'line' : {'color' : 'rgb(0,0,0)', 'width' : 0.8}\n",
    "                      },\n",
    "           'colorscale' : 'rainbow',\n",
    "           'colorbar' : {'title' : 'Number of deaths'}\n",
    "           }\n",
    "\n",
    "# April\n",
    "data_apr = {'type' : 'choropleth',\n",
    "           'locations' : df_apr['Country'],\n",
    "           'locationmode' : 'country names',\n",
    "           'z' : df_apr['Deaths'],\n",
    "           'text' : df_apr['text'],\n",
    "           'marker' : {'line' : {'color' : 'rgb(0,0,0)', 'width' : 0.8}\n",
    "                      },\n",
    "           'colorscale' : 'rainbow',\n",
    "           'colorbar' : {'title' : 'Number of deaths'}\n",
    "           }"
   ]
  },
  {
   "cell_type": "code",
   "execution_count": 162,
   "metadata": {},
   "outputs": [],
   "source": [
    "# Create map layout detail of each month.\n",
    "\n",
    "layout_jan = {'title' : 'COVID-19 Death Per Country as of Jan 2020',\n",
    "             'geo' : {'scope' : 'world',\n",
    "                      'showlakes' : True,\n",
    "                      'lakecolor' : 'rgb(85,173,240)'\n",
    "                     }\n",
    "             }\n",
    "layout_feb = {'title' : 'COVID-19 Death Per Country as of Feb 2020',\n",
    "             'geo' : {'scope' : 'world',\n",
    "                      'showlakes' : True,\n",
    "                      'lakecolor' : 'rgb(85,173,240)'\n",
    "                     }\n",
    "             }\n",
    "layout_mar = {'title' : 'COVID-19 Death Per Country as of Mar 2020',\n",
    "             'geo' : {'scope' : 'world',\n",
    "                      'showlakes' : True,\n",
    "                      'lakecolor' : 'rgb(85,173,240)'\n",
    "                     }\n",
    "             }\n",
    "layout_apr = {'title' : 'COVID-19 Death Per Country as of Apr 2020',\n",
    "             'geo' : {'scope' : 'world',\n",
    "                      'showlakes' : True,\n",
    "                      'lakecolor' : 'rgb(85,173,240)'\n",
    "                     }\n",
    "             }"
   ]
  },
  {
   "cell_type": "code",
   "execution_count": 163,
   "metadata": {},
   "outputs": [],
   "source": [
    "# Create the map figure, with data and layout inserted for each month.\n",
    "\n",
    "map_jan = go.Figure(data=[data_jan], layout=layout_jan)\n",
    "map_feb = go.Figure(data=[data_feb], layout=layout_feb)\n",
    "map_mar = go.Figure(data=[data_mar], layout=layout_mar)\n",
    "map_apr = go.Figure(data=[data_apr], layout=layout_apr)"
   ]
  },
  {
   "cell_type": "markdown",
   "metadata": {},
   "source": [
    "Below will be the maps for each month (from January to April 2020).\n",
    "There is no Greenland data in the dataset, therefore we cannot see the number when we move the cursor on the Greenland map, or we cannot see the difference or any kind of development for Greenland.\n",
    "\n",
    "Not only Greenland, but also some other countries like Turkmenistan (north of Iran) and Tajikistan (northeast of Iran).\n",
    "\n",
    "The small lightblue spot areas are lakes (we can see quite a few in Canada and US)."
   ]
  },
  {
   "cell_type": "code",
   "execution_count": 164,
   "metadata": {},
   "outputs": [
    {
     "data": {
      "application/vnd.plotly.v1+json": {
       "config": {
        "linkText": "Export to plot.ly",
        "plotlyServerURL": "https://plot.ly",
        "showLink": false
       },
       "data": [
        {
         "colorbar": {
          "title": {
           "text": "Number of deaths"
          }
         },
         "colorscale": [
          [
           0,
           "rgb(150,0,90)"
          ],
          [
           0.125,
           "rgb(0,0,200)"
          ],
          [
           0.25,
           "rgb(0,25,255)"
          ],
          [
           0.375,
           "rgb(0,152,255)"
          ],
          [
           0.5,
           "rgb(44,255,150)"
          ],
          [
           0.625,
           "rgb(151,255,0)"
          ],
          [
           0.75,
           "rgb(255,234,0)"
          ],
          [
           0.875,
           "rgb(255,111,0)"
          ],
          [
           1,
           "rgb(255,0,0)"
          ]
         ],
         "locationmode": "country names",
         "locations": [
          "Afghanistan",
          "Albania",
          "Algeria",
          "Andorra",
          "Angola",
          "Antigua and Barbuda",
          "Argentina",
          "Armenia",
          "Australia",
          "Austria",
          "Azerbaijan",
          "Bahamas",
          "Bahrain",
          "Bangladesh",
          "Barbados",
          "Belarus",
          "Belgium",
          "Belize",
          "Benin",
          "Bhutan",
          "Bolivia",
          "Bosnia and Herzegovina",
          "Botswana",
          "Brazil",
          "Brunei",
          "Bulgaria",
          "Burkina Faso",
          "Burma",
          "Burundi",
          "Cabo Verde",
          "Cambodia",
          "Cameroon",
          "Canada",
          "Central African Republic",
          "Chad",
          "Chile",
          "China",
          "Colombia",
          "Congo (Brazzaville)",
          "Congo (Kinshasa)",
          "Costa Rica",
          "Cote d'Ivoire",
          "Croatia",
          "Cuba",
          "Cyprus",
          "Czechia",
          "Denmark",
          "Diamond Princess",
          "Djibouti",
          "Dominica",
          "Dominican Republic",
          "Ecuador",
          "Egypt",
          "El Salvador",
          "Equatorial Guinea",
          "Eritrea",
          "Estonia",
          "Eswatini",
          "Ethiopia",
          "Fiji",
          "Finland",
          "France",
          "Gabon",
          "Gambia",
          "Georgia",
          "Germany",
          "Ghana",
          "Greece",
          "Grenada",
          "Guatemala",
          "Guinea",
          "Guinea-Bissau",
          "Guyana",
          "Haiti",
          "Holy See",
          "Honduras",
          "Hungary",
          "Iceland",
          "India",
          "Indonesia",
          "Iran",
          "Iraq",
          "Ireland",
          "Israel",
          "Italy",
          "Jamaica",
          "Japan",
          "Jordan",
          "Kazakhstan",
          "Kenya",
          "Korea, South",
          "Kosovo",
          "Kuwait",
          "Kyrgyzstan",
          "Laos",
          "Latvia",
          "Lebanon",
          "Liberia",
          "Libya",
          "Liechtenstein",
          "Lithuania",
          "Luxembourg",
          "MS Zaandam",
          "Madagascar",
          "Malawi",
          "Malaysia",
          "Maldives",
          "Mali",
          "Malta",
          "Mauritania",
          "Mauritius",
          "Mexico",
          "Moldova",
          "Monaco",
          "Mongolia",
          "Montenegro",
          "Morocco",
          "Mozambique",
          "Namibia",
          "Nepal",
          "Netherlands",
          "New Zealand",
          "Nicaragua",
          "Niger",
          "Nigeria",
          "North Macedonia",
          "Norway",
          "Oman",
          "Pakistan",
          "Panama",
          "Papua New Guinea",
          "Paraguay",
          "Peru",
          "Philippines",
          "Poland",
          "Portugal",
          "Qatar",
          "Romania",
          "Russia",
          "Rwanda",
          "Saint Kitts and Nevis",
          "Saint Lucia",
          "Saint Vincent and the Grenadines",
          "San Marino",
          "Sao Tome and Principe",
          "Saudi Arabia",
          "Senegal",
          "Serbia",
          "Seychelles",
          "Sierra Leone",
          "Singapore",
          "Slovakia",
          "Slovenia",
          "Somalia",
          "South Africa",
          "South Sudan",
          "Spain",
          "Sri Lanka",
          "Sudan",
          "Suriname",
          "Sweden",
          "Switzerland",
          "Syria",
          "Taiwan*",
          "Tanzania",
          "Thailand",
          "Timor-Leste",
          "Togo",
          "Trinidad and Tobago",
          "Tunisia",
          "Turkey",
          "US",
          "Uganda",
          "Ukraine",
          "United Arab Emirates",
          "United Kingdom",
          "Uruguay",
          "Uzbekistan",
          "Venezuela",
          "Vietnam",
          "West Bank and Gaza",
          "Western Sahara",
          "Yemen",
          "Zambia",
          "Zimbabwe"
         ],
         "marker": {
          "line": {
           "color": "rgb(0,0,0)",
           "width": 0.8
          }
         },
         "text": [
          "Afghanistan<br>Confirmed 0 Deaths 0",
          "Albania<br>Confirmed 0 Deaths 0",
          "Algeria<br>Confirmed 0 Deaths 0",
          "Andorra<br>Confirmed 0 Deaths 0",
          "Angola<br>Confirmed 0 Deaths 0",
          "Antigua and Barbuda<br>Confirmed 0 Deaths 0",
          "Argentina<br>Confirmed 0 Deaths 0",
          "Armenia<br>Confirmed 0 Deaths 0",
          "Australia<br>Confirmed 9 Deaths 0",
          "Austria<br>Confirmed 0 Deaths 0",
          "Azerbaijan<br>Confirmed 0 Deaths 0",
          "Bahamas<br>Confirmed 0 Deaths 0",
          "Bahrain<br>Confirmed 0 Deaths 0",
          "Bangladesh<br>Confirmed 0 Deaths 0",
          "Barbados<br>Confirmed 0 Deaths 0",
          "Belarus<br>Confirmed 0 Deaths 0",
          "Belgium<br>Confirmed 0 Deaths 0",
          "Belize<br>Confirmed 0 Deaths 0",
          "Benin<br>Confirmed 0 Deaths 0",
          "Bhutan<br>Confirmed 0 Deaths 0",
          "Bolivia<br>Confirmed 0 Deaths 0",
          "Bosnia and Herzegovina<br>Confirmed 0 Deaths 0",
          "Botswana<br>Confirmed 0 Deaths 0",
          "Brazil<br>Confirmed 0 Deaths 0",
          "Brunei<br>Confirmed 0 Deaths 0",
          "Bulgaria<br>Confirmed 0 Deaths 0",
          "Burkina Faso<br>Confirmed 0 Deaths 0",
          "Burma<br>Confirmed 0 Deaths 0",
          "Burundi<br>Confirmed 0 Deaths 0",
          "Cabo Verde<br>Confirmed 0 Deaths 0",
          "Cambodia<br>Confirmed 1 Deaths 0",
          "Cameroon<br>Confirmed 0 Deaths 0",
          "Canada<br>Confirmed 4 Deaths 0",
          "Central African Republic<br>Confirmed 0 Deaths 0",
          "Chad<br>Confirmed 0 Deaths 0",
          "Chile<br>Confirmed 0 Deaths 0",
          "China<br>Confirmed 9802 Deaths 213",
          "Colombia<br>Confirmed 0 Deaths 0",
          "Congo (Brazzaville)<br>Confirmed 0 Deaths 0",
          "Congo (Kinshasa)<br>Confirmed 0 Deaths 0",
          "Costa Rica<br>Confirmed 0 Deaths 0",
          "Cote d'Ivoire<br>Confirmed 0 Deaths 0",
          "Croatia<br>Confirmed 0 Deaths 0",
          "Cuba<br>Confirmed 0 Deaths 0",
          "Cyprus<br>Confirmed 0 Deaths 0",
          "Czechia<br>Confirmed 0 Deaths 0",
          "Denmark<br>Confirmed 0 Deaths 0",
          "Diamond Princess<br>Confirmed 0 Deaths 0",
          "Djibouti<br>Confirmed 0 Deaths 0",
          "Dominica<br>Confirmed 0 Deaths 0",
          "Dominican Republic<br>Confirmed 0 Deaths 0",
          "Ecuador<br>Confirmed 0 Deaths 0",
          "Egypt<br>Confirmed 0 Deaths 0",
          "El Salvador<br>Confirmed 0 Deaths 0",
          "Equatorial Guinea<br>Confirmed 0 Deaths 0",
          "Eritrea<br>Confirmed 0 Deaths 0",
          "Estonia<br>Confirmed 0 Deaths 0",
          "Eswatini<br>Confirmed 0 Deaths 0",
          "Ethiopia<br>Confirmed 0 Deaths 0",
          "Fiji<br>Confirmed 0 Deaths 0",
          "Finland<br>Confirmed 1 Deaths 0",
          "France<br>Confirmed 5 Deaths 0",
          "Gabon<br>Confirmed 0 Deaths 0",
          "Gambia<br>Confirmed 0 Deaths 0",
          "Georgia<br>Confirmed 0 Deaths 0",
          "Germany<br>Confirmed 5 Deaths 0",
          "Ghana<br>Confirmed 0 Deaths 0",
          "Greece<br>Confirmed 0 Deaths 0",
          "Grenada<br>Confirmed 0 Deaths 0",
          "Guatemala<br>Confirmed 0 Deaths 0",
          "Guinea<br>Confirmed 0 Deaths 0",
          "Guinea-Bissau<br>Confirmed 0 Deaths 0",
          "Guyana<br>Confirmed 0 Deaths 0",
          "Haiti<br>Confirmed 0 Deaths 0",
          "Holy See<br>Confirmed 0 Deaths 0",
          "Honduras<br>Confirmed 0 Deaths 0",
          "Hungary<br>Confirmed 0 Deaths 0",
          "Iceland<br>Confirmed 0 Deaths 0",
          "India<br>Confirmed 1 Deaths 0",
          "Indonesia<br>Confirmed 0 Deaths 0",
          "Iran<br>Confirmed 0 Deaths 0",
          "Iraq<br>Confirmed 0 Deaths 0",
          "Ireland<br>Confirmed 0 Deaths 0",
          "Israel<br>Confirmed 0 Deaths 0",
          "Italy<br>Confirmed 2 Deaths 0",
          "Jamaica<br>Confirmed 0 Deaths 0",
          "Japan<br>Confirmed 15 Deaths 0",
          "Jordan<br>Confirmed 0 Deaths 0",
          "Kazakhstan<br>Confirmed 0 Deaths 0",
          "Kenya<br>Confirmed 0 Deaths 0",
          "Korea, South<br>Confirmed 11 Deaths 0",
          "Kosovo<br>Confirmed 0 Deaths 0",
          "Kuwait<br>Confirmed 0 Deaths 0",
          "Kyrgyzstan<br>Confirmed 0 Deaths 0",
          "Laos<br>Confirmed 0 Deaths 0",
          "Latvia<br>Confirmed 0 Deaths 0",
          "Lebanon<br>Confirmed 0 Deaths 0",
          "Liberia<br>Confirmed 0 Deaths 0",
          "Libya<br>Confirmed 0 Deaths 0",
          "Liechtenstein<br>Confirmed 0 Deaths 0",
          "Lithuania<br>Confirmed 0 Deaths 0",
          "Luxembourg<br>Confirmed 0 Deaths 0",
          "MS Zaandam<br>Confirmed 0 Deaths 0",
          "Madagascar<br>Confirmed 0 Deaths 0",
          "Malawi<br>Confirmed 0 Deaths 0",
          "Malaysia<br>Confirmed 8 Deaths 0",
          "Maldives<br>Confirmed 0 Deaths 0",
          "Mali<br>Confirmed 0 Deaths 0",
          "Malta<br>Confirmed 0 Deaths 0",
          "Mauritania<br>Confirmed 0 Deaths 0",
          "Mauritius<br>Confirmed 0 Deaths 0",
          "Mexico<br>Confirmed 0 Deaths 0",
          "Moldova<br>Confirmed 0 Deaths 0",
          "Monaco<br>Confirmed 0 Deaths 0",
          "Mongolia<br>Confirmed 0 Deaths 0",
          "Montenegro<br>Confirmed 0 Deaths 0",
          "Morocco<br>Confirmed 0 Deaths 0",
          "Mozambique<br>Confirmed 0 Deaths 0",
          "Namibia<br>Confirmed 0 Deaths 0",
          "Nepal<br>Confirmed 1 Deaths 0",
          "Netherlands<br>Confirmed 0 Deaths 0",
          "New Zealand<br>Confirmed 0 Deaths 0",
          "Nicaragua<br>Confirmed 0 Deaths 0",
          "Niger<br>Confirmed 0 Deaths 0",
          "Nigeria<br>Confirmed 0 Deaths 0",
          "North Macedonia<br>Confirmed 0 Deaths 0",
          "Norway<br>Confirmed 0 Deaths 0",
          "Oman<br>Confirmed 0 Deaths 0",
          "Pakistan<br>Confirmed 0 Deaths 0",
          "Panama<br>Confirmed 0 Deaths 0",
          "Papua New Guinea<br>Confirmed 0 Deaths 0",
          "Paraguay<br>Confirmed 0 Deaths 0",
          "Peru<br>Confirmed 0 Deaths 0",
          "Philippines<br>Confirmed 1 Deaths 0",
          "Poland<br>Confirmed 0 Deaths 0",
          "Portugal<br>Confirmed 0 Deaths 0",
          "Qatar<br>Confirmed 0 Deaths 0",
          "Romania<br>Confirmed 0 Deaths 0",
          "Russia<br>Confirmed 2 Deaths 0",
          "Rwanda<br>Confirmed 0 Deaths 0",
          "Saint Kitts and Nevis<br>Confirmed 0 Deaths 0",
          "Saint Lucia<br>Confirmed 0 Deaths 0",
          "Saint Vincent and the Grenadines<br>Confirmed 0 Deaths 0",
          "San Marino<br>Confirmed 0 Deaths 0",
          "Sao Tome and Principe<br>Confirmed 0 Deaths 0",
          "Saudi Arabia<br>Confirmed 0 Deaths 0",
          "Senegal<br>Confirmed 0 Deaths 0",
          "Serbia<br>Confirmed 0 Deaths 0",
          "Seychelles<br>Confirmed 0 Deaths 0",
          "Sierra Leone<br>Confirmed 0 Deaths 0",
          "Singapore<br>Confirmed 13 Deaths 0",
          "Slovakia<br>Confirmed 0 Deaths 0",
          "Slovenia<br>Confirmed 0 Deaths 0",
          "Somalia<br>Confirmed 0 Deaths 0",
          "South Africa<br>Confirmed 0 Deaths 0",
          "South Sudan<br>Confirmed 0 Deaths 0",
          "Spain<br>Confirmed 0 Deaths 0",
          "Sri Lanka<br>Confirmed 1 Deaths 0",
          "Sudan<br>Confirmed 0 Deaths 0",
          "Suriname<br>Confirmed 0 Deaths 0",
          "Sweden<br>Confirmed 1 Deaths 0",
          "Switzerland<br>Confirmed 0 Deaths 0",
          "Syria<br>Confirmed 0 Deaths 0",
          "Taiwan*<br>Confirmed 10 Deaths 0",
          "Tanzania<br>Confirmed 0 Deaths 0",
          "Thailand<br>Confirmed 19 Deaths 0",
          "Timor-Leste<br>Confirmed 0 Deaths 0",
          "Togo<br>Confirmed 0 Deaths 0",
          "Trinidad and Tobago<br>Confirmed 0 Deaths 0",
          "Tunisia<br>Confirmed 0 Deaths 0",
          "Turkey<br>Confirmed 0 Deaths 0",
          "US<br>Confirmed 7 Deaths 0",
          "Uganda<br>Confirmed 0 Deaths 0",
          "Ukraine<br>Confirmed 0 Deaths 0",
          "United Arab Emirates<br>Confirmed 4 Deaths 0",
          "United Kingdom<br>Confirmed 2 Deaths 0",
          "Uruguay<br>Confirmed 0 Deaths 0",
          "Uzbekistan<br>Confirmed 0 Deaths 0",
          "Venezuela<br>Confirmed 0 Deaths 0",
          "Vietnam<br>Confirmed 2 Deaths 0",
          "West Bank and Gaza<br>Confirmed 0 Deaths 0",
          "Western Sahara<br>Confirmed 0 Deaths 0",
          "Yemen<br>Confirmed 0 Deaths 0",
          "Zambia<br>Confirmed 0 Deaths 0",
          "Zimbabwe<br>Confirmed 0 Deaths 0"
         ],
         "type": "choropleth",
         "z": [
          "0",
          "0",
          "0",
          "0",
          "0",
          "0",
          "0",
          "0",
          "0",
          "0",
          "0",
          "0",
          "0",
          "0",
          "0",
          "0",
          "0",
          "0",
          "0",
          "0",
          "0",
          "0",
          "0",
          "0",
          "0",
          "0",
          "0",
          "0",
          "0",
          "0",
          "0",
          "0",
          "0",
          "0",
          "0",
          "0",
          "213",
          "0",
          "0",
          "0",
          "0",
          "0",
          "0",
          "0",
          "0",
          "0",
          "0",
          "0",
          "0",
          "0",
          "0",
          "0",
          "0",
          "0",
          "0",
          "0",
          "0",
          "0",
          "0",
          "0",
          "0",
          "0",
          "0",
          "0",
          "0",
          "0",
          "0",
          "0",
          "0",
          "0",
          "0",
          "0",
          "0",
          "0",
          "0",
          "0",
          "0",
          "0",
          "0",
          "0",
          "0",
          "0",
          "0",
          "0",
          "0",
          "0",
          "0",
          "0",
          "0",
          "0",
          "0",
          "0",
          "0",
          "0",
          "0",
          "0",
          "0",
          "0",
          "0",
          "0",
          "0",
          "0",
          "0",
          "0",
          "0",
          "0",
          "0",
          "0",
          "0",
          "0",
          "0",
          "0",
          "0",
          "0",
          "0",
          "0",
          "0",
          "0",
          "0",
          "0",
          "0",
          "0",
          "0",
          "0",
          "0",
          "0",
          "0",
          "0",
          "0",
          "0",
          "0",
          "0",
          "0",
          "0",
          "0",
          "0",
          "0",
          "0",
          "0",
          "0",
          "0",
          "0",
          "0",
          "0",
          "0",
          "0",
          "0",
          "0",
          "0",
          "0",
          "0",
          "0",
          "0",
          "0",
          "0",
          "0",
          "0",
          "0",
          "0",
          "0",
          "0",
          "0",
          "0",
          "0",
          "0",
          "0",
          "0",
          "0",
          "0",
          "0",
          "0",
          "0",
          "0",
          "0",
          "0",
          "0",
          "0",
          "0",
          "0",
          "0",
          "0",
          "0",
          "0",
          "0",
          "0"
         ]
        }
       ],
       "layout": {
        "geo": {
         "lakecolor": "rgb(85,173,240)",
         "scope": "world",
         "showlakes": true
        },
        "template": {
         "data": {
          "bar": [
           {
            "error_x": {
             "color": "#2a3f5f"
            },
            "error_y": {
             "color": "#2a3f5f"
            },
            "marker": {
             "line": {
              "color": "#E5ECF6",
              "width": 0.5
             }
            },
            "type": "bar"
           }
          ],
          "barpolar": [
           {
            "marker": {
             "line": {
              "color": "#E5ECF6",
              "width": 0.5
             }
            },
            "type": "barpolar"
           }
          ],
          "carpet": [
           {
            "aaxis": {
             "endlinecolor": "#2a3f5f",
             "gridcolor": "white",
             "linecolor": "white",
             "minorgridcolor": "white",
             "startlinecolor": "#2a3f5f"
            },
            "baxis": {
             "endlinecolor": "#2a3f5f",
             "gridcolor": "white",
             "linecolor": "white",
             "minorgridcolor": "white",
             "startlinecolor": "#2a3f5f"
            },
            "type": "carpet"
           }
          ],
          "choropleth": [
           {
            "colorbar": {
             "outlinewidth": 0,
             "ticks": ""
            },
            "type": "choropleth"
           }
          ],
          "contour": [
           {
            "colorbar": {
             "outlinewidth": 0,
             "ticks": ""
            },
            "colorscale": [
             [
              0,
              "#0d0887"
             ],
             [
              0.1111111111111111,
              "#46039f"
             ],
             [
              0.2222222222222222,
              "#7201a8"
             ],
             [
              0.3333333333333333,
              "#9c179e"
             ],
             [
              0.4444444444444444,
              "#bd3786"
             ],
             [
              0.5555555555555556,
              "#d8576b"
             ],
             [
              0.6666666666666666,
              "#ed7953"
             ],
             [
              0.7777777777777778,
              "#fb9f3a"
             ],
             [
              0.8888888888888888,
              "#fdca26"
             ],
             [
              1,
              "#f0f921"
             ]
            ],
            "type": "contour"
           }
          ],
          "contourcarpet": [
           {
            "colorbar": {
             "outlinewidth": 0,
             "ticks": ""
            },
            "type": "contourcarpet"
           }
          ],
          "heatmap": [
           {
            "colorbar": {
             "outlinewidth": 0,
             "ticks": ""
            },
            "colorscale": [
             [
              0,
              "#0d0887"
             ],
             [
              0.1111111111111111,
              "#46039f"
             ],
             [
              0.2222222222222222,
              "#7201a8"
             ],
             [
              0.3333333333333333,
              "#9c179e"
             ],
             [
              0.4444444444444444,
              "#bd3786"
             ],
             [
              0.5555555555555556,
              "#d8576b"
             ],
             [
              0.6666666666666666,
              "#ed7953"
             ],
             [
              0.7777777777777778,
              "#fb9f3a"
             ],
             [
              0.8888888888888888,
              "#fdca26"
             ],
             [
              1,
              "#f0f921"
             ]
            ],
            "type": "heatmap"
           }
          ],
          "heatmapgl": [
           {
            "colorbar": {
             "outlinewidth": 0,
             "ticks": ""
            },
            "colorscale": [
             [
              0,
              "#0d0887"
             ],
             [
              0.1111111111111111,
              "#46039f"
             ],
             [
              0.2222222222222222,
              "#7201a8"
             ],
             [
              0.3333333333333333,
              "#9c179e"
             ],
             [
              0.4444444444444444,
              "#bd3786"
             ],
             [
              0.5555555555555556,
              "#d8576b"
             ],
             [
              0.6666666666666666,
              "#ed7953"
             ],
             [
              0.7777777777777778,
              "#fb9f3a"
             ],
             [
              0.8888888888888888,
              "#fdca26"
             ],
             [
              1,
              "#f0f921"
             ]
            ],
            "type": "heatmapgl"
           }
          ],
          "histogram": [
           {
            "marker": {
             "colorbar": {
              "outlinewidth": 0,
              "ticks": ""
             }
            },
            "type": "histogram"
           }
          ],
          "histogram2d": [
           {
            "colorbar": {
             "outlinewidth": 0,
             "ticks": ""
            },
            "colorscale": [
             [
              0,
              "#0d0887"
             ],
             [
              0.1111111111111111,
              "#46039f"
             ],
             [
              0.2222222222222222,
              "#7201a8"
             ],
             [
              0.3333333333333333,
              "#9c179e"
             ],
             [
              0.4444444444444444,
              "#bd3786"
             ],
             [
              0.5555555555555556,
              "#d8576b"
             ],
             [
              0.6666666666666666,
              "#ed7953"
             ],
             [
              0.7777777777777778,
              "#fb9f3a"
             ],
             [
              0.8888888888888888,
              "#fdca26"
             ],
             [
              1,
              "#f0f921"
             ]
            ],
            "type": "histogram2d"
           }
          ],
          "histogram2dcontour": [
           {
            "colorbar": {
             "outlinewidth": 0,
             "ticks": ""
            },
            "colorscale": [
             [
              0,
              "#0d0887"
             ],
             [
              0.1111111111111111,
              "#46039f"
             ],
             [
              0.2222222222222222,
              "#7201a8"
             ],
             [
              0.3333333333333333,
              "#9c179e"
             ],
             [
              0.4444444444444444,
              "#bd3786"
             ],
             [
              0.5555555555555556,
              "#d8576b"
             ],
             [
              0.6666666666666666,
              "#ed7953"
             ],
             [
              0.7777777777777778,
              "#fb9f3a"
             ],
             [
              0.8888888888888888,
              "#fdca26"
             ],
             [
              1,
              "#f0f921"
             ]
            ],
            "type": "histogram2dcontour"
           }
          ],
          "mesh3d": [
           {
            "colorbar": {
             "outlinewidth": 0,
             "ticks": ""
            },
            "type": "mesh3d"
           }
          ],
          "parcoords": [
           {
            "line": {
             "colorbar": {
              "outlinewidth": 0,
              "ticks": ""
             }
            },
            "type": "parcoords"
           }
          ],
          "pie": [
           {
            "automargin": true,
            "type": "pie"
           }
          ],
          "scatter": [
           {
            "marker": {
             "colorbar": {
              "outlinewidth": 0,
              "ticks": ""
             }
            },
            "type": "scatter"
           }
          ],
          "scatter3d": [
           {
            "line": {
             "colorbar": {
              "outlinewidth": 0,
              "ticks": ""
             }
            },
            "marker": {
             "colorbar": {
              "outlinewidth": 0,
              "ticks": ""
             }
            },
            "type": "scatter3d"
           }
          ],
          "scattercarpet": [
           {
            "marker": {
             "colorbar": {
              "outlinewidth": 0,
              "ticks": ""
             }
            },
            "type": "scattercarpet"
           }
          ],
          "scattergeo": [
           {
            "marker": {
             "colorbar": {
              "outlinewidth": 0,
              "ticks": ""
             }
            },
            "type": "scattergeo"
           }
          ],
          "scattergl": [
           {
            "marker": {
             "colorbar": {
              "outlinewidth": 0,
              "ticks": ""
             }
            },
            "type": "scattergl"
           }
          ],
          "scattermapbox": [
           {
            "marker": {
             "colorbar": {
              "outlinewidth": 0,
              "ticks": ""
             }
            },
            "type": "scattermapbox"
           }
          ],
          "scatterpolar": [
           {
            "marker": {
             "colorbar": {
              "outlinewidth": 0,
              "ticks": ""
             }
            },
            "type": "scatterpolar"
           }
          ],
          "scatterpolargl": [
           {
            "marker": {
             "colorbar": {
              "outlinewidth": 0,
              "ticks": ""
             }
            },
            "type": "scatterpolargl"
           }
          ],
          "scatterternary": [
           {
            "marker": {
             "colorbar": {
              "outlinewidth": 0,
              "ticks": ""
             }
            },
            "type": "scatterternary"
           }
          ],
          "surface": [
           {
            "colorbar": {
             "outlinewidth": 0,
             "ticks": ""
            },
            "colorscale": [
             [
              0,
              "#0d0887"
             ],
             [
              0.1111111111111111,
              "#46039f"
             ],
             [
              0.2222222222222222,
              "#7201a8"
             ],
             [
              0.3333333333333333,
              "#9c179e"
             ],
             [
              0.4444444444444444,
              "#bd3786"
             ],
             [
              0.5555555555555556,
              "#d8576b"
             ],
             [
              0.6666666666666666,
              "#ed7953"
             ],
             [
              0.7777777777777778,
              "#fb9f3a"
             ],
             [
              0.8888888888888888,
              "#fdca26"
             ],
             [
              1,
              "#f0f921"
             ]
            ],
            "type": "surface"
           }
          ],
          "table": [
           {
            "cells": {
             "fill": {
              "color": "#EBF0F8"
             },
             "line": {
              "color": "white"
             }
            },
            "header": {
             "fill": {
              "color": "#C8D4E3"
             },
             "line": {
              "color": "white"
             }
            },
            "type": "table"
           }
          ]
         },
         "layout": {
          "annotationdefaults": {
           "arrowcolor": "#2a3f5f",
           "arrowhead": 0,
           "arrowwidth": 1
          },
          "coloraxis": {
           "colorbar": {
            "outlinewidth": 0,
            "ticks": ""
           }
          },
          "colorscale": {
           "diverging": [
            [
             0,
             "#8e0152"
            ],
            [
             0.1,
             "#c51b7d"
            ],
            [
             0.2,
             "#de77ae"
            ],
            [
             0.3,
             "#f1b6da"
            ],
            [
             0.4,
             "#fde0ef"
            ],
            [
             0.5,
             "#f7f7f7"
            ],
            [
             0.6,
             "#e6f5d0"
            ],
            [
             0.7,
             "#b8e186"
            ],
            [
             0.8,
             "#7fbc41"
            ],
            [
             0.9,
             "#4d9221"
            ],
            [
             1,
             "#276419"
            ]
           ],
           "sequential": [
            [
             0,
             "#0d0887"
            ],
            [
             0.1111111111111111,
             "#46039f"
            ],
            [
             0.2222222222222222,
             "#7201a8"
            ],
            [
             0.3333333333333333,
             "#9c179e"
            ],
            [
             0.4444444444444444,
             "#bd3786"
            ],
            [
             0.5555555555555556,
             "#d8576b"
            ],
            [
             0.6666666666666666,
             "#ed7953"
            ],
            [
             0.7777777777777778,
             "#fb9f3a"
            ],
            [
             0.8888888888888888,
             "#fdca26"
            ],
            [
             1,
             "#f0f921"
            ]
           ],
           "sequentialminus": [
            [
             0,
             "#0d0887"
            ],
            [
             0.1111111111111111,
             "#46039f"
            ],
            [
             0.2222222222222222,
             "#7201a8"
            ],
            [
             0.3333333333333333,
             "#9c179e"
            ],
            [
             0.4444444444444444,
             "#bd3786"
            ],
            [
             0.5555555555555556,
             "#d8576b"
            ],
            [
             0.6666666666666666,
             "#ed7953"
            ],
            [
             0.7777777777777778,
             "#fb9f3a"
            ],
            [
             0.8888888888888888,
             "#fdca26"
            ],
            [
             1,
             "#f0f921"
            ]
           ]
          },
          "colorway": [
           "#636efa",
           "#EF553B",
           "#00cc96",
           "#ab63fa",
           "#FFA15A",
           "#19d3f3",
           "#FF6692",
           "#B6E880",
           "#FF97FF",
           "#FECB52"
          ],
          "font": {
           "color": "#2a3f5f"
          },
          "geo": {
           "bgcolor": "white",
           "lakecolor": "white",
           "landcolor": "#E5ECF6",
           "showlakes": true,
           "showland": true,
           "subunitcolor": "white"
          },
          "hoverlabel": {
           "align": "left"
          },
          "hovermode": "closest",
          "mapbox": {
           "style": "light"
          },
          "paper_bgcolor": "white",
          "plot_bgcolor": "#E5ECF6",
          "polar": {
           "angularaxis": {
            "gridcolor": "white",
            "linecolor": "white",
            "ticks": ""
           },
           "bgcolor": "#E5ECF6",
           "radialaxis": {
            "gridcolor": "white",
            "linecolor": "white",
            "ticks": ""
           }
          },
          "scene": {
           "xaxis": {
            "backgroundcolor": "#E5ECF6",
            "gridcolor": "white",
            "gridwidth": 2,
            "linecolor": "white",
            "showbackground": true,
            "ticks": "",
            "zerolinecolor": "white"
           },
           "yaxis": {
            "backgroundcolor": "#E5ECF6",
            "gridcolor": "white",
            "gridwidth": 2,
            "linecolor": "white",
            "showbackground": true,
            "ticks": "",
            "zerolinecolor": "white"
           },
           "zaxis": {
            "backgroundcolor": "#E5ECF6",
            "gridcolor": "white",
            "gridwidth": 2,
            "linecolor": "white",
            "showbackground": true,
            "ticks": "",
            "zerolinecolor": "white"
           }
          },
          "shapedefaults": {
           "line": {
            "color": "#2a3f5f"
           }
          },
          "ternary": {
           "aaxis": {
            "gridcolor": "white",
            "linecolor": "white",
            "ticks": ""
           },
           "baxis": {
            "gridcolor": "white",
            "linecolor": "white",
            "ticks": ""
           },
           "bgcolor": "#E5ECF6",
           "caxis": {
            "gridcolor": "white",
            "linecolor": "white",
            "ticks": ""
           }
          },
          "title": {
           "x": 0.05
          },
          "xaxis": {
           "automargin": true,
           "gridcolor": "white",
           "linecolor": "white",
           "ticks": "",
           "title": {
            "standoff": 15
           },
           "zerolinecolor": "white",
           "zerolinewidth": 2
          },
          "yaxis": {
           "automargin": true,
           "gridcolor": "white",
           "linecolor": "white",
           "ticks": "",
           "title": {
            "standoff": 15
           },
           "zerolinecolor": "white",
           "zerolinewidth": 2
          }
         }
        },
        "title": {
         "text": "COVID-19 Death Per Country as of Jan 2020"
        }
       }
      },
      "text/html": [
       "<div>\n",
       "        \n",
       "        \n",
       "            <div id=\"6adc2dd1-ffaa-45ad-9935-45eba130471c\" class=\"plotly-graph-div\" style=\"height:525px; width:100%;\"></div>\n",
       "            <script type=\"text/javascript\">\n",
       "                require([\"plotly\"], function(Plotly) {\n",
       "                    window.PLOTLYENV=window.PLOTLYENV || {};\n",
       "                    \n",
       "                if (document.getElementById(\"6adc2dd1-ffaa-45ad-9935-45eba130471c\")) {\n",
       "                    Plotly.newPlot(\n",
       "                        '6adc2dd1-ffaa-45ad-9935-45eba130471c',\n",
       "                        [{\"colorbar\": {\"title\": {\"text\": \"Number of deaths\"}}, \"colorscale\": [[0.0, \"rgb(150,0,90)\"], [0.125, \"rgb(0,0,200)\"], [0.25, \"rgb(0,25,255)\"], [0.375, \"rgb(0,152,255)\"], [0.5, \"rgb(44,255,150)\"], [0.625, \"rgb(151,255,0)\"], [0.75, \"rgb(255,234,0)\"], [0.875, \"rgb(255,111,0)\"], [1.0, \"rgb(255,0,0)\"]], \"locationmode\": \"country names\", \"locations\": [\"Afghanistan\", \"Albania\", \"Algeria\", \"Andorra\", \"Angola\", \"Antigua and Barbuda\", \"Argentina\", \"Armenia\", \"Australia\", \"Austria\", \"Azerbaijan\", \"Bahamas\", \"Bahrain\", \"Bangladesh\", \"Barbados\", \"Belarus\", \"Belgium\", \"Belize\", \"Benin\", \"Bhutan\", \"Bolivia\", \"Bosnia and Herzegovina\", \"Botswana\", \"Brazil\", \"Brunei\", \"Bulgaria\", \"Burkina Faso\", \"Burma\", \"Burundi\", \"Cabo Verde\", \"Cambodia\", \"Cameroon\", \"Canada\", \"Central African Republic\", \"Chad\", \"Chile\", \"China\", \"Colombia\", \"Congo (Brazzaville)\", \"Congo (Kinshasa)\", \"Costa Rica\", \"Cote d'Ivoire\", \"Croatia\", \"Cuba\", \"Cyprus\", \"Czechia\", \"Denmark\", \"Diamond Princess\", \"Djibouti\", \"Dominica\", \"Dominican Republic\", \"Ecuador\", \"Egypt\", \"El Salvador\", \"Equatorial Guinea\", \"Eritrea\", \"Estonia\", \"Eswatini\", \"Ethiopia\", \"Fiji\", \"Finland\", \"France\", \"Gabon\", \"Gambia\", \"Georgia\", \"Germany\", \"Ghana\", \"Greece\", \"Grenada\", \"Guatemala\", \"Guinea\", \"Guinea-Bissau\", \"Guyana\", \"Haiti\", \"Holy See\", \"Honduras\", \"Hungary\", \"Iceland\", \"India\", \"Indonesia\", \"Iran\", \"Iraq\", \"Ireland\", \"Israel\", \"Italy\", \"Jamaica\", \"Japan\", \"Jordan\", \"Kazakhstan\", \"Kenya\", \"Korea, South\", \"Kosovo\", \"Kuwait\", \"Kyrgyzstan\", \"Laos\", \"Latvia\", \"Lebanon\", \"Liberia\", \"Libya\", \"Liechtenstein\", \"Lithuania\", \"Luxembourg\", \"MS Zaandam\", \"Madagascar\", \"Malawi\", \"Malaysia\", \"Maldives\", \"Mali\", \"Malta\", \"Mauritania\", \"Mauritius\", \"Mexico\", \"Moldova\", \"Monaco\", \"Mongolia\", \"Montenegro\", \"Morocco\", \"Mozambique\", \"Namibia\", \"Nepal\", \"Netherlands\", \"New Zealand\", \"Nicaragua\", \"Niger\", \"Nigeria\", \"North Macedonia\", \"Norway\", \"Oman\", \"Pakistan\", \"Panama\", \"Papua New Guinea\", \"Paraguay\", \"Peru\", \"Philippines\", \"Poland\", \"Portugal\", \"Qatar\", \"Romania\", \"Russia\", \"Rwanda\", \"Saint Kitts and Nevis\", \"Saint Lucia\", \"Saint Vincent and the Grenadines\", \"San Marino\", \"Sao Tome and Principe\", \"Saudi Arabia\", \"Senegal\", \"Serbia\", \"Seychelles\", \"Sierra Leone\", \"Singapore\", \"Slovakia\", \"Slovenia\", \"Somalia\", \"South Africa\", \"South Sudan\", \"Spain\", \"Sri Lanka\", \"Sudan\", \"Suriname\", \"Sweden\", \"Switzerland\", \"Syria\", \"Taiwan*\", \"Tanzania\", \"Thailand\", \"Timor-Leste\", \"Togo\", \"Trinidad and Tobago\", \"Tunisia\", \"Turkey\", \"US\", \"Uganda\", \"Ukraine\", \"United Arab Emirates\", \"United Kingdom\", \"Uruguay\", \"Uzbekistan\", \"Venezuela\", \"Vietnam\", \"West Bank and Gaza\", \"Western Sahara\", \"Yemen\", \"Zambia\", \"Zimbabwe\"], \"marker\": {\"line\": {\"color\": \"rgb(0,0,0)\", \"width\": 0.8}}, \"text\": [\"Afghanistan<br>Confirmed 0 Deaths 0\", \"Albania<br>Confirmed 0 Deaths 0\", \"Algeria<br>Confirmed 0 Deaths 0\", \"Andorra<br>Confirmed 0 Deaths 0\", \"Angola<br>Confirmed 0 Deaths 0\", \"Antigua and Barbuda<br>Confirmed 0 Deaths 0\", \"Argentina<br>Confirmed 0 Deaths 0\", \"Armenia<br>Confirmed 0 Deaths 0\", \"Australia<br>Confirmed 9 Deaths 0\", \"Austria<br>Confirmed 0 Deaths 0\", \"Azerbaijan<br>Confirmed 0 Deaths 0\", \"Bahamas<br>Confirmed 0 Deaths 0\", \"Bahrain<br>Confirmed 0 Deaths 0\", \"Bangladesh<br>Confirmed 0 Deaths 0\", \"Barbados<br>Confirmed 0 Deaths 0\", \"Belarus<br>Confirmed 0 Deaths 0\", \"Belgium<br>Confirmed 0 Deaths 0\", \"Belize<br>Confirmed 0 Deaths 0\", \"Benin<br>Confirmed 0 Deaths 0\", \"Bhutan<br>Confirmed 0 Deaths 0\", \"Bolivia<br>Confirmed 0 Deaths 0\", \"Bosnia and Herzegovina<br>Confirmed 0 Deaths 0\", \"Botswana<br>Confirmed 0 Deaths 0\", \"Brazil<br>Confirmed 0 Deaths 0\", \"Brunei<br>Confirmed 0 Deaths 0\", \"Bulgaria<br>Confirmed 0 Deaths 0\", \"Burkina Faso<br>Confirmed 0 Deaths 0\", \"Burma<br>Confirmed 0 Deaths 0\", \"Burundi<br>Confirmed 0 Deaths 0\", \"Cabo Verde<br>Confirmed 0 Deaths 0\", \"Cambodia<br>Confirmed 1 Deaths 0\", \"Cameroon<br>Confirmed 0 Deaths 0\", \"Canada<br>Confirmed 4 Deaths 0\", \"Central African Republic<br>Confirmed 0 Deaths 0\", \"Chad<br>Confirmed 0 Deaths 0\", \"Chile<br>Confirmed 0 Deaths 0\", \"China<br>Confirmed 9802 Deaths 213\", \"Colombia<br>Confirmed 0 Deaths 0\", \"Congo (Brazzaville)<br>Confirmed 0 Deaths 0\", \"Congo (Kinshasa)<br>Confirmed 0 Deaths 0\", \"Costa Rica<br>Confirmed 0 Deaths 0\", \"Cote d'Ivoire<br>Confirmed 0 Deaths 0\", \"Croatia<br>Confirmed 0 Deaths 0\", \"Cuba<br>Confirmed 0 Deaths 0\", \"Cyprus<br>Confirmed 0 Deaths 0\", \"Czechia<br>Confirmed 0 Deaths 0\", \"Denmark<br>Confirmed 0 Deaths 0\", \"Diamond Princess<br>Confirmed 0 Deaths 0\", \"Djibouti<br>Confirmed 0 Deaths 0\", \"Dominica<br>Confirmed 0 Deaths 0\", \"Dominican Republic<br>Confirmed 0 Deaths 0\", \"Ecuador<br>Confirmed 0 Deaths 0\", \"Egypt<br>Confirmed 0 Deaths 0\", \"El Salvador<br>Confirmed 0 Deaths 0\", \"Equatorial Guinea<br>Confirmed 0 Deaths 0\", \"Eritrea<br>Confirmed 0 Deaths 0\", \"Estonia<br>Confirmed 0 Deaths 0\", \"Eswatini<br>Confirmed 0 Deaths 0\", \"Ethiopia<br>Confirmed 0 Deaths 0\", \"Fiji<br>Confirmed 0 Deaths 0\", \"Finland<br>Confirmed 1 Deaths 0\", \"France<br>Confirmed 5 Deaths 0\", \"Gabon<br>Confirmed 0 Deaths 0\", \"Gambia<br>Confirmed 0 Deaths 0\", \"Georgia<br>Confirmed 0 Deaths 0\", \"Germany<br>Confirmed 5 Deaths 0\", \"Ghana<br>Confirmed 0 Deaths 0\", \"Greece<br>Confirmed 0 Deaths 0\", \"Grenada<br>Confirmed 0 Deaths 0\", \"Guatemala<br>Confirmed 0 Deaths 0\", \"Guinea<br>Confirmed 0 Deaths 0\", \"Guinea-Bissau<br>Confirmed 0 Deaths 0\", \"Guyana<br>Confirmed 0 Deaths 0\", \"Haiti<br>Confirmed 0 Deaths 0\", \"Holy See<br>Confirmed 0 Deaths 0\", \"Honduras<br>Confirmed 0 Deaths 0\", \"Hungary<br>Confirmed 0 Deaths 0\", \"Iceland<br>Confirmed 0 Deaths 0\", \"India<br>Confirmed 1 Deaths 0\", \"Indonesia<br>Confirmed 0 Deaths 0\", \"Iran<br>Confirmed 0 Deaths 0\", \"Iraq<br>Confirmed 0 Deaths 0\", \"Ireland<br>Confirmed 0 Deaths 0\", \"Israel<br>Confirmed 0 Deaths 0\", \"Italy<br>Confirmed 2 Deaths 0\", \"Jamaica<br>Confirmed 0 Deaths 0\", \"Japan<br>Confirmed 15 Deaths 0\", \"Jordan<br>Confirmed 0 Deaths 0\", \"Kazakhstan<br>Confirmed 0 Deaths 0\", \"Kenya<br>Confirmed 0 Deaths 0\", \"Korea, South<br>Confirmed 11 Deaths 0\", \"Kosovo<br>Confirmed 0 Deaths 0\", \"Kuwait<br>Confirmed 0 Deaths 0\", \"Kyrgyzstan<br>Confirmed 0 Deaths 0\", \"Laos<br>Confirmed 0 Deaths 0\", \"Latvia<br>Confirmed 0 Deaths 0\", \"Lebanon<br>Confirmed 0 Deaths 0\", \"Liberia<br>Confirmed 0 Deaths 0\", \"Libya<br>Confirmed 0 Deaths 0\", \"Liechtenstein<br>Confirmed 0 Deaths 0\", \"Lithuania<br>Confirmed 0 Deaths 0\", \"Luxembourg<br>Confirmed 0 Deaths 0\", \"MS Zaandam<br>Confirmed 0 Deaths 0\", \"Madagascar<br>Confirmed 0 Deaths 0\", \"Malawi<br>Confirmed 0 Deaths 0\", \"Malaysia<br>Confirmed 8 Deaths 0\", \"Maldives<br>Confirmed 0 Deaths 0\", \"Mali<br>Confirmed 0 Deaths 0\", \"Malta<br>Confirmed 0 Deaths 0\", \"Mauritania<br>Confirmed 0 Deaths 0\", \"Mauritius<br>Confirmed 0 Deaths 0\", \"Mexico<br>Confirmed 0 Deaths 0\", \"Moldova<br>Confirmed 0 Deaths 0\", \"Monaco<br>Confirmed 0 Deaths 0\", \"Mongolia<br>Confirmed 0 Deaths 0\", \"Montenegro<br>Confirmed 0 Deaths 0\", \"Morocco<br>Confirmed 0 Deaths 0\", \"Mozambique<br>Confirmed 0 Deaths 0\", \"Namibia<br>Confirmed 0 Deaths 0\", \"Nepal<br>Confirmed 1 Deaths 0\", \"Netherlands<br>Confirmed 0 Deaths 0\", \"New Zealand<br>Confirmed 0 Deaths 0\", \"Nicaragua<br>Confirmed 0 Deaths 0\", \"Niger<br>Confirmed 0 Deaths 0\", \"Nigeria<br>Confirmed 0 Deaths 0\", \"North Macedonia<br>Confirmed 0 Deaths 0\", \"Norway<br>Confirmed 0 Deaths 0\", \"Oman<br>Confirmed 0 Deaths 0\", \"Pakistan<br>Confirmed 0 Deaths 0\", \"Panama<br>Confirmed 0 Deaths 0\", \"Papua New Guinea<br>Confirmed 0 Deaths 0\", \"Paraguay<br>Confirmed 0 Deaths 0\", \"Peru<br>Confirmed 0 Deaths 0\", \"Philippines<br>Confirmed 1 Deaths 0\", \"Poland<br>Confirmed 0 Deaths 0\", \"Portugal<br>Confirmed 0 Deaths 0\", \"Qatar<br>Confirmed 0 Deaths 0\", \"Romania<br>Confirmed 0 Deaths 0\", \"Russia<br>Confirmed 2 Deaths 0\", \"Rwanda<br>Confirmed 0 Deaths 0\", \"Saint Kitts and Nevis<br>Confirmed 0 Deaths 0\", \"Saint Lucia<br>Confirmed 0 Deaths 0\", \"Saint Vincent and the Grenadines<br>Confirmed 0 Deaths 0\", \"San Marino<br>Confirmed 0 Deaths 0\", \"Sao Tome and Principe<br>Confirmed 0 Deaths 0\", \"Saudi Arabia<br>Confirmed 0 Deaths 0\", \"Senegal<br>Confirmed 0 Deaths 0\", \"Serbia<br>Confirmed 0 Deaths 0\", \"Seychelles<br>Confirmed 0 Deaths 0\", \"Sierra Leone<br>Confirmed 0 Deaths 0\", \"Singapore<br>Confirmed 13 Deaths 0\", \"Slovakia<br>Confirmed 0 Deaths 0\", \"Slovenia<br>Confirmed 0 Deaths 0\", \"Somalia<br>Confirmed 0 Deaths 0\", \"South Africa<br>Confirmed 0 Deaths 0\", \"South Sudan<br>Confirmed 0 Deaths 0\", \"Spain<br>Confirmed 0 Deaths 0\", \"Sri Lanka<br>Confirmed 1 Deaths 0\", \"Sudan<br>Confirmed 0 Deaths 0\", \"Suriname<br>Confirmed 0 Deaths 0\", \"Sweden<br>Confirmed 1 Deaths 0\", \"Switzerland<br>Confirmed 0 Deaths 0\", \"Syria<br>Confirmed 0 Deaths 0\", \"Taiwan*<br>Confirmed 10 Deaths 0\", \"Tanzania<br>Confirmed 0 Deaths 0\", \"Thailand<br>Confirmed 19 Deaths 0\", \"Timor-Leste<br>Confirmed 0 Deaths 0\", \"Togo<br>Confirmed 0 Deaths 0\", \"Trinidad and Tobago<br>Confirmed 0 Deaths 0\", \"Tunisia<br>Confirmed 0 Deaths 0\", \"Turkey<br>Confirmed 0 Deaths 0\", \"US<br>Confirmed 7 Deaths 0\", \"Uganda<br>Confirmed 0 Deaths 0\", \"Ukraine<br>Confirmed 0 Deaths 0\", \"United Arab Emirates<br>Confirmed 4 Deaths 0\", \"United Kingdom<br>Confirmed 2 Deaths 0\", \"Uruguay<br>Confirmed 0 Deaths 0\", \"Uzbekistan<br>Confirmed 0 Deaths 0\", \"Venezuela<br>Confirmed 0 Deaths 0\", \"Vietnam<br>Confirmed 2 Deaths 0\", \"West Bank and Gaza<br>Confirmed 0 Deaths 0\", \"Western Sahara<br>Confirmed 0 Deaths 0\", \"Yemen<br>Confirmed 0 Deaths 0\", \"Zambia<br>Confirmed 0 Deaths 0\", \"Zimbabwe<br>Confirmed 0 Deaths 0\"], \"type\": \"choropleth\", \"z\": [\"0\", \"0\", \"0\", \"0\", \"0\", \"0\", \"0\", \"0\", \"0\", \"0\", \"0\", \"0\", \"0\", \"0\", \"0\", \"0\", \"0\", \"0\", \"0\", \"0\", \"0\", \"0\", \"0\", \"0\", \"0\", \"0\", \"0\", \"0\", \"0\", \"0\", \"0\", \"0\", \"0\", \"0\", \"0\", \"0\", \"213\", \"0\", \"0\", \"0\", \"0\", \"0\", \"0\", \"0\", \"0\", \"0\", \"0\", \"0\", \"0\", \"0\", \"0\", \"0\", \"0\", \"0\", \"0\", \"0\", \"0\", \"0\", \"0\", \"0\", \"0\", \"0\", \"0\", \"0\", \"0\", \"0\", \"0\", \"0\", \"0\", \"0\", \"0\", \"0\", \"0\", \"0\", \"0\", \"0\", \"0\", \"0\", \"0\", \"0\", \"0\", \"0\", \"0\", \"0\", \"0\", \"0\", \"0\", \"0\", \"0\", \"0\", \"0\", \"0\", \"0\", \"0\", \"0\", \"0\", \"0\", \"0\", \"0\", \"0\", \"0\", \"0\", \"0\", \"0\", \"0\", \"0\", \"0\", \"0\", \"0\", \"0\", \"0\", \"0\", \"0\", \"0\", \"0\", \"0\", \"0\", \"0\", \"0\", \"0\", \"0\", \"0\", \"0\", \"0\", \"0\", \"0\", \"0\", \"0\", \"0\", \"0\", \"0\", \"0\", \"0\", \"0\", \"0\", \"0\", \"0\", \"0\", \"0\", \"0\", \"0\", \"0\", \"0\", \"0\", \"0\", \"0\", \"0\", \"0\", \"0\", \"0\", \"0\", \"0\", \"0\", \"0\", \"0\", \"0\", \"0\", \"0\", \"0\", \"0\", \"0\", \"0\", \"0\", \"0\", \"0\", \"0\", \"0\", \"0\", \"0\", \"0\", \"0\", \"0\", \"0\", \"0\", \"0\", \"0\", \"0\", \"0\", \"0\", \"0\", \"0\", \"0\", \"0\", \"0\", \"0\"]}],\n",
       "                        {\"geo\": {\"lakecolor\": \"rgb(85,173,240)\", \"scope\": \"world\", \"showlakes\": true}, \"template\": {\"data\": {\"bar\": [{\"error_x\": {\"color\": \"#2a3f5f\"}, \"error_y\": {\"color\": \"#2a3f5f\"}, \"marker\": {\"line\": {\"color\": \"#E5ECF6\", \"width\": 0.5}}, \"type\": \"bar\"}], \"barpolar\": [{\"marker\": {\"line\": {\"color\": \"#E5ECF6\", \"width\": 0.5}}, \"type\": \"barpolar\"}], \"carpet\": [{\"aaxis\": {\"endlinecolor\": \"#2a3f5f\", \"gridcolor\": \"white\", \"linecolor\": \"white\", \"minorgridcolor\": \"white\", \"startlinecolor\": \"#2a3f5f\"}, \"baxis\": {\"endlinecolor\": \"#2a3f5f\", \"gridcolor\": \"white\", \"linecolor\": \"white\", \"minorgridcolor\": \"white\", \"startlinecolor\": \"#2a3f5f\"}, \"type\": \"carpet\"}], \"choropleth\": [{\"colorbar\": {\"outlinewidth\": 0, \"ticks\": \"\"}, \"type\": \"choropleth\"}], \"contour\": [{\"colorbar\": {\"outlinewidth\": 0, \"ticks\": \"\"}, \"colorscale\": [[0.0, \"#0d0887\"], [0.1111111111111111, \"#46039f\"], [0.2222222222222222, \"#7201a8\"], [0.3333333333333333, \"#9c179e\"], [0.4444444444444444, \"#bd3786\"], [0.5555555555555556, \"#d8576b\"], [0.6666666666666666, \"#ed7953\"], [0.7777777777777778, \"#fb9f3a\"], [0.8888888888888888, \"#fdca26\"], [1.0, \"#f0f921\"]], \"type\": \"contour\"}], \"contourcarpet\": [{\"colorbar\": {\"outlinewidth\": 0, \"ticks\": \"\"}, \"type\": \"contourcarpet\"}], \"heatmap\": [{\"colorbar\": {\"outlinewidth\": 0, \"ticks\": \"\"}, \"colorscale\": [[0.0, \"#0d0887\"], [0.1111111111111111, \"#46039f\"], [0.2222222222222222, \"#7201a8\"], [0.3333333333333333, \"#9c179e\"], [0.4444444444444444, \"#bd3786\"], [0.5555555555555556, \"#d8576b\"], [0.6666666666666666, \"#ed7953\"], [0.7777777777777778, \"#fb9f3a\"], [0.8888888888888888, \"#fdca26\"], [1.0, \"#f0f921\"]], \"type\": \"heatmap\"}], \"heatmapgl\": [{\"colorbar\": {\"outlinewidth\": 0, \"ticks\": \"\"}, \"colorscale\": [[0.0, \"#0d0887\"], [0.1111111111111111, \"#46039f\"], [0.2222222222222222, \"#7201a8\"], [0.3333333333333333, \"#9c179e\"], [0.4444444444444444, \"#bd3786\"], [0.5555555555555556, \"#d8576b\"], [0.6666666666666666, \"#ed7953\"], [0.7777777777777778, \"#fb9f3a\"], [0.8888888888888888, \"#fdca26\"], [1.0, \"#f0f921\"]], \"type\": \"heatmapgl\"}], \"histogram\": [{\"marker\": {\"colorbar\": {\"outlinewidth\": 0, \"ticks\": \"\"}}, \"type\": \"histogram\"}], \"histogram2d\": [{\"colorbar\": {\"outlinewidth\": 0, \"ticks\": \"\"}, \"colorscale\": [[0.0, \"#0d0887\"], [0.1111111111111111, \"#46039f\"], [0.2222222222222222, \"#7201a8\"], [0.3333333333333333, \"#9c179e\"], [0.4444444444444444, \"#bd3786\"], [0.5555555555555556, \"#d8576b\"], [0.6666666666666666, \"#ed7953\"], [0.7777777777777778, \"#fb9f3a\"], [0.8888888888888888, \"#fdca26\"], [1.0, \"#f0f921\"]], \"type\": \"histogram2d\"}], \"histogram2dcontour\": [{\"colorbar\": {\"outlinewidth\": 0, \"ticks\": \"\"}, \"colorscale\": [[0.0, \"#0d0887\"], [0.1111111111111111, \"#46039f\"], [0.2222222222222222, \"#7201a8\"], [0.3333333333333333, \"#9c179e\"], [0.4444444444444444, \"#bd3786\"], [0.5555555555555556, \"#d8576b\"], [0.6666666666666666, \"#ed7953\"], [0.7777777777777778, \"#fb9f3a\"], [0.8888888888888888, \"#fdca26\"], [1.0, \"#f0f921\"]], \"type\": \"histogram2dcontour\"}], \"mesh3d\": [{\"colorbar\": {\"outlinewidth\": 0, \"ticks\": \"\"}, \"type\": \"mesh3d\"}], \"parcoords\": [{\"line\": {\"colorbar\": {\"outlinewidth\": 0, \"ticks\": \"\"}}, \"type\": \"parcoords\"}], \"pie\": [{\"automargin\": true, \"type\": \"pie\"}], \"scatter\": [{\"marker\": {\"colorbar\": {\"outlinewidth\": 0, \"ticks\": \"\"}}, \"type\": \"scatter\"}], \"scatter3d\": [{\"line\": {\"colorbar\": {\"outlinewidth\": 0, \"ticks\": \"\"}}, \"marker\": {\"colorbar\": {\"outlinewidth\": 0, \"ticks\": \"\"}}, \"type\": \"scatter3d\"}], \"scattercarpet\": [{\"marker\": {\"colorbar\": {\"outlinewidth\": 0, \"ticks\": \"\"}}, \"type\": \"scattercarpet\"}], \"scattergeo\": [{\"marker\": {\"colorbar\": {\"outlinewidth\": 0, \"ticks\": \"\"}}, \"type\": \"scattergeo\"}], \"scattergl\": [{\"marker\": {\"colorbar\": {\"outlinewidth\": 0, \"ticks\": \"\"}}, \"type\": \"scattergl\"}], \"scattermapbox\": [{\"marker\": {\"colorbar\": {\"outlinewidth\": 0, \"ticks\": \"\"}}, \"type\": \"scattermapbox\"}], \"scatterpolar\": [{\"marker\": {\"colorbar\": {\"outlinewidth\": 0, \"ticks\": \"\"}}, \"type\": \"scatterpolar\"}], \"scatterpolargl\": [{\"marker\": {\"colorbar\": {\"outlinewidth\": 0, \"ticks\": \"\"}}, \"type\": \"scatterpolargl\"}], \"scatterternary\": [{\"marker\": {\"colorbar\": {\"outlinewidth\": 0, \"ticks\": \"\"}}, \"type\": \"scatterternary\"}], \"surface\": [{\"colorbar\": {\"outlinewidth\": 0, \"ticks\": \"\"}, \"colorscale\": [[0.0, \"#0d0887\"], [0.1111111111111111, \"#46039f\"], [0.2222222222222222, \"#7201a8\"], [0.3333333333333333, \"#9c179e\"], [0.4444444444444444, \"#bd3786\"], [0.5555555555555556, \"#d8576b\"], [0.6666666666666666, \"#ed7953\"], [0.7777777777777778, \"#fb9f3a\"], [0.8888888888888888, \"#fdca26\"], [1.0, \"#f0f921\"]], \"type\": \"surface\"}], \"table\": [{\"cells\": {\"fill\": {\"color\": \"#EBF0F8\"}, \"line\": {\"color\": \"white\"}}, \"header\": {\"fill\": {\"color\": \"#C8D4E3\"}, \"line\": {\"color\": \"white\"}}, \"type\": \"table\"}]}, \"layout\": {\"annotationdefaults\": {\"arrowcolor\": \"#2a3f5f\", \"arrowhead\": 0, \"arrowwidth\": 1}, \"coloraxis\": {\"colorbar\": {\"outlinewidth\": 0, \"ticks\": \"\"}}, \"colorscale\": {\"diverging\": [[0, \"#8e0152\"], [0.1, \"#c51b7d\"], [0.2, \"#de77ae\"], [0.3, \"#f1b6da\"], [0.4, \"#fde0ef\"], [0.5, \"#f7f7f7\"], [0.6, \"#e6f5d0\"], [0.7, \"#b8e186\"], [0.8, \"#7fbc41\"], [0.9, \"#4d9221\"], [1, \"#276419\"]], \"sequential\": [[0.0, \"#0d0887\"], [0.1111111111111111, \"#46039f\"], [0.2222222222222222, \"#7201a8\"], [0.3333333333333333, \"#9c179e\"], [0.4444444444444444, \"#bd3786\"], [0.5555555555555556, \"#d8576b\"], [0.6666666666666666, \"#ed7953\"], [0.7777777777777778, \"#fb9f3a\"], [0.8888888888888888, \"#fdca26\"], [1.0, \"#f0f921\"]], \"sequentialminus\": [[0.0, \"#0d0887\"], [0.1111111111111111, \"#46039f\"], [0.2222222222222222, \"#7201a8\"], [0.3333333333333333, \"#9c179e\"], [0.4444444444444444, \"#bd3786\"], [0.5555555555555556, \"#d8576b\"], [0.6666666666666666, \"#ed7953\"], [0.7777777777777778, \"#fb9f3a\"], [0.8888888888888888, \"#fdca26\"], [1.0, \"#f0f921\"]]}, \"colorway\": [\"#636efa\", \"#EF553B\", \"#00cc96\", \"#ab63fa\", \"#FFA15A\", \"#19d3f3\", \"#FF6692\", \"#B6E880\", \"#FF97FF\", \"#FECB52\"], \"font\": {\"color\": \"#2a3f5f\"}, \"geo\": {\"bgcolor\": \"white\", \"lakecolor\": \"white\", \"landcolor\": \"#E5ECF6\", \"showlakes\": true, \"showland\": true, \"subunitcolor\": \"white\"}, \"hoverlabel\": {\"align\": \"left\"}, \"hovermode\": \"closest\", \"mapbox\": {\"style\": \"light\"}, \"paper_bgcolor\": \"white\", \"plot_bgcolor\": \"#E5ECF6\", \"polar\": {\"angularaxis\": {\"gridcolor\": \"white\", \"linecolor\": \"white\", \"ticks\": \"\"}, \"bgcolor\": \"#E5ECF6\", \"radialaxis\": {\"gridcolor\": \"white\", \"linecolor\": \"white\", \"ticks\": \"\"}}, \"scene\": {\"xaxis\": {\"backgroundcolor\": \"#E5ECF6\", \"gridcolor\": \"white\", \"gridwidth\": 2, \"linecolor\": \"white\", \"showbackground\": true, \"ticks\": \"\", \"zerolinecolor\": \"white\"}, \"yaxis\": {\"backgroundcolor\": \"#E5ECF6\", \"gridcolor\": \"white\", \"gridwidth\": 2, \"linecolor\": \"white\", \"showbackground\": true, \"ticks\": \"\", \"zerolinecolor\": \"white\"}, \"zaxis\": {\"backgroundcolor\": \"#E5ECF6\", \"gridcolor\": \"white\", \"gridwidth\": 2, \"linecolor\": \"white\", \"showbackground\": true, \"ticks\": \"\", \"zerolinecolor\": \"white\"}}, \"shapedefaults\": {\"line\": {\"color\": \"#2a3f5f\"}}, \"ternary\": {\"aaxis\": {\"gridcolor\": \"white\", \"linecolor\": \"white\", \"ticks\": \"\"}, \"baxis\": {\"gridcolor\": \"white\", \"linecolor\": \"white\", \"ticks\": \"\"}, \"bgcolor\": \"#E5ECF6\", \"caxis\": {\"gridcolor\": \"white\", \"linecolor\": \"white\", \"ticks\": \"\"}}, \"title\": {\"x\": 0.05}, \"xaxis\": {\"automargin\": true, \"gridcolor\": \"white\", \"linecolor\": \"white\", \"ticks\": \"\", \"title\": {\"standoff\": 15}, \"zerolinecolor\": \"white\", \"zerolinewidth\": 2}, \"yaxis\": {\"automargin\": true, \"gridcolor\": \"white\", \"linecolor\": \"white\", \"ticks\": \"\", \"title\": {\"standoff\": 15}, \"zerolinecolor\": \"white\", \"zerolinewidth\": 2}}}, \"title\": {\"text\": \"COVID-19 Death Per Country as of Jan 2020\"}},\n",
       "                        {\"responsive\": true}\n",
       "                    ).then(function(){\n",
       "                            \n",
       "var gd = document.getElementById('6adc2dd1-ffaa-45ad-9935-45eba130471c');\n",
       "var x = new MutationObserver(function (mutations, observer) {{\n",
       "        var display = window.getComputedStyle(gd).display;\n",
       "        if (!display || display === 'none') {{\n",
       "            console.log([gd, 'removed!']);\n",
       "            Plotly.purge(gd);\n",
       "            observer.disconnect();\n",
       "        }}\n",
       "}});\n",
       "\n",
       "// Listen for the removal of the full notebook cells\n",
       "var notebookContainer = gd.closest('#notebook-container');\n",
       "if (notebookContainer) {{\n",
       "    x.observe(notebookContainer, {childList: true});\n",
       "}}\n",
       "\n",
       "// Listen for the clearing of the current output cell\n",
       "var outputEl = gd.closest('.output');\n",
       "if (outputEl) {{\n",
       "    x.observe(outputEl, {childList: true});\n",
       "}}\n",
       "\n",
       "                        })\n",
       "                };\n",
       "                });\n",
       "            </script>\n",
       "        </div>"
      ]
     },
     "metadata": {},
     "output_type": "display_data"
    }
   ],
   "source": [
    "iplot(map_jan)"
   ]
  },
  {
   "cell_type": "markdown",
   "metadata": {},
   "source": [
    "![January](https://user-images.githubusercontent.com/61140859/79191031-df2ce900-7e4f-11ea-9d47-94d5fb350feb.PNG)"
   ]
  },
  {
   "cell_type": "markdown",
   "metadata": {},
   "source": [
    "We cannot really tell the difference between the January map and February map just by seeing the colors of the countries of each map. Since the range and interval of both colobars should've been edited in order to show the difference in color of both maps (January and February).\n",
    "\n",
    "But with the help of the colorbar also, we can see the difference without just by seeing the color of each country on each map."
   ]
  },
  {
   "cell_type": "code",
   "execution_count": 168,
   "metadata": {},
   "outputs": [
    {
     "data": {
      "application/vnd.plotly.v1+json": {
       "config": {
        "linkText": "Export to plot.ly",
        "plotlyServerURL": "https://plot.ly",
        "showLink": false
       },
       "data": [
        {
         "colorbar": {
          "title": {
           "text": "Number of deaths"
          }
         },
         "colorscale": [
          [
           0,
           "rgb(150,0,90)"
          ],
          [
           0.125,
           "rgb(0,0,200)"
          ],
          [
           0.25,
           "rgb(0,25,255)"
          ],
          [
           0.375,
           "rgb(0,152,255)"
          ],
          [
           0.5,
           "rgb(44,255,150)"
          ],
          [
           0.625,
           "rgb(151,255,0)"
          ],
          [
           0.75,
           "rgb(255,234,0)"
          ],
          [
           0.875,
           "rgb(255,111,0)"
          ],
          [
           1,
           "rgb(255,0,0)"
          ]
         ],
         "locationmode": "country names",
         "locations": [
          "Afghanistan",
          "Albania",
          "Algeria",
          "Andorra",
          "Angola",
          "Antigua and Barbuda",
          "Argentina",
          "Armenia",
          "Australia",
          "Austria",
          "Azerbaijan",
          "Bahamas",
          "Bahrain",
          "Bangladesh",
          "Barbados",
          "Belarus",
          "Belgium",
          "Belize",
          "Benin",
          "Bhutan",
          "Bolivia",
          "Bosnia and Herzegovina",
          "Botswana",
          "Brazil",
          "Brunei",
          "Bulgaria",
          "Burkina Faso",
          "Burma",
          "Burundi",
          "Cabo Verde",
          "Cambodia",
          "Cameroon",
          "Canada",
          "Central African Republic",
          "Chad",
          "Chile",
          "China",
          "Colombia",
          "Congo (Brazzaville)",
          "Congo (Kinshasa)",
          "Costa Rica",
          "Cote d'Ivoire",
          "Croatia",
          "Cuba",
          "Cyprus",
          "Czechia",
          "Denmark",
          "Diamond Princess",
          "Djibouti",
          "Dominica",
          "Dominican Republic",
          "Ecuador",
          "Egypt",
          "El Salvador",
          "Equatorial Guinea",
          "Eritrea",
          "Estonia",
          "Eswatini",
          "Ethiopia",
          "Fiji",
          "Finland",
          "France",
          "Gabon",
          "Gambia",
          "Georgia",
          "Germany",
          "Ghana",
          "Greece",
          "Grenada",
          "Guatemala",
          "Guinea",
          "Guinea-Bissau",
          "Guyana",
          "Haiti",
          "Holy See",
          "Honduras",
          "Hungary",
          "Iceland",
          "India",
          "Indonesia",
          "Iran",
          "Iraq",
          "Ireland",
          "Israel",
          "Italy",
          "Jamaica",
          "Japan",
          "Jordan",
          "Kazakhstan",
          "Kenya",
          "Korea, South",
          "Kosovo",
          "Kuwait",
          "Kyrgyzstan",
          "Laos",
          "Latvia",
          "Lebanon",
          "Liberia",
          "Libya",
          "Liechtenstein",
          "Lithuania",
          "Luxembourg",
          "MS Zaandam",
          "Madagascar",
          "Malawi",
          "Malaysia",
          "Maldives",
          "Mali",
          "Malta",
          "Mauritania",
          "Mauritius",
          "Mexico",
          "Moldova",
          "Monaco",
          "Mongolia",
          "Montenegro",
          "Morocco",
          "Mozambique",
          "Namibia",
          "Nepal",
          "Netherlands",
          "New Zealand",
          "Nicaragua",
          "Niger",
          "Nigeria",
          "North Macedonia",
          "Norway",
          "Oman",
          "Pakistan",
          "Panama",
          "Papua New Guinea",
          "Paraguay",
          "Peru",
          "Philippines",
          "Poland",
          "Portugal",
          "Qatar",
          "Romania",
          "Russia",
          "Rwanda",
          "Saint Kitts and Nevis",
          "Saint Lucia",
          "Saint Vincent and the Grenadines",
          "San Marino",
          "Sao Tome and Principe",
          "Saudi Arabia",
          "Senegal",
          "Serbia",
          "Seychelles",
          "Sierra Leone",
          "Singapore",
          "Slovakia",
          "Slovenia",
          "Somalia",
          "South Africa",
          "South Sudan",
          "Spain",
          "Sri Lanka",
          "Sudan",
          "Suriname",
          "Sweden",
          "Switzerland",
          "Syria",
          "Taiwan*",
          "Tanzania",
          "Thailand",
          "Timor-Leste",
          "Togo",
          "Trinidad and Tobago",
          "Tunisia",
          "Turkey",
          "US",
          "Uganda",
          "Ukraine",
          "United Arab Emirates",
          "United Kingdom",
          "Uruguay",
          "Uzbekistan",
          "Venezuela",
          "Vietnam",
          "West Bank and Gaza",
          "Western Sahara",
          "Yemen",
          "Zambia",
          "Zimbabwe"
         ],
         "marker": {
          "line": {
           "color": "rgb(0,0,0)",
           "width": 0.8
          }
         },
         "text": [
          "Afghanistan<br>Confirmed 1 Deaths 0",
          "Albania<br>Confirmed 0 Deaths 0",
          "Algeria<br>Confirmed 1 Deaths 0",
          "Andorra<br>Confirmed 0 Deaths 0",
          "Angola<br>Confirmed 0 Deaths 0",
          "Antigua and Barbuda<br>Confirmed 0 Deaths 0",
          "Argentina<br>Confirmed 0 Deaths 0",
          "Armenia<br>Confirmed 0 Deaths 0",
          "Australia<br>Confirmed 25 Deaths 0",
          "Austria<br>Confirmed 9 Deaths 0",
          "Azerbaijan<br>Confirmed 0 Deaths 0",
          "Bahamas<br>Confirmed 0 Deaths 0",
          "Bahrain<br>Confirmed 41 Deaths 0",
          "Bangladesh<br>Confirmed 0 Deaths 0",
          "Barbados<br>Confirmed 0 Deaths 0",
          "Belarus<br>Confirmed 1 Deaths 0",
          "Belgium<br>Confirmed 1 Deaths 0",
          "Belize<br>Confirmed 0 Deaths 0",
          "Benin<br>Confirmed 0 Deaths 0",
          "Bhutan<br>Confirmed 0 Deaths 0",
          "Bolivia<br>Confirmed 0 Deaths 0",
          "Bosnia and Herzegovina<br>Confirmed 0 Deaths 0",
          "Botswana<br>Confirmed 0 Deaths 0",
          "Brazil<br>Confirmed 2 Deaths 0",
          "Brunei<br>Confirmed 0 Deaths 0",
          "Bulgaria<br>Confirmed 0 Deaths 0",
          "Burkina Faso<br>Confirmed 0 Deaths 0",
          "Burma<br>Confirmed 0 Deaths 0",
          "Burundi<br>Confirmed 0 Deaths 0",
          "Cabo Verde<br>Confirmed 0 Deaths 0",
          "Cambodia<br>Confirmed 1 Deaths 0",
          "Cameroon<br>Confirmed 0 Deaths 0",
          "Canada<br>Confirmed 20 Deaths 0",
          "Central African Republic<br>Confirmed 0 Deaths 0",
          "Chad<br>Confirmed 0 Deaths 0",
          "Chile<br>Confirmed 0 Deaths 0",
          "China<br>Confirmed 79356 Deaths 2837",
          "Colombia<br>Confirmed 0 Deaths 0",
          "Congo (Brazzaville)<br>Confirmed 0 Deaths 0",
          "Congo (Kinshasa)<br>Confirmed 0 Deaths 0",
          "Costa Rica<br>Confirmed 0 Deaths 0",
          "Cote d'Ivoire<br>Confirmed 0 Deaths 0",
          "Croatia<br>Confirmed 6 Deaths 0",
          "Cuba<br>Confirmed 0 Deaths 0",
          "Cyprus<br>Confirmed 0 Deaths 0",
          "Czechia<br>Confirmed 0 Deaths 0",
          "Denmark<br>Confirmed 3 Deaths 0",
          "Diamond Princess<br>Confirmed 705 Deaths 6",
          "Djibouti<br>Confirmed 0 Deaths 0",
          "Dominica<br>Confirmed 0 Deaths 0",
          "Dominican Republic<br>Confirmed 0 Deaths 0",
          "Ecuador<br>Confirmed 0 Deaths 0",
          "Egypt<br>Confirmed 1 Deaths 0",
          "El Salvador<br>Confirmed 0 Deaths 0",
          "Equatorial Guinea<br>Confirmed 0 Deaths 0",
          "Eritrea<br>Confirmed 0 Deaths 0",
          "Estonia<br>Confirmed 1 Deaths 0",
          "Eswatini<br>Confirmed 0 Deaths 0",
          "Ethiopia<br>Confirmed 0 Deaths 0",
          "Fiji<br>Confirmed 0 Deaths 0",
          "Finland<br>Confirmed 3 Deaths 0",
          "France<br>Confirmed 100 Deaths 2",
          "Gabon<br>Confirmed 0 Deaths 0",
          "Gambia<br>Confirmed 0 Deaths 0",
          "Georgia<br>Confirmed 1 Deaths 0",
          "Germany<br>Confirmed 79 Deaths 0",
          "Ghana<br>Confirmed 0 Deaths 0",
          "Greece<br>Confirmed 4 Deaths 0",
          "Grenada<br>Confirmed 0 Deaths 0",
          "Guatemala<br>Confirmed 0 Deaths 0",
          "Guinea<br>Confirmed 0 Deaths 0",
          "Guinea-Bissau<br>Confirmed 0 Deaths 0",
          "Guyana<br>Confirmed 0 Deaths 0",
          "Haiti<br>Confirmed 0 Deaths 0",
          "Holy See<br>Confirmed 0 Deaths 0",
          "Honduras<br>Confirmed 0 Deaths 0",
          "Hungary<br>Confirmed 0 Deaths 0",
          "Iceland<br>Confirmed 1 Deaths 0",
          "India<br>Confirmed 3 Deaths 0",
          "Indonesia<br>Confirmed 0 Deaths 0",
          "Iran<br>Confirmed 593 Deaths 43",
          "Iraq<br>Confirmed 13 Deaths 0",
          "Ireland<br>Confirmed 1 Deaths 0",
          "Israel<br>Confirmed 7 Deaths 0",
          "Italy<br>Confirmed 1128 Deaths 29",
          "Jamaica<br>Confirmed 0 Deaths 0",
          "Japan<br>Confirmed 241 Deaths 5",
          "Jordan<br>Confirmed 0 Deaths 0",
          "Kazakhstan<br>Confirmed 0 Deaths 0",
          "Kenya<br>Confirmed 0 Deaths 0",
          "Korea, South<br>Confirmed 3150 Deaths 16",
          "Kosovo<br>Confirmed 0 Deaths 0",
          "Kuwait<br>Confirmed 45 Deaths 0",
          "Kyrgyzstan<br>Confirmed 0 Deaths 0",
          "Laos<br>Confirmed 0 Deaths 0",
          "Latvia<br>Confirmed 0 Deaths 0",
          "Lebanon<br>Confirmed 4 Deaths 0",
          "Liberia<br>Confirmed 0 Deaths 0",
          "Libya<br>Confirmed 0 Deaths 0",
          "Liechtenstein<br>Confirmed 0 Deaths 0",
          "Lithuania<br>Confirmed 1 Deaths 0",
          "Luxembourg<br>Confirmed 1 Deaths 0",
          "MS Zaandam<br>Confirmed 0 Deaths 0",
          "Madagascar<br>Confirmed 0 Deaths 0",
          "Malawi<br>Confirmed 0 Deaths 0",
          "Malaysia<br>Confirmed 25 Deaths 0",
          "Maldives<br>Confirmed 0 Deaths 0",
          "Mali<br>Confirmed 0 Deaths 0",
          "Malta<br>Confirmed 0 Deaths 0",
          "Mauritania<br>Confirmed 0 Deaths 0",
          "Mauritius<br>Confirmed 0 Deaths 0",
          "Mexico<br>Confirmed 4 Deaths 0",
          "Moldova<br>Confirmed 0 Deaths 0",
          "Monaco<br>Confirmed 1 Deaths 0",
          "Mongolia<br>Confirmed 0 Deaths 0",
          "Montenegro<br>Confirmed 0 Deaths 0",
          "Morocco<br>Confirmed 0 Deaths 0",
          "Mozambique<br>Confirmed 0 Deaths 0",
          "Namibia<br>Confirmed 0 Deaths 0",
          "Nepal<br>Confirmed 1 Deaths 0",
          "Netherlands<br>Confirmed 6 Deaths 0",
          "New Zealand<br>Confirmed 1 Deaths 0",
          "Nicaragua<br>Confirmed 0 Deaths 0",
          "Niger<br>Confirmed 0 Deaths 0",
          "Nigeria<br>Confirmed 1 Deaths 0",
          "North Macedonia<br>Confirmed 1 Deaths 0",
          "Norway<br>Confirmed 15 Deaths 0",
          "Oman<br>Confirmed 6 Deaths 0",
          "Pakistan<br>Confirmed 4 Deaths 0",
          "Panama<br>Confirmed 0 Deaths 0",
          "Papua New Guinea<br>Confirmed 0 Deaths 0",
          "Paraguay<br>Confirmed 0 Deaths 0",
          "Peru<br>Confirmed 0 Deaths 0",
          "Philippines<br>Confirmed 3 Deaths 1",
          "Poland<br>Confirmed 0 Deaths 0",
          "Portugal<br>Confirmed 0 Deaths 0",
          "Qatar<br>Confirmed 1 Deaths 0",
          "Romania<br>Confirmed 3 Deaths 0",
          "Russia<br>Confirmed 2 Deaths 0",
          "Rwanda<br>Confirmed 0 Deaths 0",
          "Saint Kitts and Nevis<br>Confirmed 0 Deaths 0",
          "Saint Lucia<br>Confirmed 0 Deaths 0",
          "Saint Vincent and the Grenadines<br>Confirmed 0 Deaths 0",
          "San Marino<br>Confirmed 1 Deaths 0",
          "Sao Tome and Principe<br>Confirmed 0 Deaths 0",
          "Saudi Arabia<br>Confirmed 0 Deaths 0",
          "Senegal<br>Confirmed 0 Deaths 0",
          "Serbia<br>Confirmed 0 Deaths 0",
          "Seychelles<br>Confirmed 0 Deaths 0",
          "Sierra Leone<br>Confirmed 0 Deaths 0",
          "Singapore<br>Confirmed 102 Deaths 0",
          "Slovakia<br>Confirmed 0 Deaths 0",
          "Slovenia<br>Confirmed 0 Deaths 0",
          "Somalia<br>Confirmed 0 Deaths 0",
          "South Africa<br>Confirmed 0 Deaths 0",
          "South Sudan<br>Confirmed 0 Deaths 0",
          "Spain<br>Confirmed 45 Deaths 0",
          "Sri Lanka<br>Confirmed 1 Deaths 0",
          "Sudan<br>Confirmed 0 Deaths 0",
          "Suriname<br>Confirmed 0 Deaths 0",
          "Sweden<br>Confirmed 12 Deaths 0",
          "Switzerland<br>Confirmed 18 Deaths 0",
          "Syria<br>Confirmed 0 Deaths 0",
          "Taiwan*<br>Confirmed 39 Deaths 1",
          "Tanzania<br>Confirmed 0 Deaths 0",
          "Thailand<br>Confirmed 42 Deaths 0",
          "Timor-Leste<br>Confirmed 0 Deaths 0",
          "Togo<br>Confirmed 0 Deaths 0",
          "Trinidad and Tobago<br>Confirmed 0 Deaths 0",
          "Tunisia<br>Confirmed 0 Deaths 0",
          "Turkey<br>Confirmed 0 Deaths 0",
          "US<br>Confirmed 68 Deaths 1",
          "Uganda<br>Confirmed 0 Deaths 0",
          "Ukraine<br>Confirmed 0 Deaths 0",
          "United Arab Emirates<br>Confirmed 21 Deaths 0",
          "United Kingdom<br>Confirmed 23 Deaths 0",
          "Uruguay<br>Confirmed 0 Deaths 0",
          "Uzbekistan<br>Confirmed 0 Deaths 0",
          "Venezuela<br>Confirmed 0 Deaths 0",
          "Vietnam<br>Confirmed 16 Deaths 0",
          "West Bank and Gaza<br>Confirmed 0 Deaths 0",
          "Western Sahara<br>Confirmed 0 Deaths 0",
          "Yemen<br>Confirmed 0 Deaths 0",
          "Zambia<br>Confirmed 0 Deaths 0",
          "Zimbabwe<br>Confirmed 0 Deaths 0"
         ],
         "type": "choropleth",
         "z": [
          "0",
          "0",
          "0",
          "0",
          "0",
          "0",
          "0",
          "0",
          "0",
          "0",
          "0",
          "0",
          "0",
          "0",
          "0",
          "0",
          "0",
          "0",
          "0",
          "0",
          "0",
          "0",
          "0",
          "0",
          "0",
          "0",
          "0",
          "0",
          "0",
          "0",
          "0",
          "0",
          "0",
          "0",
          "0",
          "0",
          "2837",
          "0",
          "0",
          "0",
          "0",
          "0",
          "0",
          "0",
          "0",
          "0",
          "0",
          "6",
          "0",
          "0",
          "0",
          "0",
          "0",
          "0",
          "0",
          "0",
          "0",
          "0",
          "0",
          "0",
          "0",
          "2",
          "0",
          "0",
          "0",
          "0",
          "0",
          "0",
          "0",
          "0",
          "0",
          "0",
          "0",
          "0",
          "0",
          "0",
          "0",
          "0",
          "0",
          "0",
          "43",
          "0",
          "0",
          "0",
          "29",
          "0",
          "5",
          "0",
          "0",
          "0",
          "16",
          "0",
          "0",
          "0",
          "0",
          "0",
          "0",
          "0",
          "0",
          "0",
          "0",
          "0",
          "0",
          "0",
          "0",
          "0",
          "0",
          "0",
          "0",
          "0",
          "0",
          "0",
          "0",
          "0",
          "0",
          "0",
          "0",
          "0",
          "0",
          "0",
          "0",
          "0",
          "0",
          "0",
          "0",
          "0",
          "0",
          "0",
          "0",
          "0",
          "0",
          "0",
          "0",
          "1",
          "0",
          "0",
          "0",
          "0",
          "0",
          "0",
          "0",
          "0",
          "0",
          "0",
          "0",
          "0",
          "0",
          "0",
          "0",
          "0",
          "0",
          "0",
          "0",
          "0",
          "0",
          "0",
          "0",
          "0",
          "0",
          "0",
          "0",
          "0",
          "0",
          "1",
          "0",
          "0",
          "0",
          "0",
          "0",
          "0",
          "0",
          "1",
          "0",
          "0",
          "0",
          "0",
          "0",
          "0",
          "0",
          "0",
          "0",
          "0",
          "0",
          "0",
          "0"
         ]
        }
       ],
       "layout": {
        "geo": {
         "lakecolor": "rgb(85,173,240)",
         "scope": "world",
         "showlakes": true
        },
        "template": {
         "data": {
          "bar": [
           {
            "error_x": {
             "color": "#2a3f5f"
            },
            "error_y": {
             "color": "#2a3f5f"
            },
            "marker": {
             "line": {
              "color": "#E5ECF6",
              "width": 0.5
             }
            },
            "type": "bar"
           }
          ],
          "barpolar": [
           {
            "marker": {
             "line": {
              "color": "#E5ECF6",
              "width": 0.5
             }
            },
            "type": "barpolar"
           }
          ],
          "carpet": [
           {
            "aaxis": {
             "endlinecolor": "#2a3f5f",
             "gridcolor": "white",
             "linecolor": "white",
             "minorgridcolor": "white",
             "startlinecolor": "#2a3f5f"
            },
            "baxis": {
             "endlinecolor": "#2a3f5f",
             "gridcolor": "white",
             "linecolor": "white",
             "minorgridcolor": "white",
             "startlinecolor": "#2a3f5f"
            },
            "type": "carpet"
           }
          ],
          "choropleth": [
           {
            "colorbar": {
             "outlinewidth": 0,
             "ticks": ""
            },
            "type": "choropleth"
           }
          ],
          "contour": [
           {
            "colorbar": {
             "outlinewidth": 0,
             "ticks": ""
            },
            "colorscale": [
             [
              0,
              "#0d0887"
             ],
             [
              0.1111111111111111,
              "#46039f"
             ],
             [
              0.2222222222222222,
              "#7201a8"
             ],
             [
              0.3333333333333333,
              "#9c179e"
             ],
             [
              0.4444444444444444,
              "#bd3786"
             ],
             [
              0.5555555555555556,
              "#d8576b"
             ],
             [
              0.6666666666666666,
              "#ed7953"
             ],
             [
              0.7777777777777778,
              "#fb9f3a"
             ],
             [
              0.8888888888888888,
              "#fdca26"
             ],
             [
              1,
              "#f0f921"
             ]
            ],
            "type": "contour"
           }
          ],
          "contourcarpet": [
           {
            "colorbar": {
             "outlinewidth": 0,
             "ticks": ""
            },
            "type": "contourcarpet"
           }
          ],
          "heatmap": [
           {
            "colorbar": {
             "outlinewidth": 0,
             "ticks": ""
            },
            "colorscale": [
             [
              0,
              "#0d0887"
             ],
             [
              0.1111111111111111,
              "#46039f"
             ],
             [
              0.2222222222222222,
              "#7201a8"
             ],
             [
              0.3333333333333333,
              "#9c179e"
             ],
             [
              0.4444444444444444,
              "#bd3786"
             ],
             [
              0.5555555555555556,
              "#d8576b"
             ],
             [
              0.6666666666666666,
              "#ed7953"
             ],
             [
              0.7777777777777778,
              "#fb9f3a"
             ],
             [
              0.8888888888888888,
              "#fdca26"
             ],
             [
              1,
              "#f0f921"
             ]
            ],
            "type": "heatmap"
           }
          ],
          "heatmapgl": [
           {
            "colorbar": {
             "outlinewidth": 0,
             "ticks": ""
            },
            "colorscale": [
             [
              0,
              "#0d0887"
             ],
             [
              0.1111111111111111,
              "#46039f"
             ],
             [
              0.2222222222222222,
              "#7201a8"
             ],
             [
              0.3333333333333333,
              "#9c179e"
             ],
             [
              0.4444444444444444,
              "#bd3786"
             ],
             [
              0.5555555555555556,
              "#d8576b"
             ],
             [
              0.6666666666666666,
              "#ed7953"
             ],
             [
              0.7777777777777778,
              "#fb9f3a"
             ],
             [
              0.8888888888888888,
              "#fdca26"
             ],
             [
              1,
              "#f0f921"
             ]
            ],
            "type": "heatmapgl"
           }
          ],
          "histogram": [
           {
            "marker": {
             "colorbar": {
              "outlinewidth": 0,
              "ticks": ""
             }
            },
            "type": "histogram"
           }
          ],
          "histogram2d": [
           {
            "colorbar": {
             "outlinewidth": 0,
             "ticks": ""
            },
            "colorscale": [
             [
              0,
              "#0d0887"
             ],
             [
              0.1111111111111111,
              "#46039f"
             ],
             [
              0.2222222222222222,
              "#7201a8"
             ],
             [
              0.3333333333333333,
              "#9c179e"
             ],
             [
              0.4444444444444444,
              "#bd3786"
             ],
             [
              0.5555555555555556,
              "#d8576b"
             ],
             [
              0.6666666666666666,
              "#ed7953"
             ],
             [
              0.7777777777777778,
              "#fb9f3a"
             ],
             [
              0.8888888888888888,
              "#fdca26"
             ],
             [
              1,
              "#f0f921"
             ]
            ],
            "type": "histogram2d"
           }
          ],
          "histogram2dcontour": [
           {
            "colorbar": {
             "outlinewidth": 0,
             "ticks": ""
            },
            "colorscale": [
             [
              0,
              "#0d0887"
             ],
             [
              0.1111111111111111,
              "#46039f"
             ],
             [
              0.2222222222222222,
              "#7201a8"
             ],
             [
              0.3333333333333333,
              "#9c179e"
             ],
             [
              0.4444444444444444,
              "#bd3786"
             ],
             [
              0.5555555555555556,
              "#d8576b"
             ],
             [
              0.6666666666666666,
              "#ed7953"
             ],
             [
              0.7777777777777778,
              "#fb9f3a"
             ],
             [
              0.8888888888888888,
              "#fdca26"
             ],
             [
              1,
              "#f0f921"
             ]
            ],
            "type": "histogram2dcontour"
           }
          ],
          "mesh3d": [
           {
            "colorbar": {
             "outlinewidth": 0,
             "ticks": ""
            },
            "type": "mesh3d"
           }
          ],
          "parcoords": [
           {
            "line": {
             "colorbar": {
              "outlinewidth": 0,
              "ticks": ""
             }
            },
            "type": "parcoords"
           }
          ],
          "pie": [
           {
            "automargin": true,
            "type": "pie"
           }
          ],
          "scatter": [
           {
            "marker": {
             "colorbar": {
              "outlinewidth": 0,
              "ticks": ""
             }
            },
            "type": "scatter"
           }
          ],
          "scatter3d": [
           {
            "line": {
             "colorbar": {
              "outlinewidth": 0,
              "ticks": ""
             }
            },
            "marker": {
             "colorbar": {
              "outlinewidth": 0,
              "ticks": ""
             }
            },
            "type": "scatter3d"
           }
          ],
          "scattercarpet": [
           {
            "marker": {
             "colorbar": {
              "outlinewidth": 0,
              "ticks": ""
             }
            },
            "type": "scattercarpet"
           }
          ],
          "scattergeo": [
           {
            "marker": {
             "colorbar": {
              "outlinewidth": 0,
              "ticks": ""
             }
            },
            "type": "scattergeo"
           }
          ],
          "scattergl": [
           {
            "marker": {
             "colorbar": {
              "outlinewidth": 0,
              "ticks": ""
             }
            },
            "type": "scattergl"
           }
          ],
          "scattermapbox": [
           {
            "marker": {
             "colorbar": {
              "outlinewidth": 0,
              "ticks": ""
             }
            },
            "type": "scattermapbox"
           }
          ],
          "scatterpolar": [
           {
            "marker": {
             "colorbar": {
              "outlinewidth": 0,
              "ticks": ""
             }
            },
            "type": "scatterpolar"
           }
          ],
          "scatterpolargl": [
           {
            "marker": {
             "colorbar": {
              "outlinewidth": 0,
              "ticks": ""
             }
            },
            "type": "scatterpolargl"
           }
          ],
          "scatterternary": [
           {
            "marker": {
             "colorbar": {
              "outlinewidth": 0,
              "ticks": ""
             }
            },
            "type": "scatterternary"
           }
          ],
          "surface": [
           {
            "colorbar": {
             "outlinewidth": 0,
             "ticks": ""
            },
            "colorscale": [
             [
              0,
              "#0d0887"
             ],
             [
              0.1111111111111111,
              "#46039f"
             ],
             [
              0.2222222222222222,
              "#7201a8"
             ],
             [
              0.3333333333333333,
              "#9c179e"
             ],
             [
              0.4444444444444444,
              "#bd3786"
             ],
             [
              0.5555555555555556,
              "#d8576b"
             ],
             [
              0.6666666666666666,
              "#ed7953"
             ],
             [
              0.7777777777777778,
              "#fb9f3a"
             ],
             [
              0.8888888888888888,
              "#fdca26"
             ],
             [
              1,
              "#f0f921"
             ]
            ],
            "type": "surface"
           }
          ],
          "table": [
           {
            "cells": {
             "fill": {
              "color": "#EBF0F8"
             },
             "line": {
              "color": "white"
             }
            },
            "header": {
             "fill": {
              "color": "#C8D4E3"
             },
             "line": {
              "color": "white"
             }
            },
            "type": "table"
           }
          ]
         },
         "layout": {
          "annotationdefaults": {
           "arrowcolor": "#2a3f5f",
           "arrowhead": 0,
           "arrowwidth": 1
          },
          "coloraxis": {
           "colorbar": {
            "outlinewidth": 0,
            "ticks": ""
           }
          },
          "colorscale": {
           "diverging": [
            [
             0,
             "#8e0152"
            ],
            [
             0.1,
             "#c51b7d"
            ],
            [
             0.2,
             "#de77ae"
            ],
            [
             0.3,
             "#f1b6da"
            ],
            [
             0.4,
             "#fde0ef"
            ],
            [
             0.5,
             "#f7f7f7"
            ],
            [
             0.6,
             "#e6f5d0"
            ],
            [
             0.7,
             "#b8e186"
            ],
            [
             0.8,
             "#7fbc41"
            ],
            [
             0.9,
             "#4d9221"
            ],
            [
             1,
             "#276419"
            ]
           ],
           "sequential": [
            [
             0,
             "#0d0887"
            ],
            [
             0.1111111111111111,
             "#46039f"
            ],
            [
             0.2222222222222222,
             "#7201a8"
            ],
            [
             0.3333333333333333,
             "#9c179e"
            ],
            [
             0.4444444444444444,
             "#bd3786"
            ],
            [
             0.5555555555555556,
             "#d8576b"
            ],
            [
             0.6666666666666666,
             "#ed7953"
            ],
            [
             0.7777777777777778,
             "#fb9f3a"
            ],
            [
             0.8888888888888888,
             "#fdca26"
            ],
            [
             1,
             "#f0f921"
            ]
           ],
           "sequentialminus": [
            [
             0,
             "#0d0887"
            ],
            [
             0.1111111111111111,
             "#46039f"
            ],
            [
             0.2222222222222222,
             "#7201a8"
            ],
            [
             0.3333333333333333,
             "#9c179e"
            ],
            [
             0.4444444444444444,
             "#bd3786"
            ],
            [
             0.5555555555555556,
             "#d8576b"
            ],
            [
             0.6666666666666666,
             "#ed7953"
            ],
            [
             0.7777777777777778,
             "#fb9f3a"
            ],
            [
             0.8888888888888888,
             "#fdca26"
            ],
            [
             1,
             "#f0f921"
            ]
           ]
          },
          "colorway": [
           "#636efa",
           "#EF553B",
           "#00cc96",
           "#ab63fa",
           "#FFA15A",
           "#19d3f3",
           "#FF6692",
           "#B6E880",
           "#FF97FF",
           "#FECB52"
          ],
          "font": {
           "color": "#2a3f5f"
          },
          "geo": {
           "bgcolor": "white",
           "lakecolor": "white",
           "landcolor": "#E5ECF6",
           "showlakes": true,
           "showland": true,
           "subunitcolor": "white"
          },
          "hoverlabel": {
           "align": "left"
          },
          "hovermode": "closest",
          "mapbox": {
           "style": "light"
          },
          "paper_bgcolor": "white",
          "plot_bgcolor": "#E5ECF6",
          "polar": {
           "angularaxis": {
            "gridcolor": "white",
            "linecolor": "white",
            "ticks": ""
           },
           "bgcolor": "#E5ECF6",
           "radialaxis": {
            "gridcolor": "white",
            "linecolor": "white",
            "ticks": ""
           }
          },
          "scene": {
           "xaxis": {
            "backgroundcolor": "#E5ECF6",
            "gridcolor": "white",
            "gridwidth": 2,
            "linecolor": "white",
            "showbackground": true,
            "ticks": "",
            "zerolinecolor": "white"
           },
           "yaxis": {
            "backgroundcolor": "#E5ECF6",
            "gridcolor": "white",
            "gridwidth": 2,
            "linecolor": "white",
            "showbackground": true,
            "ticks": "",
            "zerolinecolor": "white"
           },
           "zaxis": {
            "backgroundcolor": "#E5ECF6",
            "gridcolor": "white",
            "gridwidth": 2,
            "linecolor": "white",
            "showbackground": true,
            "ticks": "",
            "zerolinecolor": "white"
           }
          },
          "shapedefaults": {
           "line": {
            "color": "#2a3f5f"
           }
          },
          "ternary": {
           "aaxis": {
            "gridcolor": "white",
            "linecolor": "white",
            "ticks": ""
           },
           "baxis": {
            "gridcolor": "white",
            "linecolor": "white",
            "ticks": ""
           },
           "bgcolor": "#E5ECF6",
           "caxis": {
            "gridcolor": "white",
            "linecolor": "white",
            "ticks": ""
           }
          },
          "title": {
           "x": 0.05
          },
          "xaxis": {
           "automargin": true,
           "gridcolor": "white",
           "linecolor": "white",
           "ticks": "",
           "title": {
            "standoff": 15
           },
           "zerolinecolor": "white",
           "zerolinewidth": 2
          },
          "yaxis": {
           "automargin": true,
           "gridcolor": "white",
           "linecolor": "white",
           "ticks": "",
           "title": {
            "standoff": 15
           },
           "zerolinecolor": "white",
           "zerolinewidth": 2
          }
         }
        },
        "title": {
         "text": "COVID-19 Death Per Country as of Feb 2020"
        }
       }
      },
      "text/html": [
       "<div>\n",
       "        \n",
       "        \n",
       "            <div id=\"63987153-5671-4688-9744-45f67b11100c\" class=\"plotly-graph-div\" style=\"height:525px; width:100%;\"></div>\n",
       "            <script type=\"text/javascript\">\n",
       "                require([\"plotly\"], function(Plotly) {\n",
       "                    window.PLOTLYENV=window.PLOTLYENV || {};\n",
       "                    \n",
       "                if (document.getElementById(\"63987153-5671-4688-9744-45f67b11100c\")) {\n",
       "                    Plotly.newPlot(\n",
       "                        '63987153-5671-4688-9744-45f67b11100c',\n",
       "                        [{\"colorbar\": {\"title\": {\"text\": \"Number of deaths\"}}, \"colorscale\": [[0.0, \"rgb(150,0,90)\"], [0.125, \"rgb(0,0,200)\"], [0.25, \"rgb(0,25,255)\"], [0.375, \"rgb(0,152,255)\"], [0.5, \"rgb(44,255,150)\"], [0.625, \"rgb(151,255,0)\"], [0.75, \"rgb(255,234,0)\"], [0.875, \"rgb(255,111,0)\"], [1.0, \"rgb(255,0,0)\"]], \"locationmode\": \"country names\", \"locations\": [\"Afghanistan\", \"Albania\", \"Algeria\", \"Andorra\", \"Angola\", \"Antigua and Barbuda\", \"Argentina\", \"Armenia\", \"Australia\", \"Austria\", \"Azerbaijan\", \"Bahamas\", \"Bahrain\", \"Bangladesh\", \"Barbados\", \"Belarus\", \"Belgium\", \"Belize\", \"Benin\", \"Bhutan\", \"Bolivia\", \"Bosnia and Herzegovina\", \"Botswana\", \"Brazil\", \"Brunei\", \"Bulgaria\", \"Burkina Faso\", \"Burma\", \"Burundi\", \"Cabo Verde\", \"Cambodia\", \"Cameroon\", \"Canada\", \"Central African Republic\", \"Chad\", \"Chile\", \"China\", \"Colombia\", \"Congo (Brazzaville)\", \"Congo (Kinshasa)\", \"Costa Rica\", \"Cote d'Ivoire\", \"Croatia\", \"Cuba\", \"Cyprus\", \"Czechia\", \"Denmark\", \"Diamond Princess\", \"Djibouti\", \"Dominica\", \"Dominican Republic\", \"Ecuador\", \"Egypt\", \"El Salvador\", \"Equatorial Guinea\", \"Eritrea\", \"Estonia\", \"Eswatini\", \"Ethiopia\", \"Fiji\", \"Finland\", \"France\", \"Gabon\", \"Gambia\", \"Georgia\", \"Germany\", \"Ghana\", \"Greece\", \"Grenada\", \"Guatemala\", \"Guinea\", \"Guinea-Bissau\", \"Guyana\", \"Haiti\", \"Holy See\", \"Honduras\", \"Hungary\", \"Iceland\", \"India\", \"Indonesia\", \"Iran\", \"Iraq\", \"Ireland\", \"Israel\", \"Italy\", \"Jamaica\", \"Japan\", \"Jordan\", \"Kazakhstan\", \"Kenya\", \"Korea, South\", \"Kosovo\", \"Kuwait\", \"Kyrgyzstan\", \"Laos\", \"Latvia\", \"Lebanon\", \"Liberia\", \"Libya\", \"Liechtenstein\", \"Lithuania\", \"Luxembourg\", \"MS Zaandam\", \"Madagascar\", \"Malawi\", \"Malaysia\", \"Maldives\", \"Mali\", \"Malta\", \"Mauritania\", \"Mauritius\", \"Mexico\", \"Moldova\", \"Monaco\", \"Mongolia\", \"Montenegro\", \"Morocco\", \"Mozambique\", \"Namibia\", \"Nepal\", \"Netherlands\", \"New Zealand\", \"Nicaragua\", \"Niger\", \"Nigeria\", \"North Macedonia\", \"Norway\", \"Oman\", \"Pakistan\", \"Panama\", \"Papua New Guinea\", \"Paraguay\", \"Peru\", \"Philippines\", \"Poland\", \"Portugal\", \"Qatar\", \"Romania\", \"Russia\", \"Rwanda\", \"Saint Kitts and Nevis\", \"Saint Lucia\", \"Saint Vincent and the Grenadines\", \"San Marino\", \"Sao Tome and Principe\", \"Saudi Arabia\", \"Senegal\", \"Serbia\", \"Seychelles\", \"Sierra Leone\", \"Singapore\", \"Slovakia\", \"Slovenia\", \"Somalia\", \"South Africa\", \"South Sudan\", \"Spain\", \"Sri Lanka\", \"Sudan\", \"Suriname\", \"Sweden\", \"Switzerland\", \"Syria\", \"Taiwan*\", \"Tanzania\", \"Thailand\", \"Timor-Leste\", \"Togo\", \"Trinidad and Tobago\", \"Tunisia\", \"Turkey\", \"US\", \"Uganda\", \"Ukraine\", \"United Arab Emirates\", \"United Kingdom\", \"Uruguay\", \"Uzbekistan\", \"Venezuela\", \"Vietnam\", \"West Bank and Gaza\", \"Western Sahara\", \"Yemen\", \"Zambia\", \"Zimbabwe\"], \"marker\": {\"line\": {\"color\": \"rgb(0,0,0)\", \"width\": 0.8}}, \"text\": [\"Afghanistan<br>Confirmed 1 Deaths 0\", \"Albania<br>Confirmed 0 Deaths 0\", \"Algeria<br>Confirmed 1 Deaths 0\", \"Andorra<br>Confirmed 0 Deaths 0\", \"Angola<br>Confirmed 0 Deaths 0\", \"Antigua and Barbuda<br>Confirmed 0 Deaths 0\", \"Argentina<br>Confirmed 0 Deaths 0\", \"Armenia<br>Confirmed 0 Deaths 0\", \"Australia<br>Confirmed 25 Deaths 0\", \"Austria<br>Confirmed 9 Deaths 0\", \"Azerbaijan<br>Confirmed 0 Deaths 0\", \"Bahamas<br>Confirmed 0 Deaths 0\", \"Bahrain<br>Confirmed 41 Deaths 0\", \"Bangladesh<br>Confirmed 0 Deaths 0\", \"Barbados<br>Confirmed 0 Deaths 0\", \"Belarus<br>Confirmed 1 Deaths 0\", \"Belgium<br>Confirmed 1 Deaths 0\", \"Belize<br>Confirmed 0 Deaths 0\", \"Benin<br>Confirmed 0 Deaths 0\", \"Bhutan<br>Confirmed 0 Deaths 0\", \"Bolivia<br>Confirmed 0 Deaths 0\", \"Bosnia and Herzegovina<br>Confirmed 0 Deaths 0\", \"Botswana<br>Confirmed 0 Deaths 0\", \"Brazil<br>Confirmed 2 Deaths 0\", \"Brunei<br>Confirmed 0 Deaths 0\", \"Bulgaria<br>Confirmed 0 Deaths 0\", \"Burkina Faso<br>Confirmed 0 Deaths 0\", \"Burma<br>Confirmed 0 Deaths 0\", \"Burundi<br>Confirmed 0 Deaths 0\", \"Cabo Verde<br>Confirmed 0 Deaths 0\", \"Cambodia<br>Confirmed 1 Deaths 0\", \"Cameroon<br>Confirmed 0 Deaths 0\", \"Canada<br>Confirmed 20 Deaths 0\", \"Central African Republic<br>Confirmed 0 Deaths 0\", \"Chad<br>Confirmed 0 Deaths 0\", \"Chile<br>Confirmed 0 Deaths 0\", \"China<br>Confirmed 79356 Deaths 2837\", \"Colombia<br>Confirmed 0 Deaths 0\", \"Congo (Brazzaville)<br>Confirmed 0 Deaths 0\", \"Congo (Kinshasa)<br>Confirmed 0 Deaths 0\", \"Costa Rica<br>Confirmed 0 Deaths 0\", \"Cote d'Ivoire<br>Confirmed 0 Deaths 0\", \"Croatia<br>Confirmed 6 Deaths 0\", \"Cuba<br>Confirmed 0 Deaths 0\", \"Cyprus<br>Confirmed 0 Deaths 0\", \"Czechia<br>Confirmed 0 Deaths 0\", \"Denmark<br>Confirmed 3 Deaths 0\", \"Diamond Princess<br>Confirmed 705 Deaths 6\", \"Djibouti<br>Confirmed 0 Deaths 0\", \"Dominica<br>Confirmed 0 Deaths 0\", \"Dominican Republic<br>Confirmed 0 Deaths 0\", \"Ecuador<br>Confirmed 0 Deaths 0\", \"Egypt<br>Confirmed 1 Deaths 0\", \"El Salvador<br>Confirmed 0 Deaths 0\", \"Equatorial Guinea<br>Confirmed 0 Deaths 0\", \"Eritrea<br>Confirmed 0 Deaths 0\", \"Estonia<br>Confirmed 1 Deaths 0\", \"Eswatini<br>Confirmed 0 Deaths 0\", \"Ethiopia<br>Confirmed 0 Deaths 0\", \"Fiji<br>Confirmed 0 Deaths 0\", \"Finland<br>Confirmed 3 Deaths 0\", \"France<br>Confirmed 100 Deaths 2\", \"Gabon<br>Confirmed 0 Deaths 0\", \"Gambia<br>Confirmed 0 Deaths 0\", \"Georgia<br>Confirmed 1 Deaths 0\", \"Germany<br>Confirmed 79 Deaths 0\", \"Ghana<br>Confirmed 0 Deaths 0\", \"Greece<br>Confirmed 4 Deaths 0\", \"Grenada<br>Confirmed 0 Deaths 0\", \"Guatemala<br>Confirmed 0 Deaths 0\", \"Guinea<br>Confirmed 0 Deaths 0\", \"Guinea-Bissau<br>Confirmed 0 Deaths 0\", \"Guyana<br>Confirmed 0 Deaths 0\", \"Haiti<br>Confirmed 0 Deaths 0\", \"Holy See<br>Confirmed 0 Deaths 0\", \"Honduras<br>Confirmed 0 Deaths 0\", \"Hungary<br>Confirmed 0 Deaths 0\", \"Iceland<br>Confirmed 1 Deaths 0\", \"India<br>Confirmed 3 Deaths 0\", \"Indonesia<br>Confirmed 0 Deaths 0\", \"Iran<br>Confirmed 593 Deaths 43\", \"Iraq<br>Confirmed 13 Deaths 0\", \"Ireland<br>Confirmed 1 Deaths 0\", \"Israel<br>Confirmed 7 Deaths 0\", \"Italy<br>Confirmed 1128 Deaths 29\", \"Jamaica<br>Confirmed 0 Deaths 0\", \"Japan<br>Confirmed 241 Deaths 5\", \"Jordan<br>Confirmed 0 Deaths 0\", \"Kazakhstan<br>Confirmed 0 Deaths 0\", \"Kenya<br>Confirmed 0 Deaths 0\", \"Korea, South<br>Confirmed 3150 Deaths 16\", \"Kosovo<br>Confirmed 0 Deaths 0\", \"Kuwait<br>Confirmed 45 Deaths 0\", \"Kyrgyzstan<br>Confirmed 0 Deaths 0\", \"Laos<br>Confirmed 0 Deaths 0\", \"Latvia<br>Confirmed 0 Deaths 0\", \"Lebanon<br>Confirmed 4 Deaths 0\", \"Liberia<br>Confirmed 0 Deaths 0\", \"Libya<br>Confirmed 0 Deaths 0\", \"Liechtenstein<br>Confirmed 0 Deaths 0\", \"Lithuania<br>Confirmed 1 Deaths 0\", \"Luxembourg<br>Confirmed 1 Deaths 0\", \"MS Zaandam<br>Confirmed 0 Deaths 0\", \"Madagascar<br>Confirmed 0 Deaths 0\", \"Malawi<br>Confirmed 0 Deaths 0\", \"Malaysia<br>Confirmed 25 Deaths 0\", \"Maldives<br>Confirmed 0 Deaths 0\", \"Mali<br>Confirmed 0 Deaths 0\", \"Malta<br>Confirmed 0 Deaths 0\", \"Mauritania<br>Confirmed 0 Deaths 0\", \"Mauritius<br>Confirmed 0 Deaths 0\", \"Mexico<br>Confirmed 4 Deaths 0\", \"Moldova<br>Confirmed 0 Deaths 0\", \"Monaco<br>Confirmed 1 Deaths 0\", \"Mongolia<br>Confirmed 0 Deaths 0\", \"Montenegro<br>Confirmed 0 Deaths 0\", \"Morocco<br>Confirmed 0 Deaths 0\", \"Mozambique<br>Confirmed 0 Deaths 0\", \"Namibia<br>Confirmed 0 Deaths 0\", \"Nepal<br>Confirmed 1 Deaths 0\", \"Netherlands<br>Confirmed 6 Deaths 0\", \"New Zealand<br>Confirmed 1 Deaths 0\", \"Nicaragua<br>Confirmed 0 Deaths 0\", \"Niger<br>Confirmed 0 Deaths 0\", \"Nigeria<br>Confirmed 1 Deaths 0\", \"North Macedonia<br>Confirmed 1 Deaths 0\", \"Norway<br>Confirmed 15 Deaths 0\", \"Oman<br>Confirmed 6 Deaths 0\", \"Pakistan<br>Confirmed 4 Deaths 0\", \"Panama<br>Confirmed 0 Deaths 0\", \"Papua New Guinea<br>Confirmed 0 Deaths 0\", \"Paraguay<br>Confirmed 0 Deaths 0\", \"Peru<br>Confirmed 0 Deaths 0\", \"Philippines<br>Confirmed 3 Deaths 1\", \"Poland<br>Confirmed 0 Deaths 0\", \"Portugal<br>Confirmed 0 Deaths 0\", \"Qatar<br>Confirmed 1 Deaths 0\", \"Romania<br>Confirmed 3 Deaths 0\", \"Russia<br>Confirmed 2 Deaths 0\", \"Rwanda<br>Confirmed 0 Deaths 0\", \"Saint Kitts and Nevis<br>Confirmed 0 Deaths 0\", \"Saint Lucia<br>Confirmed 0 Deaths 0\", \"Saint Vincent and the Grenadines<br>Confirmed 0 Deaths 0\", \"San Marino<br>Confirmed 1 Deaths 0\", \"Sao Tome and Principe<br>Confirmed 0 Deaths 0\", \"Saudi Arabia<br>Confirmed 0 Deaths 0\", \"Senegal<br>Confirmed 0 Deaths 0\", \"Serbia<br>Confirmed 0 Deaths 0\", \"Seychelles<br>Confirmed 0 Deaths 0\", \"Sierra Leone<br>Confirmed 0 Deaths 0\", \"Singapore<br>Confirmed 102 Deaths 0\", \"Slovakia<br>Confirmed 0 Deaths 0\", \"Slovenia<br>Confirmed 0 Deaths 0\", \"Somalia<br>Confirmed 0 Deaths 0\", \"South Africa<br>Confirmed 0 Deaths 0\", \"South Sudan<br>Confirmed 0 Deaths 0\", \"Spain<br>Confirmed 45 Deaths 0\", \"Sri Lanka<br>Confirmed 1 Deaths 0\", \"Sudan<br>Confirmed 0 Deaths 0\", \"Suriname<br>Confirmed 0 Deaths 0\", \"Sweden<br>Confirmed 12 Deaths 0\", \"Switzerland<br>Confirmed 18 Deaths 0\", \"Syria<br>Confirmed 0 Deaths 0\", \"Taiwan*<br>Confirmed 39 Deaths 1\", \"Tanzania<br>Confirmed 0 Deaths 0\", \"Thailand<br>Confirmed 42 Deaths 0\", \"Timor-Leste<br>Confirmed 0 Deaths 0\", \"Togo<br>Confirmed 0 Deaths 0\", \"Trinidad and Tobago<br>Confirmed 0 Deaths 0\", \"Tunisia<br>Confirmed 0 Deaths 0\", \"Turkey<br>Confirmed 0 Deaths 0\", \"US<br>Confirmed 68 Deaths 1\", \"Uganda<br>Confirmed 0 Deaths 0\", \"Ukraine<br>Confirmed 0 Deaths 0\", \"United Arab Emirates<br>Confirmed 21 Deaths 0\", \"United Kingdom<br>Confirmed 23 Deaths 0\", \"Uruguay<br>Confirmed 0 Deaths 0\", \"Uzbekistan<br>Confirmed 0 Deaths 0\", \"Venezuela<br>Confirmed 0 Deaths 0\", \"Vietnam<br>Confirmed 16 Deaths 0\", \"West Bank and Gaza<br>Confirmed 0 Deaths 0\", \"Western Sahara<br>Confirmed 0 Deaths 0\", \"Yemen<br>Confirmed 0 Deaths 0\", \"Zambia<br>Confirmed 0 Deaths 0\", \"Zimbabwe<br>Confirmed 0 Deaths 0\"], \"type\": \"choropleth\", \"z\": [\"0\", \"0\", \"0\", \"0\", \"0\", \"0\", \"0\", \"0\", \"0\", \"0\", \"0\", \"0\", \"0\", \"0\", \"0\", \"0\", \"0\", \"0\", \"0\", \"0\", \"0\", \"0\", \"0\", \"0\", \"0\", \"0\", \"0\", \"0\", \"0\", \"0\", \"0\", \"0\", \"0\", \"0\", \"0\", \"0\", \"2837\", \"0\", \"0\", \"0\", \"0\", \"0\", \"0\", \"0\", \"0\", \"0\", \"0\", \"6\", \"0\", \"0\", \"0\", \"0\", \"0\", \"0\", \"0\", \"0\", \"0\", \"0\", \"0\", \"0\", \"0\", \"2\", \"0\", \"0\", \"0\", \"0\", \"0\", \"0\", \"0\", \"0\", \"0\", \"0\", \"0\", \"0\", \"0\", \"0\", \"0\", \"0\", \"0\", \"0\", \"43\", \"0\", \"0\", \"0\", \"29\", \"0\", \"5\", \"0\", \"0\", \"0\", \"16\", \"0\", \"0\", \"0\", \"0\", \"0\", \"0\", \"0\", \"0\", \"0\", \"0\", \"0\", \"0\", \"0\", \"0\", \"0\", \"0\", \"0\", \"0\", \"0\", \"0\", \"0\", \"0\", \"0\", \"0\", \"0\", \"0\", \"0\", \"0\", \"0\", \"0\", \"0\", \"0\", \"0\", \"0\", \"0\", \"0\", \"0\", \"0\", \"0\", \"0\", \"0\", \"0\", \"1\", \"0\", \"0\", \"0\", \"0\", \"0\", \"0\", \"0\", \"0\", \"0\", \"0\", \"0\", \"0\", \"0\", \"0\", \"0\", \"0\", \"0\", \"0\", \"0\", \"0\", \"0\", \"0\", \"0\", \"0\", \"0\", \"0\", \"0\", \"0\", \"0\", \"1\", \"0\", \"0\", \"0\", \"0\", \"0\", \"0\", \"0\", \"1\", \"0\", \"0\", \"0\", \"0\", \"0\", \"0\", \"0\", \"0\", \"0\", \"0\", \"0\", \"0\", \"0\"]}],\n",
       "                        {\"geo\": {\"lakecolor\": \"rgb(85,173,240)\", \"scope\": \"world\", \"showlakes\": true}, \"template\": {\"data\": {\"bar\": [{\"error_x\": {\"color\": \"#2a3f5f\"}, \"error_y\": {\"color\": \"#2a3f5f\"}, \"marker\": {\"line\": {\"color\": \"#E5ECF6\", \"width\": 0.5}}, \"type\": \"bar\"}], \"barpolar\": [{\"marker\": {\"line\": {\"color\": \"#E5ECF6\", \"width\": 0.5}}, \"type\": \"barpolar\"}], \"carpet\": [{\"aaxis\": {\"endlinecolor\": \"#2a3f5f\", \"gridcolor\": \"white\", \"linecolor\": \"white\", \"minorgridcolor\": \"white\", \"startlinecolor\": \"#2a3f5f\"}, \"baxis\": {\"endlinecolor\": \"#2a3f5f\", \"gridcolor\": \"white\", \"linecolor\": \"white\", \"minorgridcolor\": \"white\", \"startlinecolor\": \"#2a3f5f\"}, \"type\": \"carpet\"}], \"choropleth\": [{\"colorbar\": {\"outlinewidth\": 0, \"ticks\": \"\"}, \"type\": \"choropleth\"}], \"contour\": [{\"colorbar\": {\"outlinewidth\": 0, \"ticks\": \"\"}, \"colorscale\": [[0.0, \"#0d0887\"], [0.1111111111111111, \"#46039f\"], [0.2222222222222222, \"#7201a8\"], [0.3333333333333333, \"#9c179e\"], [0.4444444444444444, \"#bd3786\"], [0.5555555555555556, \"#d8576b\"], [0.6666666666666666, \"#ed7953\"], [0.7777777777777778, \"#fb9f3a\"], [0.8888888888888888, \"#fdca26\"], [1.0, \"#f0f921\"]], \"type\": \"contour\"}], \"contourcarpet\": [{\"colorbar\": {\"outlinewidth\": 0, \"ticks\": \"\"}, \"type\": \"contourcarpet\"}], \"heatmap\": [{\"colorbar\": {\"outlinewidth\": 0, \"ticks\": \"\"}, \"colorscale\": [[0.0, \"#0d0887\"], [0.1111111111111111, \"#46039f\"], [0.2222222222222222, \"#7201a8\"], [0.3333333333333333, \"#9c179e\"], [0.4444444444444444, \"#bd3786\"], [0.5555555555555556, \"#d8576b\"], [0.6666666666666666, \"#ed7953\"], [0.7777777777777778, \"#fb9f3a\"], [0.8888888888888888, \"#fdca26\"], [1.0, \"#f0f921\"]], \"type\": \"heatmap\"}], \"heatmapgl\": [{\"colorbar\": {\"outlinewidth\": 0, \"ticks\": \"\"}, \"colorscale\": [[0.0, \"#0d0887\"], [0.1111111111111111, \"#46039f\"], [0.2222222222222222, \"#7201a8\"], [0.3333333333333333, \"#9c179e\"], [0.4444444444444444, \"#bd3786\"], [0.5555555555555556, \"#d8576b\"], [0.6666666666666666, \"#ed7953\"], [0.7777777777777778, \"#fb9f3a\"], [0.8888888888888888, \"#fdca26\"], [1.0, \"#f0f921\"]], \"type\": \"heatmapgl\"}], \"histogram\": [{\"marker\": {\"colorbar\": {\"outlinewidth\": 0, \"ticks\": \"\"}}, \"type\": \"histogram\"}], \"histogram2d\": [{\"colorbar\": {\"outlinewidth\": 0, \"ticks\": \"\"}, \"colorscale\": [[0.0, \"#0d0887\"], [0.1111111111111111, \"#46039f\"], [0.2222222222222222, \"#7201a8\"], [0.3333333333333333, \"#9c179e\"], [0.4444444444444444, \"#bd3786\"], [0.5555555555555556, \"#d8576b\"], [0.6666666666666666, \"#ed7953\"], [0.7777777777777778, \"#fb9f3a\"], [0.8888888888888888, \"#fdca26\"], [1.0, \"#f0f921\"]], \"type\": \"histogram2d\"}], \"histogram2dcontour\": [{\"colorbar\": {\"outlinewidth\": 0, \"ticks\": \"\"}, \"colorscale\": [[0.0, \"#0d0887\"], [0.1111111111111111, \"#46039f\"], [0.2222222222222222, \"#7201a8\"], [0.3333333333333333, \"#9c179e\"], [0.4444444444444444, \"#bd3786\"], [0.5555555555555556, \"#d8576b\"], [0.6666666666666666, \"#ed7953\"], [0.7777777777777778, \"#fb9f3a\"], [0.8888888888888888, \"#fdca26\"], [1.0, \"#f0f921\"]], \"type\": \"histogram2dcontour\"}], \"mesh3d\": [{\"colorbar\": {\"outlinewidth\": 0, \"ticks\": \"\"}, \"type\": \"mesh3d\"}], \"parcoords\": [{\"line\": {\"colorbar\": {\"outlinewidth\": 0, \"ticks\": \"\"}}, \"type\": \"parcoords\"}], \"pie\": [{\"automargin\": true, \"type\": \"pie\"}], \"scatter\": [{\"marker\": {\"colorbar\": {\"outlinewidth\": 0, \"ticks\": \"\"}}, \"type\": \"scatter\"}], \"scatter3d\": [{\"line\": {\"colorbar\": {\"outlinewidth\": 0, \"ticks\": \"\"}}, \"marker\": {\"colorbar\": {\"outlinewidth\": 0, \"ticks\": \"\"}}, \"type\": \"scatter3d\"}], \"scattercarpet\": [{\"marker\": {\"colorbar\": {\"outlinewidth\": 0, \"ticks\": \"\"}}, \"type\": \"scattercarpet\"}], \"scattergeo\": [{\"marker\": {\"colorbar\": {\"outlinewidth\": 0, \"ticks\": \"\"}}, \"type\": \"scattergeo\"}], \"scattergl\": [{\"marker\": {\"colorbar\": {\"outlinewidth\": 0, \"ticks\": \"\"}}, \"type\": \"scattergl\"}], \"scattermapbox\": [{\"marker\": {\"colorbar\": {\"outlinewidth\": 0, \"ticks\": \"\"}}, \"type\": \"scattermapbox\"}], \"scatterpolar\": [{\"marker\": {\"colorbar\": {\"outlinewidth\": 0, \"ticks\": \"\"}}, \"type\": \"scatterpolar\"}], \"scatterpolargl\": [{\"marker\": {\"colorbar\": {\"outlinewidth\": 0, \"ticks\": \"\"}}, \"type\": \"scatterpolargl\"}], \"scatterternary\": [{\"marker\": {\"colorbar\": {\"outlinewidth\": 0, \"ticks\": \"\"}}, \"type\": \"scatterternary\"}], \"surface\": [{\"colorbar\": {\"outlinewidth\": 0, \"ticks\": \"\"}, \"colorscale\": [[0.0, \"#0d0887\"], [0.1111111111111111, \"#46039f\"], [0.2222222222222222, \"#7201a8\"], [0.3333333333333333, \"#9c179e\"], [0.4444444444444444, \"#bd3786\"], [0.5555555555555556, \"#d8576b\"], [0.6666666666666666, \"#ed7953\"], [0.7777777777777778, \"#fb9f3a\"], [0.8888888888888888, \"#fdca26\"], [1.0, \"#f0f921\"]], \"type\": \"surface\"}], \"table\": [{\"cells\": {\"fill\": {\"color\": \"#EBF0F8\"}, \"line\": {\"color\": \"white\"}}, \"header\": {\"fill\": {\"color\": \"#C8D4E3\"}, \"line\": {\"color\": \"white\"}}, \"type\": \"table\"}]}, \"layout\": {\"annotationdefaults\": {\"arrowcolor\": \"#2a3f5f\", \"arrowhead\": 0, \"arrowwidth\": 1}, \"coloraxis\": {\"colorbar\": {\"outlinewidth\": 0, \"ticks\": \"\"}}, \"colorscale\": {\"diverging\": [[0, \"#8e0152\"], [0.1, \"#c51b7d\"], [0.2, \"#de77ae\"], [0.3, \"#f1b6da\"], [0.4, \"#fde0ef\"], [0.5, \"#f7f7f7\"], [0.6, \"#e6f5d0\"], [0.7, \"#b8e186\"], [0.8, \"#7fbc41\"], [0.9, \"#4d9221\"], [1, \"#276419\"]], \"sequential\": [[0.0, \"#0d0887\"], [0.1111111111111111, \"#46039f\"], [0.2222222222222222, \"#7201a8\"], [0.3333333333333333, \"#9c179e\"], [0.4444444444444444, \"#bd3786\"], [0.5555555555555556, \"#d8576b\"], [0.6666666666666666, \"#ed7953\"], [0.7777777777777778, \"#fb9f3a\"], [0.8888888888888888, \"#fdca26\"], [1.0, \"#f0f921\"]], \"sequentialminus\": [[0.0, \"#0d0887\"], [0.1111111111111111, \"#46039f\"], [0.2222222222222222, \"#7201a8\"], [0.3333333333333333, \"#9c179e\"], [0.4444444444444444, \"#bd3786\"], [0.5555555555555556, \"#d8576b\"], [0.6666666666666666, \"#ed7953\"], [0.7777777777777778, \"#fb9f3a\"], [0.8888888888888888, \"#fdca26\"], [1.0, \"#f0f921\"]]}, \"colorway\": [\"#636efa\", \"#EF553B\", \"#00cc96\", \"#ab63fa\", \"#FFA15A\", \"#19d3f3\", \"#FF6692\", \"#B6E880\", \"#FF97FF\", \"#FECB52\"], \"font\": {\"color\": \"#2a3f5f\"}, \"geo\": {\"bgcolor\": \"white\", \"lakecolor\": \"white\", \"landcolor\": \"#E5ECF6\", \"showlakes\": true, \"showland\": true, \"subunitcolor\": \"white\"}, \"hoverlabel\": {\"align\": \"left\"}, \"hovermode\": \"closest\", \"mapbox\": {\"style\": \"light\"}, \"paper_bgcolor\": \"white\", \"plot_bgcolor\": \"#E5ECF6\", \"polar\": {\"angularaxis\": {\"gridcolor\": \"white\", \"linecolor\": \"white\", \"ticks\": \"\"}, \"bgcolor\": \"#E5ECF6\", \"radialaxis\": {\"gridcolor\": \"white\", \"linecolor\": \"white\", \"ticks\": \"\"}}, \"scene\": {\"xaxis\": {\"backgroundcolor\": \"#E5ECF6\", \"gridcolor\": \"white\", \"gridwidth\": 2, \"linecolor\": \"white\", \"showbackground\": true, \"ticks\": \"\", \"zerolinecolor\": \"white\"}, \"yaxis\": {\"backgroundcolor\": \"#E5ECF6\", \"gridcolor\": \"white\", \"gridwidth\": 2, \"linecolor\": \"white\", \"showbackground\": true, \"ticks\": \"\", \"zerolinecolor\": \"white\"}, \"zaxis\": {\"backgroundcolor\": \"#E5ECF6\", \"gridcolor\": \"white\", \"gridwidth\": 2, \"linecolor\": \"white\", \"showbackground\": true, \"ticks\": \"\", \"zerolinecolor\": \"white\"}}, \"shapedefaults\": {\"line\": {\"color\": \"#2a3f5f\"}}, \"ternary\": {\"aaxis\": {\"gridcolor\": \"white\", \"linecolor\": \"white\", \"ticks\": \"\"}, \"baxis\": {\"gridcolor\": \"white\", \"linecolor\": \"white\", \"ticks\": \"\"}, \"bgcolor\": \"#E5ECF6\", \"caxis\": {\"gridcolor\": \"white\", \"linecolor\": \"white\", \"ticks\": \"\"}}, \"title\": {\"x\": 0.05}, \"xaxis\": {\"automargin\": true, \"gridcolor\": \"white\", \"linecolor\": \"white\", \"ticks\": \"\", \"title\": {\"standoff\": 15}, \"zerolinecolor\": \"white\", \"zerolinewidth\": 2}, \"yaxis\": {\"automargin\": true, \"gridcolor\": \"white\", \"linecolor\": \"white\", \"ticks\": \"\", \"title\": {\"standoff\": 15}, \"zerolinecolor\": \"white\", \"zerolinewidth\": 2}}}, \"title\": {\"text\": \"COVID-19 Death Per Country as of Feb 2020\"}},\n",
       "                        {\"responsive\": true}\n",
       "                    ).then(function(){\n",
       "                            \n",
       "var gd = document.getElementById('63987153-5671-4688-9744-45f67b11100c');\n",
       "var x = new MutationObserver(function (mutations, observer) {{\n",
       "        var display = window.getComputedStyle(gd).display;\n",
       "        if (!display || display === 'none') {{\n",
       "            console.log([gd, 'removed!']);\n",
       "            Plotly.purge(gd);\n",
       "            observer.disconnect();\n",
       "        }}\n",
       "}});\n",
       "\n",
       "// Listen for the removal of the full notebook cells\n",
       "var notebookContainer = gd.closest('#notebook-container');\n",
       "if (notebookContainer) {{\n",
       "    x.observe(notebookContainer, {childList: true});\n",
       "}}\n",
       "\n",
       "// Listen for the clearing of the current output cell\n",
       "var outputEl = gd.closest('.output');\n",
       "if (outputEl) {{\n",
       "    x.observe(outputEl, {childList: true});\n",
       "}}\n",
       "\n",
       "                        })\n",
       "                };\n",
       "                });\n",
       "            </script>\n",
       "        </div>"
      ]
     },
     "metadata": {},
     "output_type": "display_data"
    }
   ],
   "source": [
    "iplot(map_feb)"
   ]
  },
  {
   "cell_type": "markdown",
   "metadata": {},
   "source": [
    "![February](https://user-images.githubusercontent.com/61140859/79191077-fb308a80-7e4f-11ea-9d03-36a9a568d521.PNG)"
   ]
  },
  {
   "cell_type": "code",
   "execution_count": 170,
   "metadata": {},
   "outputs": [
    {
     "data": {
      "application/vnd.plotly.v1+json": {
       "config": {
        "linkText": "Export to plot.ly",
        "plotlyServerURL": "https://plot.ly",
        "showLink": false
       },
       "data": [
        {
         "colorbar": {
          "title": {
           "text": "Number of deaths"
          }
         },
         "colorscale": [
          [
           0,
           "rgb(150,0,90)"
          ],
          [
           0.125,
           "rgb(0,0,200)"
          ],
          [
           0.25,
           "rgb(0,25,255)"
          ],
          [
           0.375,
           "rgb(0,152,255)"
          ],
          [
           0.5,
           "rgb(44,255,150)"
          ],
          [
           0.625,
           "rgb(151,255,0)"
          ],
          [
           0.75,
           "rgb(255,234,0)"
          ],
          [
           0.875,
           "rgb(255,111,0)"
          ],
          [
           1,
           "rgb(255,0,0)"
          ]
         ],
         "locationmode": "country names",
         "locations": [
          "Afghanistan",
          "Albania",
          "Algeria",
          "Andorra",
          "Angola",
          "Antigua and Barbuda",
          "Argentina",
          "Armenia",
          "Australia",
          "Austria",
          "Azerbaijan",
          "Bahamas",
          "Bahrain",
          "Bangladesh",
          "Barbados",
          "Belarus",
          "Belgium",
          "Belize",
          "Benin",
          "Bhutan",
          "Bolivia",
          "Bosnia and Herzegovina",
          "Botswana",
          "Brazil",
          "Brunei",
          "Bulgaria",
          "Burkina Faso",
          "Burma",
          "Burundi",
          "Cabo Verde",
          "Cambodia",
          "Cameroon",
          "Canada",
          "Central African Republic",
          "Chad",
          "Chile",
          "China",
          "Colombia",
          "Congo (Brazzaville)",
          "Congo (Kinshasa)",
          "Costa Rica",
          "Cote d'Ivoire",
          "Croatia",
          "Cuba",
          "Cyprus",
          "Czechia",
          "Denmark",
          "Diamond Princess",
          "Djibouti",
          "Dominica",
          "Dominican Republic",
          "Ecuador",
          "Egypt",
          "El Salvador",
          "Equatorial Guinea",
          "Eritrea",
          "Estonia",
          "Eswatini",
          "Ethiopia",
          "Fiji",
          "Finland",
          "France",
          "Gabon",
          "Gambia",
          "Georgia",
          "Germany",
          "Ghana",
          "Greece",
          "Grenada",
          "Guatemala",
          "Guinea",
          "Guinea-Bissau",
          "Guyana",
          "Haiti",
          "Holy See",
          "Honduras",
          "Hungary",
          "Iceland",
          "India",
          "Indonesia",
          "Iran",
          "Iraq",
          "Ireland",
          "Israel",
          "Italy",
          "Jamaica",
          "Japan",
          "Jordan",
          "Kazakhstan",
          "Kenya",
          "Korea, South",
          "Kosovo",
          "Kuwait",
          "Kyrgyzstan",
          "Laos",
          "Latvia",
          "Lebanon",
          "Liberia",
          "Libya",
          "Liechtenstein",
          "Lithuania",
          "Luxembourg",
          "MS Zaandam",
          "Madagascar",
          "Malawi",
          "Malaysia",
          "Maldives",
          "Mali",
          "Malta",
          "Mauritania",
          "Mauritius",
          "Mexico",
          "Moldova",
          "Monaco",
          "Mongolia",
          "Montenegro",
          "Morocco",
          "Mozambique",
          "Namibia",
          "Nepal",
          "Netherlands",
          "New Zealand",
          "Nicaragua",
          "Niger",
          "Nigeria",
          "North Macedonia",
          "Norway",
          "Oman",
          "Pakistan",
          "Panama",
          "Papua New Guinea",
          "Paraguay",
          "Peru",
          "Philippines",
          "Poland",
          "Portugal",
          "Qatar",
          "Romania",
          "Russia",
          "Rwanda",
          "Saint Kitts and Nevis",
          "Saint Lucia",
          "Saint Vincent and the Grenadines",
          "San Marino",
          "Sao Tome and Principe",
          "Saudi Arabia",
          "Senegal",
          "Serbia",
          "Seychelles",
          "Sierra Leone",
          "Singapore",
          "Slovakia",
          "Slovenia",
          "Somalia",
          "South Africa",
          "South Sudan",
          "Spain",
          "Sri Lanka",
          "Sudan",
          "Suriname",
          "Sweden",
          "Switzerland",
          "Syria",
          "Taiwan*",
          "Tanzania",
          "Thailand",
          "Timor-Leste",
          "Togo",
          "Trinidad and Tobago",
          "Tunisia",
          "Turkey",
          "US",
          "Uganda",
          "Ukraine",
          "United Arab Emirates",
          "United Kingdom",
          "Uruguay",
          "Uzbekistan",
          "Venezuela",
          "Vietnam",
          "West Bank and Gaza",
          "Western Sahara",
          "Yemen",
          "Zambia",
          "Zimbabwe"
         ],
         "marker": {
          "line": {
           "color": "rgb(0,0,0)",
           "width": 0.8
          }
         },
         "text": [
          "Afghanistan<br>Confirmed 174 Deaths 4",
          "Albania<br>Confirmed 243 Deaths 15",
          "Algeria<br>Confirmed 716 Deaths 44",
          "Andorra<br>Confirmed 376 Deaths 12",
          "Angola<br>Confirmed 7 Deaths 2",
          "Antigua and Barbuda<br>Confirmed 7 Deaths 0",
          "Argentina<br>Confirmed 1054 Deaths 27",
          "Armenia<br>Confirmed 532 Deaths 3",
          "Australia<br>Confirmed 4559 Deaths 18",
          "Austria<br>Confirmed 10180 Deaths 128",
          "Azerbaijan<br>Confirmed 298 Deaths 5",
          "Bahamas<br>Confirmed 14 Deaths 0",
          "Bahrain<br>Confirmed 567 Deaths 4",
          "Bangladesh<br>Confirmed 51 Deaths 5",
          "Barbados<br>Confirmed 34 Deaths 0",
          "Belarus<br>Confirmed 152 Deaths 1",
          "Belgium<br>Confirmed 12775 Deaths 705",
          "Belize<br>Confirmed 3 Deaths 0",
          "Benin<br>Confirmed 9 Deaths 0",
          "Bhutan<br>Confirmed 4 Deaths 0",
          "Bolivia<br>Confirmed 107 Deaths 6",
          "Bosnia and Herzegovina<br>Confirmed 420 Deaths 13",
          "Botswana<br>Confirmed 4 Deaths 1",
          "Brazil<br>Confirmed 5717 Deaths 201",
          "Brunei<br>Confirmed 129 Deaths 1",
          "Bulgaria<br>Confirmed 399 Deaths 8",
          "Burkina Faso<br>Confirmed 261 Deaths 14",
          "Burma<br>Confirmed 15 Deaths 1",
          "Burundi<br>Confirmed 2 Deaths 0",
          "Cabo Verde<br>Confirmed 6 Deaths 1",
          "Cambodia<br>Confirmed 109 Deaths 0",
          "Cameroon<br>Confirmed 193 Deaths 6",
          "Canada<br>Confirmed 8527 Deaths 101",
          "Central African Republic<br>Confirmed 3 Deaths 0",
          "Chad<br>Confirmed 7 Deaths 0",
          "Chile<br>Confirmed 2738 Deaths 12",
          "China<br>Confirmed 82279 Deaths 3309",
          "Colombia<br>Confirmed 906 Deaths 16",
          "Congo (Brazzaville)<br>Confirmed 19 Deaths 0",
          "Congo (Kinshasa)<br>Confirmed 98 Deaths 8",
          "Costa Rica<br>Confirmed 347 Deaths 2",
          "Cote d'Ivoire<br>Confirmed 179 Deaths 1",
          "Croatia<br>Confirmed 867 Deaths 6",
          "Cuba<br>Confirmed 186 Deaths 6",
          "Cyprus<br>Confirmed 262 Deaths 8",
          "Czechia<br>Confirmed 3308 Deaths 31",
          "Denmark<br>Confirmed 3039 Deaths 90",
          "Diamond Princess<br>Confirmed 712 Deaths 10",
          "Djibouti<br>Confirmed 30 Deaths 0",
          "Dominica<br>Confirmed 12 Deaths 0",
          "Dominican Republic<br>Confirmed 1109 Deaths 51",
          "Ecuador<br>Confirmed 2240 Deaths 75",
          "Egypt<br>Confirmed 710 Deaths 46",
          "El Salvador<br>Confirmed 32 Deaths 1",
          "Equatorial Guinea<br>Confirmed 12 Deaths 0",
          "Eritrea<br>Confirmed 15 Deaths 0",
          "Estonia<br>Confirmed 745 Deaths 4",
          "Eswatini<br>Confirmed 9 Deaths 0",
          "Ethiopia<br>Confirmed 26 Deaths 0",
          "Fiji<br>Confirmed 5 Deaths 0",
          "Finland<br>Confirmed 1418 Deaths 17",
          "France<br>Confirmed 52827 Deaths 3532",
          "Gabon<br>Confirmed 16 Deaths 1",
          "Gambia<br>Confirmed 4 Deaths 1",
          "Georgia<br>Confirmed 110 Deaths 0",
          "Germany<br>Confirmed 71808 Deaths 775",
          "Ghana<br>Confirmed 161 Deaths 5",
          "Greece<br>Confirmed 1314 Deaths 49",
          "Grenada<br>Confirmed 9 Deaths 0",
          "Guatemala<br>Confirmed 38 Deaths 1",
          "Guinea<br>Confirmed 22 Deaths 0",
          "Guinea-Bissau<br>Confirmed 8 Deaths 0",
          "Guyana<br>Confirmed 12 Deaths 2",
          "Haiti<br>Confirmed 15 Deaths 0",
          "Holy See<br>Confirmed 6 Deaths 0",
          "Honduras<br>Confirmed 141 Deaths 7",
          "Hungary<br>Confirmed 492 Deaths 16",
          "Iceland<br>Confirmed 1135 Deaths 2",
          "India<br>Confirmed 1397 Deaths 35",
          "Indonesia<br>Confirmed 1528 Deaths 136",
          "Iran<br>Confirmed 44605 Deaths 2898",
          "Iraq<br>Confirmed 694 Deaths 50",
          "Ireland<br>Confirmed 3235 Deaths 71",
          "Israel<br>Confirmed 5358 Deaths 20",
          "Italy<br>Confirmed 105792 Deaths 12428",
          "Jamaica<br>Confirmed 36 Deaths 1",
          "Japan<br>Confirmed 1953 Deaths 56",
          "Jordan<br>Confirmed 274 Deaths 5",
          "Kazakhstan<br>Confirmed 343 Deaths 2",
          "Kenya<br>Confirmed 59 Deaths 1",
          "Korea, South<br>Confirmed 9786 Deaths 162",
          "Kosovo<br>Confirmed 112 Deaths 1",
          "Kuwait<br>Confirmed 289 Deaths 0",
          "Kyrgyzstan<br>Confirmed 107 Deaths 0",
          "Laos<br>Confirmed 9 Deaths 0",
          "Latvia<br>Confirmed 398 Deaths 0",
          "Lebanon<br>Confirmed 470 Deaths 12",
          "Liberia<br>Confirmed 3 Deaths 0",
          "Libya<br>Confirmed 10 Deaths 0",
          "Liechtenstein<br>Confirmed 68 Deaths 0",
          "Lithuania<br>Confirmed 537 Deaths 8",
          "Luxembourg<br>Confirmed 2178 Deaths 23",
          "MS Zaandam<br>Confirmed 2 Deaths 0",
          "Madagascar<br>Confirmed 57 Deaths 0",
          "Malawi<br>Confirmed 0 Deaths 0",
          "Malaysia<br>Confirmed 2766 Deaths 43",
          "Maldives<br>Confirmed 18 Deaths 0",
          "Mali<br>Confirmed 28 Deaths 2",
          "Malta<br>Confirmed 169 Deaths 0",
          "Mauritania<br>Confirmed 6 Deaths 1",
          "Mauritius<br>Confirmed 143 Deaths 5",
          "Mexico<br>Confirmed 1094 Deaths 28",
          "Moldova<br>Confirmed 353 Deaths 4",
          "Monaco<br>Confirmed 52 Deaths 1",
          "Mongolia<br>Confirmed 12 Deaths 0",
          "Montenegro<br>Confirmed 109 Deaths 2",
          "Morocco<br>Confirmed 617 Deaths 36",
          "Mozambique<br>Confirmed 8 Deaths 0",
          "Namibia<br>Confirmed 11 Deaths 0",
          "Nepal<br>Confirmed 5 Deaths 0",
          "Netherlands<br>Confirmed 12667 Deaths 1040",
          "New Zealand<br>Confirmed 647 Deaths 1",
          "Nicaragua<br>Confirmed 5 Deaths 1",
          "Niger<br>Confirmed 27 Deaths 3",
          "Nigeria<br>Confirmed 135 Deaths 2",
          "North Macedonia<br>Confirmed 329 Deaths 9",
          "Norway<br>Confirmed 4641 Deaths 39",
          "Oman<br>Confirmed 192 Deaths 1",
          "Pakistan<br>Confirmed 1938 Deaths 26",
          "Panama<br>Confirmed 1181 Deaths 30",
          "Papua New Guinea<br>Confirmed 1 Deaths 0",
          "Paraguay<br>Confirmed 65 Deaths 3",
          "Peru<br>Confirmed 1065 Deaths 30",
          "Philippines<br>Confirmed 2084 Deaths 88",
          "Poland<br>Confirmed 2311 Deaths 33",
          "Portugal<br>Confirmed 7443 Deaths 160",
          "Qatar<br>Confirmed 781 Deaths 2",
          "Romania<br>Confirmed 2245 Deaths 82",
          "Russia<br>Confirmed 2337 Deaths 17",
          "Rwanda<br>Confirmed 75 Deaths 0",
          "Saint Kitts and Nevis<br>Confirmed 8 Deaths 0",
          "Saint Lucia<br>Confirmed 13 Deaths 0",
          "Saint Vincent and the Grenadines<br>Confirmed 1 Deaths 0",
          "San Marino<br>Confirmed 236 Deaths 26",
          "Sao Tome and Principe<br>Confirmed 0 Deaths 0",
          "Saudi Arabia<br>Confirmed 1563 Deaths 10",
          "Senegal<br>Confirmed 175 Deaths 0",
          "Serbia<br>Confirmed 900 Deaths 16",
          "Seychelles<br>Confirmed 10 Deaths 0",
          "Sierra Leone<br>Confirmed 1 Deaths 0",
          "Singapore<br>Confirmed 926 Deaths 3",
          "Slovakia<br>Confirmed 363 Deaths 0",
          "Slovenia<br>Confirmed 802 Deaths 15",
          "Somalia<br>Confirmed 5 Deaths 0",
          "South Africa<br>Confirmed 1353 Deaths 5",
          "South Sudan<br>Confirmed 0 Deaths 0",
          "Spain<br>Confirmed 95923 Deaths 8464",
          "Sri Lanka<br>Confirmed 143 Deaths 2",
          "Sudan<br>Confirmed 7 Deaths 2",
          "Suriname<br>Confirmed 9 Deaths 0",
          "Sweden<br>Confirmed 4435 Deaths 180",
          "Switzerland<br>Confirmed 16605 Deaths 433",
          "Syria<br>Confirmed 10 Deaths 2",
          "Taiwan*<br>Confirmed 322 Deaths 5",
          "Tanzania<br>Confirmed 19 Deaths 1",
          "Thailand<br>Confirmed 1651 Deaths 10",
          "Timor-Leste<br>Confirmed 1 Deaths 0",
          "Togo<br>Confirmed 34 Deaths 1",
          "Trinidad and Tobago<br>Confirmed 87 Deaths 3",
          "Tunisia<br>Confirmed 394 Deaths 10",
          "Turkey<br>Confirmed 13531 Deaths 214",
          "US<br>Confirmed 188172 Deaths 3873",
          "Uganda<br>Confirmed 44 Deaths 0",
          "Ukraine<br>Confirmed 645 Deaths 17",
          "United Arab Emirates<br>Confirmed 664 Deaths 6",
          "United Kingdom<br>Confirmed 25481 Deaths 1793",
          "Uruguay<br>Confirmed 338 Deaths 1",
          "Uzbekistan<br>Confirmed 172 Deaths 2",
          "Venezuela<br>Confirmed 135 Deaths 3",
          "Vietnam<br>Confirmed 212 Deaths 0",
          "West Bank and Gaza<br>Confirmed 119 Deaths 1",
          "Western Sahara<br>Confirmed 0 Deaths 0",
          "Yemen<br>Confirmed 0 Deaths 0",
          "Zambia<br>Confirmed 35 Deaths 0",
          "Zimbabwe<br>Confirmed 8 Deaths 1"
         ],
         "type": "choropleth",
         "z": [
          "4",
          "15",
          "44",
          "12",
          "2",
          "0",
          "27",
          "3",
          "18",
          "128",
          "5",
          "0",
          "4",
          "5",
          "0",
          "1",
          "705",
          "0",
          "0",
          "0",
          "6",
          "13",
          "1",
          "201",
          "1",
          "8",
          "14",
          "1",
          "0",
          "1",
          "0",
          "6",
          "101",
          "0",
          "0",
          "12",
          "3309",
          "16",
          "0",
          "8",
          "2",
          "1",
          "6",
          "6",
          "8",
          "31",
          "90",
          "10",
          "0",
          "0",
          "51",
          "75",
          "46",
          "1",
          "0",
          "0",
          "4",
          "0",
          "0",
          "0",
          "17",
          "3532",
          "1",
          "1",
          "0",
          "775",
          "5",
          "49",
          "0",
          "1",
          "0",
          "0",
          "2",
          "0",
          "0",
          "7",
          "16",
          "2",
          "35",
          "136",
          "2898",
          "50",
          "71",
          "20",
          "12428",
          "1",
          "56",
          "5",
          "2",
          "1",
          "162",
          "1",
          "0",
          "0",
          "0",
          "0",
          "12",
          "0",
          "0",
          "0",
          "8",
          "23",
          "0",
          "0",
          "0",
          "43",
          "0",
          "2",
          "0",
          "1",
          "5",
          "28",
          "4",
          "1",
          "0",
          "2",
          "36",
          "0",
          "0",
          "0",
          "1040",
          "1",
          "1",
          "3",
          "2",
          "9",
          "39",
          "1",
          "26",
          "30",
          "0",
          "3",
          "30",
          "88",
          "33",
          "160",
          "2",
          "82",
          "17",
          "0",
          "0",
          "0",
          "0",
          "26",
          "0",
          "10",
          "0",
          "16",
          "0",
          "0",
          "3",
          "0",
          "15",
          "0",
          "5",
          "0",
          "8464",
          "2",
          "2",
          "0",
          "180",
          "433",
          "2",
          "5",
          "1",
          "10",
          "0",
          "1",
          "3",
          "10",
          "214",
          "3873",
          "0",
          "17",
          "6",
          "1793",
          "1",
          "2",
          "3",
          "0",
          "1",
          "0",
          "0",
          "0",
          "1"
         ]
        }
       ],
       "layout": {
        "geo": {
         "lakecolor": "rgb(85,173,240)",
         "scope": "world",
         "showlakes": true
        },
        "template": {
         "data": {
          "bar": [
           {
            "error_x": {
             "color": "#2a3f5f"
            },
            "error_y": {
             "color": "#2a3f5f"
            },
            "marker": {
             "line": {
              "color": "#E5ECF6",
              "width": 0.5
             }
            },
            "type": "bar"
           }
          ],
          "barpolar": [
           {
            "marker": {
             "line": {
              "color": "#E5ECF6",
              "width": 0.5
             }
            },
            "type": "barpolar"
           }
          ],
          "carpet": [
           {
            "aaxis": {
             "endlinecolor": "#2a3f5f",
             "gridcolor": "white",
             "linecolor": "white",
             "minorgridcolor": "white",
             "startlinecolor": "#2a3f5f"
            },
            "baxis": {
             "endlinecolor": "#2a3f5f",
             "gridcolor": "white",
             "linecolor": "white",
             "minorgridcolor": "white",
             "startlinecolor": "#2a3f5f"
            },
            "type": "carpet"
           }
          ],
          "choropleth": [
           {
            "colorbar": {
             "outlinewidth": 0,
             "ticks": ""
            },
            "type": "choropleth"
           }
          ],
          "contour": [
           {
            "colorbar": {
             "outlinewidth": 0,
             "ticks": ""
            },
            "colorscale": [
             [
              0,
              "#0d0887"
             ],
             [
              0.1111111111111111,
              "#46039f"
             ],
             [
              0.2222222222222222,
              "#7201a8"
             ],
             [
              0.3333333333333333,
              "#9c179e"
             ],
             [
              0.4444444444444444,
              "#bd3786"
             ],
             [
              0.5555555555555556,
              "#d8576b"
             ],
             [
              0.6666666666666666,
              "#ed7953"
             ],
             [
              0.7777777777777778,
              "#fb9f3a"
             ],
             [
              0.8888888888888888,
              "#fdca26"
             ],
             [
              1,
              "#f0f921"
             ]
            ],
            "type": "contour"
           }
          ],
          "contourcarpet": [
           {
            "colorbar": {
             "outlinewidth": 0,
             "ticks": ""
            },
            "type": "contourcarpet"
           }
          ],
          "heatmap": [
           {
            "colorbar": {
             "outlinewidth": 0,
             "ticks": ""
            },
            "colorscale": [
             [
              0,
              "#0d0887"
             ],
             [
              0.1111111111111111,
              "#46039f"
             ],
             [
              0.2222222222222222,
              "#7201a8"
             ],
             [
              0.3333333333333333,
              "#9c179e"
             ],
             [
              0.4444444444444444,
              "#bd3786"
             ],
             [
              0.5555555555555556,
              "#d8576b"
             ],
             [
              0.6666666666666666,
              "#ed7953"
             ],
             [
              0.7777777777777778,
              "#fb9f3a"
             ],
             [
              0.8888888888888888,
              "#fdca26"
             ],
             [
              1,
              "#f0f921"
             ]
            ],
            "type": "heatmap"
           }
          ],
          "heatmapgl": [
           {
            "colorbar": {
             "outlinewidth": 0,
             "ticks": ""
            },
            "colorscale": [
             [
              0,
              "#0d0887"
             ],
             [
              0.1111111111111111,
              "#46039f"
             ],
             [
              0.2222222222222222,
              "#7201a8"
             ],
             [
              0.3333333333333333,
              "#9c179e"
             ],
             [
              0.4444444444444444,
              "#bd3786"
             ],
             [
              0.5555555555555556,
              "#d8576b"
             ],
             [
              0.6666666666666666,
              "#ed7953"
             ],
             [
              0.7777777777777778,
              "#fb9f3a"
             ],
             [
              0.8888888888888888,
              "#fdca26"
             ],
             [
              1,
              "#f0f921"
             ]
            ],
            "type": "heatmapgl"
           }
          ],
          "histogram": [
           {
            "marker": {
             "colorbar": {
              "outlinewidth": 0,
              "ticks": ""
             }
            },
            "type": "histogram"
           }
          ],
          "histogram2d": [
           {
            "colorbar": {
             "outlinewidth": 0,
             "ticks": ""
            },
            "colorscale": [
             [
              0,
              "#0d0887"
             ],
             [
              0.1111111111111111,
              "#46039f"
             ],
             [
              0.2222222222222222,
              "#7201a8"
             ],
             [
              0.3333333333333333,
              "#9c179e"
             ],
             [
              0.4444444444444444,
              "#bd3786"
             ],
             [
              0.5555555555555556,
              "#d8576b"
             ],
             [
              0.6666666666666666,
              "#ed7953"
             ],
             [
              0.7777777777777778,
              "#fb9f3a"
             ],
             [
              0.8888888888888888,
              "#fdca26"
             ],
             [
              1,
              "#f0f921"
             ]
            ],
            "type": "histogram2d"
           }
          ],
          "histogram2dcontour": [
           {
            "colorbar": {
             "outlinewidth": 0,
             "ticks": ""
            },
            "colorscale": [
             [
              0,
              "#0d0887"
             ],
             [
              0.1111111111111111,
              "#46039f"
             ],
             [
              0.2222222222222222,
              "#7201a8"
             ],
             [
              0.3333333333333333,
              "#9c179e"
             ],
             [
              0.4444444444444444,
              "#bd3786"
             ],
             [
              0.5555555555555556,
              "#d8576b"
             ],
             [
              0.6666666666666666,
              "#ed7953"
             ],
             [
              0.7777777777777778,
              "#fb9f3a"
             ],
             [
              0.8888888888888888,
              "#fdca26"
             ],
             [
              1,
              "#f0f921"
             ]
            ],
            "type": "histogram2dcontour"
           }
          ],
          "mesh3d": [
           {
            "colorbar": {
             "outlinewidth": 0,
             "ticks": ""
            },
            "type": "mesh3d"
           }
          ],
          "parcoords": [
           {
            "line": {
             "colorbar": {
              "outlinewidth": 0,
              "ticks": ""
             }
            },
            "type": "parcoords"
           }
          ],
          "pie": [
           {
            "automargin": true,
            "type": "pie"
           }
          ],
          "scatter": [
           {
            "marker": {
             "colorbar": {
              "outlinewidth": 0,
              "ticks": ""
             }
            },
            "type": "scatter"
           }
          ],
          "scatter3d": [
           {
            "line": {
             "colorbar": {
              "outlinewidth": 0,
              "ticks": ""
             }
            },
            "marker": {
             "colorbar": {
              "outlinewidth": 0,
              "ticks": ""
             }
            },
            "type": "scatter3d"
           }
          ],
          "scattercarpet": [
           {
            "marker": {
             "colorbar": {
              "outlinewidth": 0,
              "ticks": ""
             }
            },
            "type": "scattercarpet"
           }
          ],
          "scattergeo": [
           {
            "marker": {
             "colorbar": {
              "outlinewidth": 0,
              "ticks": ""
             }
            },
            "type": "scattergeo"
           }
          ],
          "scattergl": [
           {
            "marker": {
             "colorbar": {
              "outlinewidth": 0,
              "ticks": ""
             }
            },
            "type": "scattergl"
           }
          ],
          "scattermapbox": [
           {
            "marker": {
             "colorbar": {
              "outlinewidth": 0,
              "ticks": ""
             }
            },
            "type": "scattermapbox"
           }
          ],
          "scatterpolar": [
           {
            "marker": {
             "colorbar": {
              "outlinewidth": 0,
              "ticks": ""
             }
            },
            "type": "scatterpolar"
           }
          ],
          "scatterpolargl": [
           {
            "marker": {
             "colorbar": {
              "outlinewidth": 0,
              "ticks": ""
             }
            },
            "type": "scatterpolargl"
           }
          ],
          "scatterternary": [
           {
            "marker": {
             "colorbar": {
              "outlinewidth": 0,
              "ticks": ""
             }
            },
            "type": "scatterternary"
           }
          ],
          "surface": [
           {
            "colorbar": {
             "outlinewidth": 0,
             "ticks": ""
            },
            "colorscale": [
             [
              0,
              "#0d0887"
             ],
             [
              0.1111111111111111,
              "#46039f"
             ],
             [
              0.2222222222222222,
              "#7201a8"
             ],
             [
              0.3333333333333333,
              "#9c179e"
             ],
             [
              0.4444444444444444,
              "#bd3786"
             ],
             [
              0.5555555555555556,
              "#d8576b"
             ],
             [
              0.6666666666666666,
              "#ed7953"
             ],
             [
              0.7777777777777778,
              "#fb9f3a"
             ],
             [
              0.8888888888888888,
              "#fdca26"
             ],
             [
              1,
              "#f0f921"
             ]
            ],
            "type": "surface"
           }
          ],
          "table": [
           {
            "cells": {
             "fill": {
              "color": "#EBF0F8"
             },
             "line": {
              "color": "white"
             }
            },
            "header": {
             "fill": {
              "color": "#C8D4E3"
             },
             "line": {
              "color": "white"
             }
            },
            "type": "table"
           }
          ]
         },
         "layout": {
          "annotationdefaults": {
           "arrowcolor": "#2a3f5f",
           "arrowhead": 0,
           "arrowwidth": 1
          },
          "coloraxis": {
           "colorbar": {
            "outlinewidth": 0,
            "ticks": ""
           }
          },
          "colorscale": {
           "diverging": [
            [
             0,
             "#8e0152"
            ],
            [
             0.1,
             "#c51b7d"
            ],
            [
             0.2,
             "#de77ae"
            ],
            [
             0.3,
             "#f1b6da"
            ],
            [
             0.4,
             "#fde0ef"
            ],
            [
             0.5,
             "#f7f7f7"
            ],
            [
             0.6,
             "#e6f5d0"
            ],
            [
             0.7,
             "#b8e186"
            ],
            [
             0.8,
             "#7fbc41"
            ],
            [
             0.9,
             "#4d9221"
            ],
            [
             1,
             "#276419"
            ]
           ],
           "sequential": [
            [
             0,
             "#0d0887"
            ],
            [
             0.1111111111111111,
             "#46039f"
            ],
            [
             0.2222222222222222,
             "#7201a8"
            ],
            [
             0.3333333333333333,
             "#9c179e"
            ],
            [
             0.4444444444444444,
             "#bd3786"
            ],
            [
             0.5555555555555556,
             "#d8576b"
            ],
            [
             0.6666666666666666,
             "#ed7953"
            ],
            [
             0.7777777777777778,
             "#fb9f3a"
            ],
            [
             0.8888888888888888,
             "#fdca26"
            ],
            [
             1,
             "#f0f921"
            ]
           ],
           "sequentialminus": [
            [
             0,
             "#0d0887"
            ],
            [
             0.1111111111111111,
             "#46039f"
            ],
            [
             0.2222222222222222,
             "#7201a8"
            ],
            [
             0.3333333333333333,
             "#9c179e"
            ],
            [
             0.4444444444444444,
             "#bd3786"
            ],
            [
             0.5555555555555556,
             "#d8576b"
            ],
            [
             0.6666666666666666,
             "#ed7953"
            ],
            [
             0.7777777777777778,
             "#fb9f3a"
            ],
            [
             0.8888888888888888,
             "#fdca26"
            ],
            [
             1,
             "#f0f921"
            ]
           ]
          },
          "colorway": [
           "#636efa",
           "#EF553B",
           "#00cc96",
           "#ab63fa",
           "#FFA15A",
           "#19d3f3",
           "#FF6692",
           "#B6E880",
           "#FF97FF",
           "#FECB52"
          ],
          "font": {
           "color": "#2a3f5f"
          },
          "geo": {
           "bgcolor": "white",
           "lakecolor": "white",
           "landcolor": "#E5ECF6",
           "showlakes": true,
           "showland": true,
           "subunitcolor": "white"
          },
          "hoverlabel": {
           "align": "left"
          },
          "hovermode": "closest",
          "mapbox": {
           "style": "light"
          },
          "paper_bgcolor": "white",
          "plot_bgcolor": "#E5ECF6",
          "polar": {
           "angularaxis": {
            "gridcolor": "white",
            "linecolor": "white",
            "ticks": ""
           },
           "bgcolor": "#E5ECF6",
           "radialaxis": {
            "gridcolor": "white",
            "linecolor": "white",
            "ticks": ""
           }
          },
          "scene": {
           "xaxis": {
            "backgroundcolor": "#E5ECF6",
            "gridcolor": "white",
            "gridwidth": 2,
            "linecolor": "white",
            "showbackground": true,
            "ticks": "",
            "zerolinecolor": "white"
           },
           "yaxis": {
            "backgroundcolor": "#E5ECF6",
            "gridcolor": "white",
            "gridwidth": 2,
            "linecolor": "white",
            "showbackground": true,
            "ticks": "",
            "zerolinecolor": "white"
           },
           "zaxis": {
            "backgroundcolor": "#E5ECF6",
            "gridcolor": "white",
            "gridwidth": 2,
            "linecolor": "white",
            "showbackground": true,
            "ticks": "",
            "zerolinecolor": "white"
           }
          },
          "shapedefaults": {
           "line": {
            "color": "#2a3f5f"
           }
          },
          "ternary": {
           "aaxis": {
            "gridcolor": "white",
            "linecolor": "white",
            "ticks": ""
           },
           "baxis": {
            "gridcolor": "white",
            "linecolor": "white",
            "ticks": ""
           },
           "bgcolor": "#E5ECF6",
           "caxis": {
            "gridcolor": "white",
            "linecolor": "white",
            "ticks": ""
           }
          },
          "title": {
           "x": 0.05
          },
          "xaxis": {
           "automargin": true,
           "gridcolor": "white",
           "linecolor": "white",
           "ticks": "",
           "title": {
            "standoff": 15
           },
           "zerolinecolor": "white",
           "zerolinewidth": 2
          },
          "yaxis": {
           "automargin": true,
           "gridcolor": "white",
           "linecolor": "white",
           "ticks": "",
           "title": {
            "standoff": 15
           },
           "zerolinecolor": "white",
           "zerolinewidth": 2
          }
         }
        },
        "title": {
         "text": "COVID-19 Death Per Country as of Mar 2020"
        }
       }
      },
      "text/html": [
       "<div>\n",
       "        \n",
       "        \n",
       "            <div id=\"600ddb72-a961-4eb7-b6a3-55c7fcadb2e2\" class=\"plotly-graph-div\" style=\"height:525px; width:100%;\"></div>\n",
       "            <script type=\"text/javascript\">\n",
       "                require([\"plotly\"], function(Plotly) {\n",
       "                    window.PLOTLYENV=window.PLOTLYENV || {};\n",
       "                    \n",
       "                if (document.getElementById(\"600ddb72-a961-4eb7-b6a3-55c7fcadb2e2\")) {\n",
       "                    Plotly.newPlot(\n",
       "                        '600ddb72-a961-4eb7-b6a3-55c7fcadb2e2',\n",
       "                        [{\"colorbar\": {\"title\": {\"text\": \"Number of deaths\"}}, \"colorscale\": [[0.0, \"rgb(150,0,90)\"], [0.125, \"rgb(0,0,200)\"], [0.25, \"rgb(0,25,255)\"], [0.375, \"rgb(0,152,255)\"], [0.5, \"rgb(44,255,150)\"], [0.625, \"rgb(151,255,0)\"], [0.75, \"rgb(255,234,0)\"], [0.875, \"rgb(255,111,0)\"], [1.0, \"rgb(255,0,0)\"]], \"locationmode\": \"country names\", \"locations\": [\"Afghanistan\", \"Albania\", \"Algeria\", \"Andorra\", \"Angola\", \"Antigua and Barbuda\", \"Argentina\", \"Armenia\", \"Australia\", \"Austria\", \"Azerbaijan\", \"Bahamas\", \"Bahrain\", \"Bangladesh\", \"Barbados\", \"Belarus\", \"Belgium\", \"Belize\", \"Benin\", \"Bhutan\", \"Bolivia\", \"Bosnia and Herzegovina\", \"Botswana\", \"Brazil\", \"Brunei\", \"Bulgaria\", \"Burkina Faso\", \"Burma\", \"Burundi\", \"Cabo Verde\", \"Cambodia\", \"Cameroon\", \"Canada\", \"Central African Republic\", \"Chad\", \"Chile\", \"China\", \"Colombia\", \"Congo (Brazzaville)\", \"Congo (Kinshasa)\", \"Costa Rica\", \"Cote d'Ivoire\", \"Croatia\", \"Cuba\", \"Cyprus\", \"Czechia\", \"Denmark\", \"Diamond Princess\", \"Djibouti\", \"Dominica\", \"Dominican Republic\", \"Ecuador\", \"Egypt\", \"El Salvador\", \"Equatorial Guinea\", \"Eritrea\", \"Estonia\", \"Eswatini\", \"Ethiopia\", \"Fiji\", \"Finland\", \"France\", \"Gabon\", \"Gambia\", \"Georgia\", \"Germany\", \"Ghana\", \"Greece\", \"Grenada\", \"Guatemala\", \"Guinea\", \"Guinea-Bissau\", \"Guyana\", \"Haiti\", \"Holy See\", \"Honduras\", \"Hungary\", \"Iceland\", \"India\", \"Indonesia\", \"Iran\", \"Iraq\", \"Ireland\", \"Israel\", \"Italy\", \"Jamaica\", \"Japan\", \"Jordan\", \"Kazakhstan\", \"Kenya\", \"Korea, South\", \"Kosovo\", \"Kuwait\", \"Kyrgyzstan\", \"Laos\", \"Latvia\", \"Lebanon\", \"Liberia\", \"Libya\", \"Liechtenstein\", \"Lithuania\", \"Luxembourg\", \"MS Zaandam\", \"Madagascar\", \"Malawi\", \"Malaysia\", \"Maldives\", \"Mali\", \"Malta\", \"Mauritania\", \"Mauritius\", \"Mexico\", \"Moldova\", \"Monaco\", \"Mongolia\", \"Montenegro\", \"Morocco\", \"Mozambique\", \"Namibia\", \"Nepal\", \"Netherlands\", \"New Zealand\", \"Nicaragua\", \"Niger\", \"Nigeria\", \"North Macedonia\", \"Norway\", \"Oman\", \"Pakistan\", \"Panama\", \"Papua New Guinea\", \"Paraguay\", \"Peru\", \"Philippines\", \"Poland\", \"Portugal\", \"Qatar\", \"Romania\", \"Russia\", \"Rwanda\", \"Saint Kitts and Nevis\", \"Saint Lucia\", \"Saint Vincent and the Grenadines\", \"San Marino\", \"Sao Tome and Principe\", \"Saudi Arabia\", \"Senegal\", \"Serbia\", \"Seychelles\", \"Sierra Leone\", \"Singapore\", \"Slovakia\", \"Slovenia\", \"Somalia\", \"South Africa\", \"South Sudan\", \"Spain\", \"Sri Lanka\", \"Sudan\", \"Suriname\", \"Sweden\", \"Switzerland\", \"Syria\", \"Taiwan*\", \"Tanzania\", \"Thailand\", \"Timor-Leste\", \"Togo\", \"Trinidad and Tobago\", \"Tunisia\", \"Turkey\", \"US\", \"Uganda\", \"Ukraine\", \"United Arab Emirates\", \"United Kingdom\", \"Uruguay\", \"Uzbekistan\", \"Venezuela\", \"Vietnam\", \"West Bank and Gaza\", \"Western Sahara\", \"Yemen\", \"Zambia\", \"Zimbabwe\"], \"marker\": {\"line\": {\"color\": \"rgb(0,0,0)\", \"width\": 0.8}}, \"text\": [\"Afghanistan<br>Confirmed 174 Deaths 4\", \"Albania<br>Confirmed 243 Deaths 15\", \"Algeria<br>Confirmed 716 Deaths 44\", \"Andorra<br>Confirmed 376 Deaths 12\", \"Angola<br>Confirmed 7 Deaths 2\", \"Antigua and Barbuda<br>Confirmed 7 Deaths 0\", \"Argentina<br>Confirmed 1054 Deaths 27\", \"Armenia<br>Confirmed 532 Deaths 3\", \"Australia<br>Confirmed 4559 Deaths 18\", \"Austria<br>Confirmed 10180 Deaths 128\", \"Azerbaijan<br>Confirmed 298 Deaths 5\", \"Bahamas<br>Confirmed 14 Deaths 0\", \"Bahrain<br>Confirmed 567 Deaths 4\", \"Bangladesh<br>Confirmed 51 Deaths 5\", \"Barbados<br>Confirmed 34 Deaths 0\", \"Belarus<br>Confirmed 152 Deaths 1\", \"Belgium<br>Confirmed 12775 Deaths 705\", \"Belize<br>Confirmed 3 Deaths 0\", \"Benin<br>Confirmed 9 Deaths 0\", \"Bhutan<br>Confirmed 4 Deaths 0\", \"Bolivia<br>Confirmed 107 Deaths 6\", \"Bosnia and Herzegovina<br>Confirmed 420 Deaths 13\", \"Botswana<br>Confirmed 4 Deaths 1\", \"Brazil<br>Confirmed 5717 Deaths 201\", \"Brunei<br>Confirmed 129 Deaths 1\", \"Bulgaria<br>Confirmed 399 Deaths 8\", \"Burkina Faso<br>Confirmed 261 Deaths 14\", \"Burma<br>Confirmed 15 Deaths 1\", \"Burundi<br>Confirmed 2 Deaths 0\", \"Cabo Verde<br>Confirmed 6 Deaths 1\", \"Cambodia<br>Confirmed 109 Deaths 0\", \"Cameroon<br>Confirmed 193 Deaths 6\", \"Canada<br>Confirmed 8527 Deaths 101\", \"Central African Republic<br>Confirmed 3 Deaths 0\", \"Chad<br>Confirmed 7 Deaths 0\", \"Chile<br>Confirmed 2738 Deaths 12\", \"China<br>Confirmed 82279 Deaths 3309\", \"Colombia<br>Confirmed 906 Deaths 16\", \"Congo (Brazzaville)<br>Confirmed 19 Deaths 0\", \"Congo (Kinshasa)<br>Confirmed 98 Deaths 8\", \"Costa Rica<br>Confirmed 347 Deaths 2\", \"Cote d'Ivoire<br>Confirmed 179 Deaths 1\", \"Croatia<br>Confirmed 867 Deaths 6\", \"Cuba<br>Confirmed 186 Deaths 6\", \"Cyprus<br>Confirmed 262 Deaths 8\", \"Czechia<br>Confirmed 3308 Deaths 31\", \"Denmark<br>Confirmed 3039 Deaths 90\", \"Diamond Princess<br>Confirmed 712 Deaths 10\", \"Djibouti<br>Confirmed 30 Deaths 0\", \"Dominica<br>Confirmed 12 Deaths 0\", \"Dominican Republic<br>Confirmed 1109 Deaths 51\", \"Ecuador<br>Confirmed 2240 Deaths 75\", \"Egypt<br>Confirmed 710 Deaths 46\", \"El Salvador<br>Confirmed 32 Deaths 1\", \"Equatorial Guinea<br>Confirmed 12 Deaths 0\", \"Eritrea<br>Confirmed 15 Deaths 0\", \"Estonia<br>Confirmed 745 Deaths 4\", \"Eswatini<br>Confirmed 9 Deaths 0\", \"Ethiopia<br>Confirmed 26 Deaths 0\", \"Fiji<br>Confirmed 5 Deaths 0\", \"Finland<br>Confirmed 1418 Deaths 17\", \"France<br>Confirmed 52827 Deaths 3532\", \"Gabon<br>Confirmed 16 Deaths 1\", \"Gambia<br>Confirmed 4 Deaths 1\", \"Georgia<br>Confirmed 110 Deaths 0\", \"Germany<br>Confirmed 71808 Deaths 775\", \"Ghana<br>Confirmed 161 Deaths 5\", \"Greece<br>Confirmed 1314 Deaths 49\", \"Grenada<br>Confirmed 9 Deaths 0\", \"Guatemala<br>Confirmed 38 Deaths 1\", \"Guinea<br>Confirmed 22 Deaths 0\", \"Guinea-Bissau<br>Confirmed 8 Deaths 0\", \"Guyana<br>Confirmed 12 Deaths 2\", \"Haiti<br>Confirmed 15 Deaths 0\", \"Holy See<br>Confirmed 6 Deaths 0\", \"Honduras<br>Confirmed 141 Deaths 7\", \"Hungary<br>Confirmed 492 Deaths 16\", \"Iceland<br>Confirmed 1135 Deaths 2\", \"India<br>Confirmed 1397 Deaths 35\", \"Indonesia<br>Confirmed 1528 Deaths 136\", \"Iran<br>Confirmed 44605 Deaths 2898\", \"Iraq<br>Confirmed 694 Deaths 50\", \"Ireland<br>Confirmed 3235 Deaths 71\", \"Israel<br>Confirmed 5358 Deaths 20\", \"Italy<br>Confirmed 105792 Deaths 12428\", \"Jamaica<br>Confirmed 36 Deaths 1\", \"Japan<br>Confirmed 1953 Deaths 56\", \"Jordan<br>Confirmed 274 Deaths 5\", \"Kazakhstan<br>Confirmed 343 Deaths 2\", \"Kenya<br>Confirmed 59 Deaths 1\", \"Korea, South<br>Confirmed 9786 Deaths 162\", \"Kosovo<br>Confirmed 112 Deaths 1\", \"Kuwait<br>Confirmed 289 Deaths 0\", \"Kyrgyzstan<br>Confirmed 107 Deaths 0\", \"Laos<br>Confirmed 9 Deaths 0\", \"Latvia<br>Confirmed 398 Deaths 0\", \"Lebanon<br>Confirmed 470 Deaths 12\", \"Liberia<br>Confirmed 3 Deaths 0\", \"Libya<br>Confirmed 10 Deaths 0\", \"Liechtenstein<br>Confirmed 68 Deaths 0\", \"Lithuania<br>Confirmed 537 Deaths 8\", \"Luxembourg<br>Confirmed 2178 Deaths 23\", \"MS Zaandam<br>Confirmed 2 Deaths 0\", \"Madagascar<br>Confirmed 57 Deaths 0\", \"Malawi<br>Confirmed 0 Deaths 0\", \"Malaysia<br>Confirmed 2766 Deaths 43\", \"Maldives<br>Confirmed 18 Deaths 0\", \"Mali<br>Confirmed 28 Deaths 2\", \"Malta<br>Confirmed 169 Deaths 0\", \"Mauritania<br>Confirmed 6 Deaths 1\", \"Mauritius<br>Confirmed 143 Deaths 5\", \"Mexico<br>Confirmed 1094 Deaths 28\", \"Moldova<br>Confirmed 353 Deaths 4\", \"Monaco<br>Confirmed 52 Deaths 1\", \"Mongolia<br>Confirmed 12 Deaths 0\", \"Montenegro<br>Confirmed 109 Deaths 2\", \"Morocco<br>Confirmed 617 Deaths 36\", \"Mozambique<br>Confirmed 8 Deaths 0\", \"Namibia<br>Confirmed 11 Deaths 0\", \"Nepal<br>Confirmed 5 Deaths 0\", \"Netherlands<br>Confirmed 12667 Deaths 1040\", \"New Zealand<br>Confirmed 647 Deaths 1\", \"Nicaragua<br>Confirmed 5 Deaths 1\", \"Niger<br>Confirmed 27 Deaths 3\", \"Nigeria<br>Confirmed 135 Deaths 2\", \"North Macedonia<br>Confirmed 329 Deaths 9\", \"Norway<br>Confirmed 4641 Deaths 39\", \"Oman<br>Confirmed 192 Deaths 1\", \"Pakistan<br>Confirmed 1938 Deaths 26\", \"Panama<br>Confirmed 1181 Deaths 30\", \"Papua New Guinea<br>Confirmed 1 Deaths 0\", \"Paraguay<br>Confirmed 65 Deaths 3\", \"Peru<br>Confirmed 1065 Deaths 30\", \"Philippines<br>Confirmed 2084 Deaths 88\", \"Poland<br>Confirmed 2311 Deaths 33\", \"Portugal<br>Confirmed 7443 Deaths 160\", \"Qatar<br>Confirmed 781 Deaths 2\", \"Romania<br>Confirmed 2245 Deaths 82\", \"Russia<br>Confirmed 2337 Deaths 17\", \"Rwanda<br>Confirmed 75 Deaths 0\", \"Saint Kitts and Nevis<br>Confirmed 8 Deaths 0\", \"Saint Lucia<br>Confirmed 13 Deaths 0\", \"Saint Vincent and the Grenadines<br>Confirmed 1 Deaths 0\", \"San Marino<br>Confirmed 236 Deaths 26\", \"Sao Tome and Principe<br>Confirmed 0 Deaths 0\", \"Saudi Arabia<br>Confirmed 1563 Deaths 10\", \"Senegal<br>Confirmed 175 Deaths 0\", \"Serbia<br>Confirmed 900 Deaths 16\", \"Seychelles<br>Confirmed 10 Deaths 0\", \"Sierra Leone<br>Confirmed 1 Deaths 0\", \"Singapore<br>Confirmed 926 Deaths 3\", \"Slovakia<br>Confirmed 363 Deaths 0\", \"Slovenia<br>Confirmed 802 Deaths 15\", \"Somalia<br>Confirmed 5 Deaths 0\", \"South Africa<br>Confirmed 1353 Deaths 5\", \"South Sudan<br>Confirmed 0 Deaths 0\", \"Spain<br>Confirmed 95923 Deaths 8464\", \"Sri Lanka<br>Confirmed 143 Deaths 2\", \"Sudan<br>Confirmed 7 Deaths 2\", \"Suriname<br>Confirmed 9 Deaths 0\", \"Sweden<br>Confirmed 4435 Deaths 180\", \"Switzerland<br>Confirmed 16605 Deaths 433\", \"Syria<br>Confirmed 10 Deaths 2\", \"Taiwan*<br>Confirmed 322 Deaths 5\", \"Tanzania<br>Confirmed 19 Deaths 1\", \"Thailand<br>Confirmed 1651 Deaths 10\", \"Timor-Leste<br>Confirmed 1 Deaths 0\", \"Togo<br>Confirmed 34 Deaths 1\", \"Trinidad and Tobago<br>Confirmed 87 Deaths 3\", \"Tunisia<br>Confirmed 394 Deaths 10\", \"Turkey<br>Confirmed 13531 Deaths 214\", \"US<br>Confirmed 188172 Deaths 3873\", \"Uganda<br>Confirmed 44 Deaths 0\", \"Ukraine<br>Confirmed 645 Deaths 17\", \"United Arab Emirates<br>Confirmed 664 Deaths 6\", \"United Kingdom<br>Confirmed 25481 Deaths 1793\", \"Uruguay<br>Confirmed 338 Deaths 1\", \"Uzbekistan<br>Confirmed 172 Deaths 2\", \"Venezuela<br>Confirmed 135 Deaths 3\", \"Vietnam<br>Confirmed 212 Deaths 0\", \"West Bank and Gaza<br>Confirmed 119 Deaths 1\", \"Western Sahara<br>Confirmed 0 Deaths 0\", \"Yemen<br>Confirmed 0 Deaths 0\", \"Zambia<br>Confirmed 35 Deaths 0\", \"Zimbabwe<br>Confirmed 8 Deaths 1\"], \"type\": \"choropleth\", \"z\": [\"4\", \"15\", \"44\", \"12\", \"2\", \"0\", \"27\", \"3\", \"18\", \"128\", \"5\", \"0\", \"4\", \"5\", \"0\", \"1\", \"705\", \"0\", \"0\", \"0\", \"6\", \"13\", \"1\", \"201\", \"1\", \"8\", \"14\", \"1\", \"0\", \"1\", \"0\", \"6\", \"101\", \"0\", \"0\", \"12\", \"3309\", \"16\", \"0\", \"8\", \"2\", \"1\", \"6\", \"6\", \"8\", \"31\", \"90\", \"10\", \"0\", \"0\", \"51\", \"75\", \"46\", \"1\", \"0\", \"0\", \"4\", \"0\", \"0\", \"0\", \"17\", \"3532\", \"1\", \"1\", \"0\", \"775\", \"5\", \"49\", \"0\", \"1\", \"0\", \"0\", \"2\", \"0\", \"0\", \"7\", \"16\", \"2\", \"35\", \"136\", \"2898\", \"50\", \"71\", \"20\", \"12428\", \"1\", \"56\", \"5\", \"2\", \"1\", \"162\", \"1\", \"0\", \"0\", \"0\", \"0\", \"12\", \"0\", \"0\", \"0\", \"8\", \"23\", \"0\", \"0\", \"0\", \"43\", \"0\", \"2\", \"0\", \"1\", \"5\", \"28\", \"4\", \"1\", \"0\", \"2\", \"36\", \"0\", \"0\", \"0\", \"1040\", \"1\", \"1\", \"3\", \"2\", \"9\", \"39\", \"1\", \"26\", \"30\", \"0\", \"3\", \"30\", \"88\", \"33\", \"160\", \"2\", \"82\", \"17\", \"0\", \"0\", \"0\", \"0\", \"26\", \"0\", \"10\", \"0\", \"16\", \"0\", \"0\", \"3\", \"0\", \"15\", \"0\", \"5\", \"0\", \"8464\", \"2\", \"2\", \"0\", \"180\", \"433\", \"2\", \"5\", \"1\", \"10\", \"0\", \"1\", \"3\", \"10\", \"214\", \"3873\", \"0\", \"17\", \"6\", \"1793\", \"1\", \"2\", \"3\", \"0\", \"1\", \"0\", \"0\", \"0\", \"1\"]}],\n",
       "                        {\"geo\": {\"lakecolor\": \"rgb(85,173,240)\", \"scope\": \"world\", \"showlakes\": true}, \"template\": {\"data\": {\"bar\": [{\"error_x\": {\"color\": \"#2a3f5f\"}, \"error_y\": {\"color\": \"#2a3f5f\"}, \"marker\": {\"line\": {\"color\": \"#E5ECF6\", \"width\": 0.5}}, \"type\": \"bar\"}], \"barpolar\": [{\"marker\": {\"line\": {\"color\": \"#E5ECF6\", \"width\": 0.5}}, \"type\": \"barpolar\"}], \"carpet\": [{\"aaxis\": {\"endlinecolor\": \"#2a3f5f\", \"gridcolor\": \"white\", \"linecolor\": \"white\", \"minorgridcolor\": \"white\", \"startlinecolor\": \"#2a3f5f\"}, \"baxis\": {\"endlinecolor\": \"#2a3f5f\", \"gridcolor\": \"white\", \"linecolor\": \"white\", \"minorgridcolor\": \"white\", \"startlinecolor\": \"#2a3f5f\"}, \"type\": \"carpet\"}], \"choropleth\": [{\"colorbar\": {\"outlinewidth\": 0, \"ticks\": \"\"}, \"type\": \"choropleth\"}], \"contour\": [{\"colorbar\": {\"outlinewidth\": 0, \"ticks\": \"\"}, \"colorscale\": [[0.0, \"#0d0887\"], [0.1111111111111111, \"#46039f\"], [0.2222222222222222, \"#7201a8\"], [0.3333333333333333, \"#9c179e\"], [0.4444444444444444, \"#bd3786\"], [0.5555555555555556, \"#d8576b\"], [0.6666666666666666, \"#ed7953\"], [0.7777777777777778, \"#fb9f3a\"], [0.8888888888888888, \"#fdca26\"], [1.0, \"#f0f921\"]], \"type\": \"contour\"}], \"contourcarpet\": [{\"colorbar\": {\"outlinewidth\": 0, \"ticks\": \"\"}, \"type\": \"contourcarpet\"}], \"heatmap\": [{\"colorbar\": {\"outlinewidth\": 0, \"ticks\": \"\"}, \"colorscale\": [[0.0, \"#0d0887\"], [0.1111111111111111, \"#46039f\"], [0.2222222222222222, \"#7201a8\"], [0.3333333333333333, \"#9c179e\"], [0.4444444444444444, \"#bd3786\"], [0.5555555555555556, \"#d8576b\"], [0.6666666666666666, \"#ed7953\"], [0.7777777777777778, \"#fb9f3a\"], [0.8888888888888888, \"#fdca26\"], [1.0, \"#f0f921\"]], \"type\": \"heatmap\"}], \"heatmapgl\": [{\"colorbar\": {\"outlinewidth\": 0, \"ticks\": \"\"}, \"colorscale\": [[0.0, \"#0d0887\"], [0.1111111111111111, \"#46039f\"], [0.2222222222222222, \"#7201a8\"], [0.3333333333333333, \"#9c179e\"], [0.4444444444444444, \"#bd3786\"], [0.5555555555555556, \"#d8576b\"], [0.6666666666666666, \"#ed7953\"], [0.7777777777777778, \"#fb9f3a\"], [0.8888888888888888, \"#fdca26\"], [1.0, \"#f0f921\"]], \"type\": \"heatmapgl\"}], \"histogram\": [{\"marker\": {\"colorbar\": {\"outlinewidth\": 0, \"ticks\": \"\"}}, \"type\": \"histogram\"}], \"histogram2d\": [{\"colorbar\": {\"outlinewidth\": 0, \"ticks\": \"\"}, \"colorscale\": [[0.0, \"#0d0887\"], [0.1111111111111111, \"#46039f\"], [0.2222222222222222, \"#7201a8\"], [0.3333333333333333, \"#9c179e\"], [0.4444444444444444, \"#bd3786\"], [0.5555555555555556, \"#d8576b\"], [0.6666666666666666, \"#ed7953\"], [0.7777777777777778, \"#fb9f3a\"], [0.8888888888888888, \"#fdca26\"], [1.0, \"#f0f921\"]], \"type\": \"histogram2d\"}], \"histogram2dcontour\": [{\"colorbar\": {\"outlinewidth\": 0, \"ticks\": \"\"}, \"colorscale\": [[0.0, \"#0d0887\"], [0.1111111111111111, \"#46039f\"], [0.2222222222222222, \"#7201a8\"], [0.3333333333333333, \"#9c179e\"], [0.4444444444444444, \"#bd3786\"], [0.5555555555555556, \"#d8576b\"], [0.6666666666666666, \"#ed7953\"], [0.7777777777777778, \"#fb9f3a\"], [0.8888888888888888, \"#fdca26\"], [1.0, \"#f0f921\"]], \"type\": \"histogram2dcontour\"}], \"mesh3d\": [{\"colorbar\": {\"outlinewidth\": 0, \"ticks\": \"\"}, \"type\": \"mesh3d\"}], \"parcoords\": [{\"line\": {\"colorbar\": {\"outlinewidth\": 0, \"ticks\": \"\"}}, \"type\": \"parcoords\"}], \"pie\": [{\"automargin\": true, \"type\": \"pie\"}], \"scatter\": [{\"marker\": {\"colorbar\": {\"outlinewidth\": 0, \"ticks\": \"\"}}, \"type\": \"scatter\"}], \"scatter3d\": [{\"line\": {\"colorbar\": {\"outlinewidth\": 0, \"ticks\": \"\"}}, \"marker\": {\"colorbar\": {\"outlinewidth\": 0, \"ticks\": \"\"}}, \"type\": \"scatter3d\"}], \"scattercarpet\": [{\"marker\": {\"colorbar\": {\"outlinewidth\": 0, \"ticks\": \"\"}}, \"type\": \"scattercarpet\"}], \"scattergeo\": [{\"marker\": {\"colorbar\": {\"outlinewidth\": 0, \"ticks\": \"\"}}, \"type\": \"scattergeo\"}], \"scattergl\": [{\"marker\": {\"colorbar\": {\"outlinewidth\": 0, \"ticks\": \"\"}}, \"type\": \"scattergl\"}], \"scattermapbox\": [{\"marker\": {\"colorbar\": {\"outlinewidth\": 0, \"ticks\": \"\"}}, \"type\": \"scattermapbox\"}], \"scatterpolar\": [{\"marker\": {\"colorbar\": {\"outlinewidth\": 0, \"ticks\": \"\"}}, \"type\": \"scatterpolar\"}], \"scatterpolargl\": [{\"marker\": {\"colorbar\": {\"outlinewidth\": 0, \"ticks\": \"\"}}, \"type\": \"scatterpolargl\"}], \"scatterternary\": [{\"marker\": {\"colorbar\": {\"outlinewidth\": 0, \"ticks\": \"\"}}, \"type\": \"scatterternary\"}], \"surface\": [{\"colorbar\": {\"outlinewidth\": 0, \"ticks\": \"\"}, \"colorscale\": [[0.0, \"#0d0887\"], [0.1111111111111111, \"#46039f\"], [0.2222222222222222, \"#7201a8\"], [0.3333333333333333, \"#9c179e\"], [0.4444444444444444, \"#bd3786\"], [0.5555555555555556, \"#d8576b\"], [0.6666666666666666, \"#ed7953\"], [0.7777777777777778, \"#fb9f3a\"], [0.8888888888888888, \"#fdca26\"], [1.0, \"#f0f921\"]], \"type\": \"surface\"}], \"table\": [{\"cells\": {\"fill\": {\"color\": \"#EBF0F8\"}, \"line\": {\"color\": \"white\"}}, \"header\": {\"fill\": {\"color\": \"#C8D4E3\"}, \"line\": {\"color\": \"white\"}}, \"type\": \"table\"}]}, \"layout\": {\"annotationdefaults\": {\"arrowcolor\": \"#2a3f5f\", \"arrowhead\": 0, \"arrowwidth\": 1}, \"coloraxis\": {\"colorbar\": {\"outlinewidth\": 0, \"ticks\": \"\"}}, \"colorscale\": {\"diverging\": [[0, \"#8e0152\"], [0.1, \"#c51b7d\"], [0.2, \"#de77ae\"], [0.3, \"#f1b6da\"], [0.4, \"#fde0ef\"], [0.5, \"#f7f7f7\"], [0.6, \"#e6f5d0\"], [0.7, \"#b8e186\"], [0.8, \"#7fbc41\"], [0.9, \"#4d9221\"], [1, \"#276419\"]], \"sequential\": [[0.0, \"#0d0887\"], [0.1111111111111111, \"#46039f\"], [0.2222222222222222, \"#7201a8\"], [0.3333333333333333, \"#9c179e\"], [0.4444444444444444, \"#bd3786\"], [0.5555555555555556, \"#d8576b\"], [0.6666666666666666, \"#ed7953\"], [0.7777777777777778, \"#fb9f3a\"], [0.8888888888888888, \"#fdca26\"], [1.0, \"#f0f921\"]], \"sequentialminus\": [[0.0, \"#0d0887\"], [0.1111111111111111, \"#46039f\"], [0.2222222222222222, \"#7201a8\"], [0.3333333333333333, \"#9c179e\"], [0.4444444444444444, \"#bd3786\"], [0.5555555555555556, \"#d8576b\"], [0.6666666666666666, \"#ed7953\"], [0.7777777777777778, \"#fb9f3a\"], [0.8888888888888888, \"#fdca26\"], [1.0, \"#f0f921\"]]}, \"colorway\": [\"#636efa\", \"#EF553B\", \"#00cc96\", \"#ab63fa\", \"#FFA15A\", \"#19d3f3\", \"#FF6692\", \"#B6E880\", \"#FF97FF\", \"#FECB52\"], \"font\": {\"color\": \"#2a3f5f\"}, \"geo\": {\"bgcolor\": \"white\", \"lakecolor\": \"white\", \"landcolor\": \"#E5ECF6\", \"showlakes\": true, \"showland\": true, \"subunitcolor\": \"white\"}, \"hoverlabel\": {\"align\": \"left\"}, \"hovermode\": \"closest\", \"mapbox\": {\"style\": \"light\"}, \"paper_bgcolor\": \"white\", \"plot_bgcolor\": \"#E5ECF6\", \"polar\": {\"angularaxis\": {\"gridcolor\": \"white\", \"linecolor\": \"white\", \"ticks\": \"\"}, \"bgcolor\": \"#E5ECF6\", \"radialaxis\": {\"gridcolor\": \"white\", \"linecolor\": \"white\", \"ticks\": \"\"}}, \"scene\": {\"xaxis\": {\"backgroundcolor\": \"#E5ECF6\", \"gridcolor\": \"white\", \"gridwidth\": 2, \"linecolor\": \"white\", \"showbackground\": true, \"ticks\": \"\", \"zerolinecolor\": \"white\"}, \"yaxis\": {\"backgroundcolor\": \"#E5ECF6\", \"gridcolor\": \"white\", \"gridwidth\": 2, \"linecolor\": \"white\", \"showbackground\": true, \"ticks\": \"\", \"zerolinecolor\": \"white\"}, \"zaxis\": {\"backgroundcolor\": \"#E5ECF6\", \"gridcolor\": \"white\", \"gridwidth\": 2, \"linecolor\": \"white\", \"showbackground\": true, \"ticks\": \"\", \"zerolinecolor\": \"white\"}}, \"shapedefaults\": {\"line\": {\"color\": \"#2a3f5f\"}}, \"ternary\": {\"aaxis\": {\"gridcolor\": \"white\", \"linecolor\": \"white\", \"ticks\": \"\"}, \"baxis\": {\"gridcolor\": \"white\", \"linecolor\": \"white\", \"ticks\": \"\"}, \"bgcolor\": \"#E5ECF6\", \"caxis\": {\"gridcolor\": \"white\", \"linecolor\": \"white\", \"ticks\": \"\"}}, \"title\": {\"x\": 0.05}, \"xaxis\": {\"automargin\": true, \"gridcolor\": \"white\", \"linecolor\": \"white\", \"ticks\": \"\", \"title\": {\"standoff\": 15}, \"zerolinecolor\": \"white\", \"zerolinewidth\": 2}, \"yaxis\": {\"automargin\": true, \"gridcolor\": \"white\", \"linecolor\": \"white\", \"ticks\": \"\", \"title\": {\"standoff\": 15}, \"zerolinecolor\": \"white\", \"zerolinewidth\": 2}}}, \"title\": {\"text\": \"COVID-19 Death Per Country as of Mar 2020\"}},\n",
       "                        {\"responsive\": true}\n",
       "                    ).then(function(){\n",
       "                            \n",
       "var gd = document.getElementById('600ddb72-a961-4eb7-b6a3-55c7fcadb2e2');\n",
       "var x = new MutationObserver(function (mutations, observer) {{\n",
       "        var display = window.getComputedStyle(gd).display;\n",
       "        if (!display || display === 'none') {{\n",
       "            console.log([gd, 'removed!']);\n",
       "            Plotly.purge(gd);\n",
       "            observer.disconnect();\n",
       "        }}\n",
       "}});\n",
       "\n",
       "// Listen for the removal of the full notebook cells\n",
       "var notebookContainer = gd.closest('#notebook-container');\n",
       "if (notebookContainer) {{\n",
       "    x.observe(notebookContainer, {childList: true});\n",
       "}}\n",
       "\n",
       "// Listen for the clearing of the current output cell\n",
       "var outputEl = gd.closest('.output');\n",
       "if (outputEl) {{\n",
       "    x.observe(outputEl, {childList: true});\n",
       "}}\n",
       "\n",
       "                        })\n",
       "                };\n",
       "                });\n",
       "            </script>\n",
       "        </div>"
      ]
     },
     "metadata": {},
     "output_type": "display_data"
    }
   ],
   "source": [
    "iplot(map_mar)"
   ]
  },
  {
   "cell_type": "markdown",
   "metadata": {},
   "source": [
    "![March](https://user-images.githubusercontent.com/61140859/79191122-13080e80-7e50-11ea-803a-179555626f51.PNG)"
   ]
  },
  {
   "cell_type": "code",
   "execution_count": 167,
   "metadata": {},
   "outputs": [
    {
     "data": {
      "application/vnd.plotly.v1+json": {
       "config": {
        "linkText": "Export to plot.ly",
        "plotlyServerURL": "https://plot.ly",
        "showLink": false
       },
       "data": [
        {
         "colorbar": {
          "title": {
           "text": "Number of deaths"
          }
         },
         "colorscale": [
          [
           0,
           "rgb(150,0,90)"
          ],
          [
           0.125,
           "rgb(0,0,200)"
          ],
          [
           0.25,
           "rgb(0,25,255)"
          ],
          [
           0.375,
           "rgb(0,152,255)"
          ],
          [
           0.5,
           "rgb(44,255,150)"
          ],
          [
           0.625,
           "rgb(151,255,0)"
          ],
          [
           0.75,
           "rgb(255,234,0)"
          ],
          [
           0.875,
           "rgb(255,111,0)"
          ],
          [
           1,
           "rgb(255,0,0)"
          ]
         ],
         "locationmode": "country names",
         "locations": [
          "Afghanistan",
          "Albania",
          "Algeria",
          "Andorra",
          "Angola",
          "Antigua and Barbuda",
          "Argentina",
          "Armenia",
          "Australia",
          "Austria",
          "Azerbaijan",
          "Bahamas",
          "Bahrain",
          "Bangladesh",
          "Barbados",
          "Belarus",
          "Belgium",
          "Belize",
          "Benin",
          "Bhutan",
          "Bolivia",
          "Bosnia and Herzegovina",
          "Botswana",
          "Brazil",
          "Brunei",
          "Bulgaria",
          "Burkina Faso",
          "Burma",
          "Burundi",
          "Cabo Verde",
          "Cambodia",
          "Cameroon",
          "Canada",
          "Central African Republic",
          "Chad",
          "Chile",
          "China",
          "Colombia",
          "Congo (Brazzaville)",
          "Congo (Kinshasa)",
          "Costa Rica",
          "Cote d'Ivoire",
          "Croatia",
          "Cuba",
          "Cyprus",
          "Czechia",
          "Denmark",
          "Diamond Princess",
          "Djibouti",
          "Dominica",
          "Dominican Republic",
          "Ecuador",
          "Egypt",
          "El Salvador",
          "Equatorial Guinea",
          "Eritrea",
          "Estonia",
          "Eswatini",
          "Ethiopia",
          "Fiji",
          "Finland",
          "France",
          "Gabon",
          "Gambia",
          "Georgia",
          "Germany",
          "Ghana",
          "Greece",
          "Grenada",
          "Guatemala",
          "Guinea",
          "Guinea-Bissau",
          "Guyana",
          "Haiti",
          "Holy See",
          "Honduras",
          "Hungary",
          "Iceland",
          "India",
          "Indonesia",
          "Iran",
          "Iraq",
          "Ireland",
          "Israel",
          "Italy",
          "Jamaica",
          "Japan",
          "Jordan",
          "Kazakhstan",
          "Kenya",
          "Korea, South",
          "Kosovo",
          "Kuwait",
          "Kyrgyzstan",
          "Laos",
          "Latvia",
          "Lebanon",
          "Liberia",
          "Libya",
          "Liechtenstein",
          "Lithuania",
          "Luxembourg",
          "MS Zaandam",
          "Madagascar",
          "Malawi",
          "Malaysia",
          "Maldives",
          "Mali",
          "Malta",
          "Mauritania",
          "Mauritius",
          "Mexico",
          "Moldova",
          "Monaco",
          "Mongolia",
          "Montenegro",
          "Morocco",
          "Mozambique",
          "Namibia",
          "Nepal",
          "Netherlands",
          "New Zealand",
          "Nicaragua",
          "Niger",
          "Nigeria",
          "North Macedonia",
          "Norway",
          "Oman",
          "Pakistan",
          "Panama",
          "Papua New Guinea",
          "Paraguay",
          "Peru",
          "Philippines",
          "Poland",
          "Portugal",
          "Qatar",
          "Romania",
          "Russia",
          "Rwanda",
          "Saint Kitts and Nevis",
          "Saint Lucia",
          "Saint Vincent and the Grenadines",
          "San Marino",
          "Sao Tome and Principe",
          "Saudi Arabia",
          "Senegal",
          "Serbia",
          "Seychelles",
          "Sierra Leone",
          "Singapore",
          "Slovakia",
          "Slovenia",
          "Somalia",
          "South Africa",
          "South Sudan",
          "Spain",
          "Sri Lanka",
          "Sudan",
          "Suriname",
          "Sweden",
          "Switzerland",
          "Syria",
          "Taiwan*",
          "Tanzania",
          "Thailand",
          "Timor-Leste",
          "Togo",
          "Trinidad and Tobago",
          "Tunisia",
          "Turkey",
          "US",
          "Uganda",
          "Ukraine",
          "United Arab Emirates",
          "United Kingdom",
          "Uruguay",
          "Uzbekistan",
          "Venezuela",
          "Vietnam",
          "West Bank and Gaza",
          "Western Sahara",
          "Yemen",
          "Zambia",
          "Zimbabwe"
         ],
         "marker": {
          "line": {
           "color": "rgb(0,0,0)",
           "width": 0.8
          }
         },
         "text": [
          "Afghanistan<br>Confirmed 665 Deaths 21",
          "Albania<br>Confirmed 467 Deaths 23",
          "Algeria<br>Confirmed 1983 Deaths 313",
          "Andorra<br>Confirmed 646 Deaths 29",
          "Angola<br>Confirmed 19 Deaths 2",
          "Antigua and Barbuda<br>Confirmed 23 Deaths 2",
          "Argentina<br>Confirmed 2208 Deaths 97",
          "Armenia<br>Confirmed 1039 Deaths 14",
          "Australia<br>Confirmed 6351 Deaths 61",
          "Austria<br>Confirmed 14041 Deaths 368",
          "Azerbaijan<br>Confirmed 1148 Deaths 12",
          "Bahamas<br>Confirmed 47 Deaths 8",
          "Bahrain<br>Confirmed 1361 Deaths 6",
          "Bangladesh<br>Confirmed 803 Deaths 39",
          "Barbados<br>Confirmed 72 Deaths 4",
          "Belarus<br>Confirmed 2919 Deaths 29",
          "Belgium<br>Confirmed 30589 Deaths 3903",
          "Belize<br>Confirmed 18 Deaths 2",
          "Benin<br>Confirmed 35 Deaths 1",
          "Bhutan<br>Confirmed 5 Deaths 0",
          "Bolivia<br>Confirmed 330 Deaths 27",
          "Bosnia and Herzegovina<br>Confirmed 1037 Deaths 39",
          "Botswana<br>Confirmed 13 Deaths 1",
          "Brazil<br>Confirmed 23430 Deaths 1328",
          "Brunei<br>Confirmed 136 Deaths 1",
          "Bulgaria<br>Confirmed 685 Deaths 32",
          "Burkina Faso<br>Confirmed 497 Deaths 27",
          "Burma<br>Confirmed 62 Deaths 4",
          "Burundi<br>Confirmed 5 Deaths 1",
          "Cabo Verde<br>Confirmed 10 Deaths 1",
          "Cambodia<br>Confirmed 122 Deaths 0",
          "Cameroon<br>Confirmed 820 Deaths 12",
          "Canada<br>Confirmed 25679 Deaths 779",
          "Central African Republic<br>Confirmed 11 Deaths 0",
          "Chad<br>Confirmed 23 Deaths 0",
          "Chile<br>Confirmed 7525 Deaths 82",
          "China<br>Confirmed 83213 Deaths 3345",
          "Colombia<br>Confirmed 2852 Deaths 112",
          "Congo (Brazzaville)<br>Confirmed 60 Deaths 5",
          "Congo (Kinshasa)<br>Confirmed 235 Deaths 20",
          "Costa Rica<br>Confirmed 612 Deaths 3",
          "Cote d'Ivoire<br>Confirmed 626 Deaths 6",
          "Croatia<br>Confirmed 1650 Deaths 25",
          "Cuba<br>Confirmed 726 Deaths 21",
          "Cyprus<br>Confirmed 662 Deaths 12",
          "Czechia<br>Confirmed 6059 Deaths 143",
          "Denmark<br>Confirmed 6513 Deaths 285",
          "Diamond Princess<br>Confirmed 712 Deaths 11",
          "Djibouti<br>Confirmed 298 Deaths 2",
          "Dominica<br>Confirmed 16 Deaths 0",
          "Dominican Republic<br>Confirmed 3167 Deaths 177",
          "Ecuador<br>Confirmed 7529 Deaths 355",
          "Egypt<br>Confirmed 2190 Deaths 164",
          "El Salvador<br>Confirmed 137 Deaths 6",
          "Equatorial Guinea<br>Confirmed 21 Deaths 0",
          "Eritrea<br>Confirmed 34 Deaths 0",
          "Estonia<br>Confirmed 1332 Deaths 28",
          "Eswatini<br>Confirmed 15 Deaths 0",
          "Ethiopia<br>Confirmed 74 Deaths 3",
          "Fiji<br>Confirmed 16 Deaths 0",
          "Finland<br>Confirmed 3064 Deaths 59",
          "France<br>Confirmed 137875 Deaths 14986",
          "Gabon<br>Confirmed 57 Deaths 1",
          "Gambia<br>Confirmed 9 Deaths 1",
          "Georgia<br>Confirmed 272 Deaths 3",
          "Germany<br>Confirmed 130072 Deaths 3194",
          "Ghana<br>Confirmed 566 Deaths 8",
          "Greece<br>Confirmed 2145 Deaths 99",
          "Grenada<br>Confirmed 14 Deaths 0",
          "Guatemala<br>Confirmed 156 Deaths 5",
          "Guinea<br>Confirmed 319 Deaths 0",
          "Guinea-Bissau<br>Confirmed 38 Deaths 0",
          "Guyana<br>Confirmed 45 Deaths 6",
          "Haiti<br>Confirmed 40 Deaths 3",
          "Holy See<br>Confirmed 8 Deaths 0",
          "Honduras<br>Confirmed 397 Deaths 25",
          "Hungary<br>Confirmed 1458 Deaths 109",
          "Iceland<br>Confirmed 1711 Deaths 8",
          "India<br>Confirmed 10453 Deaths 358",
          "Indonesia<br>Confirmed 4557 Deaths 399",
          "Iran<br>Confirmed 73303 Deaths 4585",
          "Iraq<br>Confirmed 1378 Deaths 78",
          "Ireland<br>Confirmed 10647 Deaths 365",
          "Israel<br>Confirmed 11586 Deaths 116",
          "Italy<br>Confirmed 159516 Deaths 20465",
          "Jamaica<br>Confirmed 73 Deaths 4",
          "Japan<br>Confirmed 7370 Deaths 123",
          "Jordan<br>Confirmed 391 Deaths 7",
          "Kazakhstan<br>Confirmed 1091 Deaths 12",
          "Kenya<br>Confirmed 208 Deaths 9",
          "Korea, South<br>Confirmed 10537 Deaths 217",
          "Kosovo<br>Confirmed 283 Deaths 7",
          "Kuwait<br>Confirmed 1300 Deaths 2",
          "Kyrgyzstan<br>Confirmed 419 Deaths 5",
          "Laos<br>Confirmed 19 Deaths 0",
          "Latvia<br>Confirmed 655 Deaths 5",
          "Lebanon<br>Confirmed 632 Deaths 20",
          "Liberia<br>Confirmed 59 Deaths 6",
          "Libya<br>Confirmed 26 Deaths 1",
          "Liechtenstein<br>Confirmed 79 Deaths 1",
          "Lithuania<br>Confirmed 1062 Deaths 24",
          "Luxembourg<br>Confirmed 3292 Deaths 69",
          "MS Zaandam<br>Confirmed 9 Deaths 2",
          "Madagascar<br>Confirmed 106 Deaths 0",
          "Malawi<br>Confirmed 16 Deaths 2",
          "Malaysia<br>Confirmed 4817 Deaths 77",
          "Maldives<br>Confirmed 20 Deaths 0",
          "Mali<br>Confirmed 123 Deaths 10",
          "Malta<br>Confirmed 384 Deaths 3",
          "Mauritania<br>Confirmed 7 Deaths 1",
          "Mauritius<br>Confirmed 324 Deaths 9",
          "Mexico<br>Confirmed 4661 Deaths 296",
          "Moldova<br>Confirmed 1712 Deaths 35",
          "Monaco<br>Confirmed 93 Deaths 1",
          "Mongolia<br>Confirmed 17 Deaths 0",
          "Montenegro<br>Confirmed 274 Deaths 3",
          "Morocco<br>Confirmed 1763 Deaths 126",
          "Mozambique<br>Confirmed 21 Deaths 0",
          "Namibia<br>Confirmed 16 Deaths 0",
          "Nepal<br>Confirmed 14 Deaths 0",
          "Netherlands<br>Confirmed 26710 Deaths 2833",
          "New Zealand<br>Confirmed 1349 Deaths 5",
          "Nicaragua<br>Confirmed 9 Deaths 1",
          "Niger<br>Confirmed 529 Deaths 12",
          "Nigeria<br>Confirmed 343 Deaths 10",
          "North Macedonia<br>Confirmed 854 Deaths 38",
          "Norway<br>Confirmed 6603 Deaths 134",
          "Oman<br>Confirmed 727 Deaths 4",
          "Pakistan<br>Confirmed 5496 Deaths 93",
          "Panama<br>Confirmed 3400 Deaths 87",
          "Papua New Guinea<br>Confirmed 2 Deaths 0",
          "Paraguay<br>Confirmed 147 Deaths 6",
          "Peru<br>Confirmed 9784 Deaths 216",
          "Philippines<br>Confirmed 4932 Deaths 315",
          "Poland<br>Confirmed 6934 Deaths 245",
          "Portugal<br>Confirmed 16934 Deaths 535",
          "Qatar<br>Confirmed 3231 Deaths 7",
          "Romania<br>Confirmed 6633 Deaths 331",
          "Russia<br>Confirmed 18328 Deaths 148",
          "Rwanda<br>Confirmed 127 Deaths 0",
          "Saint Kitts and Nevis<br>Confirmed 12 Deaths 0",
          "Saint Lucia<br>Confirmed 15 Deaths 0",
          "Saint Vincent and the Grenadines<br>Confirmed 12 Deaths 0",
          "San Marino<br>Confirmed 356 Deaths 35",
          "Sao Tome and Principe<br>Confirmed 4 Deaths 0",
          "Saudi Arabia<br>Confirmed 4934 Deaths 65",
          "Senegal<br>Confirmed 291 Deaths 2",
          "Serbia<br>Confirmed 4054 Deaths 85",
          "Seychelles<br>Confirmed 11 Deaths 0",
          "Sierra Leone<br>Confirmed 10 Deaths 0",
          "Singapore<br>Confirmed 2918 Deaths 9",
          "Slovakia<br>Confirmed 769 Deaths 2",
          "Slovenia<br>Confirmed 1212 Deaths 55",
          "Somalia<br>Confirmed 60 Deaths 2",
          "South Africa<br>Confirmed 2272 Deaths 27",
          "South Sudan<br>Confirmed 4 Deaths 0",
          "Spain<br>Confirmed 170099 Deaths 17756",
          "Sri Lanka<br>Confirmed 217 Deaths 7",
          "Sudan<br>Confirmed 29 Deaths 4",
          "Suriname<br>Confirmed 10 Deaths 1",
          "Sweden<br>Confirmed 10948 Deaths 919",
          "Switzerland<br>Confirmed 25688 Deaths 1138",
          "Syria<br>Confirmed 25 Deaths 2",
          "Taiwan*<br>Confirmed 393 Deaths 6",
          "Tanzania<br>Confirmed 49 Deaths 3",
          "Thailand<br>Confirmed 2579 Deaths 40",
          "Timor-Leste<br>Confirmed 4 Deaths 0",
          "Togo<br>Confirmed 77 Deaths 3",
          "Trinidad and Tobago<br>Confirmed 113 Deaths 8",
          "Tunisia<br>Confirmed 726 Deaths 34",
          "Turkey<br>Confirmed 61049 Deaths 1296",
          "US<br>Confirmed 682619 Deaths 23529",
          "Uganda<br>Confirmed 54 Deaths 0",
          "Ukraine<br>Confirmed 3102 Deaths 93",
          "United Arab Emirates<br>Confirmed 4521 Deaths 25",
          "United Kingdom<br>Confirmed 89570 Deaths 11347",
          "Uruguay<br>Confirmed 480 Deaths 8",
          "Uzbekistan<br>Confirmed 998 Deaths 4",
          "Venezuela<br>Confirmed 189 Deaths 9",
          "Vietnam<br>Confirmed 265 Deaths 0",
          "West Bank and Gaza<br>Confirmed 308 Deaths 2",
          "Western Sahara<br>Confirmed 6 Deaths 0",
          "Yemen<br>Confirmed 1 Deaths 0",
          "Zambia<br>Confirmed 45 Deaths 2",
          "Zimbabwe<br>Confirmed 17 Deaths 3"
         ],
         "type": "choropleth",
         "z": [
          "21",
          "23",
          "313",
          "29",
          "2",
          "2",
          "97",
          "14",
          "61",
          "368",
          "12",
          "8",
          "6",
          "39",
          "4",
          "29",
          "3903",
          "2",
          "1",
          "0",
          "27",
          "39",
          "1",
          "1328",
          "1",
          "32",
          "27",
          "4",
          "1",
          "1",
          "0",
          "12",
          "779",
          "0",
          "0",
          "82",
          "3345",
          "112",
          "5",
          "20",
          "3",
          "6",
          "25",
          "21",
          "12",
          "143",
          "285",
          "11",
          "2",
          "0",
          "177",
          "355",
          "164",
          "6",
          "0",
          "0",
          "28",
          "0",
          "3",
          "0",
          "59",
          "14986",
          "1",
          "1",
          "3",
          "3194",
          "8",
          "99",
          "0",
          "5",
          "0",
          "0",
          "6",
          "3",
          "0",
          "25",
          "109",
          "8",
          "358",
          "399",
          "4585",
          "78",
          "365",
          "116",
          "20465",
          "4",
          "123",
          "7",
          "12",
          "9",
          "217",
          "7",
          "2",
          "5",
          "0",
          "5",
          "20",
          "6",
          "1",
          "1",
          "24",
          "69",
          "2",
          "0",
          "2",
          "77",
          "0",
          "10",
          "3",
          "1",
          "9",
          "296",
          "35",
          "1",
          "0",
          "3",
          "126",
          "0",
          "0",
          "0",
          "2833",
          "5",
          "1",
          "12",
          "10",
          "38",
          "134",
          "4",
          "93",
          "87",
          "0",
          "6",
          "216",
          "315",
          "245",
          "535",
          "7",
          "331",
          "148",
          "0",
          "0",
          "0",
          "0",
          "35",
          "0",
          "65",
          "2",
          "85",
          "0",
          "0",
          "9",
          "2",
          "55",
          "2",
          "27",
          "0",
          "17756",
          "7",
          "4",
          "1",
          "919",
          "1138",
          "2",
          "6",
          "3",
          "40",
          "0",
          "3",
          "8",
          "34",
          "1296",
          "23529",
          "0",
          "93",
          "25",
          "11347",
          "8",
          "4",
          "9",
          "0",
          "2",
          "0",
          "0",
          "2",
          "3"
         ]
        }
       ],
       "layout": {
        "geo": {
         "lakecolor": "rgb(85,173,240)",
         "scope": "world",
         "showlakes": true
        },
        "template": {
         "data": {
          "bar": [
           {
            "error_x": {
             "color": "#2a3f5f"
            },
            "error_y": {
             "color": "#2a3f5f"
            },
            "marker": {
             "line": {
              "color": "#E5ECF6",
              "width": 0.5
             }
            },
            "type": "bar"
           }
          ],
          "barpolar": [
           {
            "marker": {
             "line": {
              "color": "#E5ECF6",
              "width": 0.5
             }
            },
            "type": "barpolar"
           }
          ],
          "carpet": [
           {
            "aaxis": {
             "endlinecolor": "#2a3f5f",
             "gridcolor": "white",
             "linecolor": "white",
             "minorgridcolor": "white",
             "startlinecolor": "#2a3f5f"
            },
            "baxis": {
             "endlinecolor": "#2a3f5f",
             "gridcolor": "white",
             "linecolor": "white",
             "minorgridcolor": "white",
             "startlinecolor": "#2a3f5f"
            },
            "type": "carpet"
           }
          ],
          "choropleth": [
           {
            "colorbar": {
             "outlinewidth": 0,
             "ticks": ""
            },
            "type": "choropleth"
           }
          ],
          "contour": [
           {
            "colorbar": {
             "outlinewidth": 0,
             "ticks": ""
            },
            "colorscale": [
             [
              0,
              "#0d0887"
             ],
             [
              0.1111111111111111,
              "#46039f"
             ],
             [
              0.2222222222222222,
              "#7201a8"
             ],
             [
              0.3333333333333333,
              "#9c179e"
             ],
             [
              0.4444444444444444,
              "#bd3786"
             ],
             [
              0.5555555555555556,
              "#d8576b"
             ],
             [
              0.6666666666666666,
              "#ed7953"
             ],
             [
              0.7777777777777778,
              "#fb9f3a"
             ],
             [
              0.8888888888888888,
              "#fdca26"
             ],
             [
              1,
              "#f0f921"
             ]
            ],
            "type": "contour"
           }
          ],
          "contourcarpet": [
           {
            "colorbar": {
             "outlinewidth": 0,
             "ticks": ""
            },
            "type": "contourcarpet"
           }
          ],
          "heatmap": [
           {
            "colorbar": {
             "outlinewidth": 0,
             "ticks": ""
            },
            "colorscale": [
             [
              0,
              "#0d0887"
             ],
             [
              0.1111111111111111,
              "#46039f"
             ],
             [
              0.2222222222222222,
              "#7201a8"
             ],
             [
              0.3333333333333333,
              "#9c179e"
             ],
             [
              0.4444444444444444,
              "#bd3786"
             ],
             [
              0.5555555555555556,
              "#d8576b"
             ],
             [
              0.6666666666666666,
              "#ed7953"
             ],
             [
              0.7777777777777778,
              "#fb9f3a"
             ],
             [
              0.8888888888888888,
              "#fdca26"
             ],
             [
              1,
              "#f0f921"
             ]
            ],
            "type": "heatmap"
           }
          ],
          "heatmapgl": [
           {
            "colorbar": {
             "outlinewidth": 0,
             "ticks": ""
            },
            "colorscale": [
             [
              0,
              "#0d0887"
             ],
             [
              0.1111111111111111,
              "#46039f"
             ],
             [
              0.2222222222222222,
              "#7201a8"
             ],
             [
              0.3333333333333333,
              "#9c179e"
             ],
             [
              0.4444444444444444,
              "#bd3786"
             ],
             [
              0.5555555555555556,
              "#d8576b"
             ],
             [
              0.6666666666666666,
              "#ed7953"
             ],
             [
              0.7777777777777778,
              "#fb9f3a"
             ],
             [
              0.8888888888888888,
              "#fdca26"
             ],
             [
              1,
              "#f0f921"
             ]
            ],
            "type": "heatmapgl"
           }
          ],
          "histogram": [
           {
            "marker": {
             "colorbar": {
              "outlinewidth": 0,
              "ticks": ""
             }
            },
            "type": "histogram"
           }
          ],
          "histogram2d": [
           {
            "colorbar": {
             "outlinewidth": 0,
             "ticks": ""
            },
            "colorscale": [
             [
              0,
              "#0d0887"
             ],
             [
              0.1111111111111111,
              "#46039f"
             ],
             [
              0.2222222222222222,
              "#7201a8"
             ],
             [
              0.3333333333333333,
              "#9c179e"
             ],
             [
              0.4444444444444444,
              "#bd3786"
             ],
             [
              0.5555555555555556,
              "#d8576b"
             ],
             [
              0.6666666666666666,
              "#ed7953"
             ],
             [
              0.7777777777777778,
              "#fb9f3a"
             ],
             [
              0.8888888888888888,
              "#fdca26"
             ],
             [
              1,
              "#f0f921"
             ]
            ],
            "type": "histogram2d"
           }
          ],
          "histogram2dcontour": [
           {
            "colorbar": {
             "outlinewidth": 0,
             "ticks": ""
            },
            "colorscale": [
             [
              0,
              "#0d0887"
             ],
             [
              0.1111111111111111,
              "#46039f"
             ],
             [
              0.2222222222222222,
              "#7201a8"
             ],
             [
              0.3333333333333333,
              "#9c179e"
             ],
             [
              0.4444444444444444,
              "#bd3786"
             ],
             [
              0.5555555555555556,
              "#d8576b"
             ],
             [
              0.6666666666666666,
              "#ed7953"
             ],
             [
              0.7777777777777778,
              "#fb9f3a"
             ],
             [
              0.8888888888888888,
              "#fdca26"
             ],
             [
              1,
              "#f0f921"
             ]
            ],
            "type": "histogram2dcontour"
           }
          ],
          "mesh3d": [
           {
            "colorbar": {
             "outlinewidth": 0,
             "ticks": ""
            },
            "type": "mesh3d"
           }
          ],
          "parcoords": [
           {
            "line": {
             "colorbar": {
              "outlinewidth": 0,
              "ticks": ""
             }
            },
            "type": "parcoords"
           }
          ],
          "pie": [
           {
            "automargin": true,
            "type": "pie"
           }
          ],
          "scatter": [
           {
            "marker": {
             "colorbar": {
              "outlinewidth": 0,
              "ticks": ""
             }
            },
            "type": "scatter"
           }
          ],
          "scatter3d": [
           {
            "line": {
             "colorbar": {
              "outlinewidth": 0,
              "ticks": ""
             }
            },
            "marker": {
             "colorbar": {
              "outlinewidth": 0,
              "ticks": ""
             }
            },
            "type": "scatter3d"
           }
          ],
          "scattercarpet": [
           {
            "marker": {
             "colorbar": {
              "outlinewidth": 0,
              "ticks": ""
             }
            },
            "type": "scattercarpet"
           }
          ],
          "scattergeo": [
           {
            "marker": {
             "colorbar": {
              "outlinewidth": 0,
              "ticks": ""
             }
            },
            "type": "scattergeo"
           }
          ],
          "scattergl": [
           {
            "marker": {
             "colorbar": {
              "outlinewidth": 0,
              "ticks": ""
             }
            },
            "type": "scattergl"
           }
          ],
          "scattermapbox": [
           {
            "marker": {
             "colorbar": {
              "outlinewidth": 0,
              "ticks": ""
             }
            },
            "type": "scattermapbox"
           }
          ],
          "scatterpolar": [
           {
            "marker": {
             "colorbar": {
              "outlinewidth": 0,
              "ticks": ""
             }
            },
            "type": "scatterpolar"
           }
          ],
          "scatterpolargl": [
           {
            "marker": {
             "colorbar": {
              "outlinewidth": 0,
              "ticks": ""
             }
            },
            "type": "scatterpolargl"
           }
          ],
          "scatterternary": [
           {
            "marker": {
             "colorbar": {
              "outlinewidth": 0,
              "ticks": ""
             }
            },
            "type": "scatterternary"
           }
          ],
          "surface": [
           {
            "colorbar": {
             "outlinewidth": 0,
             "ticks": ""
            },
            "colorscale": [
             [
              0,
              "#0d0887"
             ],
             [
              0.1111111111111111,
              "#46039f"
             ],
             [
              0.2222222222222222,
              "#7201a8"
             ],
             [
              0.3333333333333333,
              "#9c179e"
             ],
             [
              0.4444444444444444,
              "#bd3786"
             ],
             [
              0.5555555555555556,
              "#d8576b"
             ],
             [
              0.6666666666666666,
              "#ed7953"
             ],
             [
              0.7777777777777778,
              "#fb9f3a"
             ],
             [
              0.8888888888888888,
              "#fdca26"
             ],
             [
              1,
              "#f0f921"
             ]
            ],
            "type": "surface"
           }
          ],
          "table": [
           {
            "cells": {
             "fill": {
              "color": "#EBF0F8"
             },
             "line": {
              "color": "white"
             }
            },
            "header": {
             "fill": {
              "color": "#C8D4E3"
             },
             "line": {
              "color": "white"
             }
            },
            "type": "table"
           }
          ]
         },
         "layout": {
          "annotationdefaults": {
           "arrowcolor": "#2a3f5f",
           "arrowhead": 0,
           "arrowwidth": 1
          },
          "coloraxis": {
           "colorbar": {
            "outlinewidth": 0,
            "ticks": ""
           }
          },
          "colorscale": {
           "diverging": [
            [
             0,
             "#8e0152"
            ],
            [
             0.1,
             "#c51b7d"
            ],
            [
             0.2,
             "#de77ae"
            ],
            [
             0.3,
             "#f1b6da"
            ],
            [
             0.4,
             "#fde0ef"
            ],
            [
             0.5,
             "#f7f7f7"
            ],
            [
             0.6,
             "#e6f5d0"
            ],
            [
             0.7,
             "#b8e186"
            ],
            [
             0.8,
             "#7fbc41"
            ],
            [
             0.9,
             "#4d9221"
            ],
            [
             1,
             "#276419"
            ]
           ],
           "sequential": [
            [
             0,
             "#0d0887"
            ],
            [
             0.1111111111111111,
             "#46039f"
            ],
            [
             0.2222222222222222,
             "#7201a8"
            ],
            [
             0.3333333333333333,
             "#9c179e"
            ],
            [
             0.4444444444444444,
             "#bd3786"
            ],
            [
             0.5555555555555556,
             "#d8576b"
            ],
            [
             0.6666666666666666,
             "#ed7953"
            ],
            [
             0.7777777777777778,
             "#fb9f3a"
            ],
            [
             0.8888888888888888,
             "#fdca26"
            ],
            [
             1,
             "#f0f921"
            ]
           ],
           "sequentialminus": [
            [
             0,
             "#0d0887"
            ],
            [
             0.1111111111111111,
             "#46039f"
            ],
            [
             0.2222222222222222,
             "#7201a8"
            ],
            [
             0.3333333333333333,
             "#9c179e"
            ],
            [
             0.4444444444444444,
             "#bd3786"
            ],
            [
             0.5555555555555556,
             "#d8576b"
            ],
            [
             0.6666666666666666,
             "#ed7953"
            ],
            [
             0.7777777777777778,
             "#fb9f3a"
            ],
            [
             0.8888888888888888,
             "#fdca26"
            ],
            [
             1,
             "#f0f921"
            ]
           ]
          },
          "colorway": [
           "#636efa",
           "#EF553B",
           "#00cc96",
           "#ab63fa",
           "#FFA15A",
           "#19d3f3",
           "#FF6692",
           "#B6E880",
           "#FF97FF",
           "#FECB52"
          ],
          "font": {
           "color": "#2a3f5f"
          },
          "geo": {
           "bgcolor": "white",
           "lakecolor": "white",
           "landcolor": "#E5ECF6",
           "showlakes": true,
           "showland": true,
           "subunitcolor": "white"
          },
          "hoverlabel": {
           "align": "left"
          },
          "hovermode": "closest",
          "mapbox": {
           "style": "light"
          },
          "paper_bgcolor": "white",
          "plot_bgcolor": "#E5ECF6",
          "polar": {
           "angularaxis": {
            "gridcolor": "white",
            "linecolor": "white",
            "ticks": ""
           },
           "bgcolor": "#E5ECF6",
           "radialaxis": {
            "gridcolor": "white",
            "linecolor": "white",
            "ticks": ""
           }
          },
          "scene": {
           "xaxis": {
            "backgroundcolor": "#E5ECF6",
            "gridcolor": "white",
            "gridwidth": 2,
            "linecolor": "white",
            "showbackground": true,
            "ticks": "",
            "zerolinecolor": "white"
           },
           "yaxis": {
            "backgroundcolor": "#E5ECF6",
            "gridcolor": "white",
            "gridwidth": 2,
            "linecolor": "white",
            "showbackground": true,
            "ticks": "",
            "zerolinecolor": "white"
           },
           "zaxis": {
            "backgroundcolor": "#E5ECF6",
            "gridcolor": "white",
            "gridwidth": 2,
            "linecolor": "white",
            "showbackground": true,
            "ticks": "",
            "zerolinecolor": "white"
           }
          },
          "shapedefaults": {
           "line": {
            "color": "#2a3f5f"
           }
          },
          "ternary": {
           "aaxis": {
            "gridcolor": "white",
            "linecolor": "white",
            "ticks": ""
           },
           "baxis": {
            "gridcolor": "white",
            "linecolor": "white",
            "ticks": ""
           },
           "bgcolor": "#E5ECF6",
           "caxis": {
            "gridcolor": "white",
            "linecolor": "white",
            "ticks": ""
           }
          },
          "title": {
           "x": 0.05
          },
          "xaxis": {
           "automargin": true,
           "gridcolor": "white",
           "linecolor": "white",
           "ticks": "",
           "title": {
            "standoff": 15
           },
           "zerolinecolor": "white",
           "zerolinewidth": 2
          },
          "yaxis": {
           "automargin": true,
           "gridcolor": "white",
           "linecolor": "white",
           "ticks": "",
           "title": {
            "standoff": 15
           },
           "zerolinecolor": "white",
           "zerolinewidth": 2
          }
         }
        },
        "title": {
         "text": "COVID-19 Death Per Country as of Apr 2020"
        }
       }
      },
      "text/html": [
       "<div>\n",
       "        \n",
       "        \n",
       "            <div id=\"b76b34e7-c50e-4159-98f1-c02269efdb76\" class=\"plotly-graph-div\" style=\"height:525px; width:100%;\"></div>\n",
       "            <script type=\"text/javascript\">\n",
       "                require([\"plotly\"], function(Plotly) {\n",
       "                    window.PLOTLYENV=window.PLOTLYENV || {};\n",
       "                    \n",
       "                if (document.getElementById(\"b76b34e7-c50e-4159-98f1-c02269efdb76\")) {\n",
       "                    Plotly.newPlot(\n",
       "                        'b76b34e7-c50e-4159-98f1-c02269efdb76',\n",
       "                        [{\"colorbar\": {\"title\": {\"text\": \"Number of deaths\"}}, \"colorscale\": [[0.0, \"rgb(150,0,90)\"], [0.125, \"rgb(0,0,200)\"], [0.25, \"rgb(0,25,255)\"], [0.375, \"rgb(0,152,255)\"], [0.5, \"rgb(44,255,150)\"], [0.625, \"rgb(151,255,0)\"], [0.75, \"rgb(255,234,0)\"], [0.875, \"rgb(255,111,0)\"], [1.0, \"rgb(255,0,0)\"]], \"locationmode\": \"country names\", \"locations\": [\"Afghanistan\", \"Albania\", \"Algeria\", \"Andorra\", \"Angola\", \"Antigua and Barbuda\", \"Argentina\", \"Armenia\", \"Australia\", \"Austria\", \"Azerbaijan\", \"Bahamas\", \"Bahrain\", \"Bangladesh\", \"Barbados\", \"Belarus\", \"Belgium\", \"Belize\", \"Benin\", \"Bhutan\", \"Bolivia\", \"Bosnia and Herzegovina\", \"Botswana\", \"Brazil\", \"Brunei\", \"Bulgaria\", \"Burkina Faso\", \"Burma\", \"Burundi\", \"Cabo Verde\", \"Cambodia\", \"Cameroon\", \"Canada\", \"Central African Republic\", \"Chad\", \"Chile\", \"China\", \"Colombia\", \"Congo (Brazzaville)\", \"Congo (Kinshasa)\", \"Costa Rica\", \"Cote d'Ivoire\", \"Croatia\", \"Cuba\", \"Cyprus\", \"Czechia\", \"Denmark\", \"Diamond Princess\", \"Djibouti\", \"Dominica\", \"Dominican Republic\", \"Ecuador\", \"Egypt\", \"El Salvador\", \"Equatorial Guinea\", \"Eritrea\", \"Estonia\", \"Eswatini\", \"Ethiopia\", \"Fiji\", \"Finland\", \"France\", \"Gabon\", \"Gambia\", \"Georgia\", \"Germany\", \"Ghana\", \"Greece\", \"Grenada\", \"Guatemala\", \"Guinea\", \"Guinea-Bissau\", \"Guyana\", \"Haiti\", \"Holy See\", \"Honduras\", \"Hungary\", \"Iceland\", \"India\", \"Indonesia\", \"Iran\", \"Iraq\", \"Ireland\", \"Israel\", \"Italy\", \"Jamaica\", \"Japan\", \"Jordan\", \"Kazakhstan\", \"Kenya\", \"Korea, South\", \"Kosovo\", \"Kuwait\", \"Kyrgyzstan\", \"Laos\", \"Latvia\", \"Lebanon\", \"Liberia\", \"Libya\", \"Liechtenstein\", \"Lithuania\", \"Luxembourg\", \"MS Zaandam\", \"Madagascar\", \"Malawi\", \"Malaysia\", \"Maldives\", \"Mali\", \"Malta\", \"Mauritania\", \"Mauritius\", \"Mexico\", \"Moldova\", \"Monaco\", \"Mongolia\", \"Montenegro\", \"Morocco\", \"Mozambique\", \"Namibia\", \"Nepal\", \"Netherlands\", \"New Zealand\", \"Nicaragua\", \"Niger\", \"Nigeria\", \"North Macedonia\", \"Norway\", \"Oman\", \"Pakistan\", \"Panama\", \"Papua New Guinea\", \"Paraguay\", \"Peru\", \"Philippines\", \"Poland\", \"Portugal\", \"Qatar\", \"Romania\", \"Russia\", \"Rwanda\", \"Saint Kitts and Nevis\", \"Saint Lucia\", \"Saint Vincent and the Grenadines\", \"San Marino\", \"Sao Tome and Principe\", \"Saudi Arabia\", \"Senegal\", \"Serbia\", \"Seychelles\", \"Sierra Leone\", \"Singapore\", \"Slovakia\", \"Slovenia\", \"Somalia\", \"South Africa\", \"South Sudan\", \"Spain\", \"Sri Lanka\", \"Sudan\", \"Suriname\", \"Sweden\", \"Switzerland\", \"Syria\", \"Taiwan*\", \"Tanzania\", \"Thailand\", \"Timor-Leste\", \"Togo\", \"Trinidad and Tobago\", \"Tunisia\", \"Turkey\", \"US\", \"Uganda\", \"Ukraine\", \"United Arab Emirates\", \"United Kingdom\", \"Uruguay\", \"Uzbekistan\", \"Venezuela\", \"Vietnam\", \"West Bank and Gaza\", \"Western Sahara\", \"Yemen\", \"Zambia\", \"Zimbabwe\"], \"marker\": {\"line\": {\"color\": \"rgb(0,0,0)\", \"width\": 0.8}}, \"text\": [\"Afghanistan<br>Confirmed 665 Deaths 21\", \"Albania<br>Confirmed 467 Deaths 23\", \"Algeria<br>Confirmed 1983 Deaths 313\", \"Andorra<br>Confirmed 646 Deaths 29\", \"Angola<br>Confirmed 19 Deaths 2\", \"Antigua and Barbuda<br>Confirmed 23 Deaths 2\", \"Argentina<br>Confirmed 2208 Deaths 97\", \"Armenia<br>Confirmed 1039 Deaths 14\", \"Australia<br>Confirmed 6351 Deaths 61\", \"Austria<br>Confirmed 14041 Deaths 368\", \"Azerbaijan<br>Confirmed 1148 Deaths 12\", \"Bahamas<br>Confirmed 47 Deaths 8\", \"Bahrain<br>Confirmed 1361 Deaths 6\", \"Bangladesh<br>Confirmed 803 Deaths 39\", \"Barbados<br>Confirmed 72 Deaths 4\", \"Belarus<br>Confirmed 2919 Deaths 29\", \"Belgium<br>Confirmed 30589 Deaths 3903\", \"Belize<br>Confirmed 18 Deaths 2\", \"Benin<br>Confirmed 35 Deaths 1\", \"Bhutan<br>Confirmed 5 Deaths 0\", \"Bolivia<br>Confirmed 330 Deaths 27\", \"Bosnia and Herzegovina<br>Confirmed 1037 Deaths 39\", \"Botswana<br>Confirmed 13 Deaths 1\", \"Brazil<br>Confirmed 23430 Deaths 1328\", \"Brunei<br>Confirmed 136 Deaths 1\", \"Bulgaria<br>Confirmed 685 Deaths 32\", \"Burkina Faso<br>Confirmed 497 Deaths 27\", \"Burma<br>Confirmed 62 Deaths 4\", \"Burundi<br>Confirmed 5 Deaths 1\", \"Cabo Verde<br>Confirmed 10 Deaths 1\", \"Cambodia<br>Confirmed 122 Deaths 0\", \"Cameroon<br>Confirmed 820 Deaths 12\", \"Canada<br>Confirmed 25679 Deaths 779\", \"Central African Republic<br>Confirmed 11 Deaths 0\", \"Chad<br>Confirmed 23 Deaths 0\", \"Chile<br>Confirmed 7525 Deaths 82\", \"China<br>Confirmed 83213 Deaths 3345\", \"Colombia<br>Confirmed 2852 Deaths 112\", \"Congo (Brazzaville)<br>Confirmed 60 Deaths 5\", \"Congo (Kinshasa)<br>Confirmed 235 Deaths 20\", \"Costa Rica<br>Confirmed 612 Deaths 3\", \"Cote d'Ivoire<br>Confirmed 626 Deaths 6\", \"Croatia<br>Confirmed 1650 Deaths 25\", \"Cuba<br>Confirmed 726 Deaths 21\", \"Cyprus<br>Confirmed 662 Deaths 12\", \"Czechia<br>Confirmed 6059 Deaths 143\", \"Denmark<br>Confirmed 6513 Deaths 285\", \"Diamond Princess<br>Confirmed 712 Deaths 11\", \"Djibouti<br>Confirmed 298 Deaths 2\", \"Dominica<br>Confirmed 16 Deaths 0\", \"Dominican Republic<br>Confirmed 3167 Deaths 177\", \"Ecuador<br>Confirmed 7529 Deaths 355\", \"Egypt<br>Confirmed 2190 Deaths 164\", \"El Salvador<br>Confirmed 137 Deaths 6\", \"Equatorial Guinea<br>Confirmed 21 Deaths 0\", \"Eritrea<br>Confirmed 34 Deaths 0\", \"Estonia<br>Confirmed 1332 Deaths 28\", \"Eswatini<br>Confirmed 15 Deaths 0\", \"Ethiopia<br>Confirmed 74 Deaths 3\", \"Fiji<br>Confirmed 16 Deaths 0\", \"Finland<br>Confirmed 3064 Deaths 59\", \"France<br>Confirmed 137875 Deaths 14986\", \"Gabon<br>Confirmed 57 Deaths 1\", \"Gambia<br>Confirmed 9 Deaths 1\", \"Georgia<br>Confirmed 272 Deaths 3\", \"Germany<br>Confirmed 130072 Deaths 3194\", \"Ghana<br>Confirmed 566 Deaths 8\", \"Greece<br>Confirmed 2145 Deaths 99\", \"Grenada<br>Confirmed 14 Deaths 0\", \"Guatemala<br>Confirmed 156 Deaths 5\", \"Guinea<br>Confirmed 319 Deaths 0\", \"Guinea-Bissau<br>Confirmed 38 Deaths 0\", \"Guyana<br>Confirmed 45 Deaths 6\", \"Haiti<br>Confirmed 40 Deaths 3\", \"Holy See<br>Confirmed 8 Deaths 0\", \"Honduras<br>Confirmed 397 Deaths 25\", \"Hungary<br>Confirmed 1458 Deaths 109\", \"Iceland<br>Confirmed 1711 Deaths 8\", \"India<br>Confirmed 10453 Deaths 358\", \"Indonesia<br>Confirmed 4557 Deaths 399\", \"Iran<br>Confirmed 73303 Deaths 4585\", \"Iraq<br>Confirmed 1378 Deaths 78\", \"Ireland<br>Confirmed 10647 Deaths 365\", \"Israel<br>Confirmed 11586 Deaths 116\", \"Italy<br>Confirmed 159516 Deaths 20465\", \"Jamaica<br>Confirmed 73 Deaths 4\", \"Japan<br>Confirmed 7370 Deaths 123\", \"Jordan<br>Confirmed 391 Deaths 7\", \"Kazakhstan<br>Confirmed 1091 Deaths 12\", \"Kenya<br>Confirmed 208 Deaths 9\", \"Korea, South<br>Confirmed 10537 Deaths 217\", \"Kosovo<br>Confirmed 283 Deaths 7\", \"Kuwait<br>Confirmed 1300 Deaths 2\", \"Kyrgyzstan<br>Confirmed 419 Deaths 5\", \"Laos<br>Confirmed 19 Deaths 0\", \"Latvia<br>Confirmed 655 Deaths 5\", \"Lebanon<br>Confirmed 632 Deaths 20\", \"Liberia<br>Confirmed 59 Deaths 6\", \"Libya<br>Confirmed 26 Deaths 1\", \"Liechtenstein<br>Confirmed 79 Deaths 1\", \"Lithuania<br>Confirmed 1062 Deaths 24\", \"Luxembourg<br>Confirmed 3292 Deaths 69\", \"MS Zaandam<br>Confirmed 9 Deaths 2\", \"Madagascar<br>Confirmed 106 Deaths 0\", \"Malawi<br>Confirmed 16 Deaths 2\", \"Malaysia<br>Confirmed 4817 Deaths 77\", \"Maldives<br>Confirmed 20 Deaths 0\", \"Mali<br>Confirmed 123 Deaths 10\", \"Malta<br>Confirmed 384 Deaths 3\", \"Mauritania<br>Confirmed 7 Deaths 1\", \"Mauritius<br>Confirmed 324 Deaths 9\", \"Mexico<br>Confirmed 4661 Deaths 296\", \"Moldova<br>Confirmed 1712 Deaths 35\", \"Monaco<br>Confirmed 93 Deaths 1\", \"Mongolia<br>Confirmed 17 Deaths 0\", \"Montenegro<br>Confirmed 274 Deaths 3\", \"Morocco<br>Confirmed 1763 Deaths 126\", \"Mozambique<br>Confirmed 21 Deaths 0\", \"Namibia<br>Confirmed 16 Deaths 0\", \"Nepal<br>Confirmed 14 Deaths 0\", \"Netherlands<br>Confirmed 26710 Deaths 2833\", \"New Zealand<br>Confirmed 1349 Deaths 5\", \"Nicaragua<br>Confirmed 9 Deaths 1\", \"Niger<br>Confirmed 529 Deaths 12\", \"Nigeria<br>Confirmed 343 Deaths 10\", \"North Macedonia<br>Confirmed 854 Deaths 38\", \"Norway<br>Confirmed 6603 Deaths 134\", \"Oman<br>Confirmed 727 Deaths 4\", \"Pakistan<br>Confirmed 5496 Deaths 93\", \"Panama<br>Confirmed 3400 Deaths 87\", \"Papua New Guinea<br>Confirmed 2 Deaths 0\", \"Paraguay<br>Confirmed 147 Deaths 6\", \"Peru<br>Confirmed 9784 Deaths 216\", \"Philippines<br>Confirmed 4932 Deaths 315\", \"Poland<br>Confirmed 6934 Deaths 245\", \"Portugal<br>Confirmed 16934 Deaths 535\", \"Qatar<br>Confirmed 3231 Deaths 7\", \"Romania<br>Confirmed 6633 Deaths 331\", \"Russia<br>Confirmed 18328 Deaths 148\", \"Rwanda<br>Confirmed 127 Deaths 0\", \"Saint Kitts and Nevis<br>Confirmed 12 Deaths 0\", \"Saint Lucia<br>Confirmed 15 Deaths 0\", \"Saint Vincent and the Grenadines<br>Confirmed 12 Deaths 0\", \"San Marino<br>Confirmed 356 Deaths 35\", \"Sao Tome and Principe<br>Confirmed 4 Deaths 0\", \"Saudi Arabia<br>Confirmed 4934 Deaths 65\", \"Senegal<br>Confirmed 291 Deaths 2\", \"Serbia<br>Confirmed 4054 Deaths 85\", \"Seychelles<br>Confirmed 11 Deaths 0\", \"Sierra Leone<br>Confirmed 10 Deaths 0\", \"Singapore<br>Confirmed 2918 Deaths 9\", \"Slovakia<br>Confirmed 769 Deaths 2\", \"Slovenia<br>Confirmed 1212 Deaths 55\", \"Somalia<br>Confirmed 60 Deaths 2\", \"South Africa<br>Confirmed 2272 Deaths 27\", \"South Sudan<br>Confirmed 4 Deaths 0\", \"Spain<br>Confirmed 170099 Deaths 17756\", \"Sri Lanka<br>Confirmed 217 Deaths 7\", \"Sudan<br>Confirmed 29 Deaths 4\", \"Suriname<br>Confirmed 10 Deaths 1\", \"Sweden<br>Confirmed 10948 Deaths 919\", \"Switzerland<br>Confirmed 25688 Deaths 1138\", \"Syria<br>Confirmed 25 Deaths 2\", \"Taiwan*<br>Confirmed 393 Deaths 6\", \"Tanzania<br>Confirmed 49 Deaths 3\", \"Thailand<br>Confirmed 2579 Deaths 40\", \"Timor-Leste<br>Confirmed 4 Deaths 0\", \"Togo<br>Confirmed 77 Deaths 3\", \"Trinidad and Tobago<br>Confirmed 113 Deaths 8\", \"Tunisia<br>Confirmed 726 Deaths 34\", \"Turkey<br>Confirmed 61049 Deaths 1296\", \"US<br>Confirmed 682619 Deaths 23529\", \"Uganda<br>Confirmed 54 Deaths 0\", \"Ukraine<br>Confirmed 3102 Deaths 93\", \"United Arab Emirates<br>Confirmed 4521 Deaths 25\", \"United Kingdom<br>Confirmed 89570 Deaths 11347\", \"Uruguay<br>Confirmed 480 Deaths 8\", \"Uzbekistan<br>Confirmed 998 Deaths 4\", \"Venezuela<br>Confirmed 189 Deaths 9\", \"Vietnam<br>Confirmed 265 Deaths 0\", \"West Bank and Gaza<br>Confirmed 308 Deaths 2\", \"Western Sahara<br>Confirmed 6 Deaths 0\", \"Yemen<br>Confirmed 1 Deaths 0\", \"Zambia<br>Confirmed 45 Deaths 2\", \"Zimbabwe<br>Confirmed 17 Deaths 3\"], \"type\": \"choropleth\", \"z\": [\"21\", \"23\", \"313\", \"29\", \"2\", \"2\", \"97\", \"14\", \"61\", \"368\", \"12\", \"8\", \"6\", \"39\", \"4\", \"29\", \"3903\", \"2\", \"1\", \"0\", \"27\", \"39\", \"1\", \"1328\", \"1\", \"32\", \"27\", \"4\", \"1\", \"1\", \"0\", \"12\", \"779\", \"0\", \"0\", \"82\", \"3345\", \"112\", \"5\", \"20\", \"3\", \"6\", \"25\", \"21\", \"12\", \"143\", \"285\", \"11\", \"2\", \"0\", \"177\", \"355\", \"164\", \"6\", \"0\", \"0\", \"28\", \"0\", \"3\", \"0\", \"59\", \"14986\", \"1\", \"1\", \"3\", \"3194\", \"8\", \"99\", \"0\", \"5\", \"0\", \"0\", \"6\", \"3\", \"0\", \"25\", \"109\", \"8\", \"358\", \"399\", \"4585\", \"78\", \"365\", \"116\", \"20465\", \"4\", \"123\", \"7\", \"12\", \"9\", \"217\", \"7\", \"2\", \"5\", \"0\", \"5\", \"20\", \"6\", \"1\", \"1\", \"24\", \"69\", \"2\", \"0\", \"2\", \"77\", \"0\", \"10\", \"3\", \"1\", \"9\", \"296\", \"35\", \"1\", \"0\", \"3\", \"126\", \"0\", \"0\", \"0\", \"2833\", \"5\", \"1\", \"12\", \"10\", \"38\", \"134\", \"4\", \"93\", \"87\", \"0\", \"6\", \"216\", \"315\", \"245\", \"535\", \"7\", \"331\", \"148\", \"0\", \"0\", \"0\", \"0\", \"35\", \"0\", \"65\", \"2\", \"85\", \"0\", \"0\", \"9\", \"2\", \"55\", \"2\", \"27\", \"0\", \"17756\", \"7\", \"4\", \"1\", \"919\", \"1138\", \"2\", \"6\", \"3\", \"40\", \"0\", \"3\", \"8\", \"34\", \"1296\", \"23529\", \"0\", \"93\", \"25\", \"11347\", \"8\", \"4\", \"9\", \"0\", \"2\", \"0\", \"0\", \"2\", \"3\"]}],\n",
       "                        {\"geo\": {\"lakecolor\": \"rgb(85,173,240)\", \"scope\": \"world\", \"showlakes\": true}, \"template\": {\"data\": {\"bar\": [{\"error_x\": {\"color\": \"#2a3f5f\"}, \"error_y\": {\"color\": \"#2a3f5f\"}, \"marker\": {\"line\": {\"color\": \"#E5ECF6\", \"width\": 0.5}}, \"type\": \"bar\"}], \"barpolar\": [{\"marker\": {\"line\": {\"color\": \"#E5ECF6\", \"width\": 0.5}}, \"type\": \"barpolar\"}], \"carpet\": [{\"aaxis\": {\"endlinecolor\": \"#2a3f5f\", \"gridcolor\": \"white\", \"linecolor\": \"white\", \"minorgridcolor\": \"white\", \"startlinecolor\": \"#2a3f5f\"}, \"baxis\": {\"endlinecolor\": \"#2a3f5f\", \"gridcolor\": \"white\", \"linecolor\": \"white\", \"minorgridcolor\": \"white\", \"startlinecolor\": \"#2a3f5f\"}, \"type\": \"carpet\"}], \"choropleth\": [{\"colorbar\": {\"outlinewidth\": 0, \"ticks\": \"\"}, \"type\": \"choropleth\"}], \"contour\": [{\"colorbar\": {\"outlinewidth\": 0, \"ticks\": \"\"}, \"colorscale\": [[0.0, \"#0d0887\"], [0.1111111111111111, \"#46039f\"], [0.2222222222222222, \"#7201a8\"], [0.3333333333333333, \"#9c179e\"], [0.4444444444444444, \"#bd3786\"], [0.5555555555555556, \"#d8576b\"], [0.6666666666666666, \"#ed7953\"], [0.7777777777777778, \"#fb9f3a\"], [0.8888888888888888, \"#fdca26\"], [1.0, \"#f0f921\"]], \"type\": \"contour\"}], \"contourcarpet\": [{\"colorbar\": {\"outlinewidth\": 0, \"ticks\": \"\"}, \"type\": \"contourcarpet\"}], \"heatmap\": [{\"colorbar\": {\"outlinewidth\": 0, \"ticks\": \"\"}, \"colorscale\": [[0.0, \"#0d0887\"], [0.1111111111111111, \"#46039f\"], [0.2222222222222222, \"#7201a8\"], [0.3333333333333333, \"#9c179e\"], [0.4444444444444444, \"#bd3786\"], [0.5555555555555556, \"#d8576b\"], [0.6666666666666666, \"#ed7953\"], [0.7777777777777778, \"#fb9f3a\"], [0.8888888888888888, \"#fdca26\"], [1.0, \"#f0f921\"]], \"type\": \"heatmap\"}], \"heatmapgl\": [{\"colorbar\": {\"outlinewidth\": 0, \"ticks\": \"\"}, \"colorscale\": [[0.0, \"#0d0887\"], [0.1111111111111111, \"#46039f\"], [0.2222222222222222, \"#7201a8\"], [0.3333333333333333, \"#9c179e\"], [0.4444444444444444, \"#bd3786\"], [0.5555555555555556, \"#d8576b\"], [0.6666666666666666, \"#ed7953\"], [0.7777777777777778, \"#fb9f3a\"], [0.8888888888888888, \"#fdca26\"], [1.0, \"#f0f921\"]], \"type\": \"heatmapgl\"}], \"histogram\": [{\"marker\": {\"colorbar\": {\"outlinewidth\": 0, \"ticks\": \"\"}}, \"type\": \"histogram\"}], \"histogram2d\": [{\"colorbar\": {\"outlinewidth\": 0, \"ticks\": \"\"}, \"colorscale\": [[0.0, \"#0d0887\"], [0.1111111111111111, \"#46039f\"], [0.2222222222222222, \"#7201a8\"], [0.3333333333333333, \"#9c179e\"], [0.4444444444444444, \"#bd3786\"], [0.5555555555555556, \"#d8576b\"], [0.6666666666666666, \"#ed7953\"], [0.7777777777777778, \"#fb9f3a\"], [0.8888888888888888, \"#fdca26\"], [1.0, \"#f0f921\"]], \"type\": \"histogram2d\"}], \"histogram2dcontour\": [{\"colorbar\": {\"outlinewidth\": 0, \"ticks\": \"\"}, \"colorscale\": [[0.0, \"#0d0887\"], [0.1111111111111111, \"#46039f\"], [0.2222222222222222, \"#7201a8\"], [0.3333333333333333, \"#9c179e\"], [0.4444444444444444, \"#bd3786\"], [0.5555555555555556, \"#d8576b\"], [0.6666666666666666, \"#ed7953\"], [0.7777777777777778, \"#fb9f3a\"], [0.8888888888888888, \"#fdca26\"], [1.0, \"#f0f921\"]], \"type\": \"histogram2dcontour\"}], \"mesh3d\": [{\"colorbar\": {\"outlinewidth\": 0, \"ticks\": \"\"}, \"type\": \"mesh3d\"}], \"parcoords\": [{\"line\": {\"colorbar\": {\"outlinewidth\": 0, \"ticks\": \"\"}}, \"type\": \"parcoords\"}], \"pie\": [{\"automargin\": true, \"type\": \"pie\"}], \"scatter\": [{\"marker\": {\"colorbar\": {\"outlinewidth\": 0, \"ticks\": \"\"}}, \"type\": \"scatter\"}], \"scatter3d\": [{\"line\": {\"colorbar\": {\"outlinewidth\": 0, \"ticks\": \"\"}}, \"marker\": {\"colorbar\": {\"outlinewidth\": 0, \"ticks\": \"\"}}, \"type\": \"scatter3d\"}], \"scattercarpet\": [{\"marker\": {\"colorbar\": {\"outlinewidth\": 0, \"ticks\": \"\"}}, \"type\": \"scattercarpet\"}], \"scattergeo\": [{\"marker\": {\"colorbar\": {\"outlinewidth\": 0, \"ticks\": \"\"}}, \"type\": \"scattergeo\"}], \"scattergl\": [{\"marker\": {\"colorbar\": {\"outlinewidth\": 0, \"ticks\": \"\"}}, \"type\": \"scattergl\"}], \"scattermapbox\": [{\"marker\": {\"colorbar\": {\"outlinewidth\": 0, \"ticks\": \"\"}}, \"type\": \"scattermapbox\"}], \"scatterpolar\": [{\"marker\": {\"colorbar\": {\"outlinewidth\": 0, \"ticks\": \"\"}}, \"type\": \"scatterpolar\"}], \"scatterpolargl\": [{\"marker\": {\"colorbar\": {\"outlinewidth\": 0, \"ticks\": \"\"}}, \"type\": \"scatterpolargl\"}], \"scatterternary\": [{\"marker\": {\"colorbar\": {\"outlinewidth\": 0, \"ticks\": \"\"}}, \"type\": \"scatterternary\"}], \"surface\": [{\"colorbar\": {\"outlinewidth\": 0, \"ticks\": \"\"}, \"colorscale\": [[0.0, \"#0d0887\"], [0.1111111111111111, \"#46039f\"], [0.2222222222222222, \"#7201a8\"], [0.3333333333333333, \"#9c179e\"], [0.4444444444444444, \"#bd3786\"], [0.5555555555555556, \"#d8576b\"], [0.6666666666666666, \"#ed7953\"], [0.7777777777777778, \"#fb9f3a\"], [0.8888888888888888, \"#fdca26\"], [1.0, \"#f0f921\"]], \"type\": \"surface\"}], \"table\": [{\"cells\": {\"fill\": {\"color\": \"#EBF0F8\"}, \"line\": {\"color\": \"white\"}}, \"header\": {\"fill\": {\"color\": \"#C8D4E3\"}, \"line\": {\"color\": \"white\"}}, \"type\": \"table\"}]}, \"layout\": {\"annotationdefaults\": {\"arrowcolor\": \"#2a3f5f\", \"arrowhead\": 0, \"arrowwidth\": 1}, \"coloraxis\": {\"colorbar\": {\"outlinewidth\": 0, \"ticks\": \"\"}}, \"colorscale\": {\"diverging\": [[0, \"#8e0152\"], [0.1, \"#c51b7d\"], [0.2, \"#de77ae\"], [0.3, \"#f1b6da\"], [0.4, \"#fde0ef\"], [0.5, \"#f7f7f7\"], [0.6, \"#e6f5d0\"], [0.7, \"#b8e186\"], [0.8, \"#7fbc41\"], [0.9, \"#4d9221\"], [1, \"#276419\"]], \"sequential\": [[0.0, \"#0d0887\"], [0.1111111111111111, \"#46039f\"], [0.2222222222222222, \"#7201a8\"], [0.3333333333333333, \"#9c179e\"], [0.4444444444444444, \"#bd3786\"], [0.5555555555555556, \"#d8576b\"], [0.6666666666666666, \"#ed7953\"], [0.7777777777777778, \"#fb9f3a\"], [0.8888888888888888, \"#fdca26\"], [1.0, \"#f0f921\"]], \"sequentialminus\": [[0.0, \"#0d0887\"], [0.1111111111111111, \"#46039f\"], [0.2222222222222222, \"#7201a8\"], [0.3333333333333333, \"#9c179e\"], [0.4444444444444444, \"#bd3786\"], [0.5555555555555556, \"#d8576b\"], [0.6666666666666666, \"#ed7953\"], [0.7777777777777778, \"#fb9f3a\"], [0.8888888888888888, \"#fdca26\"], [1.0, \"#f0f921\"]]}, \"colorway\": [\"#636efa\", \"#EF553B\", \"#00cc96\", \"#ab63fa\", \"#FFA15A\", \"#19d3f3\", \"#FF6692\", \"#B6E880\", \"#FF97FF\", \"#FECB52\"], \"font\": {\"color\": \"#2a3f5f\"}, \"geo\": {\"bgcolor\": \"white\", \"lakecolor\": \"white\", \"landcolor\": \"#E5ECF6\", \"showlakes\": true, \"showland\": true, \"subunitcolor\": \"white\"}, \"hoverlabel\": {\"align\": \"left\"}, \"hovermode\": \"closest\", \"mapbox\": {\"style\": \"light\"}, \"paper_bgcolor\": \"white\", \"plot_bgcolor\": \"#E5ECF6\", \"polar\": {\"angularaxis\": {\"gridcolor\": \"white\", \"linecolor\": \"white\", \"ticks\": \"\"}, \"bgcolor\": \"#E5ECF6\", \"radialaxis\": {\"gridcolor\": \"white\", \"linecolor\": \"white\", \"ticks\": \"\"}}, \"scene\": {\"xaxis\": {\"backgroundcolor\": \"#E5ECF6\", \"gridcolor\": \"white\", \"gridwidth\": 2, \"linecolor\": \"white\", \"showbackground\": true, \"ticks\": \"\", \"zerolinecolor\": \"white\"}, \"yaxis\": {\"backgroundcolor\": \"#E5ECF6\", \"gridcolor\": \"white\", \"gridwidth\": 2, \"linecolor\": \"white\", \"showbackground\": true, \"ticks\": \"\", \"zerolinecolor\": \"white\"}, \"zaxis\": {\"backgroundcolor\": \"#E5ECF6\", \"gridcolor\": \"white\", \"gridwidth\": 2, \"linecolor\": \"white\", \"showbackground\": true, \"ticks\": \"\", \"zerolinecolor\": \"white\"}}, \"shapedefaults\": {\"line\": {\"color\": \"#2a3f5f\"}}, \"ternary\": {\"aaxis\": {\"gridcolor\": \"white\", \"linecolor\": \"white\", \"ticks\": \"\"}, \"baxis\": {\"gridcolor\": \"white\", \"linecolor\": \"white\", \"ticks\": \"\"}, \"bgcolor\": \"#E5ECF6\", \"caxis\": {\"gridcolor\": \"white\", \"linecolor\": \"white\", \"ticks\": \"\"}}, \"title\": {\"x\": 0.05}, \"xaxis\": {\"automargin\": true, \"gridcolor\": \"white\", \"linecolor\": \"white\", \"ticks\": \"\", \"title\": {\"standoff\": 15}, \"zerolinecolor\": \"white\", \"zerolinewidth\": 2}, \"yaxis\": {\"automargin\": true, \"gridcolor\": \"white\", \"linecolor\": \"white\", \"ticks\": \"\", \"title\": {\"standoff\": 15}, \"zerolinecolor\": \"white\", \"zerolinewidth\": 2}}}, \"title\": {\"text\": \"COVID-19 Death Per Country as of Apr 2020\"}},\n",
       "                        {\"responsive\": true}\n",
       "                    ).then(function(){\n",
       "                            \n",
       "var gd = document.getElementById('b76b34e7-c50e-4159-98f1-c02269efdb76');\n",
       "var x = new MutationObserver(function (mutations, observer) {{\n",
       "        var display = window.getComputedStyle(gd).display;\n",
       "        if (!display || display === 'none') {{\n",
       "            console.log([gd, 'removed!']);\n",
       "            Plotly.purge(gd);\n",
       "            observer.disconnect();\n",
       "        }}\n",
       "}});\n",
       "\n",
       "// Listen for the removal of the full notebook cells\n",
       "var notebookContainer = gd.closest('#notebook-container');\n",
       "if (notebookContainer) {{\n",
       "    x.observe(notebookContainer, {childList: true});\n",
       "}}\n",
       "\n",
       "// Listen for the clearing of the current output cell\n",
       "var outputEl = gd.closest('.output');\n",
       "if (outputEl) {{\n",
       "    x.observe(outputEl, {childList: true});\n",
       "}}\n",
       "\n",
       "                        })\n",
       "                };\n",
       "                });\n",
       "            </script>\n",
       "        </div>"
      ]
     },
     "metadata": {},
     "output_type": "display_data"
    }
   ],
   "source": [
    "iplot(map_apr)"
   ]
  },
  {
   "cell_type": "markdown",
   "metadata": {},
   "source": [
    "![April](https://user-images.githubusercontent.com/61140859/79191199-3f238f80-7e50-11ea-966c-e99d2f5c3525.PNG)"
   ]
  }
 ],
 "metadata": {
  "kernelspec": {
   "display_name": "Python 3",
   "language": "python",
   "name": "python3"
  },
  "language_info": {
   "codemirror_mode": {
    "name": "ipython",
    "version": 3
   },
   "file_extension": ".py",
   "mimetype": "text/x-python",
   "name": "python",
   "nbconvert_exporter": "python",
   "pygments_lexer": "ipython3",
   "version": "3.7.4"
  }
 },
 "nbformat": 4,
 "nbformat_minor": 2
}
